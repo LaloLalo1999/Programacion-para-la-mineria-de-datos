{
 "cells": [
  {
   "cell_type": "markdown",
   "metadata": {},
   "source": [
    "<div class=\"alert alert-block alert-info\">\n",
    "<span style=\"color: rgb(0,53,91);\">\n",
    "<center><img src=\"./Imagenes/ITESO_Logo.png\" style=\"width:500px;height:142px;\" title=\"Logo ITESO\"></center>\n",
    "<font face = \"Times New Roman\" size = \"6\"><b><center>Maestría en Sistemas Computacionales</center></b></font>\n",
    "<font face = \"Times New Roman\" size = \"5\"><b><center>Programación para Análisis de Datos</center></b></font>\n",
    "\n",
    "<b><br><font face = \"Times New Roman\" size = \"4\"><center>Unidad 5: Proceso de Selección de Métodos</center></font>\n",
    "<font face = \"Times New Roman\" size = \"4\"><center>Tema 5.5: Clasificador Bayesiano Ingenuo (Naïve Bayes)</center></font>\n",
    "<div align=\"right\"><font face = \"Times New Roman\" size = \"2\">Dr. Iván Esteban Villalón Turrubiates (villalon@iteso.mx)</font></div>\n",
    "</span></div>"
   ]
  },
  {
   "cell_type": "markdown",
   "metadata": {},
   "source": [
    "## CLASIFICADOR BAYESIANO INGENUO (NAÏVE BAYES, NB)\n",
    "\n",
    "#### ¿Qué es el modelo Naïve Bayes?\n",
    "\n",
    "En un sentido amplio, los modelos de **Naïve Bayes (NB)** son una clase especial de algoritmos de clasificación empleados en el **Aprendizaje Automatico (Machine Learning)**, los cuales se basan en una técnica de clasificación estadística llamada ***Teorema de Bayes***.\n",
    "\n",
    "Estos modelos son llamados algoritmos “*Naïve*” (“*Ingenuo*”), ya que en ellos se asume que las variables predictoras son independientes entre sí. En otras palabras, que la presencia de una cierta característica en un conjunto de datos no está en absoluto relacionada con la presencia de cualquier otra característica.\n",
    "\n",
    "Este clasificador proporciona una manera fácil de construir modelos con un comportamiento adecuado debido a su simplicidad. Lo consiguen proporcionando una forma de calcular la probabilidad *posterior* de que ocurra un cierto evento **A**, dadas algunas probabilidades de eventos *anteriores*, lo cual se conoce como probabilidad condicionada la cual está expresada matemáticamente como:\n",
    "\n",
    "<center><img src=\"./Imagenes/ProbCond.png\" style=\"width:600px;height:133px;\" class=\"center\"></center>\n",
    "\n",
    "#### A manera de ejemplo\n",
    "Consideremos el caso de dos compañeros que trabajan en la misma oficina: Alicia y Bruno. Sabemos que:\n",
    "* Alicia viene a la oficina 3 días a la semana.\n",
    "* Bruno viene a la oficina 1 día a la semana.\n",
    "\n",
    "Esta es la información *anterior* que se conoce. Ahora, una persona que se encuentra en la oficina observa pasar a alguien tan rápido que no alcanza a distinguir si era Alicia o Bruno. Dada la información con la que se cuenta y asumiendo que solo trabajan 4 días a la semana, las probabilidades para identificar a la persona son:\n",
    "* P(Alicia) = 3/4 = 0.75 o 75% \n",
    "* P(Bruno) = 1/4 = 0.25 o 25%\n",
    "\n",
    "Sin embargo, fue posible ver que la persona llevaba una chamarra roja. Se sabe de antemano que:\n",
    "* Alicia viste de rojo 2 veces a la semana.\n",
    "* Bruno viste de rojo 3 veces a la semana.\n",
    "\n",
    "Debido a ello, para cada semana de trabajo (de cinco días), se puede inferir que:\n",
    "* La probabilidad de que Alicia vista de rojo es → P(Rojo|Alicia) = 2/5 = 0.4 o 40%\n",
    "* La probabilidad de que Bruno vista de rojo → P(Rojo|Bruno) = 3/5 = 0.6 o 60%\n",
    "\n",
    "Con base en estos datos, ¿quién fue la persona que pasó? Esta nueva probabilidad es la información *posterior* que el modelo es capaz de proporcionar. Se puede visualizar de la siguiente manera:\n",
    "\n",
    "<center><img src=\"./Imagenes/PB1.png\" style=\"width:600px;height:236px;\" class=\"center\"></center>\n",
    "\n",
    "De manera general, esto es:\n",
    "<center><img src=\"./Imagenes/PB2.png\" style=\"width:600px;height:239px;\" class=\"center\"></center>\n",
    "\n",
    "#### Pros y contras\n",
    "Los pros que tiene el modelo **Naïve Bayes** son:\n",
    "* Es una manera fácil y rápida de predecir clases, para problemas de clasificación binarios y multiclase.\n",
    "* En los casos en que sea apropiada una presunción de independencia, el algoritmo se comporta mejor que otros modelos de clasificación, incluso con menos datos de entrenamiento.\n",
    "* El desacoplamiento de las distribuciones de características condicionales de clase significan que cada distribución puede ser estimada independientemente como si tuviera una sola dimensión. Esto ayuda con problemas derivados de la dimensionalidad y mejora el rendimiento.\n",
    "\n",
    "Los contras que tiene el modelo **Naïve Bayes** son:\n",
    "* Aunque son unos clasificadores bastante buenos, los algoritmos **Naïve Bayes** son conocidos por ser pobres estimadores. Por ello, no se deben tomar muy en serio las probabilidades que se obtienen.\n",
    "* La presunción de independencia Naïve muy probablemente no reflejará cómo son los datos en el mundo real.\n",
    "* Cuando el conjunto de datos de prueba tiene una característica que no ha sido observada en el conjunto de entrenamiento, el modelo le asignará una probabilidad de cero y será inútil realizar predicciones. Uno de los principales métodos para evitar esto, es la técnica de suavizado, siendo la ***Estimación de Laplace*** una de las más populares."
   ]
  },
  {
   "cell_type": "markdown",
   "metadata": {
    "ExecuteTime": {
     "end_time": "2018-08-19T08:23:37.245939Z",
     "start_time": "2018-08-19T08:23:37.242853Z"
    }
   },
   "source": [
    "### Implementación de un ejemplo\n",
    "Para este ejemplo se tomarán 200 registros para realizar la determinación a través del modelo **Naïve Bayes** de la conveniencia de comprar o alquilar una casa, basados en los gastos que se tienen. Para ello se emplearán las librerías que ya son conocidas, como **Pandas**, **NumPy**, **Matplotlib**, **Seaborn** y **SciKit-Learn**.\n",
    "\n",
    "<center><img src=\"./Imagenes/Logos.png\" style=\"width:400px;height:145px;\" class=\"center\"></center>\n",
    "\n",
    "Los datos de entrada que se usarán están contenidos en el archivo `CompraAlquila.csv`, el cual contiene los siguientes encabezados de las columnas de información:\n",
    "\n",
    "1. `Ingresos`: Son los ingresos mensuales de la familia.\n",
    "2. `Gastos_Comunes`: Son los pagos mensuales de luz, agua, gas, etc.\n",
    "3. `Pago_Auto`: Son los pagos mensuales de cuotas por uno o más automóviles, así como gastos en combustible.\n",
    "4. `Gastos_Otros`: Son compras mensuales en supermercados.\n",
    "5. `Ahorros`: Es la suma de los ahorros disponibles para ser empleados en la compra de la casa.\n",
    "6. `Vivienda`: Es el precio de la vivienda que se quiere comprar.\n",
    "7. `Estado_Civil`: Consiste de los campos:\n",
    "    * `0`: Soltero.\n",
    "    * `1`: Casado.\n",
    "    * `2`: Divorciado.\n",
    "8. `Hijos`: Es la cantidad de hijos menores de la familia y que no trabajan.\n",
    "9. `Trabajo`: Consiste de los campos:\n",
    "    * `0`: Sin empleo. \n",
    "    * `1`: Autónomo (freelance).\n",
    "    * `2`: Empleado.\n",
    "    * `3`: Empresario.\n",
    "    * `4`: En pareja, ambos autónomos.\n",
    "    * `5`: En pareja, ambos empleados.\n",
    "    * `6`: En pareja, ambos autónomos y asalariados.\n",
    "    * `7`: En pareja, ambos empresarios y autónomos.\n",
    "    * `8`: En pareja: empresarios los dos, o empresario y empleado.\n",
    "10. `Comprar`: Esta será la columna de salida para el proceso de aprendizaje. Consiste de los campos:\n",
    "    * `0`: No comprar. \n",
    "    * `1`: Si comprar.\n",
    "    \n",
    "Algunos supuestos para el problema formulado:\n",
    "\n",
    "* Está pensado en dólares americanos (USD), pero podría ser cualquier otra moneda.\n",
    "* No tiene en cuenta ubicación geográfica, ya que los precios de los inmuebles dependerán de la zona.\n",
    "* Se supone una hipoteca fija a 30 años con interés de mercado *bajo*.\n",
    "\n",
    "**El problema consiste en tomar una decisión sobre comprar (1) o alquilar (0) una casa con la información proporcionada, para ello se requiere que el algoritmo aprenda de los datos suministrados.**\n",
    "\n",
    "Para ello, primeramente se importarán las librerías **Pandas**, **NumPy**, **Matplotlib**, **Seaborn** y **Scikit-Learn**:"
   ]
  },
  {
   "cell_type": "code",
   "execution_count": null,
   "metadata": {
    "ExecuteTime": {
     "end_time": "2018-08-18T21:55:10.328067Z",
     "start_time": "2018-08-18T21:55:10.319427Z"
    }
   },
   "outputs": [],
   "source": [
    "#Importación de librerías\n",
    "import pandas as pd\n",
    "import numpy as np\n",
    "import matplotlib.pyplot as plt\n",
    "from matplotlib import colors\n",
    "import seaborn as sns\n",
    "from sklearn.model_selection import train_test_split\n",
    "from sklearn.metrics import classification_report\n",
    "from sklearn.metrics import confusion_matrix\n",
    "from sklearn.naive_bayes import GaussianNB\n",
    "from sklearn.feature_selection import SelectKBest\n",
    "\n",
    "#Definición de los parámetros de los gráficos\n",
    "plt.rcParams.update({'font.size': 11, 'figure.figsize': (10, 8)}) \n",
    "plt.style.use('ggplot')"
   ]
  },
  {
   "cell_type": "markdown",
   "metadata": {},
   "source": [
    "Ahora se realiza la lectura del DataSet desde un archivo `CSV` y se guarda en un **DataFrame** de **Pandas**:"
   ]
  },
  {
   "cell_type": "code",
   "execution_count": null,
   "metadata": {
    "ExecuteTime": {
     "end_time": "2018-08-18T21:54:53.166251Z",
     "start_time": "2018-08-18T21:54:53.105231Z"
    }
   },
   "outputs": [],
   "source": [
    "#Lectura del DataSet\n",
    "datos_df = pd.read_csv(\"./Datos/CompraAlquila.csv\")\n",
    "\n",
    "#Impresión de los Resultados\n",
    "print(\"La cantidad de registros en el DataFrame (renglones) es:\", datos_df.shape[0])\n",
    "print(\"El DataFrame es:\")\n",
    "display(datos_df)"
   ]
  },
  {
   "cell_type": "markdown",
   "metadata": {},
   "source": [
    "Se puede verificar la cantidad de registros `Si` (valor 0) y `No` (valor 1) que existen en la columna `Comprar`, para poder ver el contenido propio del **DataFrame**: "
   ]
  },
  {
   "cell_type": "code",
   "execution_count": null,
   "metadata": {
    "ExecuteTime": {
     "end_time": "2018-08-18T21:54:54.042402Z",
     "start_time": "2018-08-18T21:54:54.034067Z"
    }
   },
   "outputs": [],
   "source": [
    "#Mostrar las cantidades de registros \"Si\" y \"No\" en la columna \"Comprar\"\n",
    "print(\"La cantidad de registros \\\"No\\\" en la columna \\\"Comprar\\\" es:\", datos_df.groupby('Comprar').size()[0])\n",
    "print(\"La cantidad de registros \\\"Si\\\" en la columna \\\"Comprar\\\" es:\", datos_df.groupby('Comprar').size()[1])"
   ]
  },
  {
   "cell_type": "markdown",
   "metadata": {},
   "source": [
    "Sin considerar la columna `Comprar`, se puede verificar el histograma de las otras columnas numéricas para poder visualizar el comportamiento de cada una de ellas dentro del **DataSet**:"
   ]
  },
  {
   "cell_type": "code",
   "execution_count": null,
   "metadata": {
    "ExecuteTime": {
     "end_time": "2018-08-19T08:13:09.135935Z",
     "start_time": "2018-08-19T08:13:07.602201Z"
    }
   },
   "outputs": [],
   "source": [
    "#Mostrar los histogramas del DataFrame\n",
    "datos_df.drop(['Comprar'], axis = 1).hist(color = 'skyblue', grid = True);"
   ]
  },
  {
   "cell_type": "markdown",
   "metadata": {},
   "source": [
    "### Preprocesamiento de los Datos\n",
    "Se crearán dos nuevas columnas en el **DataFrame** las cuales serán:\n",
    "\n",
    "1. En la primera se agruparán los gastos mensuales, que corresponde a la suma de los valores en las columnas `Gastos_Comunes`, `Gastos_Otros` y `Pago_Auto`. A esta nueva columna se le llamará `Gastos`. \n",
    "2. En la segunda el monto a financiar para comprar la casa, esto corresponde a restar los valores de la columna `Ahorros` a la columna `Vivienda`. A esta nueva columna se le llamará `Financiar`."
   ]
  },
  {
   "cell_type": "code",
   "execution_count": null,
   "metadata": {
    "ExecuteTime": {
     "end_time": "2018-08-22T20:39:56.659456Z",
     "start_time": "2018-08-22T20:39:56.223886Z"
    }
   },
   "outputs": [],
   "source": [
    "#Determinación de la columna \"Gastos\"\n",
    "datos_df['Gastos'] = (datos_df['Gastos_Comunes'] + datos_df['Gastos_Otros'] + datos_df['Pago_Auto'])\n",
    "\n",
    "#Determinación de la columna \"Financiar\"\n",
    "datos_df['Financiar'] = datos_df['Vivienda'] - datos_df['Ahorros']\n",
    "\n",
    "#Mostrar el DataFrame sin las columnas \"Gastos_Comunes\", \"Gastos_Otros\" y \"Pago_Auto\"\n",
    "datos_df.drop(['Gastos_Comunes','Gastos_Otros','Pago_Auto'], axis=1).head(10)"
   ]
  },
  {
   "cell_type": "markdown",
   "metadata": {},
   "source": [
    "### El Teorema de Bayes Aplicado al Ejemplo\n",
    "Como se describió previamente, el **Teorema de Bayes** es una ecuación que describe la relación de probabilidades condicionales de cantidades estadísticas. En clasificación bayesiana se tiene el interés en encontrar la probabilidad de que ocurra una *clase* dadas unas características observadas (datos). \n",
    "\n",
    "Se puede escribir como **P(Clase|Datos)**. El **Teorema de Bayes** indica la manera como se puede expresar en términos de cantidades que se calculan directamente:\n",
    "\n",
    "<center><img src=\"./Imagenes/bayes_01.png\" style=\"width:330px;height:100px;\" class=\"center\"></center>\n",
    "\n",
    "Donde:\n",
    "\n",
    "* **Clase**: Es una salida en particular, por ejemplo *Comprar*.\n",
    "* **Datos**: Son las características, en el ejemplo son los Ingresos, Gastos, Hijos, etc.\n",
    "* **P(Clase|Datos)**: Se llama *posterior*, es el resultado a determinar.\n",
    "* **P(Datos|Clase)**: Se llama *verosimilitud* (en inglés es *likelihood*).\n",
    "* **P(Clase)**: Se llama *anterior*, ya que es una probabilidad que ya se tiene.\n",
    "* **P(Datos)**: Se llama *probabilidad marginal*.\n",
    "\n",
    "Si se trata de elegir entre dos clases como en el ejemplo, donde se tiene *Comprar* ó *Alquilar*, entonces una manera de tomar la decisión es calcular la tasa de probabilidades a posterior:\n",
    "\n",
    "<center><img src=\"./Imagenes/bayes_02.png\" style=\"width:423px;height:100px;\" class=\"center\"></center>\n",
    "\n",
    "De esa manera es posible eliminar el denominador de la ecuación anterior (**P(Datos)**) conocido como *probabilidad marginal*.\n",
    "\n",
    "### El Clasificador Gausiano Naïve Bayes\n",
    "Uno de los tipos de clasificadores más populares es el llamado **Gaussian Naïve Bayes Classifier**, para el cual se apicarán dos clases (*Comprar* y *Alquilar*), así como tres características (*Ingresos*, *Ahorros* e *Hijos*). Por lo tanto se tiene:\n",
    "\n",
    "<center><img src=\"./Imagenes/bayes_03.png\" style=\"width:529px;height:200px;\" class=\"center\"></center>\n",
    "\n",
    "De esta ecuación, el valor **Posterior (Comprar)** corresponde a **P(comprar|datos)**, el cual es el valor que se pretende determinar. Además:\n",
    "\n",
    "* **P(comprar)** Es la probabilidad con la que ya se cuenta. Es simplemente el número de veces que se selecciona *comprar=1* en el **DataFrame**, dividido entre el total de observaciones. Para este ejemplo (posteriormente se determinará en código) será 67/200.\n",
    "* **p(ingresos|comprar)p(ahorros|comprar)p(hijos|comprar)**: Es la verosimilitud (likelihood). \n",
    "\n",
    "Los nombres Gaussian y Naïve vienen de dos suposiciones:\n",
    "* Se asume que las características de la verosimilitud no estan correlacionadas entre ellas. Esto es, los ingresos son independientes a la cantidad de hijos y al ahorro con el que se cuenta. Como no es siempre cierto y es una suposición ingenua, de ahí el característico nombre **Naïve**.\n",
    "* Se asume que el valor de las características (ingresos, hijos, etc.) tendrán una **Distribución Normal (Gausiana)**, esto permite calcular cada parte **p(ingresos|comprar)** usando la función de probabilidad de densidad normal.\n",
    "* La **Probabilidad Marginal** es en muchas ocasiones muy complicada de calcular, sin embargo y como ya se describió, no será necesaria para obtener el valor *posterior*.\n",
    "\n",
    "### Selección de Características (Feature Selection)\n",
    "Para este ejercicio se realizará un proceso de **Selección de Características (Feature Selection)** para mejorar los resultados obtenidos con este algoritmo. \n",
    "\n",
    "Primeramente, es posible visualizar la correlación entre columnas (características) por medio del método `heatmap()` de la librería **Seaborn**. \n",
    "\n",
    "La descripción detallada del método `heatmap()` se puede consultar [en esta liga](https://seaborn.pydata.org/generated/seaborn.heatmap.html)."
   ]
  },
  {
   "cell_type": "code",
   "execution_count": null,
   "metadata": {
    "ExecuteTime": {
     "end_time": "2018-08-18T21:54:54.819313Z",
     "start_time": "2018-08-18T21:54:54.161490Z"
    }
   },
   "outputs": [],
   "source": [
    "#Eliminación de columnas \"Gastos_Comunes\", \"Gastos_Otros\" y \"Pago_Auto\" del DataFrame\n",
    "reduce_df = datos_df.drop(['Gastos_Comunes','Gastos_Otros','Pago_Auto'], axis=1)\n",
    "\n",
    "#Mostrar la Correlación entre Columnas en el DataFrame\n",
    "plt.title('Correlación de Características');\n",
    "sns.heatmap(reduce_df.astype(float).corr(), \n",
    "           linewidths=0.1, \n",
    "           vmax=1.0, \n",
    "           square=True, \n",
    "           cmap='viridis', \n",
    "           linecolor='white', \n",
    "           annot=True)\n",
    "plt.show();"
   ]
  },
  {
   "cell_type": "markdown",
   "metadata": {},
   "source": [
    "En vez de utilizar todas las columnas del **DataFrame** como datos de entrada, se va a utilizar una clase de la librería **SciKit-Learn** llamada `SelectKBest` con la cual se hará la selección de las 5 mejores características, las cuales serán utilizadas.\n",
    "\n",
    "La descripción detallada de la clase `SelectKBest` se puede consultar [en esta liga](https://scikit-learn.org/stable/modules/generated/sklearn.feature_selection.SelectKBest.html)."
   ]
  },
  {
   "cell_type": "code",
   "execution_count": null,
   "metadata": {
    "ExecuteTime": {
     "end_time": "2018-08-18T21:54:54.834007Z",
     "start_time": "2018-08-18T21:54:54.821881Z"
    }
   },
   "outputs": [],
   "source": [
    "#Definición del valor X como el DataFrame excepto la columna \"Comprar\"\n",
    "X = datos_df.drop(['Comprar'], axis = 1)\n",
    "\n",
    "#Definición del valor y como la columna \"Comprar\"\n",
    "y = datos_df['Comprar']\n",
    "\n",
    "#Determinación de las 5 mejores características del DataFrame\n",
    "best = SelectKBest(k = 5)\n",
    "X_new = best.fit_transform(X, y)\n",
    "X_new.shape\n",
    "selected = best.get_support(indices = True)\n",
    "\n",
    "#Impresión de los Resultados\n",
    "print(\"Las 5 mejores características del DataFrame son:\\n\", X.columns[selected])"
   ]
  },
  {
   "cell_type": "markdown",
   "metadata": {},
   "source": [
    "Con ello, podemos revisar la correlación entre las 5 mejores características del **DataFrame** que la clase `SelectKBest` ha proporcionado:"
   ]
  },
  {
   "cell_type": "code",
   "execution_count": null,
   "metadata": {
    "ExecuteTime": {
     "end_time": "2018-08-18T21:54:55.242251Z",
     "start_time": "2018-08-18T21:54:54.837526Z"
    }
   },
   "outputs": [],
   "source": [
    "#Mostrar la Correlación entre las 5 mejores características del DataFrame\n",
    "used_features = X.columns[selected]\n",
    "plt.title('Correlación de Características Seleccionadas');\n",
    "sns.heatmap(datos_df[used_features].astype(float).corr(),\n",
    "           linewidths=0.1,\n",
    "           vmax=1.0, \n",
    "           square=True, \n",
    "           cmap='viridis', \n",
    "           linecolor='white', \n",
    "           annot=True)\n",
    "#plt.savefig('./Guardados/SelectKBest.png', dpi=300, transparent=False, bbox_inches='tight')\n",
    "plt.show();"
   ]
  },
  {
   "cell_type": "markdown",
   "metadata": {},
   "source": [
    "Con esto es posible comprobar que en general están poco correlacionadas, sin embargo también se tienen 4 valores superiores al 70%, solo resta esperar a que el algoritmo sea lo suficientemente \"*naïve*\" para proporcionar buenos resultados. \n",
    "\n",
    "Ahora se puede emplear el método `.pairplot()` de la librería **Seaborn**, la cual es usada para visualización estadística de datos. Con ello se mostrará el comportamiento por pares de cada una de las características seleccionadas para poder visualizar su nivel de correlación.\n",
    "\n",
    "La descripción detallada del método `.pairplot()` se puede consultar [en esta liga](https://seaborn.pydata.org/generated/seaborn.pairplot.html)."
   ]
  },
  {
   "cell_type": "code",
   "execution_count": null,
   "metadata": {
    "ExecuteTime": {
     "end_time": "2018-08-18T21:55:00.623451Z",
     "start_time": "2018-08-18T21:54:55.245063Z"
    }
   },
   "outputs": [],
   "source": [
    "#Eliminación de las Advertencias (Warnings) de Matplotlib\n",
    "import warnings\n",
    "warnings.filterwarnings('ignore')\n",
    "\n",
    "#Gráfico de las 5 mejores características del DataFrame\n",
    "sns.pairplot(datos_df, hue = 'Comprar', height = 4, vars = used_features, kind = 'scatter')\n",
    "#plt.savefig('./Guardados/Pairplot.png', dpi=300, transparent=False, bbox_inches='tight')\n",
    "plt.show();"
   ]
  },
  {
   "cell_type": "markdown",
   "metadata": {},
   "source": [
    "Adicional a ello, podemos realizar el gráfico del comportamiento de dos de las características seleccionadas (en este caso serán `Ingresos` y `Financiar`). El siguiente código realiza un mapa de color que muestra la mejor zona para comprar (en `azul`) y la mejor zona para alquilar (en `rojo`):"
   ]
  },
  {
   "cell_type": "code",
   "execution_count": null,
   "metadata": {
    "ExecuteTime": {
     "end_time": "2018-08-18T21:55:14.201587Z",
     "start_time": "2018-08-18T21:55:13.602952Z"
    }
   },
   "outputs": [],
   "source": [
    "#Mapa de color para identificar zonas en base a dos características\n",
    "used_features2 = ['Ingresos', 'Financiar']\n",
    "X = datos_df[used_features2].values\n",
    "y = datos_df['Comprar']\n",
    "\n",
    "fig, ax = plt.subplots();\n",
    "\n",
    "ax.scatter(X[:,0], X[:,1], c=y, s=50, cmap='RdBu');\n",
    "ax.set_title('Modelo Naïve Bayes');\n",
    "\n",
    "xlim = (2000, 9000)\n",
    "ylim = (100000, 700000)\n",
    "\n",
    "xg = np.linspace(xlim[0], xlim[1], 40)\n",
    "yg = np.linspace(ylim[0], ylim[1], 30)\n",
    "xx, yy = np.meshgrid(xg, yg)\n",
    "Xgrid = np.vstack([xx.ravel(), yy.ravel()]).T\n",
    "\n",
    "for label, color in enumerate(['red', 'blue']):\n",
    "    mask = (y == label)\n",
    "    mu, std = X[mask].mean(0), X[mask].std(0)\n",
    "    P = np.exp(-0.5 * (Xgrid - mu) ** 2 / std ** 2).prod(1)\n",
    "    Pm = np.ma.masked_array(P, P < 0.03)\n",
    "    ax.pcolorfast(xg, yg, Pm.reshape(xx.shape), alpha=0.5,\n",
    "                  cmap=color.title() + 's')\n",
    "    ax.contour(xx, yy, P.reshape(xx.shape),\n",
    "               levels=[0.01, 0.1, 0.5, 0.9],\n",
    "               colors=color, alpha=0.2)\n",
    "    \n",
    "ax.set(xlim=xlim, ylim=ylim)\n",
    "plt.xlabel(\"Ingresos Mensuales de la Familia (Ingresos)\")\n",
    "plt.ylabel(\"Cantidad a Financiar (Financiar)\")\n",
    "#plt.savefig('./Guardados/Mapa_Caract.png', dpi=300, transparent=False, bbox_inches='tight')\n",
    "plt.show();"
   ]
  },
  {
   "cell_type": "markdown",
   "metadata": {},
   "source": [
    "Entonces, es posible ver que cuantos más ingresos tiene la familia y menor es la cantidad a financiar, mejora la opción de comprar (zona marcada en `azul`). De lo contrario, lo mejor será alquilar (zona en `rojo`).\n",
    "\n",
    "### Creación del Modelo Gausiano Naïve Bayes\n",
    "Hasta el momento se ha realizado la selección de características del **DataFrame** así como mostrar los resultados en distintos tipos de gráficos. Ahora se realizará el modelo **Gaussian Naïve Bayes** para poder hacer una adecuada determinación.\n",
    "\n",
    "Para ello, como primer paso se dividen los datos de entrada en grupos para entrenamiento y prueba a través del método `train_test_split()` de la librería **SciKit-Learn**.\n",
    "\n",
    "La descripción detallada del método `train_test_split()` se puede consultar [en esta liga](https://scikit-learn.org/stable/modules/generated/sklearn.model_selection.train_test_split.html)."
   ]
  },
  {
   "cell_type": "code",
   "execution_count": null,
   "metadata": {
    "ExecuteTime": {
     "end_time": "2018-08-18T21:55:00.635482Z",
     "start_time": "2018-08-18T21:55:00.625606Z"
    }
   },
   "outputs": [],
   "source": [
    "#Extracción de datos para entrenamiento y prueba\n",
    "X_train, X_test = train_test_split(datos_df, test_size=0.2, random_state=6) \n",
    "y_train = X_train['Comprar']\n",
    "y_test = X_test['Comprar']\n",
    "\n",
    "#Revisión de los tamaños de los arreglos\n",
    "print(\"El tamaño del arreglo de entrada (X) para entrenamiento es:\", X_train.shape)\n",
    "print(\"El tamaño del arreglo de entrada (X) para prueba es:\", X_test.shape)\n",
    "print(\"El tamaño del arreglo de salida (y) para entrenamiento es:\", y_train.shape[0])\n",
    "print(\"El tamaño del arreglo de salida (y) para prueba es:\", y_test.shape[0])"
   ]
  },
  {
   "cell_type": "markdown",
   "metadata": {},
   "source": [
    "A partir de los datos generados:\n",
    "\n",
    "1. Se crea el modelo a través del método `GaussianNB()` de la librería **SciKit-Learn**, el cual quedará asignado a la variable **gnb**. \n",
    "2. Se realiza el entrenamiento del clasificador a través del método `.fit()`. \n",
    "\n",
    "La descripción detallada del método `GaussianNB()` se puede consultar [en esta liga](https://scikit-learn.org/stable/modules/generated/sklearn.naive_bayes.GaussianNB.html)."
   ]
  },
  {
   "cell_type": "code",
   "execution_count": null,
   "metadata": {
    "ExecuteTime": {
     "end_time": "2018-08-19T08:14:49.039372Z",
     "start_time": "2018-08-19T08:14:49.030351Z"
    }
   },
   "outputs": [],
   "source": [
    "#Creación del Modelo\n",
    "gnb = GaussianNB()\n",
    "\n",
    "#Entrenamiento del Clasificador\n",
    "gnb.fit(X_train[used_features].values, y_train)\n",
    "\n",
    "#Determinación de la Predicción\n",
    "y_pred = gnb.predict(X_test[used_features])"
   ]
  },
  {
   "cell_type": "markdown",
   "metadata": {},
   "source": [
    "Ahora es posible revisar la precisión que se tiene:"
   ]
  },
  {
   "cell_type": "code",
   "execution_count": null,
   "metadata": {
    "ExecuteTime": {
     "end_time": "2018-08-19T08:42:45.867425Z",
     "start_time": "2018-08-19T08:42:45.857279Z"
    }
   },
   "outputs": [],
   "source": [
    "#Revisión de la precisión en el grupo de entrenamiento\n",
    "print('La precisión en el grupo de Entrenamiento es: {:.2f}'.format(gnb.score(X_train[used_features], y_train)*100)+\"%\")\n",
    "\n",
    "#Revisión de la precisión en el grupo de prueba\n",
    "print('La precisión en el grupo de Prueba es: {:.2f}'.format(gnb.score(X_test[used_features], y_test)*100)+\"%\") "
   ]
  },
  {
   "cell_type": "markdown",
   "metadata": {},
   "source": [
    "De los resultados es posible ver que se ha obtenido casi un 90% de aciertos en el conjunto de pruebas a través de este clasificador Bayesiano. \n",
    "\n",
    "Ahora, se realizarán dos predicciones para probar el modelo:\n",
    "1. Será una familia sin hijos, con 2000 USD de ingresos que quiere comprar una casa de 200,000 USD y tiene sólo 5000 USD ahorrados.\n",
    "2. Será una familia con 2 hijos, con ingresos por 6000 USD al mes, con 34000 USD en ahorros, y consultan si comprar una casa de 320,000 USD.\n",
    "\n",
    "Se empleará el método `.predict()`, donde los valores que se pasan como parámetros corresponden a las columnas `Ingresos`, `Ahorros`, `Hijos`, `Trabajo` y `Financiar`, respectivamente.\n",
    "\n",
    "Los resultados posibles son:\n",
    "* `0`: Alquilar.\n",
    "* `1`: Comprar."
   ]
  },
  {
   "cell_type": "code",
   "execution_count": null,
   "metadata": {
    "ExecuteTime": {
     "end_time": "2018-08-18T21:55:00.705674Z",
     "start_time": "2018-08-18T21:55:00.696867Z"
    }
   },
   "outputs": [],
   "source": [
    "#Primera Predicción\n",
    "predict1 = gnb.predict([[2000, 5000, 0, 5, 200000]])\n",
    "print(\"Para el escenario 1, la recomendación es:\", predict1)\n",
    "\n",
    "#Segunda Predicción\n",
    "predict2 = gnb.predict([[6000, 34000, 2, 5, 320000]])\n",
    "print(\"Para el escenario 2, la recomendación es:\", predict2)"
   ]
  },
  {
   "cell_type": "markdown",
   "metadata": {},
   "source": [
    "<div class=\"alert alert-block alert-danger\">\n",
    "<b>.: Fin del Tema :.</b>\n",
    "</div>"
   ]
  }
 ],
 "metadata": {
  "kernelspec": {
   "display_name": "Python 3 (ipykernel)",
   "language": "python",
   "name": "python3"
  },
  "language_info": {
   "codemirror_mode": {
    "name": "ipython",
    "version": 3
   },
   "file_extension": ".py",
   "mimetype": "text/x-python",
   "name": "python",
   "nbconvert_exporter": "python",
   "pygments_lexer": "ipython3",
   "version": "3.8.19"
  }
 },
 "nbformat": 4,
 "nbformat_minor": 4
}
