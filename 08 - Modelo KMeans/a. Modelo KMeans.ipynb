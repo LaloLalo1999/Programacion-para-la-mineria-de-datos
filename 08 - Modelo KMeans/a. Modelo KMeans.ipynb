{
 "cells": [
  {
   "cell_type": "markdown",
   "metadata": {},
   "source": [
    "<div class=\"alert alert-block alert-info\">\n",
    "<span style=\"color: rgb(0,53,91);\">\n",
    "<center><img src=\"./Imagenes/ITESO_Logo.png\" style=\"width:500px;height:142px;\" title=\"Logo ITESO\"></center>\n",
    "<font face = \"Times New Roman\" size = \"6\"><b><center>Maestría en Sistemas Computacionales</center></b></font>\n",
    "<font face = \"Times New Roman\" size = \"5\"><b><center>Programación para Análisis de Datos</center></b></font>\n",
    "\n",
    "<b><br><font face = \"Times New Roman\" size = \"4\"><center>Unidad 5: Proceso de Selección de Métodos</center></font>\n",
    "<font face = \"Times New Roman\" size = \"4\"><center>Tema 5.4: Modelo K-Means</center></font>\n",
    "<div align=\"right\"><font face = \"Times New Roman\" size = \"2\">Dr. Iván Esteban Villalón Turrubiates (villalon@iteso.mx)</font></div>\n",
    "</span></div>"
   ]
  },
  {
   "cell_type": "markdown",
   "metadata": {},
   "source": [
    "## MODELO K-MEANS\n",
    "\n",
    "El modelo **K-Means** es un algoritmo no supervisado de **Agrupamiento (Clustering)**, el cual se emplea cuando se requiere identificar los grupos inherentes en los datos, por ejemplo, realizar la agrupación de compradores en base a su manera de realizar las compras, además de utilizarse cuando se tienen muchos datos sin etiquetar. \n",
    "\n",
    "El objetivo de este algoritmo es encontrar *K* grupos (clusters) entre los datos crudos.\n",
    "\n",
    "### ¿Cómo funciona K-Means?\n",
    "El algoritmo trabaja iterativamente para asignar a cada punto (las filas del conjunto de entrada forman una coordenada) uno de los *K* grupos basado en sus características. Son agrupados en base a la similitud de sus *features* (las columnas). Como resultado de ejecutar el algoritmo se tiene:\n",
    "\n",
    "* Los valores de los centroides (*centroids*) de cada grupo que serán unas coordenadas de cada uno de los *K* conjuntos que se utilizarán para poder etiquetar nuevas muestras.\n",
    "* Etiquetas para el conjunto de datos de entrenamiento. Cada etiqueta perteneciente a uno de los *K* grupos formados.\n",
    "* Los grupos se van definiendo de manera orgánica, es decir, se va ajustando su posición en cada iteración del proceso hasta que converge el algoritmo. \n",
    "* Una vez hallados los centroides se deben analizar para ver cuáles son sus características únicas frente a la de los otros grupos. Estos grupos son las etiquetas que genera el algoritmo.\n",
    "\n",
    "### Casos de uso de K-Means\n",
    "El algoritmo **K-Means** es uno de los más usados para encontrar grupos ocultos, o sospechados en teoría sobre un conjunto de datos no etiquetado. Esto puede servir para confirmar (o descartar) alguna teoría que se tiene asumida sobre el conjunto de datos. Y también puede ayudar a descubrir relaciones entre conjuntos de datos que de manera manual no se hubieran reconocido. Una vez que el algoritmo ha ejecutado y obtenido las etiquetas, será fácil clasificar nuevos valores o muestras entre los grupos obtenidos.\n",
    "\n",
    "Algunos casos de uso son:\n",
    "\n",
    "* Segmentación por comportamiento: Relacionar el carrito de compras de un usuario, sus tiempos de acción e información del perfil.\n",
    "* Categorización de inventario: Agrupar productos por actividad en sus ventas.\n",
    "* Detectar anomalías o actividades sospechosas: Según el comportamiento en una página web reconocer un troll (o un bot) de un usuario normal.\n",
    "\n",
    "### Datos de entrada para K-Means\n",
    "Las *features* o características que se utilizarán como entradas para aplicar el algoritmo **K-Means** deberán ser de valores numéricos (continuos en lo posible). \n",
    "\n",
    "En caso de valores categóricos (por ej. Hombre/Mujer o Ciencia Ficción, Terror, Novela, etc.) se puede intentar pasarlo a valor numérico, pero no es recomendable pues no hay una *distancia real* para calcular. \n",
    "\n",
    "Además es recomendable que los valores utilizados estén normalizados, manteniendo una misma escala. En algunos casos también funcionan mejor datos porcentuales en vez de absolutos. No conviene utilizar características que estén correlacionados o que sean escalares de otros.\n",
    "\n",
    "### El Algoritmo K-Means\n",
    "El algoritmo utiliza una proceso iterativo en el que se van ajustando los grupos para producir el resultado final. Para ejecutar el algoritmo se deben pasar como entrada el conjunto de datos y un valor de *K*. El conjunto de datos serán las características o *features* para cada punto. Las posiciones iniciales de los *K* centroides serán asignadas de manera aleatoria de cualquier punto del conjunto de datos de entrada. Luego se itera en dos pasos:\n",
    "\n",
    "1. Paso de asignación de datos: Cada fila del conjunto de datos se asigna al centroide más cercano basado en la distancia cuadrada Euclideana.\n",
    "2. Paso de actualización de centroide: Los centroides de cada grupo son recalculados. Esto se hace tomando una media de todos los puntos asignados en el paso anterior.\n",
    "\n",
    "El algoritmo itera entre estos pasos hasta cumplir un criterio de detención:\n",
    "* Si no hay cambios en los puntos asignados a los grupos.\n",
    "* Si la suma de las distancias se minimiza.\n",
    "* Si se alcanza un número máximo de iteraciones.\n",
    "\n",
    "El algoritmo converge a un resultado que puede ser el óptimo local, por lo que será conveniente volver a ejecutar más de una vez con puntos iniciales aleatorios para confirmar si hay una salida mejor.\n",
    "\n",
    "### Elegir el valor de K\n",
    "Este algoritmo funciona pre-seleccionando un valor de *K*. Para encontrar el número de clústers en los datos, se debe ejecutar el algoritmo para un rango de valores *K*, ver los resultados y comparar características de los grupos obtenidos. En general no hay un modo exacto de determinar el valor *K*, pero se puede estimar con aceptable precisión siguiendo la siguiente técnica:\n",
    "\n",
    "- Una de las métricas usada para comparar resultados es la distancia media entre los puntos de datos y su centroide. Como el valor de la media diminuirá a medida de aumentemos el valor de *K*, se debe utilizar la distancia media al centroide en función de *K* y entontrar el \"punto codo\", donde la tasa de descenso se \"afila\". A modo de ejemplo:\n",
    "\n",
    "<center><img src=\"./Imagenes/ejemplo-elbow.png\" style=\"width:600px;height:300px;\" class=\"center\"></center>\n",
    "\n",
    "### Implementación de un ejemplo\n",
    "Para este ejemplo, se utilizarán como entradas un conjunto de datos en el que se analizaban rasgos de la personalidad de usuarios de **Twitter**. Se han filtrado a 140 personas reconocidas y de diversas partes del mundo en diferentes areas: deporte, cantantes, actores, etc. Basado en una metodología de **Psicología** conocida como *Las 5 Dimensiones de la Personalidad* (*Ocean: The Big Five*, su descripción se puede revisar [en esta liga](https://www.verywellmind.com/the-big-five-personality-dimensions-2795422)), se obtiene un **DataFrame** del archivo `Ocean_Twitter.CSV` que contiene los siguientes encabezados de las columnas de información:\n",
    "\n",
    "1. `usuario`: El nombre del usuario en Twitter (*texto*).\n",
    "2. `op`: **Openness to experience** – Grado de apertura mental a nuevas experiencias (*flotante*).\n",
    "3. `co`: **Conscientiousness** – Grado de orden y organización (*flotante*).\n",
    "4. `ex`: **Extraversion** – Grado de timidez o participación ante el grupo social (*flotante*).\n",
    "5. `ag`: **Agreeableness** – Grado de empatía con los demás y temperamento (*flotante*).\n",
    "6. `ne`: **Neuroticism** – Grado de neuroticismo, nervioso, irritabilidad y seguridad en sí mismo (*flotante*).\n",
    "7. `palabras`: Cantidad promedio de palabras usadas en sus Tweets (*flotante*).\n",
    "8. `categoria`: Actividad laboral del usuario (actor, cantante, etc, es un valor *entero*).\n",
    "\n",
    "Se utilizará el algoritmo **K-Means** para que agrupe estos usuarios por sus similitudes en la personalidad. \n",
    "\n",
    "**En problema consiste en determinar el grupo al que pertenece el usuario dependiendo de valores de personalidad específicos.**\n",
    "\n",
    "Sólo se utilizarán 3 columnas como las entradas en este ejemplo, de modo que sea posibe visualizar los datos en un gráfico tridimensional (y sus proyecciones a 2D) y los grupos resultantes. Pero para casos reales, se pueden utilizar todas las dimensiones necesarias. \n",
    "\n",
    "***Una de las hipótesis que se puede tener es: \"Todos los cantantes tendrán personalidad parecida\". Se hará la prueba de ello, o por el contrario, se determinará si los grupos no están relacionados necesariamente con la actividad de estas celebridades.***\n",
    "\n",
    "Para ello, primeramente se importarán las librerías **Pandas**, **NumPy** y **Matplotlib**:"
   ]
  },
  {
   "cell_type": "code",
   "execution_count": null,
   "metadata": {
    "scrolled": true
   },
   "outputs": [],
   "source": [
    "#Importación de librerías\n",
    "import pandas as pd\n",
    "import numpy as np\n",
    "import matplotlib.pyplot as plt\n",
    "\n",
    "#Definición de los parámetros de los gráficos\n",
    "plt.rcParams.update({'font.size': 11, 'figure.figsize': (10, 8)}) \n",
    "plt.style.use('ggplot')"
   ]
  },
  {
   "cell_type": "markdown",
   "metadata": {},
   "source": [
    "Ahora se realiza la lectura del DataSet desde un archivo `CSV` y se guarda en un **DataFrame** de **Pandas**:"
   ]
  },
  {
   "cell_type": "code",
   "execution_count": null,
   "metadata": {},
   "outputs": [],
   "source": [
    "#Lectura del DataSet\n",
    "datos_df = pd.read_csv(\"./Datos/Ocean_Twitter.csv\")\n",
    "\n",
    "#Impresión de los Resultados\n",
    "print(\"El DataFrame es:\")\n",
    "display(datos_df)"
   ]
  },
  {
   "cell_type": "markdown",
   "metadata": {},
   "source": [
    "El archivo contiene diferenciadas 9 categorías (actividades laborales) que son:\n",
    "1. Actor/Actriz.\n",
    "2. Cantante.\n",
    "3. Modelo.\n",
    "4. Televisión/Series.\n",
    "5. Radio.\n",
    "6. Tecnología.\n",
    "7. Deportes.\n",
    "8. Política.\n",
    "9. Escritor.\n",
    "\n",
    "Para saber cuantos registros se tiene de cada uno de ellos, se emplean los métodos `.groupby()` y `.size()` de **Pandas** para la columna `categoria`, desde donde se puede ver que hay 34 cantantes, 27 actores, 17 deportistas, 16 políticos, entre otros:"
   ]
  },
  {
   "cell_type": "code",
   "execution_count": null,
   "metadata": {},
   "outputs": [],
   "source": [
    "#Mostrar la cantidad de valores por categoría en el DataFrame\n",
    "print(\"La cantidad de valores por Categoría es:\\n\", datos_df.groupby('categoria').size())"
   ]
  },
  {
   "cell_type": "markdown",
   "metadata": {},
   "source": [
    "Ahora se revisan los histogramas de las columnas que contienen valores numéricos en el **DataFrame** a través del método `.hist()` de **Pandas**, con la finalidad de visualizar el comportamiento de los datos, pero sin considerar la columna `categoria`, para ello se usa el método `.drop()`. \n",
    "\n",
    "Las columnas con valores numéricos son:\n",
    "\n",
    "* `op`: **Openness to experience** – Grado de apertura mental a nuevas experiencias (*flotante*).\n",
    "* `co`: **Conscientiousness** – Grado de orden y organización (*flotante*).\n",
    "* `ex`: **Extraversion** – Grado de timidez o participación ante el grupo social (*flotante*).\n",
    "* `ag`: **Agreeableness** – Grado de empatía con los demás y temperamento (*flotante*).\n",
    "* `ne`: **Neuroticism** – Grado de neuroticismo, nervioso, irritabilidad y seguridad en sí mismo (*flotante*).\n",
    "* `palabras`: Cantidad promedio de palabras usadas en sus Tweets (*flotante*)."
   ]
  },
  {
   "cell_type": "code",
   "execution_count": null,
   "metadata": {},
   "outputs": [],
   "source": [
    "#Mostrar los histogramas del DataFrame\n",
    "datos_df.drop(['categoria'], axis = 1).hist(color = 'skyblue', grid = True);"
   ]
  },
  {
   "cell_type": "markdown",
   "metadata": {},
   "source": [
    "Ahora se seleccionan 3 dimensiones (`op`, `ex` y `ag`), y se cruzan para ver si proporcionan alguna pista de su agrupación y la relación con sus categorías:\n",
    "\n",
    "* `op`: **Openness to experience** – Grado de apertura mental a nuevas experiencias.\n",
    "* `ex`: **Extraversion** – Grado de timidez o participación ante el grupo social.\n",
    "* `ag`: **Agreeableness** – Grado de empatía con los demás y temperamento.\n",
    "\n",
    "Para ello se empleará el método `.pairplot()` de la librería **seaborn**, la cual es usada para visualización estadística de datos.\n",
    "\n",
    "#### Librería Seaborn\n",
    "<center><img src=\"./Imagenes/Seaborn_Logo.png\" style=\"width:349px;height:100px;\" title=\"Logo ITESO\"></center>\n",
    "\n",
    "La librería **Seaborn** para **Python** está basada en **Matplotlib**, proporciona una interfaz de alto nivel para realizar gráficos estadísticos atractivos e informativos. \n",
    "\n",
    "La documentación detallada de la librería **Seaborn** se puede consultar [en esta liga](https://seaborn.pydata.org).\n",
    "\n",
    "La descripción detallada del método `.pairplot()` se puede consultar [en esta liga](https://seaborn.pydata.org/generated/seaborn.pairplot.html).\n",
    "\n",
    "La paleta de color empleada en el método `.pairplot()` por medio del parámetro `palette` puede cambiarse de acuerdo a la lista disponible [en esta liga](https://seaborn.pydata.org/tutorial/color_palettes.html)."
   ]
  },
  {
   "cell_type": "code",
   "execution_count": null,
   "metadata": {},
   "outputs": [],
   "source": [
    "#Importación de librerías\n",
    "import seaborn as sns\n",
    "\n",
    "#Eliminación de las Advertencias (Warnings) de Matplotlib\n",
    "import warnings\n",
    "warnings.filterwarnings('ignore')\n",
    "\n",
    "#Gráfico de las columnas 'op', 'ex' y 'ag' del DataFrame\n",
    "sns.pairplot(datos_df.dropna(), hue = 'categoria', height = 4, vars = ['op','ex','ag'], kind = 'scatter', palette = 'husl')\n",
    "#plt.savefig('./Guardados/Pairplot.png', dpi=300, transparent=False, bbox_inches='tight')\n",
    "plt.show();"
   ]
  },
  {
   "cell_type": "markdown",
   "metadata": {},
   "source": [
    "Revisando las gráficas, no pareciera que haya algún tipo de agrupación o correlación entre los usuarios y sus categorías.\n",
    "\n",
    "### Proceso de preparación de las entradas\n",
    "Se concreta la estructura de datos que se utilizará para alimentar el algoritmo. Sólo se cargarán las columnas `op`, `ex` y `ag` en la variable X, las cuales se convierten en arreglos de **NumPy**:"
   ]
  },
  {
   "cell_type": "code",
   "execution_count": null,
   "metadata": {
    "scrolled": true
   },
   "outputs": [],
   "source": [
    "#Definición de los valores X e y\n",
    "X = np.array(datos_df[['op','ex','ag']])\n",
    "y = np.array(datos_df['categoria'])"
   ]
  },
  {
   "cell_type": "markdown",
   "metadata": {},
   "source": [
    "Ahora se visualizará una gráfica en 3D con 9 colores representando las categorías:"
   ]
  },
  {
   "cell_type": "code",
   "execution_count": null,
   "metadata": {},
   "outputs": [],
   "source": [
    "#Importación de librerías\n",
    "from mpl_toolkits.mplot3d import Axes3D\n",
    "\n",
    "#Gráfico 3D con los valores X e y\n",
    "fig = plt.figure()\n",
    "ax = fig.add_subplot(111, projection='3d')\n",
    "colores = ['blue','red','green','blue','cyan','yellow','orange','black','pink','brown','purple']\n",
    "asignar = []\n",
    "for row in y:\n",
    "    asignar.append(colores[row])\n",
    "ax.scatter(X[:, 0], X[:, 1], X[:, 2], c = asignar, s = 60)\n",
    "#plt.savefig('./Guardados/Grafico_3D.png', dpi=300, transparent=False, bbox_inches='tight')\n",
    "plt.show();"
   ]
  },
  {
   "cell_type": "markdown",
   "metadata": {},
   "source": [
    "La intención es emplear **K-Means** para poder realizar esta misma gráfica de otra manera, donde los clusters estén totalmente diferenciados.\n",
    "\n",
    "#### Obtener el valor de K\n",
    "Para obtener el valor de *K*, se realizará una gráfica a partir de la cual se identifique el *punto de codo* que se comentó previamente. \n",
    "\n",
    "Para ello se empleará la librería **SciKit-Learn**, la cual contiene herramientas simples y eficientes para análisis predictivo de datos.\n",
    "\n",
    "<center><img src=\"./Imagenes/scikit.png\" style=\"width:200px;height:108px;\" class=\"center\"></center>\n",
    "\n",
    "La documentación de **SciKit-Learn** se puede encontrar a través [de esta liga](https://scikit-learn.org/stable/).\n",
    "\n",
    "***Nota:*** Existe un conflicto entre las versiones de **Scikit-Learn** y del complemento **Threadpoolctl** para generar el gráfico de codo. Para evitar este problema que aparece como `'NoneType' object has no attribute 'split'`, se deben verificar las respectivas versiones de ambas librerías por medio de la función `show_versions()` de **Scikit-Learn**. La recomendación es que **Scikit-Learn** esté en la versión ***1.1.3***, y **Threadpoolctl** esté en la versión ***3.1.0***, de esta manera serán compatibles para realizar el gráfico de codo. En el caso de que las versiones no correspondan, se pueden instalar por medio de los siguientes comandos:\n",
    "```python \n",
    "pip install --upgrade scikit-learn==1.1.3 \n",
    "```\n",
    "```python \n",
    "pip install --upgrade threadpoolctl==3.1.0\n",
    "```\n",
    "\n",
    "Para verificar las versiones por medio de la función `show_versions()` de **Scikit-Learn**, simplemente se ejecuta lo siguiente:"
   ]
  },
  {
   "cell_type": "code",
   "execution_count": null,
   "metadata": {},
   "outputs": [],
   "source": [
    "#Importación de la librería\n",
    "from sklearn import show_versions\n",
    "\n",
    "#Verificación de las versiones\n",
    "show_versions()"
   ]
  },
  {
   "cell_type": "markdown",
   "metadata": {},
   "source": [
    "Una vez verificadas las versiones de **Scikit-Learn** y del complemento **Threadpoolctl**, se puede realizar del gráfico de codo de la siguiente manera:"
   ]
  },
  {
   "cell_type": "code",
   "execution_count": null,
   "metadata": {},
   "outputs": [],
   "source": [
    "#Importación de librerías\n",
    "from sklearn.cluster import KMeans\n",
    "from sklearn.metrics import pairwise_distances_argmin_min\n",
    "\n",
    "#Determinación del valor K\n",
    "Nc = range(1, 20)\n",
    "kmeans = [KMeans(n_clusters=i) for i in Nc]\n",
    "score = [kmeans[i].fit(X).score(X) for i in range(len(kmeans))]\n",
    "\n",
    "#Gráfico de Codo\n",
    "plt.plot(Nc, score, color='green')\n",
    "plt.xlabel('Número de Clústers')\n",
    "plt.ylabel('Valor')\n",
    "plt.title('Gráfico de Codo')\n",
    "#plt.savefig('./Guardados/Grafico_Codo.png', dpi=300, transparent=False, bbox_inches='tight')\n",
    "plt.show();"
   ]
  },
  {
   "cell_type": "markdown",
   "metadata": {},
   "source": [
    "Para este ejemplo en particular, la curva está sumamente suavizada. Aproximadamente se puede ver que el valor es *K = 5*, pero puede variar según el criterio de cada persona.\n",
    "\n",
    "#### Ejecución de K-Means\n",
    "Se ejecuta el algoritmo para 5 clusters (*K = 5*) y se obtienen las etiquetas y los centroides. Para ello se empleará la función `KMeans` de **SciKit-Learn**.\n",
    "\n",
    "La documentación de la función `KMeans` se puede encontrar a través [de esta liga](https://scikit-learn.org/stable/modules/generated/sklearn.cluster.KMeans.html)."
   ]
  },
  {
   "cell_type": "code",
   "execution_count": null,
   "metadata": {},
   "outputs": [],
   "source": [
    "#Aplicación del Modelo K-Means\n",
    "kmeans = KMeans(n_clusters = 5).fit(X)\n",
    "centroids = kmeans.cluster_centers_\n",
    "print(\"Los valores de los centroides son: \\n\", centroids)"
   ]
  },
  {
   "cell_type": "markdown",
   "metadata": {},
   "source": [
    "Ahora se visualizará en una gráfica 3D con colores para los grupos, donde las estrellas marcan el centro de cada cluster:"
   ]
  },
  {
   "cell_type": "code",
   "execution_count": null,
   "metadata": {},
   "outputs": [],
   "source": [
    "#Etiquetas de cada punto de los datos\n",
    "labels = kmeans.predict(X)\n",
    "\n",
    "#Determinación de los centroides\n",
    "C = kmeans.cluster_centers_\n",
    "colores = ['red','green','blue','cyan','yellow']\n",
    "asignar = []\n",
    "for row in labels:\n",
    "    asignar.append(colores[row])\n",
    "\n",
    "#Gráfico 3D\n",
    "fig = plt.figure()\n",
    "ax = fig.add_subplot(111, projection='3d')\n",
    "ax.scatter(X[:, 0], X[:, 1], X[:, 2], c = asignar, s = 60)\n",
    "ax.scatter(C[:, 0], C[:, 1], C[:, 2], marker = '*', c = colores, s = 1000)\n",
    "#plt.savefig('./Guardados/Grafico_3D_Grupos.png', dpi=300, transparent=False, bbox_inches='tight')\n",
    "plt.show();"
   ]
  },
  {
   "cell_type": "markdown",
   "metadata": {},
   "source": [
    "Es posible ver que el algoritmo **K-Means** con *K = 5* ha agrupado a los 140 usuarios de **Twitter** por su personalidad, teniendo en cuenta las 3 dimensiones utilizadas (**Openess** `op`, **Extraversion** `ex`, y **Agreeablenes** `ag`). Pareciera que no hay necesariamente una relación en los grupos con sus actividades de celebridad.\n",
    "\n",
    "Ahora se realizarán 3 gráficas 2D con las proyecciones a partir del gráfico 3D, las cuales serán de ayuda para visualizar los grupos y su clasificación.\n",
    "\n",
    "Primero, con los valores de `op` y `ex`:"
   ]
  },
  {
   "cell_type": "code",
   "execution_count": null,
   "metadata": {},
   "outputs": [],
   "source": [
    "#Proyección a 2D con 'op' y 'ex'\n",
    "f1 = datos_df['op'].values\n",
    "f2 = datos_df['ex'].values\n",
    "\n",
    "#Gráfico de Proyección 2D\n",
    "plt.scatter(f1, f2, c = asignar, s = 70)\n",
    "plt.scatter(C[:, 0], C[:, 1], marker = '*', c = colores, s = 1000)\n",
    "plt.xlabel(\"Openess - op\")\n",
    "plt.ylabel(\"Extraversion - ex\")\n",
    "plt.title(\"Proyección 2D de los valores Openess y Extraversion\")\n",
    "#plt.savefig('./Guardados/Proyeccion_op_ex.png', dpi=300, transparent=False, bbox_inches='tight')\n",
    "plt.show();"
   ]
  },
  {
   "cell_type": "markdown",
   "metadata": {},
   "source": [
    "Ahora, con los valores de `op` y `ag`:"
   ]
  },
  {
   "cell_type": "code",
   "execution_count": null,
   "metadata": {},
   "outputs": [],
   "source": [
    "#Proyección a 2D con 'op' y 'ag'\n",
    "f1 = datos_df['op'].values\n",
    "f3 = datos_df['ag'].values\n",
    "\n",
    "#Gráfico de Proyección 2D\n",
    "plt.scatter(f1, f3, c = asignar, s = 70)\n",
    "plt.scatter(C[:, 0], C[:, 2], marker = '*', c = colores, s = 1000)\n",
    "plt.xlabel(\"Openess - op\")\n",
    "plt.ylabel(\"Agreeablenes - ag\")\n",
    "plt.title(\"Proyección 2D de los valores Openess y Agreeablenes\")\n",
    "#plt.savefig('./Guardados/Proyeccion_op_ag.png', dpi=300, transparent=False, bbox_inches='tight')\n",
    "plt.show();"
   ]
  },
  {
   "cell_type": "markdown",
   "metadata": {},
   "source": [
    "Finalmente, con los valores de `ex` y `ag`:"
   ]
  },
  {
   "cell_type": "code",
   "execution_count": null,
   "metadata": {},
   "outputs": [],
   "source": [
    "#Proyección a 2D con 'ex' y 'ag'\n",
    "f2 = datos_df['ex'].values\n",
    "f3 = datos_df['ag'].values\n",
    "\n",
    "#Gráfico de Proyección 2D\n",
    "plt.scatter(f2, f3, c = asignar, s = 70)\n",
    "plt.scatter(C[:, 1], C[:, 2], marker = '*', c = colores, s = 1000)\n",
    "plt.xlabel(\"Extraversion - ex\")\n",
    "plt.ylabel(\"Agreeablenes - ag\")\n",
    "plt.title(\"Proyección 2D de los valores Extraversion y Agreeablenes\")\n",
    "#plt.savefig('./Guardados/Proyeccion_ex_ag.png', dpi=300, transparent=False, bbox_inches='tight')\n",
    "plt.show();"
   ]
  },
  {
   "cell_type": "markdown",
   "metadata": {},
   "source": [
    "A partir de los gráficos se puede ver que están bastante bien diferenciados los grupos.\n",
    "\n",
    "Ahora, es posible visualizar cuántos usuarios tiene cada uno de los clústers:"
   ]
  },
  {
   "cell_type": "code",
   "execution_count": null,
   "metadata": {},
   "outputs": [],
   "source": [
    "#Copia de los Usuarios junto con su respectivo Clúster (label)\n",
    "copy = pd.DataFrame()\n",
    "copy['usuario'] = datos_df['usuario'].values\n",
    "copy['categoria'] = datos_df['categoria'].values\n",
    "copy['label'] = labels;\n",
    "\n",
    "#Conteo de Usuarios por cada Clúster (label)\n",
    "cantidadGrupo =  pd.DataFrame()\n",
    "cantidadGrupo['color'] = ['rojo', 'verde', 'azul', 'cyan', 'amarillo']\n",
    "cantidadGrupo['cantidad'] = copy.groupby('label').size()\n",
    "\n",
    "#Impresión de los Resultados\n",
    "print(\"La cantidad de usuarios en cada clúster es:\")\n",
    "display(cantidadGrupo)"
   ]
  },
  {
   "cell_type": "markdown",
   "metadata": {},
   "source": [
    "De ello, se puede ver la diversidad en las categorías laborales de cada uno de los usuarios en un clúster en específico.\n",
    "\n",
    "Por ejemplo, en el clúster `0` correspondiente al color rojo, los usuarios incluidos y sus actividades laborales son:"
   ]
  },
  {
   "cell_type": "code",
   "execution_count": null,
   "metadata": {},
   "outputs": [],
   "source": [
    "#Copia de los Usuarios contenidos en el Clúster 0 (red)\n",
    "group_referrer_index = copy['label'] == 0\n",
    "group_referrals = copy[group_referrer_index]\n",
    "\n",
    "#Conteo de Usuarios contenidos en el Clúster 0 (red)\n",
    "diversidadGrupo =  pd.DataFrame()\n",
    "diversidadGrupo['Categoria'] = [0,1,2,3,4,5,6,7,8,9]\n",
    "diversidadGrupo['Descripción'] = ['','Actor/Actriz', 'Cantante', 'Modelo', 'Televisión/Series', 'Radio', 'Tecnología', 'Deportes', 'Política', 'Escritor']\n",
    "diversidadGrupo['Cantidad'] = group_referrals.groupby('categoria').size()\n",
    "diversidadGrupo.set_index('Categoria', inplace = True)\n",
    "diversidadGrupo.drop(index = 0, inplace = True)\n",
    "\n",
    "#Impresión de los Resultados\n",
    "print(\"La cantidad total de usuarios en el cluster 0 es:\", cantidadGrupo.iloc[0].loc['cantidad'])\n",
    "print(\"La categoría de los usuarios en el clúster 0 es:\")\n",
    "display(diversidadGrupo)"
   ]
  },
  {
   "cell_type": "markdown",
   "metadata": {},
   "source": [
    "Se pueden mostrar los usuarios que están en la categoría 2 del grupo:"
   ]
  },
  {
   "cell_type": "code",
   "execution_count": null,
   "metadata": {},
   "outputs": [],
   "source": [
    "#Usuarios con Categoria 2 del Grupo\n",
    "print(\"Los usuarios en la Categoría 2 (Cantante) del Clúster 0 son:\")\n",
    "for index, row in group_referrals.iterrows():\n",
    "    if row['categoria'] == 2:\n",
    "        print (row['usuario'])"
   ]
  },
  {
   "cell_type": "markdown",
   "metadata": {},
   "source": [
    "Ahora se buscarán los usuarios que están mas cerca a los centroides de cada grupo, para los cuales se puede decir que tienen los rasgos de personalidad característicos que representan a cada clúster.\n",
    "\n",
    "El resultado es un ***array***, el cual indica la posición en el arreglo de los usuarios:"
   ]
  },
  {
   "cell_type": "code",
   "execution_count": null,
   "metadata": {},
   "outputs": [],
   "source": [
    "#Mostrar el usuario mas cercano a cada centroide\n",
    "closest, _ = pairwise_distances_argmin_min(kmeans.cluster_centers_, X)\n",
    "\n",
    "#Impresión de los Resultados\n",
    "print(\"Los usuarios mas cercanos a cada Centroide son los número:\")\n",
    "print(closest)"
   ]
  },
  {
   "cell_type": "markdown",
   "metadata": {},
   "source": [
    "Y para mostrar su nombre:"
   ]
  },
  {
   "cell_type": "code",
   "execution_count": null,
   "metadata": {},
   "outputs": [],
   "source": [
    "#Mostrar el nombre del usuario mas cercano a cada centroide\n",
    "print(\"Los usuarios mas cercanos a cada Centroide son:\")\n",
    "users = datos_df['usuario'].values\n",
    "for row in closest:\n",
    "    print(users[row])"
   ]
  },
  {
   "cell_type": "markdown",
   "metadata": {},
   "source": [
    "Además, es posible ver a todos los usuarios del clúster. En este caso para el clúster 0:"
   ]
  },
  {
   "cell_type": "code",
   "execution_count": null,
   "metadata": {},
   "outputs": [],
   "source": [
    "#Mostrar el nombre de los usuarios en el clúster 0\n",
    "print(\"Los usuarios del Clúster 0 son:\")\n",
    "for index, row in copy.iterrows():\n",
    "    if row[\"label\"] == 0:\n",
    "        print (row[\"usuario\"])"
   ]
  },
  {
   "cell_type": "markdown",
   "metadata": {},
   "source": [
    "#### Clasificación de nuevas muestras\n",
    "Finalmente, es posible agrupar y etiquetar nuevos usuarios de Twitter con sus características y clasificarlos.\n",
    "\n",
    "Para este ejemplo, se proporcionan los valores `op`, `ex` y `ag` del usuario nuevo que se quiere clasificar (en este caso es el usuario ***David Guetta***), y la función devuelve el clúster al que pertenece: "
   ]
  },
  {
   "cell_type": "code",
   "execution_count": null,
   "metadata": {},
   "outputs": [],
   "source": [
    "#Clasificación de nuevas muestras\n",
    "X_new = np.array([[45.92, 57.74, 15.66]]) \n",
    "new_labels = kmeans.predict(X_new)\n",
    "\n",
    "#Impresión de los Resultados\n",
    "print(\"El nuevo usuario pertenece al Clúster número:\", new_labels)"
   ]
  },
  {
   "cell_type": "markdown",
   "metadata": {},
   "source": [
    "<div class=\"alert alert-block alert-danger\">\n",
    "<b>.: Fin del Tema :.</b>\n",
    "</div>"
   ]
  }
 ],
 "metadata": {
  "kernelspec": {
   "display_name": "Python 3 (ipykernel)",
   "language": "python",
   "name": "python3"
  },
  "language_info": {
   "codemirror_mode": {
    "name": "ipython",
    "version": 3
   },
   "file_extension": ".py",
   "mimetype": "text/x-python",
   "name": "python",
   "nbconvert_exporter": "python",
   "pygments_lexer": "ipython3",
   "version": "3.8.19"
  }
 },
 "nbformat": 4,
 "nbformat_minor": 4
}
