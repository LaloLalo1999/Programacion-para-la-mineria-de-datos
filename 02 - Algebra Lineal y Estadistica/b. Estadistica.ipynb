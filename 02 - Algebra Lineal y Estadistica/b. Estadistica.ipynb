{
 "cells": [
  {
   "cell_type": "markdown",
   "metadata": {},
   "source": [
    "<div class=\"alert alert-block alert-info\">\n",
    "<span style=\"color: rgb(0,53,91);\">\n",
    "<center><img src=\"./Imagenes/ITESO_Logo.png\" style=\"width:500px;height:142px;\" title=\"Logo ITESO\"></center>\n",
    "<font face = \"Times New Roman\" size = \"6\"><b><center>Maestría en Sistemas Computacionales</center></b></font>\n",
    "<font face = \"Times New Roman\" size = \"5\"><b><center>Programación para Análisis de Datos</center></b></font>\n",
    "\n",
    "<b><br><font face = \"Times New Roman\" size = \"4\"><center>Unidad 2: Conceptos Generales</center></font>\n",
    "<font face = \"Times New Roman\" size = \"4\"><center>Tema 2.3: Conceptos de Álgebra Lineal y Estadística</center></font>\n",
    "<font face = \"Times New Roman\" size = \"4\"><center>Subtema b: Estadística</center></font></b>\n",
    "<div align=\"right\"><font face = \"Times New Roman\" size = \"2\">Dr. Iván Esteban Villalón Turrubiates (villalon@iteso.mx)</font></div>\n",
    "</span></div>"
   ]
  },
  {
   "cell_type": "markdown",
   "metadata": {},
   "source": [
    "## ESTADÍSTICA\n",
    "\n",
    "La estadística se refiere a la matemática y las técnicas a través de las cuales es posible comprender los datos. Es un enorme campo de conocimiento que comprende la estadística descriptiva así como la estadística inferencial. \n",
    "\n",
    "#### Definición de Estadística\n",
    "Es la ciencia que proporciona técnicas precisas para obtener información (recolección y presentación de datos), así como métodos para el análisis, validación y presentación de ésta. Se divide en dos ramas:\n",
    "\n",
    "> **Estadística Descriptiva:** Contiene la recolección, organización, presentación y resumen de una serie de datos en forma tabular, gráfica o numérica. El análisis se limita en sí mismo a los datos recolectados y no se puede realizar inferencia (generalización) alguna acerca de la población de donde provienen esos datos. Dentro de la estadística descriptiva se tienen las siguientes medidas que son de gran ayuda en la definición de un grupo de datos:\n",
    "> > ***Medidas de Tendencia Central***: Media, Mediana, Moda, Rango.\n",
    "> > \n",
    "> > ***Medidas de Dispersión***: Desviación Estándar, Varianza.\n",
    ">\n",
    "> **Estadística Inferencial:** Hace posible la estimación de una característica de una población o la toma de una decisión referente a una población, fundamentándose sólo en los resultados de la muestra.\n",
    "\n",
    "Algunas definiciones importantes relacionadas con la Estadística son:\n",
    "\n",
    "* **Experimentación**: Proceso de generar datos.\n",
    "  \n",
    "* **Población**: Conjunto de observaciones en las cuales se está interesado.\n",
    "\n",
    "* **Muestra**: Subconjunto de una población. Debe ser representativa, es decir, que todas las características de una población estén representadas.\n",
    "\n",
    "* **Muestra aleatoria**: Aquella en la cual todos los elementos de una población tienen la misma oportunidad (probabilidad) de ser seleccionados.\n",
    "\n",
    "* **Datos**: Característica medible, contable o apreciable en cada elemento de una muestra.\n",
    "\n",
    "* **Datos cualitativos**: Características no medibles de un elemento de la muestra. \n",
    "\n",
    "* **Datos cuantitativos**: Condiciones medibles o contables en un elemento de la muestra.\n",
    "\n",
    "* **Datos de variables discretas**: Son números enteros que resultan de un conteo. \n",
    "\n",
    "* **Datos de variables continuos**: Pueden tomar su valor dentro de un rango continuo de valores, resultan de una medición.\n",
    "\n",
    "#### Probabilidad\n",
    "Es complicado realizar un estudio de ciencia de datos sin comprender los principios básicos de la probabilidad, los eventos aleatorios y los procesos estocásticos. La probabilidad, como tal, es una forma de cuantificar un eventos incierto dentro de un universo de eventos posibles, empleando un rango de 0 a 1. \n",
    "\n",
    "El cálculo de probabilidades nace como una teoría para juegos de azar y muy pronto se utiliza para el estudio de otros fenómenos tales como riesgos económicos y sociales, predicciones estadísticas y otros muchos problemas filosóficos de diversos tipos y bajo distintos contextos. \n",
    "\n",
    "Durante casi tres siglos (XVII, XVIII y XIX), el llamado periodo clásico de la probabilidad, la motivación y el motor para su desarrollo proviene sobre todo de temas externos a la matemática como las mesas de juego y problemas socio-económicos.\n",
    "\n",
    "La probabilidad dentro de la ciencia de datos participa en aquellos problemas y situaciones donde se presenta incertidumbre y es requerida una toma de decisiones.\n",
    "\n",
    "El cálculo de la probabilidad de que un suceso ocurra es la razón entre el número de casos favorables y el número total de casos posibles, se le conoce como la **Ley de Laplace** ya que fue formulada en el siglo XVIII por Pierre Simon Laplace, aunque también recibe el nombre de ***Regla de Sucesión***, y es ampliamente utilizada para estimar las probabilidades de que se produzca determinado evento. \n",
    "\n",
    "Matemáticamente se expresa como:\n",
    "$$ P(A) = \\dfrac{\\text{número de casos probables para A}}{\\text{número de casos posibles}} $$"
   ]
  },
  {
   "cell_type": "markdown",
   "metadata": {},
   "source": [
    "Para el uso de operaciones de ***Estadística Descriptiva*** en **Python** se empleará la librería **NumPy**.\n",
    "\n",
    "<center><img src=\"./Imagenes/NumPy_logo.png\" style=\"width:170px;height:60px;\" class=\"center\"></center>\n",
    "\n",
    "Inicialmente se generará un ***vector*** empleando el método `.random.normal(a,b,c)` de **NumPy**, el cual genera un vector con *valores aleatorios* con *distribución normal*, para ello emplea tres argumentos de la siguiente manera:\n",
    "\n",
    "* El argumento `a` indica el valor de la *media* de los elementos.\n",
    "* El argumento `b` indica el valor de la *desviación estándar* de los elementos.\n",
    "* El argumento `c` indica la cantidad de elementos a generar.\n",
    "\n",
    "La descripción detallada del método `.random.normal()` se puede consultar [en esta liga](https://numpy.org/doc/stable/reference/random/generated/numpy.random.normal.html).\n",
    "\n",
    "En el ejemplo se genera aleatoriamente un vector de 10 elementos cuyos valores de media sea 5 y una desviación estándar de 0.5, a partir de este vector se emplearán los siguientes métodos para la determinación de las funciones estadísticas básicas empleando la librería **NumPy**:\n",
    "\n",
    "* El método `.min()` determina el valor mínimo en el ***vector***.\n",
    "* El método `.max()` determina el valor máximo en el ***vector***.\n",
    "* El método `.mean()` determina el valor de la media en el ***vector***.\n",
    "* El método `.median()` determina el valor de la mediana en el ***vector***.\n",
    "* El método `.var()` determina el valor de la varianza en el ***vector***.\n",
    "* El método `.std()` determina el valor de la desviación estándar en el ***vector***.\n",
    "\n",
    "***Nota:*** El método `.random()` puede generar valores aleatorios con distintas *Distribuciones de Probabilidad*, las cuales pueden consultarse [en esta liga](https://numpy.org/doc/stable/reference/random/generator.html#distributions)."
   ]
  },
  {
   "cell_type": "code",
   "execution_count": null,
   "metadata": {},
   "outputs": [],
   "source": [
    "#Importación de Librerías\n",
    "import numpy as np                       \n",
    "\n",
    "#Definición de Vectores\n",
    "Vec = np.random.normal(5, 0.5, 11)         \n",
    "\n",
    "#Funciones estadísticas básicas \n",
    "min = np.min(Vec)                          \n",
    "max = np.max(Vec)                          \n",
    "mean = np.mean(Vec)                        \n",
    "median = np.median(Vec)                    \n",
    "var = np.var(Vec)                          \n",
    "std = np.std(Vec)                          \n",
    "\n",
    "#Impresión de los resultados\n",
    "print(\"El vector es:\\n\", Vec)\n",
    "print(\"\\nEl valor mínimo en el vector es: %.3f\" % min)\n",
    "print(\"El valor máximo en el vector es: %.3f\" % max)\n",
    "print(\"El valor de la media en el vector es: %.3f\" % mean)\n",
    "print(\"El valor de la mediana en el vector es: %.3f\" % median)\n",
    "print(\"El valor de la varianza en el vector es: %.3f\" % var)\n",
    "print(\"El valor de la desviación estándar en el vector es: %.3f\" % std)"
   ]
  },
  {
   "cell_type": "markdown",
   "metadata": {},
   "source": [
    "Ahora se realizará un gráfico de los valores generados, para ello se empleará la librería **Matplotlib**.\n",
    "\n",
    "Se empleará el método `.plot(a,b,c,d)` indicando cuatro argumentos que definen:\n",
    "\n",
    "* El argumento `a` indica el vector de valores que se va a graficar.\n",
    "* El argumento `b` indica el color de la línea a ser graficada.\n",
    "* El argumento `c` indica el tipo de marcador a emplearse.\n",
    "* El argumento `d` indica el tipo de línea a emplearse.\n",
    "\n",
    "La descripción detallada de los parámetros del método `.plot()` puede consultarse a través [de esta liga](\n",
    "https://matplotlib.org/stable/api/_as_gen/matplotlib.pyplot.plot.html)."
   ]
  },
  {
   "cell_type": "code",
   "execution_count": null,
   "metadata": {},
   "outputs": [],
   "source": [
    "#Importación de Librerías\n",
    "import matplotlib.pyplot as plt\n",
    "\n",
    "#Creación de una Gráfica de Líneas\n",
    "plt.plot(Vec, color='blue', marker='o', linestyle='solid') \n",
    "\n",
    "#Agregar Título y Etiquetas\n",
    "plt.title(\"Vector de Valores Aleatorios\")\n",
    "plt.xlabel(\"Posición en el Vector\")\n",
    "plt.ylabel(\"Valor Aleatorio\") \n",
    "plt.show()"
   ]
  },
  {
   "cell_type": "markdown",
   "metadata": {},
   "source": [
    "<div class=\"alert alert-block alert-success\">\n",
    "<b>.: Fin del Subtema :.</b>\n",
    "</div>\n",
    "\n",
    "***Liga de aceso al siguiente Subtema:*** \n",
    "<br>[c. Introducción a Imágenes](c.%20Introduccion%20a%20Imagenes.ipynb)"
   ]
  }
 ],
 "metadata": {
  "kernelspec": {
   "display_name": "Python 3 (ipykernel)",
   "language": "python",
   "name": "python3"
  },
  "language_info": {
   "codemirror_mode": {
    "name": "ipython",
    "version": 3
   },
   "file_extension": ".py",
   "mimetype": "text/x-python",
   "name": "python",
   "nbconvert_exporter": "python",
   "pygments_lexer": "ipython3",
   "version": "3.8.18"
  }
 },
 "nbformat": 4,
 "nbformat_minor": 4
}
