{
 "cells": [
  {
   "cell_type": "markdown",
   "metadata": {},
   "source": [
    "<div class=\"alert alert-block alert-info\">\n",
    "<span style=\"color: rgb(0,53,91);\">\n",
    "<center><img src=\"./Imagenes/ITESO_Logo.png\" style=\"width:500px;height:142px;\" title=\"Logo ITESO\"></center>\n",
    "<font face = \"Times New Roman\" size = \"6\"><b><center>Maestría en Sistemas Computacionales</center></b></font>\n",
    "<font face = \"Times New Roman\" size = \"5\"><b><center>Programación para Análisis de Datos</center></b></font>\n",
    "\n",
    "<b><br><font face = \"Times New Roman\" size = \"4\"><center>Unidad 2: Conceptos Generales</center></font>\n",
    "<font face = \"Times New Roman\" size = \"4\"><center>Tema 2.3: Conceptos de Álgebra Lineal y Estadística</center></font>\n",
    "<font face = \"Times New Roman\" size = \"4\"><center>Subtema a: Vectores y Matrices</center></font></b>\n",
    "<div align=\"right\"><font face = \"Times New Roman\" size = \"2\">Dr. Iván Esteban Villalón Turrubiates (villalon@iteso.mx)</font></div>\n",
    "</span></div>"
   ]
  },
  {
   "attachments": {},
   "cell_type": "markdown",
   "metadata": {},
   "source": [
    "## VECTORES Y MATRICES\n",
    "\n",
    "El álgebra lineal es parte esencial de la herramienta matemática que se requiere en la actualidad para el estudio de muchas áreas de las ciencias del comportamiento, naturales, físicas y sociales, de la ingeniería, los negocios, la computación y, por supuesto, de las matemáticas puras y aplicadas. Adicionalmente, el álgebra lineal se enfoca a los espacios vectoriales.\n",
    "\n",
    "#### Vectores\n",
    "Los vectores son puntos en un espacio dimensionalmente finito, los cuales son de utilidad para representar datos numéricos. De manera sencilla, son una lista de números que pueden representarse matemáticamente como:\n",
    "\n",
    "\\begin{equation}\n",
    "\\begin{bmatrix}\n",
    "a_1\\\\\n",
    "a_2\\\\\n",
    "a_3\\\\\n",
    ".\\\\\n",
    ".\\\\\n",
    ".\\\\\n",
    "a_n\\\\\n",
    "\\end{bmatrix}\n",
    "\\end{equation}\n",
    "\n",
    "Por ejemplo, si se cuenta con la información de alturas, pesos y edades de un número de personas, esos datos pueden representarse como vectores tridimensionales (altura, peso, edad) que almacenan dicha información para cada uno de los elementos individuales de la lista de personas. \n",
    "\n",
    "#### Matrices\n",
    "Una matriz es un arreglo *n-dimensional* de números. Las matrices se suelen representar como listas de listas. \n",
    "\n",
    "En matemáticas, las matrices se representan como *mxn*, donde *m* es el número de renglones y *n* el número de columnas comenzando desde 1. Sin embargo, para **Python** dicha indexación comienza desde cero. La representación matemática se muestra a continuación:\n",
    "\n",
    "\\begin{equation}\n",
    "\\begin{bmatrix}\n",
    "a_{11} & a_{12} & a_{13} & ... & a_{1n}\\\\\n",
    "a_{21} & a_{22} & a_{23} & ... & a_{2n}\\\\\n",
    "a_{31} & a_{32} & a_{33} & ... & a_{3n}\\\\\n",
    ". & . & . & . & .\\\\\n",
    ". & . & . & . & .\\\\\n",
    ". & . & . & . & .\\\\\n",
    "a_{m1} & a_{m2} & a_{m3} & ... & a_{mn}\\\\\n",
    "\\end{bmatrix}\n",
    "\\end{equation}\n",
    "\n",
    "#### La Librería NumPy\n",
    "<center><img src=\"./Imagenes/NumPy_logo.png\" style=\"width:341px;height:120px;\" class=\"center\"></center>\n",
    "\n",
    "Para el uso de operaciones vectoriales y matriciales en **Python** se empleará la librería **NumPy**, la cual es una librería de **Python** que le agrega mayor soporte para operaciones con vectores y matrices, constituyendo una biblioteca de funciones matemáticas de alto nivel para operar con ellos. \n",
    "\n",
    "La forma más sencilla de representar vectores y matrices en **Python** es por medio de un listas de números. El problema es que dichas listas no son vectores, y por lo mismo no se pueden emplear para realizar operaciones matemáticas. Es por ello que el uso de librerías especializadas es más adecuado. \n",
    "\n",
    "**NumPy** es la librería fundamental para cómputo científico en **Python**. Contiene entre otras cosas: \n",
    "* Arreglos de objetos *n-dimensionales*.\n",
    "* Operaciones de álgebra lineal. \n",
    "* Transformada de Fourier.\n",
    "* Generadores de números aleatorios.\n",
    "\n",
    "La documentación de **NumPy** se puede encontrar a través [de esta liga](https://numpy.org).\n",
    "\n",
    "Para importar la librería se empleará la función `import numpy as np`, a partir de ello se podrá hacer uso de los distintos métodos de **NumPy** invocándolo como `np`. \n",
    "\n",
    "Como primer ejemplo se generarán dos ***vectores*** que contengan 3 elementos cada uno empleando el método `.array()` el cual recibe los valores del vector en su argumento empleando corchetes `[]` y separados por comas `,`. A partir de esos vectores se realizarán varias operaciones.\n",
    "\n",
    "La documentación del método `.array()` puede ser consultada [en esta liga](https://numpy.org/doc/stable/reference/generated/numpy.array.html)."
   ]
  },
  {
   "cell_type": "code",
   "execution_count": null,
   "metadata": {},
   "outputs": [],
   "source": [
    "#Importación de Librerías\n",
    "import numpy as np                      \n",
    "\n",
    "#Definición de Vectores \n",
    "A = np.array([1, 2, 3])                   \n",
    "B = np.array([4, 5, 6])                    \n",
    "\n",
    "#Operaciones con Vectores\n",
    "C = A + B                                   \n",
    "D = 5 * A                                   \n",
    "\n",
    "#Impresión de los resultados\n",
    "print(\"El vector A es:\", A)\n",
    "print(\"El vector B es:\", B)\n",
    "print(\"La suma de A+B es:\", C)\n",
    "print(\"La multiplicación de A por el escalar 5 es:\", D)"
   ]
  },
  {
   "cell_type": "markdown",
   "metadata": {},
   "source": [
    "Ahora se generarán tres ***matrices*** de distintos tamaños:\n",
    "\n",
    "* ***Matriz*** A de 2x3.\n",
    "* ***Matriz*** B de 3x2.\n",
    "* ***Matriz*** C de 2x2.\n",
    "\n",
    "De manera similar a los ***vectores***, la creación de ***matrices*** se realiza con el método `.array()` el cual recibe los valores de la matriz en su argumento empleando corchetes `[]` para cada renglón, y separados por comas `,`. \n",
    "\n",
    "Se realizará la operación de multiplicación de ***matrices*** a través del método `.matmul()` de **NumPy**, el cual recibe en su argumento los elementos que se multiplicarán.\n",
    "\n",
    "La documentación del método `.matmul()` puede ser consultada [en esta liga](https://numpy.org/doc/stable/reference/generated/numpy.matmul.html)."
   ]
  },
  {
   "cell_type": "code",
   "execution_count": null,
   "metadata": {},
   "outputs": [],
   "source": [
    "#Definición de Matrices\n",
    "A = np.array([[1, 2, 3],[4, 5, 6]])        \n",
    "B = np.array([[1, 2],[3, 4],[5,6]])        \n",
    "C = np.array([[-1, -2],[0, -9]])           \n",
    "\n",
    "#Operaciones con Matrices\n",
    "D = np.matmul(A,B)                         \n",
    "E = np.matmul(B,C)                         \n",
    "#F = np.matmul(A,C)                         \n",
    "\n",
    "#Impresión de los resultados\n",
    "print(\"La matriz A es:\\n\", A)\n",
    "print(\"\\nLa matriz B es:\\n\", B)\n",
    "print(\"\\nLa matriz C es:\\n\", C)\n",
    "print(\"\\nLa multiplicación AxB es:\\n\", D)\n",
    "print(\"\\nLa multiplicación BxC es:\\n\", E)"
   ]
  },
  {
   "cell_type": "markdown",
   "metadata": {},
   "source": [
    "<div class=\"alert alert-block alert-success\">\n",
    "<b>.: Fin del Subtema :.</b>\n",
    "</div>\n",
    "\n",
    "***Liga de aceso al siguiente Subtema:*** \n",
    "<br>[b. Estadística](b.%20Estadistica.ipynb)"
   ]
  }
 ],
 "metadata": {
  "kernelspec": {
   "display_name": "Python 3 (ipykernel)",
   "language": "python",
   "name": "python3"
  },
  "language_info": {
   "codemirror_mode": {
    "name": "ipython",
    "version": 3
   },
   "file_extension": ".py",
   "mimetype": "text/x-python",
   "name": "python",
   "nbconvert_exporter": "python",
   "pygments_lexer": "ipython3",
   "version": "3.8.18"
  }
 },
 "nbformat": 4,
 "nbformat_minor": 4
}
