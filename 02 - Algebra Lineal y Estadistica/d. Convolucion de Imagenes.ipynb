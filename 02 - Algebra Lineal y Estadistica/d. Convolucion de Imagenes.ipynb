{
 "cells": [
  {
   "cell_type": "markdown",
   "metadata": {},
   "source": [
    "<div class=\"alert alert-block alert-info\">\n",
    "<span style=\"color: rgb(0,53,91);\">\n",
    "<center><img src=\"./Imagenes/ITESO_Logo.png\" style=\"width:500px;height:142px;\" title=\"Logo ITESO\"></center>\n",
    "<font face = \"Times New Roman\" size = \"6\"><b><center>Maestría en Sistemas Computacionales</center></b></font>\n",
    "<font face = \"Times New Roman\" size = \"5\"><b><center>Programación para Análisis de Datos</center></b></font>\n",
    "\n",
    "<b><br><font face = \"Times New Roman\" size = \"4\"><center>Unidad 2: Conceptos Generales</center></font>\n",
    "<font face = \"Times New Roman\" size = \"4\"><center>Tema 2.3: Conceptos de Álgebra Lineal y Estadística</center></font>\n",
    "<font face = \"Times New Roman\" size = \"4\"><center>Subtema d: Convolución de Imágenes</center></font></b>\n",
    "<div align=\"right\"><font face = \"Times New Roman\" size = \"2\">Dr. Iván Esteban Villalón Turrubiates (villalon@iteso.mx)</font></div>\n",
    "</span></div>"
   ]
  },
  {
   "cell_type": "markdown",
   "metadata": {},
   "source": [
    "## CONVOLUCIÓN DE IMÁGENES\n",
    "La operación de **Convolución** proporciona la respuesta de un sistema ante una señal de entrada. En el caso del procesamiento digital de imágenes, la imagen de entrada ***f(x,y)*** se **convoluciona** con la respuesta del sistema ***h(x,y)*** para producir la imagen de salida modificada ***g(x,y)***, tal modificación depende del diseño de la respuesta del sistema y del tipo de salida que sea deseado.\n",
    "\n",
    "<center><img src=\"./Imagenes/Conv.png\" style=\"width:730px;height:100px;\" class=\"center\"></center>\n",
    "\n",
    "La **Convolución** es el más empledo, y se reduce a una simple operación de multiplicación de matrices por medio de una ventana que se desplaza. Matemáticamente se expresa de la siguiente manera (*donde M,N son la cantidad de renglones y columnas, respectivamente*):\n",
    "\n",
    "$$ g(x,y) = f(x,y) * h(x,y) = \\sum_{k=0}^{M-1}\\sum_{l=0}^{N-1}f(k,l)h(x-k,y-l) $$\n",
    "\n",
    "Para la operación de **filtrado** de imágenes, la respuesta del sistema ***h(x,y)*** suele ser una matriz con valores definidos por el diseño del filtro para obtener la salida deseada."
   ]
  },
  {
   "cell_type": "markdown",
   "metadata": {},
   "source": [
    "#### Proceso de Convolución\n",
    "Para comprender el proceso de la operación de **Convolución** de manera sencilla, el filtro ***h(x,y)*** es una *máscara* representada por una matriz y se aplica a la imagen por medio del siguiente proceso:\n",
    "\n",
    "<center><img src=\"./Imagenes/ConvIma.png\" style=\"width:730px;height:223px;\" class=\"center\"></center>\n",
    "\n",
    "1. Se inicializa una matriz de iguales dimensiones que la imagen original y se rellena con valores 0, esto significa que será una imagen en color negro.\n",
    "2. Se toma una ventana de la imagen comenzando desde la posición *(0,0)* la cual debe ser de las mismas dimensiones de la matriz de **Convolución** ***h(x,y)***.\n",
    "3. Se realiza la multiplicación matricial de los valores de esta ventana con la matriz de **Convolución**.\n",
    "4. Los valores de la matriz resultante de la multiplicación matricial se suman.\n",
    "5. El valor resultante se asigna a la imagen resultante en el pixel ubicado en la posición central de la ventana.\n",
    "6. Se desplaza la matriz de **Convolución** una posición a nivel columna y se repite la operación hasta finalizar el renglón.\n",
    "7. Se desplaza la matriz de **Convolución** una posición a nivel renglón y se repite la operación.\n",
    "\n",
    "Por ejemplo, para la matriz:\n",
    "\\begin{Bmatrix}\n",
    "-2 & -1 & 0\\\\\n",
    "-1 & 1 & 1\\\\\n",
    "0 & 1 & 2\n",
    "\\end{Bmatrix}\n",
    "La primera iteración de la operación consiste en:\n",
    "<center><img src=\"./Imagenes/OpConv1.png\" style=\"width:950px;height:296px;\" class=\"center\"></center>\n",
    "\n",
    "La segunda iteración se lleva a cabo como:\n",
    "<center><img src=\"./Imagenes/OpConv2.png\" style=\"width:950px;height:296px;\" class=\"center\"></center>\n",
    "\n",
    "La ventana se desplaza a lo largo del renglón concluyendo de la siguiente manera:\n",
    "<center><img src=\"./Imagenes/OpConv3.png\" style=\"width:950px;height:296px;\" class=\"center\"></center>\n",
    "\n",
    "La operación se repite a lo largo de toda la imagen para con ello generar la salida de la operación de **Convolución**.\n",
    "\n",
    "Se realizará la aplicación de la **Convolución** de distintas matrices de convolución a la imagen de **Lily**, para ello el primer paso será cargar la imagen por medio de los siguientes pasos:\n",
    "1. Importar las librerías **Scikit-Image**, **NumPy** y **Matplotlib** que serán empleadas.\n",
    "2. Cargar el archivo con la imagen de **Lily** y almacenarlo en la matriz correspondiente.\n",
    "3. Se asignarán los valores del número de renglones, columnas y bandas a variables para su posterior uso empleando el método `.shape`.\n",
    "4. Se muestra la imagen para verificarla."
   ]
  },
  {
   "cell_type": "code",
   "execution_count": null,
   "metadata": {},
   "outputs": [],
   "source": [
    "#Importación de Librerías\n",
    "from skimage import io \n",
    "import numpy as np  \n",
    "import matplotlib.pyplot as plt                                                 \n",
    "\n",
    "#Lectura de la Imagen desde un archivo JPG\n",
    "Lily = io.imread(\"./Imagenes/Lily.jpg\")   \n",
    "\n",
    "#Asignación de los valores del número de renglones, columnas y bandas en la imagen\n",
    "R = Lily.shape[0]                        \n",
    "C = Lily.shape[1]                        \n",
    "B = Lily.shape[2]  \n",
    "\n",
    "#Impresión de la Imagen\n",
    "plt.imshow(Lily)\n",
    "plt.axis('off')\n",
    "plt.title(\"Lily\")\n",
    "plt.show()"
   ]
  },
  {
   "cell_type": "markdown",
   "metadata": {},
   "source": [
    "#### Filtrado de Imágenes\n",
    "Para realizar la operación de ***Convolución*** se creará una ***Función*** de nombre `convolucion()` que aceptará como parámetros la imagen y el filtro. Se realizarán las siguientes operaciones para cada uno de los pixeles en la imagen original:\n",
    "\n",
    "1. Se inicializará con ceros una matriz de las mismas dimensiones que la imagen original, en la cual se almacenará el resultado de la operación de convolución, esto se realiza por medio del método `.zeros()` de **NumPy**.\n",
    "2. Se extrae una ventana de 3x3 de los pixeles en su vecindario por medio del método `.array()` de **NumPy** y se asigna a una variable `Ventana`.\n",
    "3. Se realiza la multiplicación de la matriz ventana con la matriz del filtro empleando el método `.matmul()` de **NumPy** y se asigna a la variable `Multiplica`.\n",
    "4. Se suman los valores de la matriz resultante y se asignan a la variable `Suma` por medio del método `.sum()` de **NumPy**.\n",
    "5. Se asigna el valor en la variable `Suma` al pixel de la matriz resultante. \n",
    "\n",
    "Esto es:"
   ]
  },
  {
   "cell_type": "code",
   "execution_count": null,
   "metadata": {},
   "outputs": [],
   "source": [
    "#Función para la Convolución\n",
    "def convolucion(Imagen,Filtro):\n",
    "    Conv = np.zeros((R,C,B))\n",
    "    for b in range(0,B):\n",
    "        for r in range(1,510+1):\n",
    "            for c in range(1,510+1):\n",
    "                Ventana = np.array(Imagen[r-1:r+2, c-1:c+2, b])    #Formación de la Ventana\n",
    "                Multiplica = np.matmul(Ventana,Filtro)             #Multiplicación de Ventana y Filtro\n",
    "                Suma = np.sum(Multiplica)                          #Suma de los Valores\n",
    "                Conv[r,c,b] = Suma                                 #Asignación a la Matriz de Convolución\n",
    "    return Conv"
   ]
  },
  {
   "cell_type": "markdown",
   "metadata": {},
   "source": [
    "Ahora se define el filtro que se va a emplear como matriz de convolución por medio del método `.array()` de **NumPy** y se asigna a una variable `Filtro`. Para este caso se utilizará el ***Filtro Detector de Bordes de Canny*** el cual es una matriz de 3x3 definida por:\n",
    "\n",
    "\\begin{Bmatrix}\n",
    "-1 & -1 & -1\\\\\n",
    "0 & 0 & 0\\\\\n",
    "1 & 1 & 1\n",
    "\\end{Bmatrix}\n",
    "\n",
    "Una vez definido el filtro, se llama la función `convolucion()` cuyos parámetros serán:\n",
    "1. La imagen almacenada en la matriz `Lily`.\n",
    "2. La matriz de convolución definida por `Filtro`."
   ]
  },
  {
   "cell_type": "code",
   "execution_count": null,
   "metadata": {},
   "outputs": [],
   "source": [
    "#Matriz de Convolución como Filtro\n",
    "Filtro = np.array([[-1, -1, -1],[0, 0, 0],[1, 1, 1]]) \n",
    "\n",
    "#Determinación de la Convolución\n",
    "Conv = convolucion(Lily, Filtro)"
   ]
  },
  {
   "cell_type": "markdown",
   "metadata": {},
   "source": [
    "Al realizar la operación de **Convolución**, los valores resultantes pueden estar fuera del rango de `[0,255]` que contienen las imágenes, además de que pueden ser valores *flotantes* y no *enteros*, o incluso valores negativos. Esto se puede verificar revisando los valores máximo y mínimo de cada una de las bandas por medio de los métodos `.max()` y `.min()` de **NumPy** de la siguiente manera:"
   ]
  },
  {
   "cell_type": "code",
   "execution_count": null,
   "metadata": {},
   "outputs": [],
   "source": [
    "#Valores maximo y minimo para la banda R\n",
    "max_r=np.max(Conv[:,:,0])\n",
    "min_r=np.min(Conv[:,:,0])\n",
    "\n",
    "#Valores maximo y minimo para la banda G\n",
    "max_g=np.max(Conv[:,:,1])\n",
    "min_g=np.min(Conv[:,:,1])\n",
    "\n",
    "#Valores maximo y minimo para la banda B\n",
    "max_b=np.max(Conv[:,:,2])\n",
    "min_b=np.min(Conv[:,:,2])\n",
    "\n",
    "#Impresión de los resultados:\n",
    "print(\"Para la banda R, el valor máximo es %d y el valor mínimo es %d\" %(max_r, min_r))\n",
    "print(\"Para la banda G, el valor máximo es %d y el valor mínimo es %d\" %(max_g, min_g))\n",
    "print(\"Para la banda B, el valor máximo es %d y el valor mínimo es %d\" %(max_b, min_b))"
   ]
  },
  {
   "cell_type": "markdown",
   "metadata": {},
   "source": [
    "Debido a ello, la imagen debe ***normalizarse***, este proceso de normalización consiste en hacer que el valor mínimo corresponda a **0** y el valor máximo corresponda a **1**, esto se logra por medio de:\n",
    "\n",
    "$$ Normalización = \\dfrac{\\text{valor a normalizar} - \\text{valor mínimo}}{\\text{valor máximo} - \\text{valor mínimo}} $$\n",
    "\n",
    "Para realizar la operación de ***normalización*** se creará una ***Función*** de nombre `normalizacion()` que aceptará como parámetro la imagen. Se realizarán las siguientes operaciones para cada uno de los pixeles en la imagen original:\n",
    "1. Se inicializará con ceros una matriz de las mismas dimensiones que la imagen original, en la cual se almacenará el resultado. Esto se realiza por medio del método `.zeros()` de **NumPy**.\n",
    "2. Se determinan los valores máximos y mínimos de cada una de las bandas de la imagen por medio de los métodos `.max()` y `.min()` de **NumPy**.\n",
    "3. Se realiza el proceso de **normalización** para cada una de las bandas de la imagen.\n",
    "4. Como los valores resultantes están en la escala de **0** a **1**, se deben reescalar de **0** a **255** y para ello solo es necesario que se multiplique toda la imagen por el valor 255.\n",
    "5. Debido a la división que se realizó en el proceso de **normalización**, el último paso será eliminar la parte flotante de cada valor de la imagen para que solo sean valores enteros, esto se realizar por medio del método `.uint8()` de **NumPy**."
   ]
  },
  {
   "cell_type": "code",
   "execution_count": null,
   "metadata": {},
   "outputs": [],
   "source": [
    "#Función para la Normalización\n",
    "def normalizacion(Imagen):\n",
    "    #Inicializacion de la matriz normalizada\n",
    "    ImaNormal=np.zeros((R,C,B))\n",
    "\n",
    "    #Valores maximo y minimo para la banda R\n",
    "    max_r=np.max(Imagen[:,:,0])\n",
    "    min_r=np.min(Imagen[:,:,0])\n",
    "\n",
    "    #Valores maximo y minimo para la banda G\n",
    "    max_g=np.max(Imagen[:,:,1])\n",
    "    min_g=np.min(Imagen[:,:,1])\n",
    "\n",
    "    #Valores maximo y minimo para la banda B\n",
    "    max_b=np.max(Imagen[:,:,2])\n",
    "    min_b=np.min(Imagen[:,:,2])\n",
    "\n",
    "    #Normalización de la imagen con ruido\n",
    "    for i in range(0,R):                     \n",
    "        for j in range(0,C):\n",
    "            ImaNormal[i,j,0] = (Imagen[i,j,0] - min_r) / (max_r - min_r)\n",
    "            ImaNormal[i,j,1] = (Imagen[i,j,1] - min_g) / (max_g - min_g)\n",
    "            ImaNormal[i,j,2] = (Imagen[i,j,2] - min_b) / (max_b - min_b)\n",
    "\n",
    "    #Escalamiento a escala de 0 a 255 (8 bits)\n",
    "    ImaNormal8 = ImaNormal[:,:,:] * 255      \n",
    "\n",
    "    #Imagen final con valores enteros\n",
    "    ImaFinal = np.uint8(ImaNormal8)   \n",
    "\n",
    "    return ImaFinal"
   ]
  },
  {
   "cell_type": "markdown",
   "metadata": {},
   "source": [
    "Una vez definida la función `normalizacion()` se aplica pasando como parámetro la imagen convolucionada y almacenada en la matriz `Conv`. Adicionalmente se muestra el resultado.\n",
    "\n",
    "***Nota:*** La imagen obtenida puede ser guardada empleando el método `.imsave(a,b,c)` de **Matplotlib**, donde sus argumentos son:\n",
    "* El argumento `a` indica el nombre de destino del archivo a ser guardado.\n",
    "* El argumento `b` indica la variable que contiene los valores a ser guardados."
   ]
  },
  {
   "cell_type": "code",
   "execution_count": null,
   "metadata": {},
   "outputs": [],
   "source": [
    "#Determinación de la Normalización\n",
    "ImaConv = normalizacion(Conv)\n",
    "\n",
    "#Impresión del Filtro Detector de Bordes de Canny\n",
    "plt.subplot(1,2,1), plt.imshow(Lily), plt.axis('off'), plt.title(\"Lily\")\n",
    "plt.subplot(1,2,2), plt.imshow(ImaConv), plt.axis('off'), plt.title(\"Detector de Bordes de Canny\")\n",
    "#plt.imsave('./Guardados/ImaConv_DBC.jpg', ImaConv)\n",
    "plt.show()"
   ]
  },
  {
   "cell_type": "markdown",
   "metadata": {},
   "source": [
    "De esta manera es posible realizar la operación para distintas matrices de convolución solamente realizando los pasos:\n",
    "1. Se define el filtro que se va a emplear como matriz de convolución por medio del método `.array()` de **NumPy** y se asigna a una variable `Filtro`.\n",
    "2. Se llama la función `convolucion()` cuyos parámetros son la imagen almacenada en la matriz `Lily` y la matriz de convolución definida por `Filtro`, el resultado se asigna a una variable `Conv`.\n",
    "3. Se llama la función `normalizacion()` cuyo parámetro es la imagen resultante de la convolución y almacenada en la matriz `Conv`, el resultado se asigna a una variable `ImaConv`.\n",
    "4. Se muestra el resultado de la matriz `ImaConv` con la opción de guardar la imagen resultante.\n",
    "\n",
    "A continuación se muestran varios ejemplos adicionales para distintos filtros:"
   ]
  },
  {
   "cell_type": "markdown",
   "metadata": {},
   "source": [
    "Para el ***Filtro Sharpen*** se tiene una matriz de 3x3 definida por:\n",
    "\n",
    "\\begin{Bmatrix}\n",
    "0 & -3 & 0\\\\\n",
    "-3 & 21 & -3\\\\\n",
    "0 & -3 & 0\n",
    "\\end{Bmatrix}"
   ]
  },
  {
   "cell_type": "code",
   "execution_count": null,
   "metadata": {},
   "outputs": [],
   "source": [
    "#Matriz de Convolución como Filtro\n",
    "Filtro = np.array([[0, -3, 0],[-3, 21, -3],[0, -3, 0]]) \n",
    "\n",
    "#Determinación de la Convolución\n",
    "Conv = convolucion(Lily, Filtro)\n",
    "\n",
    "#Determinación de la Normalización\n",
    "ImaConv = normalizacion(Conv)\n",
    "\n",
    "#Impresión del Resultado\n",
    "plt.subplot(1,2,1), plt.imshow(Lily), plt.axis('off'), plt.title(\"Lily\")\n",
    "plt.subplot(1,2,2), plt.imshow(ImaConv), plt.axis('off'), plt.title(\"Filtro Sharpen\")\n",
    "#plt.imsave('./Guardados/ImaConv_Sha.jpg', ImaConv)\n",
    "plt.show()"
   ]
  },
  {
   "cell_type": "markdown",
   "metadata": {},
   "source": [
    "Para el ***Filtro Emboss*** se tiene una matriz de 3x3 definida por:\n",
    "\n",
    "\\begin{Bmatrix}\n",
    "-18 & -9 & 0\\\\\n",
    "-9 & 9 & 9\\\\\n",
    "0 & 9 & 18\n",
    "\\end{Bmatrix}"
   ]
  },
  {
   "cell_type": "code",
   "execution_count": null,
   "metadata": {},
   "outputs": [],
   "source": [
    "#Matriz de Convolución como Filtro\n",
    "Filtro = np.array([[-18, -9, 0],[-9, 9, 9],[0, 9, 18]]) \n",
    "\n",
    "#Determinación de la Convolución\n",
    "Conv = convolucion(Lily, Filtro)\n",
    "\n",
    "#Determinación de la Normalización\n",
    "ImaConv = normalizacion(Conv)\n",
    "\n",
    "#Impresión del Resultado\n",
    "plt.subplot(1,2,1), plt.imshow(Lily), plt.axis('off'), plt.title(\"Lily\")\n",
    "plt.subplot(1,2,2), plt.imshow(ImaConv), plt.axis('off'), plt.title(\"Filtro Emboss\")\n",
    "#plt.imsave('./Guardados/ImaConv_Emb.jpg', ImaConv)\n",
    "plt.show()"
   ]
  },
  {
   "cell_type": "markdown",
   "metadata": {},
   "source": [
    "Para el ***Filtro Detector de Bordes Simple*** se tiene una matriz de 3x3 definida por:\n",
    "\n",
    "\\begin{Bmatrix}\n",
    "0 & 1 & 0\\\\\n",
    "1 & -4 & 1\\\\\n",
    "0 & 1 & 0\n",
    "\\end{Bmatrix}"
   ]
  },
  {
   "cell_type": "code",
   "execution_count": null,
   "metadata": {},
   "outputs": [],
   "source": [
    "#Matriz de Convolución como Filtro\n",
    "Filtro = np.array([[0, 1, 0],[1, -4, 1],[0, 1 , 0]])\n",
    "\n",
    "#Determinación de la Convolución\n",
    "Conv = convolucion(Lily, Filtro)\n",
    "\n",
    "#Determinación de la Normalización\n",
    "ImaConv = normalizacion(Conv)\n",
    "\n",
    "#Impresión del Resultado\n",
    "plt.subplot(1,2,1), plt.imshow(Lily), plt.axis('off'), plt.title(\"Lily\")\n",
    "plt.subplot(1,2,2), plt.imshow(ImaConv), plt.axis('off'), plt.title(\"Detector de Bordes Simple\")\n",
    "#plt.imsave('./Guardados/ImaConv_DBS.jpg', ImaConv)\n",
    "plt.show()"
   ]
  },
  {
   "cell_type": "markdown",
   "metadata": {},
   "source": [
    "Para el ***Filtro Negativo*** se tiene una matriz de 3x3 definida por:\n",
    "\n",
    "\\begin{Bmatrix}\n",
    "-1 & -1 & -1\\\\\n",
    "-1 & -1 & -1\\\\\n",
    "-1 & -1 & -1\n",
    "\\end{Bmatrix}"
   ]
  },
  {
   "cell_type": "code",
   "execution_count": null,
   "metadata": {},
   "outputs": [],
   "source": [
    "#Matriz de Convolución como Filtro\n",
    "Filtro = np.array([[-1, -1, -1],[-1, -1, -1],[-1, -1 , -1]])\n",
    "\n",
    "#Determinación de la Convolución\n",
    "Conv = convolucion(Lily, Filtro)\n",
    "\n",
    "#Determinación de la Normalización\n",
    "ImaConv = normalizacion(Conv)\n",
    "\n",
    "#Impresión del Resultado\n",
    "plt.subplot(1,2,1), plt.imshow(Lily), plt.axis('off'), plt.title(\"Lily\")\n",
    "plt.subplot(1,2,2), plt.imshow(ImaConv), plt.axis('off'), plt.title(\"Filtro Negativo\")\n",
    "#plt.imsave('./Guardados/ImaConv_Neg.jpg', ImaConv)\n",
    "plt.show()"
   ]
  },
  {
   "cell_type": "markdown",
   "metadata": {},
   "source": [
    "<div class=\"alert alert-block alert-success\">\n",
    "<b>.: Fin del Subtema :.</b>\n",
    "</div>\n",
    "\n",
    "***Liga de aceso al siguiente Subtema:*** \n",
    "<br>[e. Ruido en Imágenes](e.%20Ruido%20en%20Imagenes.ipynb)"
   ]
  }
 ],
 "metadata": {
  "kernelspec": {
   "display_name": "Python 3 (ipykernel)",
   "language": "python",
   "name": "python3"
  },
  "language_info": {
   "codemirror_mode": {
    "name": "ipython",
    "version": 3
   },
   "file_extension": ".py",
   "mimetype": "text/x-python",
   "name": "python",
   "nbconvert_exporter": "python",
   "pygments_lexer": "ipython3",
   "version": "3.8.18"
  }
 },
 "nbformat": 4,
 "nbformat_minor": 4
}
