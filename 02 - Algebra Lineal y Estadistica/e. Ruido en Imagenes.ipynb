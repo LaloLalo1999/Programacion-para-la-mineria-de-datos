{
 "cells": [
  {
   "cell_type": "markdown",
   "metadata": {},
   "source": [
    "<div class=\"alert alert-block alert-info\">\n",
    "<span style=\"color: rgb(0,53,91);\">\n",
    "<center><img src=\"./Imagenes/ITESO_Logo.png\" style=\"width:500px;height:142px;\" title=\"Logo ITESO\"></center>\n",
    "<font face = \"Times New Roman\" size = \"6\"><b><center>Maestría en Sistemas Computacionales</center></b></font>\n",
    "<font face = \"Times New Roman\" size = \"5\"><b><center>Programación para Análisis de Datos</center></b></font>\n",
    "\n",
    "<b><br><font face = \"Times New Roman\" size = \"4\"><center>Unidad 2: Conceptos Generales</center></font>\n",
    "<font face = \"Times New Roman\" size = \"4\"><center>Tema 2.3: Conceptos de Álgebra Lineal y Estadística</center></font>\n",
    "<font face = \"Times New Roman\" size = \"4\"><center>Subtema e: Ruido en Imágenes</center></font></b>\n",
    "<div align=\"right\"><font face = \"Times New Roman\" size = \"2\">Dr. Iván Esteban Villalón Turrubiates (villalon@iteso.mx)</font></div>\n",
    "</span></div>"
   ]
  },
  {
   "cell_type": "markdown",
   "metadata": {},
   "source": [
    "## Ruido en Imágenes\n",
    "La agregación artificial de **Ruido** es una operación ampliamente utilizada en el procesamiento digital de imágenes, la imagen de entrada ***f(x,y)*** se **convoluciona** con la respuesta del sistema ***h(x,y)*** para producir la imagen de salida modificada ***g(x,y)***, la cual es alterada por la agregación de ruido ***n(x,y)***.\n",
    "\n",
    "<center><img src=\"./Imagenes/ConvRuido.png\" style=\"width:730px;height:148px;\" class=\"center\"></center>\n",
    "\n",
    "Matemáticamente se expresa de la siguiente manera (*donde M,N son la cantidad de renglones y columnas, respectivamente*):\n",
    "\n",
    "$$ g(x,y) = f(x,y) * h(x,y) + n(x,y) = \\sum_{k=0}^{M-1}\\sum_{l=0}^{N-1}f(k,l)h(x-k,y-l) + n(x,y) $$\n",
    "\n",
    "Se realizará la aplicación de agregación de **Ruido** a la imagen de **Lily**, para ello el primer paso será cargar la imagen por medio de los siguientes pasos:\n",
    "1. Importar las librerías **Scikit-Image**, **NumPy** y **Matplotlib** que serán empleadas.\n",
    "2. Cargar el archivo con la imagen de **Lily** y almacenarlo en la matriz correspondiente.\n",
    "3. Se asignarán los valores del número de renglones, columnas y bandas a variables para su posterior uso empleando el método `.shape`.\n",
    "4. Se muestra la imagen para verificarla."
   ]
  },
  {
   "cell_type": "code",
   "execution_count": null,
   "metadata": {},
   "outputs": [],
   "source": [
    "#Importación de Librerías\n",
    "from skimage import io \n",
    "import numpy as np  \n",
    "import matplotlib.pyplot as plt                                                 \n",
    "\n",
    "#Lectura de la Imagen desde un archivo JPG\n",
    "Lily = io.imread(\"./Imagenes/Lily.jpg\")   \n",
    "\n",
    "#Asignación de los valores del número de renglones, columnas y bandas en la imagen\n",
    "R = Lily.shape[0]                        \n",
    "C = Lily.shape[1]                        \n",
    "B = Lily.shape[2]  \n",
    "\n",
    "#Impresión de la Imagen\n",
    "plt.imshow(Lily)\n",
    "plt.axis('off')\n",
    "plt.title(\"Lily\")\n",
    "plt.show()"
   ]
  },
  {
   "cell_type": "markdown",
   "metadata": {},
   "source": [
    "La operación de ***Ruido*** agrega valores adicionales de manera aleatoria a cada uno de los pixeles en la imagen ***RGB*** de `Lily` en sus tres bandas, esto se realiza por medio del método `.random.normal(a,b)` de **NumPy**, en el cual los argumentos son:\n",
    "\n",
    "* El argumento `a` indica el valor de la media del ruido a ser agregado. \n",
    "* El argumento `b` indica el valor de la desviación estándar del ruido a ser agregado.\n",
    "\n",
    "Para realizar la operación de agregación de ***Ruido*** se creará una ***Función*** de nombre `imagenRuido()` que aceptará como parámetros a la imagen, el valor de la media del ruido y el valor de la desviación estándar del ruido. Se realizarán las siguientes operaciones para cada uno de los pixeles en la imagen original:\n",
    "1. Se inicializará con ceros una matriz de las mismas dimensiones que la imagen original, en la cual se almacenará el resultado. Esto se realiza por medio del método `.zeros()` de **NumPy**.\n",
    "2. A cada uno de los pixeles en las tres bandas de la imagen se le agregará un valor aleatorio generado por medio del método `.random.normal(a,b)` de **NumPy**."
   ]
  },
  {
   "cell_type": "code",
   "execution_count": null,
   "metadata": {},
   "outputs": [],
   "source": [
    "#Función para Agregación de Ruido\n",
    "def imagenRuido(Imagen,med,des):\n",
    "\n",
    "    #Inicialización de la imagen con ruido\n",
    "    Ruido = np.zeros((R,C,B))               \n",
    "\n",
    "    #Formación de la imagen con ruido\n",
    "    for i in range(0,R):                     \n",
    "        for j in range(0,C):\n",
    "            for k in range(0,B):\n",
    "                Ruido[i,j,k] = Imagen[i,j,k] + np.random.normal(med,des)\n",
    "    return Ruido"
   ]
  },
  {
   "cell_type": "markdown",
   "metadata": {},
   "source": [
    "Durante la operación de agregación de ***Ruido*** a la imagen, los valores resultantes pueden estar fuera del rango de valores `[0,255]` que contienen las imágenes, además de que pueden ser valores *flotantes* y no *enteros*. Debido a ello, la imagen debe normalizarse y escalarse a *8 bits* y para ello se puede emplear la ***Función*** de nombre `normalizacion()` definida en el subtema anterior:"
   ]
  },
  {
   "cell_type": "code",
   "execution_count": null,
   "metadata": {},
   "outputs": [],
   "source": [
    "#Función para la Normalización\n",
    "def normalizacion(Imagen):\n",
    "    #Inicializacion de la matriz normalizada\n",
    "    ImaNormal=np.zeros((R,C,B))\n",
    "\n",
    "    #Valores maximo y minimo para la banda R\n",
    "    max_r=np.max(Imagen[:,:,0])\n",
    "    min_r=np.min(Imagen[:,:,0])\n",
    "\n",
    "    #Valores maximo y minimo para la banda G\n",
    "    max_g=np.max(Imagen[:,:,1])\n",
    "    min_g=np.min(Imagen[:,:,1])\n",
    "\n",
    "    #Valores maximo y minimo para la banda B\n",
    "    max_b=np.max(Imagen[:,:,2])\n",
    "    min_b=np.min(Imagen[:,:,2])\n",
    "\n",
    "    #Normalización de la imagen con ruido\n",
    "    for i in range(0,R):                     \n",
    "        for j in range(0,C):\n",
    "            ImaNormal[i,j,0] = (Imagen[i,j,0] - min_r) / (max_r - min_r)\n",
    "            ImaNormal[i,j,1] = (Imagen[i,j,1] - min_g) / (max_g - min_g)\n",
    "            ImaNormal[i,j,2] = (Imagen[i,j,2] - min_b) / (max_b - min_b)\n",
    "\n",
    "    #Escalamiento a escala de 0 a 255 (8 bits)\n",
    "    ImaNormal8 = ImaNormal[:,:,:] * 255      \n",
    "\n",
    "    #Imagen final con valores enteros\n",
    "    ImaFinal = np.uint8(ImaNormal8)   \n",
    "\n",
    "    return ImaFinal"
   ]
  },
  {
   "cell_type": "markdown",
   "metadata": {},
   "source": [
    "De esta manera es posible realizar la operación de agregación de ruido realizando los siguientes pasos:\n",
    "1. Se definen los valores de la media del ruido y el valor de la desviación estándar del ruido a ser empleados.\n",
    "2. Se llama la función `imagenRuido()` cuyos parámetros son la imagen almacenada en la matriz `Lily`, el valor de la media y el valor de la desviación estándar, el resultado se asigna a una variable `AgregaRuido`.\n",
    "3. Se llama la función `normalizacion()` cuyo parámetro es la imagen resultante de la agregación de ruido y almacenada en la matriz `AgregaRuido`, el resultado se asigna a una variable `ImaRuido`.\n",
    "4. Se muestra el resultado de la matriz `ImaRuido` con la opción de guardar la imagen resultante.\n",
    "\n",
    "***Nota:*** La imagen obtenida puede ser guardada empleando el método `.imsave(a,b,c)` de **Matplotlib**, donde sus argumentos son:\n",
    "* El argumento `a` indica el nombre de destino del archivo a ser guardado.\n",
    "* El argumento `b` indica la variable que contiene los valores a ser guardados."
   ]
  },
  {
   "cell_type": "code",
   "execution_count": null,
   "metadata": {},
   "outputs": [],
   "source": [
    "#Media y Desviación Estándar del Ruido\n",
    "media = 80 \n",
    "deest = 20\n",
    "\n",
    "#Agregación de Ruido a la Imagen\n",
    "AgregaRuido = imagenRuido(Lily, media, deest) \n",
    "\n",
    "#Determinación de la Normalización\n",
    "ImaRuido = normalizacion(AgregaRuido) \n",
    "\n",
    "#Impresión de la Imagen con Ruido\n",
    "plt.subplot(1,2,1), plt.imshow(Lily), plt.axis('off'), plt.title(\"Lily\")\n",
    "plt.subplot(1,2,2), plt.imshow(ImaRuido), plt.axis('off'), plt.title(\"Lily con Ruido\")\n",
    "#plt.imsave('./Guardados/Lily_Ruido.jpg', ImaRuido)\n",
    "plt.show()"
   ]
  },
  {
   "cell_type": "markdown",
   "metadata": {},
   "source": [
    "<div class=\"alert alert-block alert-danger\">\n",
    "<b>.: Fin del Tema :.</b>\n",
    "</div>"
   ]
  }
 ],
 "metadata": {
  "kernelspec": {
   "display_name": "Python 3 (ipykernel)",
   "language": "python",
   "name": "python3"
  },
  "language_info": {
   "codemirror_mode": {
    "name": "ipython",
    "version": 3
   },
   "file_extension": ".py",
   "mimetype": "text/x-python",
   "name": "python",
   "nbconvert_exporter": "python",
   "pygments_lexer": "ipython3",
   "version": "3.8.18"
  }
 },
 "nbformat": 4,
 "nbformat_minor": 4
}
