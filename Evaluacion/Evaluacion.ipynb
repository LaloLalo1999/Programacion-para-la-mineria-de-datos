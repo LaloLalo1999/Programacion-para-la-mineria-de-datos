{
 "cells": [
  {
   "cell_type": "markdown",
   "id": "8d27e7f6-f4ab-47c7-bdb7-ff5f28eae5eb",
   "metadata": {},
   "source": [
    "<div class=\"alert alert-block alert-warning\">\n",
    "<span style=\"color: rgb(0,53,91);\">\n",
    "<center><img src=\"./Imagenes/ITESO_Logo.png\" style=\"width:500px;height:142px;\" title=\"Logo ITESO\"></center>\n",
    "<font face = \"Times New Roman\" size = \"6\"><b><center>Maestría en Sistemas Computacionales</center></b></font>\n",
    "<font face = \"Times New Roman\" size = \"5\"><b><center>Programación para Análisis de Datos</center></b></font>\n",
    "<font face = \"Times New Roman\" size = \"5\"><center>Evaluación Parcial del Semestre</center></font></b>\n",
    "<div align=\"right\"><font face = \"Times New Roman\" size = \"2\">Dr. Iván Esteban Villalón Turrubiates (villalon@iteso.mx)</font></div>\n",
    "</span></div>"
   ]
  },
  {
   "cell_type": "markdown",
   "id": "f665f2ef-aefd-4334-8229-f8d301132aaa",
   "metadata": {},
   "source": [
    "#### Nombre del Alumno: \n",
    "#### Matrícula:"
   ]
  },
  {
   "cell_type": "markdown",
   "id": "745b12b7-65c4-4254-8d66-1d275a1951d5",
   "metadata": {},
   "source": [
    "#### Instrucciones:\n",
    "Por favor, revisa cuidadosamente las siguientes instrucciones:\n",
    "\n",
    "* Realiza este ejercicio de manera individual.\n",
    "* Escribe tu nombre completo y matrícula en la celda correspondiente.\n",
    "* Lee cuidadosamente cada uno de los ejercicios y realiza las acciones solicitadas.\n",
    "* Coloca tu código ejecutable en las celdas debajo de la explicación de cada reactivo.\n",
    "* Una vez terminado, sube en CANVAS sólamente el archivo `.ipynb` en la liga correspondiente."
   ]
  },
  {
   "cell_type": "markdown",
   "id": "7c70318f-65ab-45c6-8c03-1395ac53b752",
   "metadata": {},
   "source": [
    "#### Explicación de los Datos:\n",
    "**MiBici** es un servicio de transporte público en la Zona Metropolitana de Guadalajara, el cual está basado en una red de estaciones automáticas donde el usuario registrado puede tomar y/o dejar una bicicleta. El servicio está disponible todos los días, de las 6:00 a las 23:59 hrs.\n",
    "\n",
    "<center><img src=\"./Imagenes/mibici_logo.png\" style=\"width:268px;height:70px;\" class=\"center\"></center>\n",
    "\n",
    "El portal de **MiBici** contiene información detallada de los viajes realizados desde el año 2014 a la fecha, todo ello en archivos en formato `.CSV` separados por meses, los cuales pueden consultarse [en esta liga.](https://www.mibici.net/es/datos-abiertos)\n",
    "\n",
    "Se desea realizar un análisis de los primeros seis meses de 2019 (enero a junio), para ello se proporcionan los archivos en formato `.CSV`. Cada uno de ellos contiene las mismas columnas de información, y los datos se han limitado a 1,000 entradas en cada archivo para simplificar la cantidad de información disponible para esta evaluación.\n",
    "\n",
    "Las columnas de información en cada uno de los archivos son:\n",
    "\n",
    "1. **ID Viaje**: Es el número de identificación del viaje.\n",
    "2. **ID Usuario**: Es el número de identificación del usuario.\n",
    "3. **Género**: Es el género (*F/M*) del usuario.\n",
    "4. **Año de Nacimiento**: Es el año de nacimiento del usuario.\n",
    "5. **Fecha Inicio Viaje**: Es la fecha en la que se inició el viaje realizado.\n",
    "6. **Hora Inicio Viaje**: Es la hora en la que se inició el viaje realizado.\n",
    "7. **Fecha Fin Viaje**: Es la fecha en la que se concluyó el viaje realizado.\n",
    "8. **Hora Fin Viaje**: Es la hora en la que se concluyó el viaje realizado.\n",
    "9. **ID Origen**: Es el identificador de la estación desde donde se originó el viaje.\n",
    "10. **ID Destino**: Es el identificador de la estación donde se concluyó el viaje.\n",
    "\n",
    "Los archivos contenidos en el directorio `Datos` son:\n",
    "\n",
    "* El archivo `2019_1.csv` corresponde al mes de enero de 2019.\n",
    "* El archivo `2019_2.csv` corresponde al mes de febrero de 2019.\n",
    "* El archivo `2019_3.csv` corresponde al mes de marzo de 2019.\n",
    "* El archivo `2019_4.csv` corresponde al mes de abril de 2019.\n",
    "* El archivo `2019_5.csv` corresponde al mes de mayo de 2019.\n",
    "* El archivo `2019_6.csv` corresponde al mes de junio de 2019.\n",
    "* El archivo `Estaciones.csv` corresponde al nombre de las Estaciones y su localización.\n",
    "\n",
    "Para este análisis, se deben realizar los reactivos descritos a continuación. Cada uno de ellos tiene un valor de **10 CRÉDITOS**, los cuales se agregarán al total acumulado de cada uno de los alumnos del curso."
   ]
  },
  {
   "cell_type": "markdown",
   "id": "8492d553-fa37-4e0c-a944-775d7d60a5f6",
   "metadata": {},
   "source": [
    "**1.** Cargar las librerías **Pandas**, **Numpy** y **Matplotlib**. Posteriormente, crear un **DataFrame** donde se inserten a través de una concatenación los seis archivos `.CSV` de datos de **MiBici** correspondientes a los meses de enero a junio de 2019, mostrando el contenido del **DataFrame** final a través de la función `display()`."
   ]
  },
  {
   "cell_type": "code",
   "execution_count": null,
   "id": "3bf7e244-c097-4b60-80d7-44d2d2cf9974",
   "metadata": {},
   "outputs": [],
   "source": [
    "# Código del Reactivo 1\n"
   ]
  },
  {
   "cell_type": "markdown",
   "id": "465393ea-e167-441d-bd05-32c9cbb492b6",
   "metadata": {},
   "source": [
    "**2.** Convertir las columnas *`Fecha Inicio Viaje`* y *`Fecha Fin Viaje`* a formato de fecha, mostrando los tipos de datos contenidos en el **DataFrame** con el método `dtypes`."
   ]
  },
  {
   "cell_type": "code",
   "execution_count": null,
   "id": "1c6aac8a-f630-4d30-9925-58e5d4e7c3d7",
   "metadata": {},
   "outputs": [],
   "source": [
    "# Código del Reactivo 2\n"
   ]
  },
  {
   "cell_type": "markdown",
   "id": "d1c1b4f6-1ea7-46ca-85e8-bf75412a60f7",
   "metadata": {},
   "source": [
    "**3.** Mostrar la cantidad de celdas que contienen valores nulos en las columnas del **DataFrame**."
   ]
  },
  {
   "cell_type": "code",
   "execution_count": null,
   "id": "5160c3f6-a0df-4e66-a399-280e37db08aa",
   "metadata": {},
   "outputs": [],
   "source": [
    "# Código del Reactivo 3\n"
   ]
  },
  {
   "cell_type": "markdown",
   "id": "19c834e1-6aab-44f5-ab0b-65ebc4b209ad",
   "metadata": {},
   "source": [
    "**4.** Debido a que es necesario contar con la información completa para cada columna, es posible realizar la eliminación de los renglones que contienen valores nulos. El siguiente paso es eliminar esos renglones y mostrar que ya no se tienen datos nulos en el **DataFrame**."
   ]
  },
  {
   "cell_type": "code",
   "execution_count": null,
   "id": "d72fc003-70ba-462d-b276-8f3829baef1f",
   "metadata": {},
   "outputs": [],
   "source": [
    "# Código del Reactivo 4\n"
   ]
  },
  {
   "cell_type": "markdown",
   "id": "13a999e5-7b24-4db0-9f51-0a04f1bf614c",
   "metadata": {},
   "source": [
    "**5.** Convertir los datos de la columna *`ID Usuario`* a valores enteros para posteriormente definir esa columna como el **Indice** del **DataFrame**, indicando que se haga un ordenamiento a través de la misma con el método `sort_index()`, mostrando el contenido del **DataFrame** final a través de la función `display()`."
   ]
  },
  {
   "cell_type": "code",
   "execution_count": null,
   "id": "57ad5659-c607-42e8-8e52-63136af2ad0d",
   "metadata": {},
   "outputs": [],
   "source": [
    "# Código del Reactivo 5\n"
   ]
  },
  {
   "cell_type": "markdown",
   "id": "ec95eb43-e960-42c2-92ff-5bf689e97479",
   "metadata": {},
   "source": [
    "**6.** Realizar un conteo de la cantidad de entradas (renglones) restantes que contiene el **DataFrame**, mostrando el resultado con la función `print()`."
   ]
  },
  {
   "cell_type": "code",
   "execution_count": null,
   "id": "b1a76a01-b986-4a74-88b9-b6f2fe7e09d7",
   "metadata": {},
   "outputs": [],
   "source": [
    "# Código del Reactivo 6\n"
   ]
  },
  {
   "cell_type": "markdown",
   "id": "a76d92a1-59a1-464b-b49e-610691398a18",
   "metadata": {},
   "source": [
    "**7.** Determinar el valor de la media de la columna *`Año de Nacimiento`*. Con ello, calcular la edad promedio (al 2024) de los usuarios, e imprimir ambos resultados (año promedio y edad promedio) con la función `print()`."
   ]
  },
  {
   "cell_type": "code",
   "execution_count": null,
   "id": "b7609d37-d630-40e8-85c7-9b82b866f6c9",
   "metadata": {},
   "outputs": [],
   "source": [
    "# Código del Reactivo 7\n"
   ]
  },
  {
   "cell_type": "markdown",
   "id": "82245ee1-35f9-421a-898e-b23fbd373c07",
   "metadata": {},
   "source": [
    "**8.** Realizar un Histograma del rango de usuarios según su *`Año de Nacimiento`* donde se pueda apreciar la distribución contenida en el **DataFrame**, agregando títulos a los ejes y al gráfico."
   ]
  },
  {
   "cell_type": "code",
   "execution_count": null,
   "id": "755a1804-e252-478b-ad1c-f4310694eaf8",
   "metadata": {},
   "outputs": [],
   "source": [
    "# Código del Reactivo 8\n"
   ]
  },
  {
   "cell_type": "markdown",
   "id": "46bc5232-1a74-4278-907d-daec597a57c8",
   "metadata": {},
   "source": [
    "**9.** A través de la columna *`ID Origen`* del **DataFrame**, determinar el valor de la *moda* para con ello definir la Estación de origen más utilizada, e imprimir el número de ID de dicha estación. \n",
    "\n",
    "***Nota:*** Una alternativa sencilla es emplear el método `.mode()[0]` de **Pandas**."
   ]
  },
  {
   "cell_type": "code",
   "execution_count": null,
   "id": "b6606165-67c0-42d8-9c2f-47228ef66581",
   "metadata": {},
   "outputs": [],
   "source": [
    "# Código del Reactivo 9\n"
   ]
  },
  {
   "cell_type": "markdown",
   "id": "3532d3c8-cc67-42c6-9689-b0ec813e60b6",
   "metadata": {},
   "source": [
    "**10.** A través de la columna *`ID Destino`* del **DataFrame**, determinar el valor de la *moda* para con ello definir la Estación de destino más utilizada, e imprimir el número de ID de dicha estación. \n",
    "\n",
    "***Nota:*** Una alternativa sencilla es emplear el método `.mode()[0]` de **Pandas**."
   ]
  },
  {
   "cell_type": "code",
   "execution_count": null,
   "id": "b55a6560-72f5-46c5-816a-170834b0c4fe",
   "metadata": {},
   "outputs": [],
   "source": [
    "# Código del Reactivo 10\n"
   ]
  },
  {
   "cell_type": "markdown",
   "id": "4446abb3-4985-4615-8750-1e1ee48347ce",
   "metadata": {},
   "source": [
    "**11.** Para identificar las Estaciones de origen y destino, se emplearán los datos del archivo `Estaciones.csv`. Para ello, se deberá realizar la lectura desde el archivo y asignar los datos a un nuevo **DataFrame**, cuyo **Indice** se debe definir por la columna *`ID`* y posteriormente mostrar su contenido a través de la función `display()`."
   ]
  },
  {
   "cell_type": "code",
   "execution_count": null,
   "id": "dcfa64d4-bf1f-4c0e-8f95-2749d2bbdca9",
   "metadata": {},
   "outputs": [],
   "source": [
    "# Código del Reactivo 11\n"
   ]
  },
  {
   "cell_type": "markdown",
   "id": "3a45d4a1-9144-43dc-ad3f-5734671ab035",
   "metadata": {},
   "source": [
    "**12.** Empleando el valor de la Estación de origen más utilizada que se calculó en el reactivo número 9, buscar en el **DataFrame** de Estaciones el ID de dicho valor a través del método `.loc()` y mostrar todos los datos de dicha Estación por medio de la función `print()`."
   ]
  },
  {
   "cell_type": "code",
   "execution_count": null,
   "id": "1ef634e9-9e81-4831-a24a-440502d7cdf4",
   "metadata": {},
   "outputs": [],
   "source": [
    "# Código del Reactivo 12\n"
   ]
  },
  {
   "cell_type": "markdown",
   "id": "8f8ad0ed-2145-4fe2-b309-78256d532008",
   "metadata": {},
   "source": [
    "**13.** Empleando el valor de la Estación de destino más utilizada que se calculó en el reactivo número 10, buscar en el **DataFrame** de Estaciones el ID de dicho valor a través del método `.loc()` y mostrar todos los datos de dicha Estación por medio de la función `print()`."
   ]
  },
  {
   "cell_type": "code",
   "execution_count": null,
   "id": "1c2f000f-b0c4-4a27-a555-685d3b52ccd5",
   "metadata": {},
   "outputs": [],
   "source": [
    "# Código del Reactivo 13\n"
   ]
  },
  {
   "cell_type": "markdown",
   "id": "d7522a10-a3c7-4240-8d55-00af910ae018",
   "metadata": {},
   "source": [
    "### Reactivo de Reto #1\n",
    "**14.** Para esta operación se realizarán tres acciones (***10 créditos cada acción***):\n",
    "- **a)** Crear una nueva columna de nombre *`Viaje`* la cual contendrá solamente valores iguales a 1.\n",
    "- **b)** Crear un nuevo **DataFrame** donde se copien las columnas *`Género`* y *`Viaje`*. Debido a que la columna *`ID Usuario`* es el índice, será parte del nuevo **DataFrame** también.\n",
    "- **c)** Agrupar este nuevo **DataFrame** por medio de las columnas *`Género`* y *`ID Usuario`* empleando el método `.groupby()`, agregando el método que realiza la suma de los valores `.sum()` el cual mostrará la cantidad de viajes de cada usuario."
   ]
  },
  {
   "cell_type": "code",
   "execution_count": null,
   "id": "a78f5e74-983d-49e4-b6e4-255ab7e03096",
   "metadata": {},
   "outputs": [],
   "source": [
    "# Código del Reactivo 14\n"
   ]
  },
  {
   "cell_type": "markdown",
   "id": "7befd264-edda-4d2d-a5bc-9e17aa0fb1f0",
   "metadata": {},
   "source": [
    "### Reactivo de Reto #2\n",
    "**15.** Para esta operación se realizarán cuatro acciones (***10 créditos cada acción***):\n",
    "- **a)** Crear un nuevo **DataFrame** que contenga las columnas *`Hora Inicio Viaje`* y *`Hora Fin Viaje`*.\n",
    "- **b)** Convertir las columnas *`Hora Inicio Viaje`* y *`Hora Fin Viaje`* del nuevo **DataFrame** a formato de fecha y hora.\n",
    "- **c)** Realizar la resta numérica de las columnas *`Hora Fin Viaje`* y *`Hora Inicio Viaje`* del nuevo **DataFrame**, y asignar el resultado a una nueva columna llamada *`Tiempo`* en el **DataFrame** original. Este valor representa el tiempo para cada viaje. ***Nota:*** Esta operación causará un *Warning* por la relación entre ambos **DataFrames**, la instrucción indicada en el código es para no mostrarlo.\n",
    "- **d)** Mostrar el **DataFrame** original que incluye la nueva columna de *`Tiempo`*."
   ]
  },
  {
   "cell_type": "code",
   "execution_count": null,
   "id": "64fbc0a1-b67b-4e2f-8c7a-df6c31d91b47",
   "metadata": {},
   "outputs": [],
   "source": [
    "# Código del Reactivo 15\n",
    "\n",
    "#Apagar los Warnings\n",
    "pd.set_option(\"mode.chained_assignment\", None)"
   ]
  },
  {
   "cell_type": "markdown",
   "id": "42019cb1-0d77-4231-9a82-618e28e3d971",
   "metadata": {},
   "source": [
    "<div class=\"alert alert-block alert-danger\">\n",
    "<b>.: Fin de la Evaluación :.</b>\n",
    "</div>"
   ]
  }
 ],
 "metadata": {
  "kernelspec": {
   "display_name": "Python 3 (ipykernel)",
   "language": "python",
   "name": "python3"
  },
  "language_info": {
   "codemirror_mode": {
    "name": "ipython",
    "version": 3
   },
   "file_extension": ".py",
   "mimetype": "text/x-python",
   "name": "python",
   "nbconvert_exporter": "python",
   "pygments_lexer": "ipython3",
   "version": "3.8.19"
  }
 },
 "nbformat": 4,
 "nbformat_minor": 5
}
