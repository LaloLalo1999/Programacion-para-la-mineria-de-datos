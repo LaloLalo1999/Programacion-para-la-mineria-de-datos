{
 "cells": [
  {
   "cell_type": "markdown",
   "id": "a3a6b310-1bac-4ec5-ac9b-a63f91525ed7",
   "metadata": {},
   "source": [
    "<div class=\"alert alert-block alert-info\">\n",
    "<span style=\"color: rgb(0,53,91);\">\n",
    "<center><img src=\"./Imagenes/ITESO_Logo.png\" style=\"width:500px;height:142px;\" title=\"Logo ITESO\"></center>\n",
    "<font face = \"Times New Roman\" size = \"6\"><b><center>Maestría en Sistemas Computacionales</center></b></font>\n",
    "<font face = \"Times New Roman\" size = \"5\"><b><center>Programación para Análisis de Datos</center></b></font>\n",
    "\n",
    "<b><br><font face = \"Times New Roman\" size = \"4\"><center>Unidad 4: Conceptos Generales</center></font>\n",
    "<font face = \"Times New Roman\" size = \"4\"><center>Tema 4.1: Exploración, Integración y Limpieza de Datos</center></font>\n",
    "<font face = \"Times New Roman\" size = \"4\"><center>Subtema l: Uso de PandasGUI</center></font></b>\n",
    "<div align=\"right\"><font face = \"Times New Roman\" size = \"2\">Dr. Iván Esteban Villalón Turrubiates (villalon@iteso.mx)</font></div>\n",
    "</span></div>"
   ]
  },
  {
   "cell_type": "markdown",
   "id": "9bf74a53-eeb4-4e78-a4a4-0a28266fa743",
   "metadata": {},
   "source": [
    "## USO DE PANDASGUI\n",
    "\n",
    "La librería **Pandas** se ha convertido en la herramienta mas empleada para realizar el análisis exploratorio de datos en **Python**. Su versatilidad, flexibilidad y facilidad de uso la convierten en una de las mejores alternativas para los científicos de hoy en día. \n",
    "\n",
    "Existe una alternativa al uso de **Pandas** basada en una **Interfaz Gráfica de Usuario** (***Graphical User Interface, GUI***) conocida como **PandasGUI**, la cual ofrece capacidades para realizar gráficos y modificaciones directamente en el **DataFrame**, además de realizar operaciones al interior del mismo.\n",
    "\n",
    "### La Librería PandasGUI\n",
    "<center><img src=\"./Datos/GUI/PandasGUI_logo.png\" style=\"width:100px;height:100px;\" class=\"center\"></center>\n",
    "\n",
    "Como su nombre lo indica, es una interfaz gráfica de usuario (**GUI**) para realizar el análisis de **DataFrames** de **Pandas**. Es un proyecto aún en desarrollo y por lo mismo puede verse modificado, su documentación en detalle puede ser consultada [en esta liga](https://pypi.org/project/pandasgui).\n",
    "\n",
    "La instalación de **PandasGUI** se lleva a cabo a través de la ejecución del siguiente código desde una ventana de **Terminal** para `Windows`, `macOS` y `Linux`: \n",
    "```python\n",
    "pip install pandasgui\n",
    "```\n",
    "\n",
    "En caso de que se genere un error en la ejecución, se puede emplear una versión anterior de **PandasGUI**:\n",
    "```python\n",
    "pip install pandasgui==0.2.3\n",
    "```\n",
    "\n",
    "A manera de ejemplo para su uso, se empleará un **DataFrame** cuyos datos están contenidos en el archivo `Titanic.csv`, para ello se leerán los datos de la manera tradicional: "
   ]
  },
  {
   "cell_type": "code",
   "execution_count": null,
   "id": "77dbc41d-ea41-4772-ba33-3811444a88e4",
   "metadata": {},
   "outputs": [],
   "source": [
    "#Importación de librerías\n",
    "import pandas as pd\n",
    "\n",
    "#Lectura de los datos desde el archivo TXT\n",
    "datos_df = pd.read_csv('./Datos/GUI/Titanic.csv')\n",
    "\n",
    "#Impresión de los Resultados\n",
    "print(\"El DataFrame es:\")\n",
    "display(datos_df)"
   ]
  },
  {
   "cell_type": "markdown",
   "id": "20fabb48-048d-4dfc-a2b5-53a52774335a",
   "metadata": {},
   "source": [
    "Ahora se importará la librería **PandasGUI** por medio de la instrucción:\n",
    "```python\n",
    "from pandasgui import show\n",
    "```\n",
    "Se empeará la función `show()` para generar la ventana **GUI** que contiene el **DataFrame**, a través de la cual se pueden realizar toda una serie de operaciones."
   ]
  },
  {
   "cell_type": "code",
   "execution_count": null,
   "id": "c07064c1-2c0f-4b50-9a27-0a2cebf1d3e0",
   "metadata": {},
   "outputs": [],
   "source": [
    "#Importación de librerías\n",
    "from pandasgui import show\n",
    "\n",
    "#GUI con el DataFrame\n",
    "show(datos_df);"
   ]
  },
  {
   "cell_type": "markdown",
   "id": "cbc781eb-9877-48df-b772-731a292774c8",
   "metadata": {},
   "source": [
    "Una vez que se ejecuta el comando, aparece una ventana emergente similar a la siguiente donde se muestra el contenido del **DataFrame** de manera interactiva: \n",
    "\n",
    "<center><img src=\"./Datos/GUI/PandasGUI.png\" style=\"width:853px;height:500px;\" class=\"center\"></center>"
   ]
  },
  {
   "cell_type": "markdown",
   "id": "c7e700a3-a100-4c7e-a94e-f1d775c60dbe",
   "metadata": {},
   "source": [
    "### Ver y Ordenar Series y DataFrames\n",
    "Es posible observar el contenido total del **DataFrame** así como realizar un ordenamiento del mismo de manera ascendente o descendente a través de los valores de las columnas, simplemente dando *click* en alguno de los encabezados:\n",
    "\n",
    "<center><img src=\"./Datos/GUI/Ordenado.png\" style=\"width:853px;height:500px;\" class=\"center\"></center>"
   ]
  },
  {
   "cell_type": "markdown",
   "id": "aa780f99-84c1-4365-a15d-d6ee75a1d30f",
   "metadata": {},
   "source": [
    "### Filtrado del DataFrame con Expresiones de Consulta\n",
    "Una vez explorado el contenido del **DataFrame**, es posible realizar operaciones de filtado basadas en expresiones de consulta (*query expressions*). EL método `.Dataframe.query()` de **Pandas** es empleado para este proceso, el cual toma una expresión como una cadena y realiza el filtado en el **DataFrame**, para generar un resultado con el filtro aplicado. \n",
    "\n",
    "La descripción detallada del método `.Dataframe.query()` de **Pandas** puede consultarse [en esta liga](https://pandas.pydata.org/docs/reference/api/pandas.DataFrame.query.html).\n",
    "\n",
    "A través de la **GUI** se pueden aplicar a manera de ejemplo los siguientes tres filtros:\n",
    "1. Los pasajeros que son hombres (*male*).\n",
    "2. Los pasajeros que pertenecen a `Pclass` número 3.\n",
    "3. Los pasajeros que sobrevivieron el naufragio. \n",
    "\n",
    "El siguiente gráfico animado muestra el proceso que se realiza en la ventana de la **GUI** para realizar estas operaciones:\n",
    "\n",
    "<center><img src=\"./Datos/GUI/Filtrado.gif\" style=\"width:897px;height:500px;\" class=\"center\"></center>"
   ]
  },
  {
   "cell_type": "markdown",
   "id": "9e950911-90e0-44f8-a5c4-f02fd824cac2",
   "metadata": {},
   "source": [
    "### Edición de Datos\n",
    "Otra característica que ofrece esta herramienta es que es posible editar directamente cualqueira de los valores contenidos en el **DataFrame**, e incluso seleccionar valores para realizar las operaciones de *copiado* y *pegado* para utilizarlos en aplicaciones como el ***Block de Notas*** o ***Microsoft Excel***.\n",
    "\n",
    "<center><img src=\"./Datos/GUI/Exportado.png\" style=\"width:853px;height:500px;\" class=\"center\"></center>"
   ]
  },
  {
   "cell_type": "markdown",
   "id": "88551962-7af4-4dd7-8f00-bf84347a25c8",
   "metadata": {},
   "source": [
    "### Resumen Estadístico\n",
    "La herramienta **PandasGUI** proporciona un resumen de las características estadísticas de los datos contenidos en el **DataFrame**. \n",
    "\n",
    "El siguiente gráfico muestra la información estadística proporcionada por la ventana de la **GUI**:\n",
    "\n",
    "<center><img src=\"./Datos/GUI/Estadisticos.png\" style=\"width:853px;height:500px;\" class=\"center\"></center>"
   ]
  },
  {
   "cell_type": "markdown",
   "id": "83a0250a-462c-4f49-a253-0b8bd3fdc987",
   "metadata": {},
   "source": [
    "### Gráficos Interactivos\n",
    "La visualización de los datos es un elemento esencial en cualquier proceso de análisis de datos. La herramienta **PandasGUI** proporciona varias opciones para realizar de manera rápida algún gráfico con los datos contenidos en el **DataFrame**.\n",
    "\n",
    "El siguiente gráfico animado muestra el proceso interactivo que se realiza en la ventana de la **GUI** para obtener un gráfico de pastel, un gráfico de barras y una nube de palabras:\n",
    "\n",
    "<center><img src=\"./Datos/GUI/Graficado.gif\" style=\"width:927px;height:500px;\" class=\"center\"></center>"
   ]
  },
  {
   "cell_type": "markdown",
   "id": "3ad6cea9-5a09-4d4d-9f33-2b15fe35be2e",
   "metadata": {},
   "source": [
    "### Cambio de Tamaño del DataFrame\n",
    "En algunas ocasiones es necesario realizar un cambio del tamaño del **DataFrame** para poder tener una mejor visualización y comprensión de los datos que contiene. \n",
    "\n",
    "La herramienta **PandasGUI** contiene dos funciones, `Pivot` y `Melt`, las cuales son de gran ayuda en este proceso.\n",
    "\n",
    "El siguiente gráfico animado muestra el proceso que se realiza en la ventana de la **GUI** para realizar una tabla pivote por medio de la función `Pivot`:\n",
    "\n",
    "<center><img src=\"./Datos/GUI/Modificado.gif\" style=\"width:893px;height:500px;\" class=\"center\"></center>"
   ]
  },
  {
   "cell_type": "markdown",
   "id": "3f17e9fa-a5fa-4a9d-9e58-a7e3aa112744",
   "metadata": {},
   "source": [
    "### Importar Archivos CSV\n",
    "Otra propiedad interesante proporcionada por la herramienta **PandasGUI** es la importación de un nuevo **DataFrame** dentro de uno ya existente, para ello simplemente se realiza una operación de *arrastre* a la ventana de la **GUI**.\n",
    "\n",
    "El siguiente gráfico animado muestra el proceso que se realiza en la ventana de la **GUI** para importar un nuevo archivo con formato `CSV`:\n",
    "\n",
    "<center><img src=\"./Datos/GUI/Importacion.gif\" style=\"width:1097px;height:500px;\" class=\"center\"></center>"
   ]
  },
  {
   "cell_type": "markdown",
   "id": "503ca705-5972-4244-a5b9-af2141cebc35",
   "metadata": {},
   "source": [
    "<center><img src=\"./Imagenes/Pandas.png\" style=\"width:1024px;height:500px;\" class=\"center\"></center>"
   ]
  },
  {
   "cell_type": "markdown",
   "id": "ceeaeb19-2321-4913-81b3-7817a079c2df",
   "metadata": {},
   "source": [
    "<div class=\"alert alert-block alert-danger\">\n",
    "<b>.: Fin del Tema :.</b>\n",
    "</div>"
   ]
  }
 ],
 "metadata": {
  "kernelspec": {
   "display_name": "Python 3 (ipykernel)",
   "language": "python",
   "name": "python3"
  },
  "language_info": {
   "codemirror_mode": {
    "name": "ipython",
    "version": 3
   },
   "file_extension": ".py",
   "mimetype": "text/x-python",
   "name": "python",
   "nbconvert_exporter": "python",
   "pygments_lexer": "ipython3",
   "version": "3.8.19"
  }
 },
 "nbformat": 4,
 "nbformat_minor": 5
}
