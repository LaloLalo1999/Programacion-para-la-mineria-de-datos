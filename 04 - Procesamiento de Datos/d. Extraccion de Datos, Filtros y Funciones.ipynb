{
 "cells": [
  {
   "cell_type": "markdown",
   "metadata": {},
   "source": [
    "<div class=\"alert alert-block alert-info\">\n",
    "<span style=\"color: rgb(0,53,91);\">\n",
    "<center><img src=\"./Imagenes/ITESO_Logo.png\" style=\"width:500px;height:142px;\" title=\"Logo ITESO\"></center>\n",
    "<font face = \"Times New Roman\" size = \"6\"><b><center>Maestría en Sistemas Computacionales</center></b></font>\n",
    "<font face = \"Times New Roman\" size = \"5\"><b><center>Programación para Análisis de Datos</center></b></font>\n",
    "\n",
    "<b><br><font face = \"Times New Roman\" size = \"4\"><center>Unidad 4: Conceptos Generales</center></font>\n",
    "<font face = \"Times New Roman\" size = \"4\"><center>Tema 4.1: Exploración, Integración y Limpieza de Datos</center></font>\n",
    "<font face = \"Times New Roman\" size = \"4\"><center>Subtema d: Extracción de Datos, Filtros y Funciones</center></font></b>\n",
    "<div align=\"right\"><font face = \"Times New Roman\" size = \"2\">Dr. Iván Esteban Villalón Turrubiates (villalon@iteso.mx)</font></div>\n",
    "</span></div>"
   ]
  },
  {
   "cell_type": "markdown",
   "metadata": {},
   "source": [
    "## EXTRACCIÓN DE DATOS, FILTROS Y FUNCIONES\n",
    "\n",
    "La clase **DataFrame** de **Pandas** contiene cientos de atributos y métodos que son de gran importancia para el proceso de análisis de datos. Estos pueden ser consultados en detalle por medio de [esta liga](https://pandas.pydata.org/pandas-docs/stable/reference/api/pandas.DataFrame.html).\n",
    "\n",
    "Para ejemplificar algunos de ellos, se empleará una base de datos generada por ***Internet Movie DataBase (IMDB)***, la cual puede ser empleada de manera abierta para uso personal y/o no comercial. ***IMDB*** genera varias bases de datos las cuales están disponibles de manera gratuita, se actualizan diariamente y pueden ser descargadas a través de [esta liga](https://www.imdb.com/interfaces).\n",
    "\n",
    "Debido a que son bases de datos sumamente extensas (mayores a 500MB), se contará con una versión reducida de una de ellas para este ejercicio, la cual está almacenada en un archivo de nombre `IMBD_Data.csv` que contiene 12 columnas con 1000 entradas, y todos los datos contenidos en la misma están en el idioma *inglés*. Los encabezados de las columnas de información son:\n",
    "\n",
    ">1. **Rank**: Es un número consecutivo entre 1 y 1000.\n",
    ">2. **Title**: Es el título de la película.\n",
    ">3. **Genre**: Son los géneros a los cuales pertenece la película.\n",
    ">4. **Description**: Es un texto breve con una descripción de la película.\n",
    ">5. **Director**: Es el director de la película.\n",
    ">6. **Actors**: Son los actores principales de la película.\n",
    ">7. **Year**: Es el año de la película.\n",
    ">8. **Runtime (Minutes)**: Es el tiempo de duración de la película en minutos.\n",
    ">9. **Rating**: Es una valoración entre 0 y 10 de la película proporcionado por los críticos. \n",
    ">10. **Votes**: Es la cantidad de votos de las personas que recibió la película. \n",
    ">11. **Revenue (Millions)**: Es el ingreso recibido por la película en millones de dólares americanos.\n",
    ">12. **Metascore**: Es una valoración entre 0 y 100 basada en los votos de las personas que recibió la película.\n",
    "\n",
    "Para la lectura del archivo y la preparación de los datos, se realizarán las siguientes operaciones:\n",
    "\n",
    "1. Importación de las librerías necesarias (**Pandas**, **Matplotlib** y **Seaborn**).\n",
    "2. Lectura de los datos actualizados en el subtema anterior y definiendo la columna `Title` como el **Indice** empleando el método `.read_csv()`.\n",
    "3. Mostrar el **DataFrame** resultante empleando el método `.head()`."
   ]
  },
  {
   "cell_type": "code",
   "execution_count": null,
   "metadata": {},
   "outputs": [],
   "source": [
    "#Importación de librerías\n",
    "import pandas as pd\n",
    "import matplotlib.pyplot as plt\n",
    "import seaborn as sns\n",
    "\n",
    "#Lectura de los datos y asignación del nombre de las películas como el índice\n",
    "movies_df = pd.read_csv(\"./Guardados/movies_df.csv\", index_col = 'Title')\n",
    "\n",
    "#Impresión de los Resultados\n",
    "print(\"El DataFrame es:\")\n",
    "movies_df.head()"
   ]
  },
  {
   "cell_type": "markdown",
   "metadata": {},
   "source": [
    "### Selección y Extracción de Datos desde el DataFrame\n",
    "\n",
    "#### Por Columna\n",
    "Para extraer una columna de un **DataFrame**, la manera sencilla es realizarlo a través del uso de corchetes:"
   ]
  },
  {
   "cell_type": "code",
   "execution_count": null,
   "metadata": {},
   "outputs": [],
   "source": [
    "#Extracción de una Columna como una Serie\n",
    "genre_col = movies_df['genre']\n",
    "\n",
    "#Impresión de los Resultados\n",
    "print(\"La columna es del tipo:\", type(genre_col))\n",
    "print(\"El tamaño de la columna es:\", genre_col.shape)\n",
    "genre_col"
   ]
  },
  {
   "cell_type": "markdown",
   "metadata": {},
   "source": [
    "Esta operación produce una **Serie** la cual ha sido extraída del **DataFrame**. Es importante recordar que esta **Serie** tiene asociado el **Indice** aunque no se considere parte de la misma.  \n",
    "\n",
    "Sin embargo, para extraer una columna como un **DataFrame** se necesita pasar una lista de nombres de columnas, en este caso y considerando que solo es una columna:"
   ]
  },
  {
   "cell_type": "code",
   "execution_count": null,
   "metadata": {},
   "outputs": [],
   "source": [
    "#Extracción de una Columna como un DataFrame\n",
    "genre_col = movies_df[['genre']]\n",
    "\n",
    "#Impresión de los Resultados\n",
    "print(\"La columna es del tipo:\", type(genre_col))\n",
    "print(\"El tamaño de la columna es:\", genre_col.shape)\n",
    "genre_col"
   ]
  },
  {
   "cell_type": "markdown",
   "metadata": {},
   "source": [
    "De esta manera, es posible extraer toda una serie de columnas del **DataFrame** original en un nuevo **DataFrame**. Por ejemplo, para extraer las columnas `genre` y `rating` se realiza lo siguiente:"
   ]
  },
  {
   "cell_type": "code",
   "execution_count": null,
   "metadata": {},
   "outputs": [],
   "source": [
    "#Extracción de una Columna como un DataFrame\n",
    "subset = movies_df[['genre', 'rating']]\n",
    "\n",
    "#Impresión de los Resultados\n",
    "print(\"El tamaño del DataFrame es:\", subset.shape)\n",
    "subset.head()"
   ]
  },
  {
   "cell_type": "markdown",
   "metadata": {},
   "source": [
    "#### Por Reglón\n",
    "Para extraer renglones del **DataFrame**, existen dos métodos en **Pandas** que permiten realizarlo, estos son: \n",
    "\n",
    "* Método `.loc[]` - Localiza un renglón por nombre en el **Indice**.\n",
    "* Método `.iloc[]` - Localiza un renglón por su **Indice** numérico.\n",
    "\n",
    "Debido a que la columna `Title` se está empleando como el **Indice** del **DataFrame**, para emplear `.loc` se proporciona el nombre de una película.\n",
    "\n",
    "La documentación del método `.loc[]` de **Pandas** puede ser consultada [en esta liga](https://pandas.pydata.org/pandas-docs/stable/reference/api/pandas.DataFrame.loc.html).\n",
    "\n",
    "***Nota:*** El nombre que se utilice debe coincidir con el contenido en el **Indice** del **DataFrame**."
   ]
  },
  {
   "cell_type": "code",
   "execution_count": null,
   "metadata": {},
   "outputs": [],
   "source": [
    "#Extracción de un Renglón del DataFrame\n",
    "peli_ren = movies_df.loc['Prometheus']\n",
    "\n",
    "#Impresión de los Resultados\n",
    "print(\"La información de la película es:\")\n",
    "peli_ren"
   ]
  },
  {
   "cell_type": "markdown",
   "metadata": {},
   "source": [
    "Por otro lado, con el método `.iloc[]` se proporciona el valor numérico del **Indice** al cual pertenece la película *Prometheus*, en este caso es el segundo renglón (posición número 1).\n",
    "\n",
    "La documentación del método `.iloc[]` de **Pandas** puede ser consultada [en esta liga](https://pandas.pydata.org/pandas-docs/stable/reference/api/pandas.DataFrame.iloc.html)."
   ]
  },
  {
   "cell_type": "code",
   "execution_count": null,
   "metadata": {},
   "outputs": [],
   "source": [
    "#Extracción de un Renglón del DataFrame\n",
    "peli_ren = movies_df.iloc[1]\n",
    "\n",
    "#Impresión de los Resultados\n",
    "print(\"La información de la película es:\")\n",
    "peli_ren"
   ]
  },
  {
   "cell_type": "markdown",
   "metadata": {},
   "source": [
    "Los métodos `.loc[]` y `.iloc[]` pueden ser utilizados de manera similar a una **Lista** de **Python**. \n",
    "\n",
    "De esa manera, para poder realizar la selección de múltiples renglones, en **Python** se empleaban corchetes de esta manera: `lista[1:4]`. Es similar su uso a través de la libería **Pandas**. \n",
    "\n",
    "Por ejemplo, para crear un nuevo **DataFrame** que contenga los renglones que van desde la película *Prometheus* hasta la película *Sing* se realiza lo siguiente empleando el método `.loc[]`: "
   ]
  },
  {
   "cell_type": "code",
   "execution_count": null,
   "metadata": {},
   "outputs": [],
   "source": [
    "#Extracción de Renglones del DataFrame con loc\n",
    "movie_subset = movies_df.loc['Prometheus':'Sing']\n",
    "\n",
    "#Impresión de los Resultados\n",
    "print(\"Los datos del nuevo DataFrame son:\")\n",
    "movie_subset"
   ]
  },
  {
   "cell_type": "markdown",
   "metadata": {},
   "source": [
    "De manera similar, para crear un nuevo **DataFrame** que contenga los renglones que van desde la película *Prometheus* (segundo renglón) hasta la película *Sing* (cuarto renglón) se realiza lo siguiente empleando el método `.iloc[]`: "
   ]
  },
  {
   "cell_type": "code",
   "execution_count": null,
   "metadata": {},
   "outputs": [],
   "source": [
    "#Extracción de Renglones del DataFrame con iloc\n",
    "movie_subset = movies_df.iloc[1:4]\n",
    "\n",
    "#Impresión de los Resultados\n",
    "print(\"Los datos del nuevo DataFrame son:\")\n",
    "movie_subset"
   ]
  },
  {
   "cell_type": "markdown",
   "metadata": {},
   "source": [
    "***Nota:*** Una distinción importante entre el uso de los métodos `.loc[]` y `.iloc[]` para realizar la selección de varios renglones, es que `.loc[]` incluye la película *Sing* en el resultado, pero con el uso de `.iloc[]` la película en el índice número 4 (*Suicide Squad*) no se incluye, tal y como funciona con las listas de **Python**."
   ]
  },
  {
   "cell_type": "markdown",
   "metadata": {},
   "source": [
    "### Selecciones Condicionales\n",
    "Se han revisado las maneras de extraer columnas y renglones a partir del **DataFrame**, sin embargo en muchas ocasiones es necesario aplicar ciertas reglas para realizar selecciones condicionales las cuales pueden fungir como **Filtros**. \n",
    "\n",
    "Por ejemplo, si se requiere filtrar el **DataFrame** para mostrar solamente las películas que han sido dirigidas por cierto Director, o las películas que tienen un *rating* superior o igual a *8.0*. \n",
    "\n",
    "Para ello se empleará una columna del **DataFrame** y se le aplicará una condición Booleana. Por ejemplo, para obtener las películas que han sido dirigidas por *Ridley Scott*, se empleará la columna `director` como base y se extraerán los elementos. Primeramente se revisará que la columna contenga a este director:"
   ]
  },
  {
   "cell_type": "code",
   "execution_count": null,
   "metadata": {},
   "outputs": [],
   "source": [
    "#Revisión de la Condición\n",
    "condicion = (movies_df['director'] == \"Ridley Scott\")\n",
    "\n",
    "#Impresión de los Resultados\n",
    "print(\"El resultado de aplicar la condición es:\\n\", condicion.head(10))\n",
    "print(\"\\nLa cantidad de películas dirigidas por Ridley Scott contenidas en el DataFrame son: \", condicion.sum())"
   ]
  },
  {
   "cell_type": "markdown",
   "metadata": {},
   "source": [
    "De manera similar al método `.isnull()`, tenemos una **Serie** de valores Booleanos (`True` y `False`) en base a la condición indicada, es decir: `True` para las películas dirigidas por *Ridley Scott*, y `False` para las que no fueron dirigidas por él.\n",
    "\n",
    "El siguiente paso es filtrar las películas que no han sido dirigidas por *Ridley Scott*, es decir, eliminar las películas que tienen valores `False`. \n",
    "\n",
    "Para regresar los renglones donde la condición es `True`, es necesario pasar la operación que se describe a continuacón hacia el **DataFrame**.\n",
    "\n",
    "***Nota:*** Debido a que no se incluye el argumento `inplace = True`, el **DataFrame** original no se verá afectado, por ello se incluye el método `.head()` para poder mostrar el resultado de la operación de filtrado."
   ]
  },
  {
   "cell_type": "code",
   "execution_count": null,
   "metadata": {},
   "outputs": [],
   "source": [
    "#Filtrado de Elementos con Condicionante\n",
    "movies_df[movies_df['director'] == \"Ridley Scott\"].head(10)"
   ]
  },
  {
   "cell_type": "markdown",
   "metadata": {},
   "source": [
    "Una manera de acostumbrarse a la interpretación de esta condición es leerla como:\n",
    "```python\n",
    "movies_df[movies_df['director'] == \"Ridley Scott\"]\n",
    "```\n",
    "\n",
    "> Toma el **DataFrame movies_df**, considerando solo los renglones donde el `director` en **movies_df** es igual a *Ridley Scott*.\n",
    "\n",
    "Ahora, para el caso de valores numéricos cuando se realiza un filtrado del **DataFrame** a través de la columna `rating` solicitando que solo se muestren las películas que tengan un valor mayor o igual a *8.6*:"
   ]
  },
  {
   "cell_type": "code",
   "execution_count": null,
   "metadata": {},
   "outputs": [],
   "source": [
    "#Filtrado de Elementos con Condicionante\n",
    "movies_df[movies_df['rating'] >= 8.6].head(10)"
   ]
  },
  {
   "cell_type": "markdown",
   "metadata": {},
   "source": [
    "Es posible realizar mejoras en los condicionales a través del uso de operadores lógicos:\n",
    "\n",
    "* El símbolo `|` para el operador lógico ***o (or)***.\n",
    "* El símbolo `&` para el operador lógico ***y (and)***.\n",
    "\n",
    "Por ejemplo, para filtrar el **DataFrame** mostrando solo las películas que hayan sido dirigidas por *Christopher Nolan* ***o*** *Ridley Scott*:"
   ]
  },
  {
   "cell_type": "code",
   "execution_count": null,
   "metadata": {},
   "outputs": [],
   "source": [
    "#Filtrado de Elementos con Condicionante\n",
    "movies_df[(movies_df['director'] == \"Christopher Nolan\") | (movies_df['director'] == \"Ridley Scott\")].head(10)"
   ]
  },
  {
   "cell_type": "markdown",
   "metadata": {},
   "source": [
    "Es importante que cada una de las condicionantes que se están evaluando vayan agrupadas en paréntesis para que **Python** comprenda adecuadamente la manera de realizar el proceso.\n",
    "\n",
    "Empleando el método `.isin()`, se puede realizar de manera más concisa, por ejemplo, para verificar que en la columna `director` del **DataFrame** se encuentra *Christopher Nolan* ***o*** *Ridley Scott*, la forma de usar el método es:"
   ]
  },
  {
   "cell_type": "code",
   "execution_count": null,
   "metadata": {},
   "outputs": [],
   "source": [
    "#Filtrado de Elementos con Condicionante\n",
    "movies_df[movies_df['director'].isin(['Christopher Nolan', 'Ridley Scott'])].head(10)"
   ]
  },
  {
   "cell_type": "markdown",
   "metadata": {},
   "source": [
    "Ahora se aplicará un filtro más complicado, se pretende obtener todas las películas que:\n",
    "\n",
    "1. Hayan salido entre *2005* y *2010* (columna `year`).\n",
    "2. Tengan una valoración superior a *8.0* (coluna `rating`).\n",
    "3. Que estén por debajo del *25%* de ingreso en taquilla (columna `revenue`). \n",
    "\n",
    "Todo ello se puede obtener de la siguiente manera: "
   ]
  },
  {
   "cell_type": "code",
   "execution_count": null,
   "metadata": {},
   "outputs": [],
   "source": [
    "#Filtrado de Elementos con Condicionante\n",
    "movies_df[\n",
    "    ((movies_df['year'] >= 2005) & (movies_df['year'] <= 2010))\n",
    "    & (movies_df['rating'] > 8.0)\n",
    "    & (movies_df['revenue'] < movies_df['revenue'].quantile(0.25))\n",
    "].head(10)"
   ]
  },
  {
   "cell_type": "markdown",
   "metadata": {},
   "source": [
    "Para acceder los valores por debajo del *25%* del valor máximo de ingreso en taquilla en la columna `revenue`, se empleó el método `.quantile()` con el valor flotante de 0.25. De esto resultan solo 4 películas de este filtrado que cumplen con las 3 condiciones establecidas."
   ]
  },
  {
   "cell_type": "markdown",
   "metadata": {},
   "source": [
    "### Aplicación de Funciones\n",
    "Es posible realizar iteraciones sobre un **DataFrame** o una **Serie** de manera similar a una **Lista**, pero realizar este proceso puede ser muy lento, especialmente cuando la serie de datos es muy extensa. \n",
    "\n",
    "Una alternativa eficiente para realizarlo es a través del método `.apply()` para aplicar una **Función** al **DataFrame**. Por ejemplo, es posible emplear una **Función** para convertir las películas que tengan un valor de *8.0 o mayor* en la columna `rating` a una cadena que tenga el valor *good* y el resto tengan el valor *bad*, y asignar estos nuevos valores a una columna adicional.\n",
    "\n",
    "La documentación del método `.apply()` de **Pandas** puede ser consultada [en esta liga](https://pandas.pydata.org/pandas-docs/stable/reference/api/pandas.DataFrame.apply.html).\n",
    "\n",
    "El primer paso es crear la **Función** que, cuando reciba un valor desde la columna `rating` determine si la película es *good* o si es *bad*:"
   ]
  },
  {
   "cell_type": "code",
   "execution_count": null,
   "metadata": {},
   "outputs": [],
   "source": [
    "#Definición de la Función\n",
    "def funcion_category(x):\n",
    "    if (x >= 8.0):\n",
    "        return 'Excellent'\n",
    "    elif (x >= 6.0) & (x < 8.0):\n",
    "        return 'Very Good'\n",
    "    elif (x >= 4.0) & (x < 6.0):\n",
    "        return 'Good'\n",
    "    elif (x >=2.0) & (x < 4.0):\n",
    "        return 'Not Good'\n",
    "    else:\n",
    "        return \"Bad\""
   ]
  },
  {
   "cell_type": "markdown",
   "metadata": {},
   "source": [
    "Como siguiente paso, se deberán de enviar los valores de toda la columna `rating` a través de esta **Función**, los valores que se obtengan se agregarán a una nueva columna de nombre `category`.\n",
    "\n",
    "Para ello se emplea el método `.apply()` de la siguiente manera:"
   ]
  },
  {
   "cell_type": "code",
   "execution_count": null,
   "metadata": {},
   "outputs": [],
   "source": [
    "#Impresión de los Resultados\n",
    "print(\"El tamaño del DataFrame es:\", movies_df.shape)\n",
    "\n",
    "#Aplicación de la Función al DataFrame\n",
    "movies_df['category'] = movies_df['rating'].apply(funcion_category)\n",
    "\n",
    "#Impresión de los Resultados\n",
    "print(\"El tamaño del nuevo DataFrame es:\", movies_df.shape)\n",
    "movies_df.head(10)"
   ]
  },
  {
   "cell_type": "markdown",
   "metadata": {},
   "source": [
    "También es posible realizarlo a través de una **Función Lambda**, la cual regresa el mismo resultado que la función `funcion_category`.\n",
    "\n",
    "Para ello se emplea nuevamente el método `.apply()` de la siguiente manera: "
   ]
  },
  {
   "cell_type": "code",
   "execution_count": null,
   "metadata": {},
   "outputs": [],
   "source": [
    "#Copia del DataFrame Original\n",
    "movies_df_lambda = movies_df.copy()\n",
    "\n",
    "#Aplicación de la Función al DataFrame\n",
    "movies_df_lambda['category'] = movies_df['rating'].apply(lambda x: 'good' if x >= 8.0 else 'bad')\n",
    "\n",
    "#Impresión de los Resultados\n",
    "print(\"El tamaño del nuevo DataFrame es:\", movies_df.shape)\n",
    "movies_df_lambda.head(10)"
   ]
  },
  {
   "cell_type": "markdown",
   "metadata": {},
   "source": [
    "A manera de conclusión, el uso del método `.apply()` es mucho más sencillo y rápido que realizar un proceso de iteración manual para cada renglón, esto debido a que **Pandas** emplea vectorización. \n",
    "\n",
    "> Vectorización: Es un estilo de programación donde las operaciones son aplicadas a todo el arreglo en lugar de aplicarlo a un cierto número de elementos individuales."
   ]
  },
  {
   "cell_type": "markdown",
   "metadata": {},
   "source": [
    "### Normalización de Columnas\n",
    "\n",
    "Es posible realizar la normalización de los valores contenidos en una columna del **DataFrame** o en una **Serie**, a través del método `.apply()` para aplicar una función de normalización al grupo de datos.\n",
    "\n",
    "El proceso de **Normalización** consiste en hacer que el valor mínimo corresponda a **0** y el valor máximo corresponda a **1**, esto se logra por medio de:\n",
    "\n",
    "$$ Normalización = \\dfrac{\\text{valor a normalizar} - \\text{valor mínimo}}{\\text{valor máximo} - \\text{valor mínimo}} $$\n",
    "\n",
    "Como ejemplo, se normalizará la columna `revenue` del **DataFrame** a través de una **Función Lambda**, para ello será necesario seguir los siguientes pasos:\n",
    "\n",
    "1. Determinar el valor mínimo de la columna `revenue` empleando el método `.min()`.\n",
    "2. Determinar el valor máximo de la columna `revenue` empleando el método `.max()`.\n",
    "3. Se agregará una nueva columna para almacenar los datos normalizados llamada `revenue_nor`.\n",
    "4. Se guardará el **DataFrame** completo en un archivo llamado `IMDB_Data_Clean.csv`.\n",
    "\n",
    "Este proceso puede ser de gran utilidad para identificar la distribución de las ganancias en una escala definida (0 a 1), lo cual puede traducirse fácilmente en un porcentaje."
   ]
  },
  {
   "cell_type": "code",
   "execution_count": null,
   "metadata": {},
   "outputs": [],
   "source": [
    "#Determinación del Valor Mínimo\n",
    "min = movies_df['revenue'].min()\n",
    "\n",
    "#Determinación del Valor Máximo\n",
    "max = movies_df['revenue'].max()\n",
    "\n",
    "#Aplicación de la Función al DataFrame\n",
    "movies_df['revenue_nor'] = movies_df['revenue'].apply(lambda x: (x - min) * 100 / (max - min))\n",
    "\n",
    "#Valores mínimo y máximo antes y después de la normalización\n",
    "min_n = movies_df['revenue_nor'].min()\n",
    "max_n = movies_df['revenue_nor'].max()\n",
    "\n",
    "#Impresión de los Resultados\n",
    "print(\"Antes de la Normalización: Valor Mínimo =\", min, \", Valor Máximo = \",max)\n",
    "print(\"Después de la Normalización: Valor Mínimo =\", min_n, \", Valor Máximo = \",max_n)\n",
    "print(\"El tamaño del nuevo DataFrame es:\", movies_df.shape)\n",
    "movies_df.head(10)"
   ]
  },
  {
   "cell_type": "markdown",
   "metadata": {},
   "source": [
    "### Guardar los Cambios en un Archivo CSV\n",
    "Finalmente, los datos del **DataFrame** `movies_df` que ya han sido actualizados serán guardados en un archivo con formato `CSV` por medio del método `.to_csv()` de **Pandas**, donde el argumento corresponde al nombre del archivo."
   ]
  },
  {
   "cell_type": "code",
   "execution_count": null,
   "metadata": {},
   "outputs": [],
   "source": [
    "#Guardado del Archivo en formato CSV\n",
    "movies_df.to_csv('./Guardados/movies_df_ext.csv')"
   ]
  },
  {
   "cell_type": "markdown",
   "metadata": {},
   "source": [
    "<div class=\"alert alert-block alert-success\">\n",
    "<b>.: Fin del Subtema :.</b>\n",
    "</div>\n",
    "\n",
    "***Liga de aceso al siguiente Subtema:*** \n",
    "<br>[e. Gráficos Informativos](e.%20Graficos%20Informativos.ipynb)"
   ]
  }
 ],
 "metadata": {
  "kernelspec": {
   "display_name": "Python 3 (ipykernel)",
   "language": "python",
   "name": "python3"
  },
  "language_info": {
   "codemirror_mode": {
    "name": "ipython",
    "version": 3
   },
   "file_extension": ".py",
   "mimetype": "text/x-python",
   "name": "python",
   "nbconvert_exporter": "python",
   "pygments_lexer": "ipython3",
   "version": "3.8.19"
  }
 },
 "nbformat": 4,
 "nbformat_minor": 4
}
