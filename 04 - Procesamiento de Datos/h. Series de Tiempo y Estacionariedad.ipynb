{
 "cells": [
  {
   "cell_type": "markdown",
   "id": "37131716-798b-42f5-b659-93b29d94eca1",
   "metadata": {},
   "source": [
    "<div class=\"alert alert-block alert-info\">\n",
    "<span style=\"color: rgb(0,53,91);\">\n",
    "<center><img src=\"./Imagenes/ITESO_Logo.png\" style=\"width:500px;height:142px;\" title=\"Logo ITESO\"></center>\n",
    "<font face = \"Times New Roman\" size = \"6\"><b><center>Maestría en Sistemas Computacionales</center></b></font>\n",
    "<font face = \"Times New Roman\" size = \"5\"><b><center>Programación para Análisis de Datos</center></b></font>\n",
    "\n",
    "<b><br><font face = \"Times New Roman\" size = \"4\"><center>Unidad 4: Conceptos Generales</center></font>\n",
    "<font face = \"Times New Roman\" size = \"4\"><center>Tema 4.1: Exploración, Integración y Limpieza de Datos</center></font>\n",
    "<font face = \"Times New Roman\" size = \"4\"><center>Subtema h: Series de Tiempo y Estacionariedad</center></font></b>\n",
    "<div align=\"right\"><font face = \"Times New Roman\" size = \"2\">Dr. Iván Esteban Villalón Turrubiates (villalon@iteso.mx)</font></div>\n",
    "</span></div>"
   ]
  },
  {
   "cell_type": "markdown",
   "id": "37957fc0-3959-4091-bfbc-d7a73cdbebd2",
   "metadata": {},
   "source": [
    "<p><b><h2>SERIES DE TIEMPO Y ESTACIONARIEDAD</h2></b>\n",
    "\n",
    "Las **Series de Tiempo** son una importante fuente de información que se emplea para definir estrategias para la toma de decisiones en los negocios. Desde una industria financiera pasando por empresas de ingeniería y educación, las **Series de Tiempo** juegan un rol de suma importancia para comprender muchos detalles de factores específicos que se ven afectados respecto del tiempo. \n",
    "\n",
    "Para ejemplificar el uso de las **Series de Tiempo**, se empleará una base de datos que contiene la información de la cantidad de pasajeros que volaron cada mes en cierta línea aérea, en un rango de tiempo que va desde enero de 2010 hasta diciembre de 2020. Los encabezados de las columnas de información son:\n",
    "\n",
    "1. **Mes**: Es el mes en formato aaaa-mm.\n",
    "2. **Pasajeros**: Es la cantidad de pasajeros que volaron.\n",
    "\n",
    "Para la lectura del archivo y la preparación de los datos, se realizarán las siguientes operaciones:\n",
    "\n",
    "1. Importación de las librerías necesarias (**Pandas**, **NumPy** y **Matplotlib**).\n",
    "2. Definición de los parámetros a emplear en los gráficos de **Matplotlib**.\n",
    "3. Lectura de los datos empleando el método `.read_csv()`.\n",
    "4. Mostrar el tipo de datos contenidos en el **DataFrame** empleando el método `.dtypes`.\n",
    "5. Mostrar el **DataFrame** resultante empleando la función `display()`."
   ]
  },
  {
   "cell_type": "code",
   "execution_count": null,
   "id": "495620fb-9ef7-40fb-9d62-7f9841f2b824",
   "metadata": {},
   "outputs": [],
   "source": [
    "#Importación de librerías\n",
    "import pandas as pd\n",
    "import numpy as np\n",
    "import matplotlib.pyplot as plt\n",
    "\n",
    "#Definición de los parámetros de los gráficos\n",
    "plt.rcParams.update({'font.size': 10, 'figure.figsize': (8, 6)}) \n",
    "\n",
    "#Lectura de los datos desde el archivo CSV\n",
    "datos_df = pd.read_csv('./Datos/Pasajeros.csv')\n",
    "\n",
    "#Impresión de los Resultados\n",
    "print('Tipos de Datos en el DataFrame:\\n', datos_df.dtypes)\n",
    "print(\"\\nEl DataFrame es:\")\n",
    "display(datos_df)"
   ]
  },
  {
   "cell_type": "markdown",
   "id": "29b10f34-b8cc-4683-982a-4af96d7740ff",
   "metadata": {},
   "source": [
    "<p><b><h3>Descripción de los Datos</h3></b>\n",
    "\n",
    "Los datos contenidos en el **DataFrame** especifican un año y un mes, así como el número de pasajeros que viajaron en ese mes. Como se puede ver, el tipo de datos para los meses está definido como `object`, por lo mismo se requiere pasarlo a un formato de **Series de Tiempo** y emplear la columna `Mes` como el índice del **DataFrame**. \n",
    "\n",
    "Las marcas de tiempo o *Timestamps* son muy útiles en la comparación de objetos. Es posible crear un *Timestamp* con el método `pd.to_datetime()` de **Pandas**. Para ello, será necesario emplear la librería **Datetime** de **Pandas**, la cual se importa por medio de la siguiente instrucción:\n",
    "```python\n",
    "from datetime import datetime\n",
    "```\n",
    "La documentación del método `pd.to_datetime()` de **Pandas** se puede consultar [en esta liga](https://pandas.pydata.org/pandas-docs/stable/reference/api/pandas.to_datetime.html).\n",
    "\n",
    "Los *Timestamp* son de gran utilidad cuando se requiere hacer filtrado lógico de datos basados en fechas. Para realizarlo, el método `pd.to_datetime()` llevará como argumento la columna del **DataFrame** que se convertirá al formato de **Series de Tiempo**. Finalmente, la columna `Mes` se definirá como el **Indice**."
   ]
  },
  {
   "cell_type": "code",
   "execution_count": null,
   "id": "c1c11e32-9408-4297-b62e-3581410b3773",
   "metadata": {},
   "outputs": [],
   "source": [
    "#Uso de la librería Datetime de Python\n",
    "from datetime import datetime\n",
    "\n",
    "#Conversión de la Columna \"Month\" al formato de Serie de Tiempo\n",
    "datos_df['Mes'] = pd.to_datetime(datos_df['Mes'])\n",
    "\n",
    "#Definir la Columna \"Month\" como el Indice del DataFrame\n",
    "datos_df = datos_df.set_index('Mes')\n",
    "\n",
    "#Revisando el formato de los datos contenidos en el Indice del DataFrame\n",
    "print('Tipos de Datos en la Columna Mes:\\n', datos_df.index)\n",
    "print(\"\\nEl DataFrame es:\")\n",
    "display(datos_df)"
   ]
  },
  {
   "cell_type": "markdown",
   "id": "beeed728-ae11-45ad-808c-01f6429e1f28",
   "metadata": {},
   "source": [
    "Ahora se extraerá la columna `Pasajeros` como una **Serie**, recordando que a pesar de ser un **DataFrame** de una sola columna (*vector*), el **Indice** se mantiene como parte del mismo."
   ]
  },
  {
   "cell_type": "code",
   "execution_count": null,
   "id": "466cc2b1-f4ff-43bc-adc8-964035c1ff17",
   "metadata": {},
   "outputs": [],
   "source": [
    "#Extracción de la columna 'Pasajeros' como una Serie\n",
    "ts = datos_df['Pasajeros']\n",
    "\n",
    "#Impresión de los Resultados\n",
    "print(\"La Serie es:\")\n",
    "display(ts)"
   ]
  },
  {
   "cell_type": "markdown",
   "id": "19737369-1eab-4080-a4ca-572947ce4706",
   "metadata": {},
   "source": [
    "<p><b><h3>Estacionariedad (Stationarity)</h3></b>\n",
    "\n",
    "El concepto de **Estacionariedad** (*Stationarity*) es de mucha utilidad en el análisis de **Series de Tiempo**. \n",
    "\n",
    "Para poder emplear un modelo de **Series de Tiempo**, es importante que esa **Serie** sea *Estacionaria*, es decir, que sus propiedades estadísticas (**media** y **varianza**) permanezcan constantes en el tiempo. Esto es debido a que el comportamiento de la serie a lo largo del tiempo es constante, y por ello se mantendrá de esa manera en el futuro, lo cual permite hacer pronósticos más certeros.\n",
    "\n",
    "En la práctica, es posible asumir que una serie es *Estacionaria* si tiene sus propiedades estadísticas constantes en el tiempo, las cuales pueden ser:\n",
    "* Su valor de **Media** es constante. \n",
    "* Su valor de **Varianza** es constante. \n",
    "* Tiene un valor de auto-covarianza que no depende del tiempo.\n",
    "\n",
    "Estos valores pueden ser revisados de manera sencilla en **Python**. Sin embargo, una manera rápida es comprobarlo a través de un gráfico de la **Serie** de datos, para ello se empleará el método `.plot()` de **Matplotlib** aplicado a la **Serie** de tiempo `ts`, esto es:"
   ]
  },
  {
   "cell_type": "code",
   "execution_count": null,
   "id": "9eabd976-f675-4ca4-b440-c95dafc22c4b",
   "metadata": {},
   "outputs": [],
   "source": [
    "#Gráfico de la Serie de Tiempo\n",
    "fig, ax = plt.subplots()\n",
    "ax.plot(ts, label = 'Serie de Tiempo')\n",
    "plt.legend(loc='best')\n",
    "plt.xlabel('Años')\n",
    "plt.ylabel('Número de Pasajeros')\n",
    "plt.title('Serie de Tiempo')\n",
    "fig.autofmt_xdate(rotation=45)\n",
    "ax.set_xlim(np.datetime64(ts.index.min()), np.datetime64(ts.index.max()))\n",
    "\n",
    "#Guardar el Gráfico Resultante\n",
    "#plt.savefig('./Guardados/SerieTiempo.png', dpi=300, transparent=False, bbox_inches='tight')\n",
    "plt.show();"
   ]
  },
  {
   "cell_type": "markdown",
   "id": "cdb42259-ae16-4b81-9861-2688600a4cb6",
   "metadata": {},
   "source": [
    "Es posible observar en el gráfico que existe un incremento en la tendencia, pero mantiene cierto nivel de **Estacionariedad**.\n",
    "\n",
    "<p><b><h3>Prueba de Estacionariedad</h3></b>\n",
    "\n",
    "Para realizar la prueba de **Estacionariedad**, se puede emplear la prueba ***Dickey-Fuller*** que está definida a través de la función de **Python** descrita a continuación como `prueba_estacionariedad`.\n",
    "\n",
    "Para más detalles de la prueba Dickey-Fuller, se puede consultar [este enlace](http://www.real-statistics.com/time-series-analysis/stochastic-processes/dickey-fuller-test/)."
   ]
  },
  {
   "cell_type": "code",
   "execution_count": null,
   "id": "7397aedf-ef18-4d21-aeee-aca6598a603d",
   "metadata": {},
   "outputs": [],
   "source": [
    "#Función para la prueba Dicker-fuller de Estacionariedad\n",
    "import pandas as pd\n",
    "from statsmodels.tsa.stattools import adfuller\n",
    "\n",
    "def prueba_estacionariedad(serie_tiempo):\n",
    "    \n",
    "    #Determinación de Estadísticos\n",
    "    rolmean = serie_tiempo.rolling(12).mean()\n",
    "    rolstd = serie_tiempo.rolling(12).std()\n",
    "\n",
    "    #Gráfica de los Estadísticos\n",
    "    fig, ax = plt.subplots()\n",
    "    orig = ax.plot(serie_tiempo, color='blue',label='Serie')\n",
    "    mean = ax.plot(rolmean, color='red', label='Media')\n",
    "    std = ax.plot(rolstd, color='black', label = 'Desviación Estándar')\n",
    "    plt.legend(loc='best')\n",
    "    plt.title('Media y Desviación Estándar de la Serie de Tiempo')\n",
    "    plt.xlabel('Años')\n",
    "    plt.ylabel('Número de Pasajeros')\n",
    "    fig.autofmt_xdate(rotation=45)\n",
    "    ax.set_xlim(np.datetime64(ts.index.min()), np.datetime64(ts.index.max()))\n",
    "   \n",
    "    #Guardar el Gráfico Resultante\n",
    "    #plt.savefig('./Guardados/PruebaEstac.png', dpi=300, transparent=False, bbox_inches='tight')\n",
    "    plt.show();\n",
    "    \n",
    "    #Prueba Dickey-Fuller\n",
    "    print('Resultados de la Prueba Dickey-Fuller de Estacionariedad:\\n')\n",
    "    dftest = adfuller(serie_tiempo, autolag='AIC')\n",
    "    dfoutput = pd.Series(dftest[0:4], index=['Prueba Estadística','Valor-p','Número de Retardos','Número de Observaciones'])\n",
    "    for key,value in dftest[4].items():\n",
    "        dfoutput['Valor Crítico (%s)'%key] = value\n",
    "    print(dfoutput)"
   ]
  },
  {
   "cell_type": "markdown",
   "id": "a1a3faea-ae62-40db-b14e-4e81aa019492",
   "metadata": {},
   "source": [
    "Una vez definida la función `prueba_estacionariedad`, se aplica a la **Serie de Tiempo**:"
   ]
  },
  {
   "cell_type": "code",
   "execution_count": null,
   "id": "30a853e1-4933-46a7-b67c-88639382c490",
   "metadata": {},
   "outputs": [],
   "source": [
    "#Prueba de Estacionariedad para la Serie\n",
    "prueba_estacionariedad(ts)"
   ]
  },
  {
   "cell_type": "markdown",
   "id": "239dcc94-c2c1-4691-998f-a1f280c848cb",
   "metadata": {},
   "source": [
    "De los resultados, es posible observar que no son *Estacionarios* debido a:\n",
    "* La **media** se incrementa a pesar de que la **desviación estándar** se mantiene baja.\n",
    "* El valor *Prueba Estadística* es mayor a los *Valores Críticos*.\n",
    "\n",
    "***Nota:*** El valor *Prueba Estadística* se compara con los *Valores Críticos* para definir la **Estacionariedad** de la **Serie**:\n",
    "* Si el valor *Prueba Estadística* es mayor a los *Valores Críticos*, la **Serie** *No es Estacionaria*.\n",
    "* Si el valor *Prueba Estadística* es menor a alguno de los *Valores Críticos*, la **Serie** *Es Estacionaria* y el porcentaje del *Valor Crítico* define la certeza de ello.\n",
    "\n",
    "<p><b><h2>Conviertiendo la Serie en Estacionaria</h2></b>\n",
    "\n",
    "Existen dos factores importantes que hacen que una **Serie** sea *No Estacionaria*:\n",
    "* Tendencia (Trend): La tendencia no tiene valor constante en su **media**.\n",
    "* Temporalidad (Seasonality): Hay variación en rangos de tiempo específicos.\n",
    "\n",
    "La idea es modelar la Tendencia y/o la Temporalidad en esta **Serie**, para con ello remover esas constantes y obtener una **Serie** *Estacionaria*. De esa manera es posible realizar pronósticos con un mayor nivel de confianza, para finalmente volver a aplicar las constantes de Tendencia y/o Temporalidad que previamente se había eliminado.\n",
    "\n",
    "<p><b><h3>Tendencia (Trend)</h3></b>\n",
    "\n",
    "Para reducir la Tendencia se aplica una transformación que puede ser de diversas índoles como logarítmica, raíz cuadrada, raíz cúbica, entre otras. En este caso se empleará una transformación logarítmica empleando el método `.log()` de **NumPy**:"
   ]
  },
  {
   "cell_type": "code",
   "execution_count": null,
   "id": "96315b60-0b6d-4b65-9620-f6e10411ebfb",
   "metadata": {},
   "outputs": [],
   "source": [
    "#Transformación logarítmica de la Serie\n",
    "ts_log = np.log(ts)\n",
    "\n",
    "#Gráfico de la Serie de Tiempo\n",
    "fig, ax = plt.subplots()\n",
    "ax.plot(ts_log, label = 'Serie de Tiempo')\n",
    "plt.legend(loc='best')\n",
    "plt.xlabel('Años')\n",
    "plt.ylabel('Número de Pasajeros [log]')\n",
    "plt.title('Serie de Tiempo en Escala Logarítmica')\n",
    "fig.autofmt_xdate(rotation=45)\n",
    "ax.set_xlim(np.datetime64(ts_log.index.min()), np.datetime64(ts_log.index.max()))\n",
    "\n",
    "#Guardar el Gráfico Resultante\n",
    "#plt.savefig('./Guardados/SerieTiempo.png', dpi=300, transparent=False, bbox_inches='tight')\n",
    "plt.show();"
   ]
  },
  {
   "cell_type": "markdown",
   "id": "638bd11b-7f07-4a82-93fe-4519447550ff",
   "metadata": {},
   "source": [
    "Existen algunos métodos para modelar estas tendencias y luego eliminarlas de la serie. Los más comúnes son:\n",
    "* Suavizado (Smoothing): Emplea **promedio móvil**.\n",
    "* Agresión (Aggression): Tomando el valor de la **media** para un periodo de tiempo (***no se revisará***).\n",
    "\n",
    "Se empleará el modelo Suavizado (smoothing) para este caso. \n",
    "\n",
    "<p><b><h4>Suavizado (Smoothing)</h4></b>\n",
    "\n",
    "Para el Suavizado se pueden emplear dos métodos:\n",
    "1. **Promedio Móvil** (*Moving Average*).\n",
    "2. **Promedio Móvil Exponencialmente Ponderado** (*Exponentially Weighted Moving Average*).\n",
    "\n",
    "<p><b><h5>Promedio Móvil (Moving Average)</h5></b>\n",
    "\n",
    "Se toman una cierta cantidad de valores *x* consecutivos, **Pandas** cuenta con el método `.rolling(x).mean()` para realizarlo, donde se especifica la cantidad de valores *x* a ser empleados en el argumento. Por ejemplo, para `x = 12` valores consecutivos:"
   ]
  },
  {
   "cell_type": "code",
   "execution_count": null,
   "id": "640fb457-063a-4b74-8043-4f40bab27d7d",
   "metadata": {},
   "outputs": [],
   "source": [
    "#Definición de los valores consecutivos\n",
    "x = 12\n",
    "\n",
    "#Determinación del Promedio Móvil\n",
    "moving_avg = ts_log.rolling(x).mean()\n",
    "\n",
    "#Gráfico de la Serie de Tiempo\n",
    "fig, ax = plt.subplots()\n",
    "ax.plot(ts_log, label = 'Serie de Tiempo')\n",
    "ax.plot(moving_avg, color='red', label='Promedio Móvil')\n",
    "plt.legend(loc='best')\n",
    "plt.xlabel('Años')\n",
    "plt.ylabel('Número de Pasajeros [log]')\n",
    "plt.title('Serie de Tiempo en Escala Logarítmica')\n",
    "fig.autofmt_xdate(rotation=45)\n",
    "ax.set_xlim(np.datetime64(ts_log.index.min()), np.datetime64(ts_log.index.max()))\n",
    "\n",
    "#Guardar el Gráfico Resultante\n",
    "#plt.savefig('./Guardados/SerieTiempo.png', dpi=300, transparent=False, bbox_inches='tight')\n",
    "plt.show();"
   ]
  },
  {
   "cell_type": "markdown",
   "id": "f1f619b2-3f4e-4946-9626-05e6bd8752ce",
   "metadata": {},
   "source": [
    "Como siguiente paso, se extraerá el valor de la **media** de cada uno de los valores originales de la **Serie**, ambos en escala logarítmica:"
   ]
  },
  {
   "cell_type": "code",
   "execution_count": null,
   "id": "b92f820c-3483-473e-a1a2-d3d4a14fd83f",
   "metadata": {},
   "outputs": [],
   "source": [
    "#Extrayendo la media del valor original de la Serie\n",
    "ts_log_moving_avg_diff = ts_log - moving_avg\n",
    "\n",
    "#Impresión de los Resultados\n",
    "ts_log_moving_avg_diff.head(20)"
   ]
  },
  {
   "cell_type": "markdown",
   "id": "5903b30a-2bde-451b-b8c2-ed02e495b297",
   "metadata": {},
   "source": [
    "Entre mayor haya sido la cantidad de valores consecutivos que se haya seleccionado (`x = 12` para este ejemplo), más constante será el resultado, pero se genera una mayor candidad de ***valores nulos*** (`NaN`) al inicio de la **Serie**.\n",
    "\n",
    "El siguiente paso será eliminar estos ***valores nulos***, para ello se emplea el método `.dropna()` de **Pandas**, esto es:"
   ]
  },
  {
   "cell_type": "code",
   "execution_count": null,
   "id": "90dd7869-5802-485b-8397-f06b392e08c9",
   "metadata": {},
   "outputs": [],
   "source": [
    "#Eliminando los valores nulos\n",
    "ts_log_moving_avg_diff.dropna(inplace = True)\n",
    "\n",
    "#Impresión de los Resultados\n",
    "ts_log_moving_avg_diff.head(20)"
   ]
  },
  {
   "cell_type": "markdown",
   "id": "dbc01058-bfd4-416c-93ff-16135d8799c9",
   "metadata": {},
   "source": [
    "Con esta **Serie** ya modificada con el método de **Promedio Móvil**, se vuelve a hacer la prueba de **Estacionariedad**:"
   ]
  },
  {
   "cell_type": "code",
   "execution_count": null,
   "id": "ce1c1fef-12d6-4d4c-be01-261b33f816eb",
   "metadata": {},
   "outputs": [],
   "source": [
    "#Prueba de Estacionariedad para la Serie\n",
    "prueba_estacionariedad(ts_log_moving_avg_diff)"
   ]
  },
  {
   "cell_type": "markdown",
   "id": "b7ae940e-4489-4ccc-b35d-a630bc2bf9eb",
   "metadata": {},
   "source": [
    "Al realizar la prueba de estacionariedad, es posible observar:\n",
    "* El valor *Prueba Estadística* es menor que el valor del 5% de *Valor Crítico*, lo cual indica que hay un 95% de certeza de que esta **Serie** sea *Estacionaria*.\n",
    "\n",
    "\n",
    "<p><b><h5>Promedio Móvil Exponencialmente Ponderado (Exponentially Weighted Moving Average)</h5></b>\n",
    "\n",
    "En el ejemplo previo, se emplearon 12 meses como frecuencia. Sin embargo, hay situaciones en las que este periodo de tiempo puede ser más complejo de definir. \n",
    "\n",
    "Para ello se puede emplear el método de **Promedio Móvil Exponencialmente Ponderado**, para el cual **Pandas** cuenta con el método `.ewm(halflife = x).mean()` para realizarlo, donde se especifica la cantidad de valores *x* a ser empleados en el argumento. Por ejemplo, para `x = 12` valores consecutivos:"
   ]
  },
  {
   "cell_type": "code",
   "execution_count": null,
   "id": "823937ec-30b3-4a18-abbc-53d0b3f09199",
   "metadata": {},
   "outputs": [],
   "source": [
    "#Definición de los valores consecutivos\n",
    "x = 12\n",
    "\n",
    "#Determinación del Promedio Móvil Exponencialmente Ponderado\n",
    "expweighted_avg = ts_log.ewm(halflife = x).mean()\n",
    "\n",
    "#Gráfico de la Serie de Tiempo\n",
    "fig, ax = plt.subplots()\n",
    "ax.plot(ts_log, label = 'Serie de Tiempo')\n",
    "ax.plot(expweighted_avg, color='red', label='PMEP')\n",
    "plt.legend(loc='best')\n",
    "plt.xlabel('Años')\n",
    "plt.ylabel('Número de Pasajeros [log]')\n",
    "plt.title('Serie de Tiempo en Escala Logarítmica')\n",
    "fig.autofmt_xdate(rotation=45)\n",
    "ax.set_xlim(np.datetime64(ts_log.index.min()), np.datetime64(ts_log.index.max()))\n",
    "\n",
    "#Guardar el Gráfico Resultante\n",
    "#plt.savefig('./Guardados/SerieTiempo.png', dpi=300, transparent=False, bbox_inches='tight')\n",
    "plt.show();"
   ]
  },
  {
   "cell_type": "markdown",
   "id": "6cbab23d-4c90-4321-a7c9-3410c069660d",
   "metadata": {},
   "source": [
    "De manera similar, el siguiente paso es extraer el valor del **Promedio Móvil Exponencialmente Ponderado** de cada uno de los valores originales de la **Serie**, ambos en escala logarítmica:"
   ]
  },
  {
   "cell_type": "code",
   "execution_count": null,
   "id": "cb367781-e507-4e56-8303-bfc519dc2380",
   "metadata": {},
   "outputs": [],
   "source": [
    "#Extrayendo el PMEP del valor original de la Serie\n",
    "ts_log_ewm_diff = ts_log - expweighted_avg\n",
    "\n",
    "#Impresión de los Resultados\n",
    "ts_log_ewm_diff.head(20)"
   ]
  },
  {
   "cell_type": "markdown",
   "id": "885bf953-aa8e-4dfb-84d5-8220a46a93d9",
   "metadata": {},
   "source": [
    "Como puede notarse, este método no genera ***valores nulos*** ya que su aproximación matemática es más certera. \n",
    "\n",
    "Con esta **Serie** ya modificada con el método de **Promedio Móvil Exponencialmente Ponderado**, se vuelve a hacer la prueba de **Estacionariedad**:"
   ]
  },
  {
   "cell_type": "code",
   "execution_count": null,
   "id": "9270a826-e604-43a9-a59e-4bc90f4ab139",
   "metadata": {},
   "outputs": [],
   "source": [
    "#Prueba de Estacionariedad para la Serie\n",
    "prueba_estacionariedad(ts_log_ewm_diff)"
   ]
  },
  {
   "cell_type": "markdown",
   "id": "bcffa899-4507-4174-a779-dc321d5a9cd9",
   "metadata": {},
   "source": [
    "Al realizar la prueba de estacionariedad, es posible observar:\n",
    "* El valor *Prueba Estadística* es menor que el valor del 1% de *Valor Crítico*, lo cual indica que hay un 99% de certeza de que esta **Serie** sea *Estacionaria*.\n",
    "\n",
    "\n",
    "<p><b><h4>Temporalidad (Seasonality)</h4></b>\n",
    "\n",
    "Ahora se removerá la Temporalidad de la **Serie** por medio de dos métodos:\n",
    "* Diferencia: A través de diferencias de tiempo.\n",
    "* Decomposición: Modelado de ambos elementos (Tendencia y Temporalidad) y su eliminación.\n",
    "\n",
    "<p><b><h5>Modelo de Diferencias</h5></b>\n",
    "\n",
    "El **Modelo de Diferencias** se aplica empleando el método `.shift()` de **Pandas**, el cual toma la primera diferencia desde la **Serie** original. Para ello, se extrae el valor obtenido con este método de cada uno de los valores originales de la **Serie**, ambos en escala logarítmica:"
   ]
  },
  {
   "cell_type": "code",
   "execution_count": null,
   "id": "3eec3c46-4e98-4969-b229-ce13221e3180",
   "metadata": {},
   "outputs": [],
   "source": [
    "#Se toma la primera diferencia desde la Serie original\n",
    "ts_log_diff = ts_log - ts_log.shift()\n",
    "\n",
    "#Gráfico de la Serie de Tiempo\n",
    "fig, ax = plt.subplots()\n",
    "ax.plot(ts_log_diff, label = 'Serie de Tiempo')\n",
    "plt.legend(loc='best')\n",
    "plt.xlabel('Años')\n",
    "plt.ylabel('Número de Pasajeros [log]')\n",
    "plt.title('Serie de Tiempo en Escala Logarítmica')\n",
    "fig.autofmt_xdate(rotation=45)\n",
    "ax.set_xlim(np.datetime64(ts_log.index.min()), np.datetime64(ts_log.index.max()))\n",
    "\n",
    "#Guardar el Gráfico Resultante\n",
    "#plt.savefig('./Guardados/SerieTiempo.png', dpi=300, transparent=False, bbox_inches='tight')\n",
    "plt.show();"
   ]
  },
  {
   "cell_type": "markdown",
   "id": "6e66517e-4ea8-4436-9848-e22453363461",
   "metadata": {},
   "source": [
    "Ahora se hace una eliminación de los ***valores nulos*** que hayan resultado en este proceso, y se realiza la prueba de **Estacionariedad**:"
   ]
  },
  {
   "cell_type": "code",
   "execution_count": null,
   "id": "277195a5-200e-4b48-b1e3-a96f612446f6",
   "metadata": {},
   "outputs": [],
   "source": [
    "#Eliminación de los valores nulos\n",
    "ts_log_diff.dropna(inplace = True)\n",
    "\n",
    "#Prueba de Estacionariedad para la Serie\n",
    "prueba_estacionariedad(ts_log_diff)"
   ]
  },
  {
   "cell_type": "markdown",
   "id": "8131a91f-6b24-49e5-9b16-ba4174296a7c",
   "metadata": {},
   "source": [
    "Al realizar la prueba de estacionariedad, es posible observar:\n",
    "* La **media** y **desviación estándar** tienen una pequeña variación respecto al tiempo.\n",
    "* El valor *Prueba Estadística* es menor que el valor del 5% de *Valor Crítico*, lo cual indica que hay un 95% de certeza de que esta **Serie** sea *Estacionaria*.\n",
    "\n",
    "<p><b><h4>Modelo de Decomposición</h4></b>\n",
    "\n",
    "El **Modelo de Decomposición** puede ser implementado a través de una función de **Pandas** llamada `seasonal_decompose` de la siguiente manera:"
   ]
  },
  {
   "cell_type": "code",
   "execution_count": null,
   "id": "006379ed-9c6e-412b-90a7-4d9e5454ed6b",
   "metadata": {},
   "outputs": [],
   "source": [
    "#Importación de librería\n",
    "from statsmodels.tsa.seasonal import seasonal_decompose\n",
    "\n",
    "#Aplicación de la Función a la Serie\n",
    "decomposition = seasonal_decompose(ts_log)\n",
    "trend = decomposition.trend\n",
    "seasonal = decomposition.seasonal\n",
    "residual = decomposition.resid\n",
    "\n",
    "#Gráfico del Resultado\n",
    "plt.subplot(4,1,1)\n",
    "plt.plot(ts_log, label='Original')\n",
    "plt.legend(loc='best')\n",
    "plt.subplot(4,1,2)\n",
    "plt.plot(trend, label='Tendencia')\n",
    "plt.legend(loc='best')\n",
    "plt.subplot(4,1,3)\n",
    "plt.plot(seasonal,label='Temporalidad')\n",
    "plt.legend(loc='best')\n",
    "plt.subplot(4,1,4)\n",
    "plt.plot(residual, label='Residual')\n",
    "plt.legend(loc='best')\n",
    "plt.tight_layout()"
   ]
  },
  {
   "cell_type": "markdown",
   "id": "57bc5bbc-0244-444a-ae3a-ab3277faf3c1",
   "metadata": {},
   "source": [
    "Se emplean los valores ***Residuales*** a través de los cuales se realiza la prueba de **Estacionariedad**:"
   ]
  },
  {
   "cell_type": "code",
   "execution_count": null,
   "id": "515e2a4e-4a1a-422a-b298-b7d9fc481b5d",
   "metadata": {},
   "outputs": [],
   "source": [
    "#Usando los valores residuales\n",
    "ts_log_decompose = residual\n",
    "\n",
    "#Eliminación de los valores nulos\n",
    "ts_log_decompose.dropna(inplace=True)\n",
    "\n",
    "#Prueba de Estacionariedad para la Serie\n",
    "prueba_estacionariedad(ts_log_decompose)"
   ]
  },
  {
   "cell_type": "markdown",
   "id": "1747965e-62a8-4f26-846c-8af7d415656b",
   "metadata": {},
   "source": [
    "Al realizar la prueba de estacionariedad, es posible observar:\n",
    "* La **media** y **desviación estándar** tienen una pequeña variación respecto al tiempo.\n",
    "* El valor *Prueba Estadística* es menor que el valor del 1% de *Valor Crítico*, lo cual indica que hay un 99% de certeza de que esta **Serie** sea *Estacionaria*.\n",
    "\n",
    "<p><b><h3>En Resumen</h3></b>\n",
    "\n",
    "A manera de resumen, los métodos para realizar la **Estacionariedad** de una **Serie de Tiempo** se muestran en el siguiente diagrama:\n",
    "\n",
    "<center><img src=\"./Imagenes/Estacional.png\" style=\"width:796px;height:350px;\" class=\"center\"></center>"
   ]
  },
  {
   "cell_type": "markdown",
   "id": "3cdbc4ef-28cf-4273-9c14-ef2c7c2b5d49",
   "metadata": {},
   "source": [
    "<div class=\"alert alert-block alert-success\">\n",
    "<b>.: Fin del Subtema :.</b>\n",
    "</div>\n",
    "\n",
    "***Liga de aceso al siguiente Subtema:*** \n",
    "<br>[i. Series de Tiempo y Pronóstico](i.%20Series%20de%20Tiempo%20y%20Pronostico.ipynb)"
   ]
  }
 ],
 "metadata": {
  "kernelspec": {
   "display_name": "Python 3 (ipykernel)",
   "language": "python",
   "name": "python3"
  },
  "language_info": {
   "codemirror_mode": {
    "name": "ipython",
    "version": 3
   },
   "file_extension": ".py",
   "mimetype": "text/x-python",
   "name": "python",
   "nbconvert_exporter": "python",
   "pygments_lexer": "ipython3",
   "version": "3.8.19"
  }
 },
 "nbformat": 4,
 "nbformat_minor": 5
}
