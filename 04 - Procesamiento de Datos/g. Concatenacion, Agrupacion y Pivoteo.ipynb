{
 "cells": [
  {
   "cell_type": "markdown",
   "id": "c614b506-ed75-4126-8851-dfdc5b76773e",
   "metadata": {},
   "source": [
    "<div class=\"alert alert-block alert-info\">\n",
    "<span style=\"color: rgb(0,53,91);\">\n",
    "<center><img src=\"./Imagenes/ITESO_Logo.png\" style=\"width:500px;height:142px;\" title=\"Logo ITESO\"></center>\n",
    "<font face = \"Times New Roman\" size = \"6\"><b><center>Maestría en Sistemas Computacionales</center></b></font>\n",
    "<font face = \"Times New Roman\" size = \"5\"><b><center>Programación para Análisis de Datos</center></b></font>\n",
    "\n",
    "<b><br><font face = \"Times New Roman\" size = \"4\"><center>Unidad 4: Conceptos Generales</center></font>\n",
    "<font face = \"Times New Roman\" size = \"4\"><center>Tema 4.1: Exploración, Integración y Limpieza de Datos</center></font>\n",
    "<font face = \"Times New Roman\" size = \"4\"><center>Subtema g: Concatenación, Agrupación y Pivoteo</center></font></b>\n",
    "<div align=\"right\"><font face = \"Times New Roman\" size = \"2\">Dr. Iván Esteban Villalón Turrubiates (villalon@iteso.mx)</font></div>\n",
    "</span></div>"
   ]
  },
  {
   "cell_type": "markdown",
   "id": "4b16ef6b-c2e3-4e55-b7e8-ed0c35ad443e",
   "metadata": {},
   "source": [
    "## CONCATENACIÓN, AGRUPACIÓN Y PIVOTEO DE DATAFRAMES\n",
    "\n",
    "Dentro de las operaciones más empleadas en el manejo de **DataFrames** se encuentran la **Concatenación**, la **Agrupación** y el **Pivoteo** que se puede realizar entre ellos.\n",
    "\n",
    "Para ejemplificar estas operaciones, se emplearán los datos contenidos en archivos en formato `TXT`, los cuales están separados por comas. En esos archivo se incluyen los nombres, sexo y la cantidad de bebés que nacieron para los años *2000* a *2018* (con ese nombre). Se asignarán los valores a un **DataFrame** donde los encabezados de las columnas de información son:\n",
    "\n",
    "1. **Nombre**: Es el nombre asignado al bebé nacido en ese año.\n",
    "2. **Sexo**: Es un valor booleano que indica el sexo del bebé (*F* y *M*).\n",
    "3. **Cantidad**: Es la cantidad de bebés que nacieron con ese nombre.\n",
    "\n",
    "Para la lectura de un archivo (*2018*) y la preparación de los datos, se realizarán las siguientes operaciones:\n",
    "\n",
    "1. Importación de las librerías necesarias (**Pandas**, **NumPy** y **Matplotlib**).\n",
    "2. Definición de los parámetros a emplear en los gráficos de **Matplotlib**.\n",
    "3. Lectura de los datos empleando el método `.read_csv()`.\n",
    "4. Mostrar el **DataFrame** resultante empleando el método `.head()`."
   ]
  },
  {
   "cell_type": "code",
   "execution_count": null,
   "id": "287f63f7-d704-48bf-9b59-18b0b3c32de9",
   "metadata": {},
   "outputs": [],
   "source": [
    "#Importación de librerías\n",
    "import pandas as pd\n",
    "import numpy as np\n",
    "import matplotlib.pyplot as plt\n",
    "\n",
    "#Definición de los parámetros de los gráficos\n",
    "plt.rcParams.update({'font.size': 11, 'figure.figsize': (10, 8)}) \n",
    "\n",
    "#Lectura de los datos desde el archivo TXT\n",
    "nomb18_df = pd.read_csv('./Datos/Nace/Nacimientos_2018.txt', names = ['Nombre', 'Sexo', 'Cantidad'])\n",
    "\n",
    "#Impresión de los Resultados\n",
    "print(\"El DataFrame es:\")\n",
    "nomb18_df.head(10)"
   ]
  },
  {
   "cell_type": "markdown",
   "id": "5770a481-09d0-4815-a2c2-d3d106b40543",
   "metadata": {},
   "source": [
    "### Concatenación de los Datos\n",
    "La **Concatenación** de objetos a través de **Pandas** permite unir los distintos archivos con los que se cuenta bajo la misma estructura definida para el **DataFrame**, para ello se emplea el método `.concat()`.\n",
    "\n",
    "La documentación del método `.concat()` se puede consultar [en esta liga](https://pandas.pydata.org/pandas-docs/stable/reference/api/pandas.concat.html).\n",
    "\n",
    "Primeramente se inicializará una lista asignada a una variable, y por medio de un ciclo `for` se realiza la concatenación de cada uno de los archivos para el rango del año 2000 al 2018. Se agrega el valor `2018+1` para que este último año sea agregado también. \n",
    "\n",
    "Adicionalmente, se creará una columna nueva donde se agregue el año correspondiente. Para ello, se empleará el índice `-1` para que se agregue al final de la tabla."
   ]
  },
  {
   "cell_type": "code",
   "execution_count": null,
   "id": "2e7e305b-266e-4d3c-9fcd-6781a6d67eec",
   "metadata": {},
   "outputs": [],
   "source": [
    "#Inicialización de la Lista\n",
    "todo_tiempo = []\n",
    "\n",
    "#Asignación de los Archivos a la Lista\n",
    "for tiempo in range(2000, 2018+1):\n",
    "    todo_tiempo.append(pd.read_csv('./Datos/Nace/Nacimientos_{}.txt'.format(tiempo), names = ['Nombre', 'Sexo', 'Cantidad']))\n",
    "    todo_tiempo[-1]['Año'] = tiempo\n",
    "    \n",
    "#Concatenación de los Elementos de la Lista a un DataFrame\n",
    "nombres_df = pd.concat(todo_tiempo)\n",
    "\n",
    "#Impresión de los Resultados\n",
    "print(\"El tamaño total del DataFrame es:\",nombres_df.shape)\n",
    "print(\"El DataFrame es:\")\n",
    "nombres_df.head(10)"
   ]
  },
  {
   "cell_type": "markdown",
   "id": "a14f8819-004c-41b8-9929-02b08aef6800",
   "metadata": {},
   "source": [
    "### Agrupación de los Datos\n",
    "La **Agrupación** de datos a través de **Pandas** se realiza a través del método `.groupby()`, el cual genera un nuevo **DataFrame** con las características indicadas.\n",
    "\n",
    "La documentación del método `.groupby()` se puede consultar [en esta liga](https://pandas.pydata.org/pandas-docs/stable/reference/api/pandas.DataFrame.groupby.html).\n",
    "\n",
    "Por ejemplo, para agrupar el **DataFrame** por medio de los valores de `Sexo` y `Año`:"
   ]
  },
  {
   "cell_type": "code",
   "execution_count": null,
   "id": "cd7dd26f-2436-413d-b2bd-a2779c2d9151",
   "metadata": {},
   "outputs": [],
   "source": [
    "#Agrupación de los datos por \"Sexo\" y \"Año\"\n",
    "agrupa_df = nombres_df.groupby(['Sexo', 'Año'])\n",
    "agrupa_df.head()"
   ]
  },
  {
   "cell_type": "markdown",
   "id": "d272ae95-3e36-4c95-ac5e-9e155ad0f7c3",
   "metadata": {},
   "source": [
    "A partir de este nuevo **DataFrame** es posible revisar algunos detalles como el tamaño del agrupamiento. En este caso, **Pandas** indica la cantidad de nombres (registros) que hay para cada sexo y por cada año (no la cantidad de bebés que nacieron)."
   ]
  },
  {
   "cell_type": "code",
   "execution_count": null,
   "id": "e57efb42-1fe5-46c2-9f2d-908fcaa153b1",
   "metadata": {},
   "outputs": [],
   "source": [
    "#Cantidad de Datos en el DataFrame\n",
    "agrupa_df.size()"
   ]
  },
  {
   "cell_type": "markdown",
   "id": "d191af10-205a-48fa-8286-76a924db3350",
   "metadata": {},
   "source": [
    "Es sencillo visualizar la cantidad de datos que fueron agrupados por los valores de `Sexo` y `Año`. Sin embargo, para que sea más sencilla la visualización, se puede emplear el método `.size().unstack()` de la siguiente manera:"
   ]
  },
  {
   "cell_type": "code",
   "execution_count": null,
   "id": "a2c8c7a9-c14e-465f-9b62-182ec9af2b4b",
   "metadata": {},
   "outputs": [],
   "source": [
    "#Cantidad de Datos en el DataFrame\n",
    "agrupa_df.size().unstack()"
   ]
  },
  {
   "cell_type": "markdown",
   "id": "edccaf06-b1ed-4463-9978-22e3735fe259",
   "metadata": {},
   "source": [
    "Ahora, si se requiere saber el número total de bebés que nacieron, se puede usar el método `.sum()`. Por ejemplo, para el **DataFrame** que solo contiene los valores de 2018, se calcula el total de bebés nacidos en base al `Sexo`:"
   ]
  },
  {
   "cell_type": "code",
   "execution_count": null,
   "id": "8bd8fc83-cce7-4d80-949a-03ddab97a3ba",
   "metadata": {},
   "outputs": [],
   "source": [
    "#Cantidad de Datos en el DataFrame\n",
    "nomb18_df.groupby(['Sexo']).sum()"
   ]
  },
  {
   "cell_type": "markdown",
   "id": "114e9fd3-b895-4b51-878e-dbb3df3e0e32",
   "metadata": {},
   "source": [
    "Para el **DataFrame** agrupado por medio de los valores de `Sexo` y `Año`, es posible calcular la cantidad de bebés que nacieron agrupados por `Año`:"
   ]
  },
  {
   "cell_type": "code",
   "execution_count": null,
   "id": "87b35fb9-9131-4c70-a093-f86009deeff4",
   "metadata": {},
   "outputs": [],
   "source": [
    "#Cantidad de Datos en el DataFrame\n",
    "nombres_df.groupby(['Año']).sum()"
   ]
  },
  {
   "cell_type": "markdown",
   "id": "3152ac32-d82a-4e72-a693-48c9b6ade94d",
   "metadata": {},
   "source": [
    "De igual manera, es posible calcular la cantidad de bebés que nacieron agrupados por `Sexo`y `Año`:"
   ]
  },
  {
   "cell_type": "code",
   "execution_count": null,
   "id": "45bc53ed-d38e-4971-8bcf-8a260f5a9a5c",
   "metadata": {},
   "outputs": [],
   "source": [
    "#Cantidad de Datos en el DataFrame\n",
    "nombres_df.groupby(['Año', 'Sexo']).sum()"
   ]
  },
  {
   "cell_type": "markdown",
   "id": "e603e69e-e8ca-47cc-9436-5818197363d3",
   "metadata": {},
   "source": [
    "### Pivoteo\n",
    "El **Pivoteo** o uso de ***Tablas Pivote*** son sumamente útiles para el caso de buscar conclusiones de los datos contenidos en el **DataFrame**. De manera automática pueden ordenar, contar, determinar totales o promedios de los datos. Posteriormente, los resultados se muestran a través de una nueva tabla.\n",
    "\n",
    "En **Pandas**, la función de tabla pivote se realiza por medio del método `.pivot_table()`. \n",
    "\n",
    "La documentación del método `.pivot_table()` se puede consultar [en esta liga](https://pandas.pydata.org/pandas-docs/stable/reference/api/pandas.DataFrame.pivot_table.html).\n",
    "\n",
    "Para realizar la construcción de una ***Tabla Pivote***, se empleará el **DataFrame** con el que hay interés en trabajar, indicando los datos con los que se pretende mostrar, y la manera como se agruparán. \n",
    "\n",
    "En este ejemplo se usará el **DataFrame** que contiene todos los datos del año 2000 al 2018 (`nombres_df`), comenzando con mostrar el número de bebés que han nacido pero agrupados por nombre y año:"
   ]
  },
  {
   "cell_type": "code",
   "execution_count": null,
   "id": "1fc10613-b830-4c73-99d5-8eea7d612bf9",
   "metadata": {},
   "outputs": [],
   "source": [
    "#Cantidad de Datos en el DataFrame\n",
    "pd.pivot_table(nombres_df, 'Cantidad', 'Nombre', 'Año')"
   ]
  },
  {
   "cell_type": "markdown",
   "id": "46361bab-5cb5-4ea6-a58c-7e611052aa5d",
   "metadata": {},
   "source": [
    "Debido a que existen muchos valores nulos (`NaN`), lo cual es normal ya que indica que hay años en los que no hubo ningún bebé con dicho nombre, es probable que convenga utilizar `Nombre` y `Año` como columnas. Para ello, es posible emplear corchetes en el método `.pivot_table()` de la siguiente manera:"
   ]
  },
  {
   "cell_type": "code",
   "execution_count": null,
   "id": "f776ec57-dbb4-4ce1-94e7-9707e690561f",
   "metadata": {},
   "outputs": [],
   "source": [
    "#Cantidad de Datos en el DataFrame\n",
    "pd.pivot_table(nombres_df, 'Cantidad', ['Año', 'Nombre'])"
   ]
  },
  {
   "cell_type": "markdown",
   "id": "6ef1b4dc-f8e1-432d-8c5a-144de98e8f2a",
   "metadata": {},
   "source": [
    "Adicionalmente, es posible agrupar los datos para contener `Nombre` y `Sexo` en una dimensión, así como `Año` en la otra:"
   ]
  },
  {
   "cell_type": "code",
   "execution_count": null,
   "id": "87439377-ab59-43ac-af13-df156512652c",
   "metadata": {},
   "outputs": [],
   "source": [
    "#Cantidad de Datos en el DataFrame\n",
    "pd.pivot_table(nombres_df, 'Cantidad', ['Nombre', 'Sexo', 'Año'])"
   ]
  },
  {
   "cell_type": "markdown",
   "id": "eef98252-d621-456a-bd4a-fce96871f791",
   "metadata": {},
   "source": [
    "### Visualización de los Datos\n",
    "Al emplear **Pandas** con otras librerías como **Matplotib**, es posible visualizar los datos de una manera mucho más adecuada. \n",
    "\n",
    "Por ejemplo, es posible visualizar los datos acerca de la popularidad de un cierto nombre para cada año. Para ello, es necesario definir y ordenar los **Indices** del **DataFrame** para que permita ver la manera como cambia la popularidad de ese nombre.\n",
    "\n",
    "La librería **Pandas** permite realizar indexado multi-nivel para poder agrupar y manipular datos con un número de dimensiones arbitrario.\n",
    "\n",
    "Primeramente, se definirán como los **Indices** del **DataFrame** que contiene todos los datos del año 2000 al 2018 (`nombres_df`) las columnas `Sexo`, `Nombre` y `Año`. Para ello se emplea el método `.set_index()` que ya ha sido revisado previamente, aplicando el método `.sort_index()` para que ordene el **DataFrame** en base a las columnas que definen los **Indices**."
   ]
  },
  {
   "cell_type": "code",
   "execution_count": null,
   "id": "4367c15e-5104-4d0e-9da9-1c522a1366c4",
   "metadata": {},
   "outputs": [],
   "source": [
    "#Definición de los Indices en el DataFrame\n",
    "nombres_df_index = nombres_df.set_index(['Sexo','Nombre','Año']).sort_index()\n",
    "\n",
    "#Impresión de los Resultados\n",
    "print(\"El DataFrame es:\")\n",
    "nombres_df_index"
   ]
  },
  {
   "cell_type": "markdown",
   "id": "3e1bfdf4-5389-4569-8291-ca3404cbf572",
   "metadata": {},
   "source": [
    "Ahora se definirá una función llamada `nombres_grafica` a través de la cual se graficará la popularidad de un nombre respecto del tiempo. Para ello: \n",
    "\n",
    "1. Se hará el llamado a esa función por medio de los parámetros `Sexo` y `Nombre`.\n",
    "2. Se empleará el método `.loc[]` para buscar renglones en el **DataFrame** en base a los parámetros `Sexo` y `Nombre` que se hayan indicado.\n",
    "3. Finalmente se mostrarán esos valores de manera gráfica."
   ]
  },
  {
   "cell_type": "code",
   "execution_count": null,
   "id": "74eecb7c-b65a-4c90-8c48-20c769d84653",
   "metadata": {},
   "outputs": [],
   "source": [
    "import math\n",
    "\n",
    "#Definición de la Función para Graficar Nombres\n",
    "def nombres_grafica(sexo, nombre):\n",
    "    datos = nombres_df_index.loc[sexo, nombre]\n",
    "    plt.plot(datos.index, datos.values)\n",
    "    plt.title('Popularidad de Nombre por Año')\n",
    "    plt.xlabel('Años')\n",
    "    plt.ylabel('Cantidad')\n",
    "    plt.xticks(rotation=70)\n",
    "    plt.xticks(range(math.floor(min(datos.index)), math.ceil(max(datos.index))+1))"
   ]
  },
  {
   "cell_type": "markdown",
   "id": "73fa3620-4158-4d28-b162-306429dd455e",
   "metadata": {},
   "source": [
    "Para probarlo, se llamará a la función `nombres_grafica` con los parámetros `Sexo` y `Nombre` que definan valores en particular. Por ejemplo, para el nombre ***Danica***:"
   ]
  },
  {
   "cell_type": "code",
   "execution_count": null,
   "id": "63d9ce7b-639e-47e2-979e-0fa11aecfc83",
   "metadata": {},
   "outputs": [],
   "source": [
    "#Llamado a la Función nombres_grafica\n",
    "nombres_grafica('F', 'Danica')\n",
    "\n",
    "#Guardar el Gráfico Resultante\n",
    "#plt.savefig('./Guardados/Popular_Nombre.png', dpi=300, transparent=False, bbox_inches='tight')"
   ]
  },
  {
   "cell_type": "markdown",
   "id": "787cb6cf-af27-4a05-a2de-069cc3c41759",
   "metadata": {},
   "source": [
    "Donde es posible observar que el nombre \"Danica\" tuvo una amplia popularidad alrededor del año 2007, pero posteriormente fue decreciendo. \n",
    "\n",
    "Una ventaja es que la función `nombres_grafica` puede ser empleada para varios nombres a la vez. Para ello:\n",
    "\n",
    "1. Se crea una lista con los nombres que interesa revisar.\n",
    "2. Se realiza un ciclo `for` para enviar los nombres a la función `nombres_grafica`.\n",
    "3. Finalmente, se incluye una leyenda para entender mejor los datos."
   ]
  },
  {
   "cell_type": "code",
   "execution_count": null,
   "id": "68c2f126-432e-4235-a91a-deaee5963a1a",
   "metadata": {},
   "outputs": [],
   "source": [
    "#Definición de la Lista de Nombres\n",
    "nombres = ['Sammy', 'Jesse', 'Drew', 'Jamie']\n",
    "\n",
    "#Llamado a la Función nombres_grafica\n",
    "for nombre in nombres:\n",
    "    nombres_grafica('F', nombre)\n",
    "\n",
    "#Agregación de la Leyenda en el Gráfico\n",
    "plt.legend(nombres);\n",
    "\n",
    "#Guardar el Gráfico Resultante\n",
    "#plt.savefig('./Guardados/Nombres_F.png', dpi=300, transparent=False, bbox_inches='tight')"
   ]
  },
  {
   "cell_type": "markdown",
   "id": "0a0cb0e2-1a85-4a8c-a933-2c4314c81eb7",
   "metadata": {},
   "source": [
    "¿Será distinto si los nombres son de hombre y no de mujer? Para ello, simplemente se modifica el parámetro en el llamado a la función `nombres_grafica` de la siguiente manera: "
   ]
  },
  {
   "cell_type": "code",
   "execution_count": null,
   "id": "467cf349-a362-47bd-97ca-2317ed50e743",
   "metadata": {},
   "outputs": [],
   "source": [
    "#Definición de la Lista de Nombres\n",
    "nombres = ['Sammy', 'Jesse', 'Drew', 'Jamie']\n",
    "\n",
    "#Llamado a la Función nombres_grafica\n",
    "for nombre in nombres:\n",
    "    nombres_grafica('M', nombre)\n",
    "\n",
    "#Agregación de la Leyenda en el Gráfico\n",
    "plt.legend(nombres);\n",
    "\n",
    "#Guardar el Gráfico Resultante\n",
    "#plt.savefig('./Guardados/Nombres_M.png', dpi=300, transparent=False, bbox_inches='tight')"
   ]
  },
  {
   "cell_type": "markdown",
   "id": "5f7bb5f6-71ef-4882-bf37-a62ec24ee01a",
   "metadata": {},
   "source": [
    "A partir de este ejemplo de visualización se pueden construir distintos **DataFrames** que contengan **Indices** que sean múltiples, dependiendo de la naturaleza de los datos y de la información que se requiera extraer. "
   ]
  },
  {
   "cell_type": "markdown",
   "id": "b2bc1f66-e57b-4737-b3a7-9290d08852e1",
   "metadata": {},
   "source": [
    "<div class=\"alert alert-block alert-success\">\n",
    "<b>.: Fin del Subtema :.</b>\n",
    "</div>\n",
    "\n",
    "***Liga de aceso al siguiente Subtema:*** \n",
    "<br>[h. Series de Tiempo y Estacionariedad](h.%20Series%20de%20Tiempo%20y%20Estacionariedad.ipynb)"
   ]
  }
 ],
 "metadata": {
  "kernelspec": {
   "display_name": "Python 3 (ipykernel)",
   "language": "python",
   "name": "python3"
  },
  "language_info": {
   "codemirror_mode": {
    "name": "ipython",
    "version": 3
   },
   "file_extension": ".py",
   "mimetype": "text/x-python",
   "name": "python",
   "nbconvert_exporter": "python",
   "pygments_lexer": "ipython3",
   "version": "3.8.19"
  }
 },
 "nbformat": 4,
 "nbformat_minor": 5
}
