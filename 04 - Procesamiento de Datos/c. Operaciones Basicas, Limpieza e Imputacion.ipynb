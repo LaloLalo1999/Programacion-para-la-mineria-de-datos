{
 "cells": [
  {
   "cell_type": "markdown",
   "metadata": {},
   "source": [
    "<div class=\"alert alert-block alert-info\">\n",
    "<span style=\"color: rgb(0,53,91);\">\n",
    "<center><img src=\"./Imagenes/ITESO_Logo.png\" style=\"width:500px;height:142px;\" title=\"Logo ITESO\"></center>\n",
    "<font face = \"Times New Roman\" size = \"6\"><b><center>Maestría en Sistemas Computacionales</center></b></font>\n",
    "<font face = \"Times New Roman\" size = \"5\"><b><center>Programación para Análisis de Datos</center></b></font>\n",
    "\n",
    "<b><br><font face = \"Times New Roman\" size = \"4\"><center>Unidad 4: Conceptos Generales</center></font>\n",
    "<font face = \"Times New Roman\" size = \"4\"><center>Tema 4.1: Exploración, Integración y Limpieza de Datos</center></font>\n",
    "<font face = \"Times New Roman\" size = \"4\"><center>Subtema c: Operaciones Básicas, Limpieza e Imputación</center></font></b>\n",
    "<div align=\"right\"><font face = \"Times New Roman\" size = \"2\">Dr. Iván Esteban Villalón Turrubiates (villalon@iteso.mx)</font></div>\n",
    "</span></div>"
   ]
  },
  {
   "cell_type": "markdown",
   "metadata": {},
   "source": [
    "## OPERACIONES BÁSICAS, LIMPIEZA E IMPUTACIÓN\n",
    "\n",
    "La clase **DataFrame** de **Pandas** contiene cientos de atributos y métodos que son de gran importancia para el proceso de análisis de datos. Estos pueden ser consultados en detalle por medio de [esta liga](https://pandas.pydata.org/pandas-docs/stable/reference/api/pandas.DataFrame.html).\n",
    "\n",
    "Para ejemplificar algunos de ellos, se empleará una base de datos generada por ***Internet Movie DataBase (IMDB)***, la cual puede ser empleada de manera abierta para uso personal y/o no comercial. ***IMDB*** genera varias bases de datos las cuales están disponibles de manera gratuita, se actualizan diariamente y pueden ser descargadas a través de [esta liga](https://www.imdb.com/interfaces).\n",
    "\n",
    "Debido a que son bases de datos sumamente extensas (mayores a 500MB), se contará con una versión reducida de una de ellas para este ejercicio, la cual está almacenada en un archivo de nombre `IMBD_Data.csv` que contiene 12 columnas con 1000 entradas, y todos los datos contenidos en la misma están en el idioma *inglés*. Los encabezados de las columnas de información son:\n",
    "\n",
    ">1. **Rank**: Es un número consecutivo entre 1 y 1000.\n",
    ">2. **Title**: Es el título de la película.\n",
    ">3. **Genre**: Son los géneros a los cuales pertenece la película.\n",
    ">4. **Description**: Es un texto breve con una descripción de la película.\n",
    ">5. **Director**: Es el director de la película.\n",
    ">6. **Actors**: Son los actores principales de la película.\n",
    ">7. **Year**: Es el año de la película.\n",
    ">8. **Runtime (Minutes)**: Es el tiempo de duración de la película en minutos.\n",
    ">9. **Rating**: Es una valoración entre 0 y 10 de la película proporcionado por los críticos. \n",
    ">10. **Votes**: Es la cantidad de votos de las personas que recibió la película. \n",
    ">11. **Revenue (Millions)**: Es el ingreso recibido por la película en millones de dólares americanos.\n",
    ">12. **Metascore**: Es una valoración entre 0 y 100 basada en los votos de las personas que recibió la película.\n",
    "\n",
    "Para la lectura del archivo, se importará la librería **Pandas** y se empleará el método `.read_csv()` definiendo la columna `Title` como el **Indice**, finalmente se muestra el **DataFrame**.\n",
    "\n",
    "***Nota 1:*** Podrá notarse que el tamaño del **DataFrame** se muestra como `1000 rows × 11 columns`, esto es debido a que la columna definida como **Indice** no se cuenta como parte del **DataFrame**. Por otro lado, hay que recordar que la columna que queda definida como el **Indice** del **DataFrame** siempre se mostrará un poco más abajo en relación a los nombres de las columnas restantes.\n",
    "\n",
    "***Nota 2:*** Para mostrar el **DataFrame** solo es necesario escribir el nombre del mismo (no se requiere la función `print()`), pero cuando se requiere mostrar más de un **DataFrame** en **Jupyter Notebook**, solamente el último será el que se muestre (se van mostrando uno sobre otro). Para evitarlo, se puede emplear la función `display()` para mostrar uno o varios **DataFrames** con la ventaja de que los mostrará uno después del otro. "
   ]
  },
  {
   "cell_type": "code",
   "execution_count": null,
   "metadata": {},
   "outputs": [],
   "source": [
    "#Importación de librerías\n",
    "import pandas as pd\n",
    "\n",
    "#Lectura de los datos y asignación del nombre de las películas como el índice\n",
    "movies_df = pd.read_csv(\"./Datos/IMDB_Data.csv\", index_col = 'Title')\n",
    "\n",
    "#Impresión de los Resultados\n",
    "print(\"El DataFrame es:\")\n",
    "display(movies_df)"
   ]
  },
  {
   "cell_type": "markdown",
   "metadata": {},
   "source": [
    "### Visualización de los Datos\n",
    "A manera de referencia visual y para poder corroborar que el archivo se ha leído de manera adecuada, es adecuado imprimir una parte de la base de datos. \n",
    "\n",
    "Esto se puede llevar a cabo empleando el método `.head()`, el cual muestra las **primeras** cinco filas del **DataFrame** de manera predeterminada, pero se puede dar un número distinto en el argumento si se requiere.\n",
    "\n",
    "Por ejemplo, para visualizar los primeros 10 renglones se emplea: \n",
    "```python\n",
    "movies_df.head(10)\n",
    "```"
   ]
  },
  {
   "cell_type": "code",
   "execution_count": null,
   "metadata": {},
   "outputs": [],
   "source": [
    "#Impresión de los Resultados\n",
    "print(\"El DataFrame es:\")\n",
    "movies_df.head(10)"
   ]
  },
  {
   "cell_type": "markdown",
   "metadata": {},
   "source": [
    "De manera similar, para visualizar los **últimos** cinco renglones (de manera predeterminada) se emplea el método `.tail()`, pero el valor del argumento puede cambiar para visualizar una cantidad distinta.\n",
    "\n",
    "Por ejemplo, para visualizar los últimos 10 renglones será:"
   ]
  },
  {
   "cell_type": "code",
   "execution_count": null,
   "metadata": {},
   "outputs": [],
   "source": [
    "#Impresión de los Resultados\n",
    "print(\"El DataFrame es:\")\n",
    "movies_df.tail(10)"
   ]
  },
  {
   "cell_type": "markdown",
   "metadata": {},
   "source": [
    "### Obtener Información de los Datos\n",
    "El método `.info()` es uno de los primeros comandos que se pueden emplear después de cargar los datos, proporciona los detalles más esenciales acerca de los datos contenidos en el **DataFrame** como:\n",
    "\n",
    "* El número de filas y columnas.\n",
    "* La cantidad de valores nulos presentes.\n",
    "* El tipo de datos en cada columna. \n",
    "* La cantidad de memoria que el **DataFrame** está empleando. \n",
    "\n",
    "En esta base de datos de ***IMDB*** se tienen algunos valores nulos en las columnas `Revenue` y `Metascore` para poder analizar una manera de rellenarlos (se verá posteriormente).\n",
    "\n",
    "Revisar los tipos de datos es de gran utilidad, por ejemplo, si se carga un archivo `JSON` y los valores enteros en el mismo fueron cargados como tipo cadena, al momento de realizar alguna operación aritmética con ellos habrá una excepción del tipo ***unsupported operand***, esto debido a que no se pueden realizar operaciones matemáticas con cadenas. El emplear el método `.info()` aporta una utilidad rápida para corroborar el formato adecuado de los datos, su aplicación es sencilla:"
   ]
  },
  {
   "cell_type": "code",
   "execution_count": null,
   "metadata": {},
   "outputs": [],
   "source": [
    "#Impresión de los Resultados\n",
    "print(\"La Información del DataFrame es:\\n\")\n",
    "movies_df.info()"
   ]
  },
  {
   "cell_type": "markdown",
   "metadata": {},
   "source": [
    "Otro método de gran utilidad es `.shape`, el cual proporciona una Tupla con la cantidad de renglones y columnas en formato `(renglones, columnas)`.\n",
    "\n",
    "En el proceso de limpieza de datos se emplea mucho este método, por ejemplo, cuando se hace filtrado de renglones a través de varios criterios, es posible indentificar la cantidad de ellos que fueron removidos.\n",
    "\n",
    "***Nota:*** Es importante recalcar que la sintaxis para el método `.shape` no incluye paréntesis y regresa una simple Tupla. Se cuenta con **1000 renglones** y **12 columnas** en el DataFrame que se ha cargado, y estos valores se pueden asignar a variables. Hay que recordar que la columna definida como **Indice** no se cuenta como parte del **DataFrame**."
   ]
  },
  {
   "cell_type": "code",
   "execution_count": null,
   "metadata": {},
   "outputs": [],
   "source": [
    "#Impresión de los Resultados\n",
    "print(\"La Información del DataFrame es:\")\n",
    "movies_df.shape"
   ]
  },
  {
   "cell_type": "markdown",
   "metadata": {},
   "source": [
    "### Manejo de Datos Duplicados\n",
    "La base de datos que se está empleando de ***IMDB*** no contiene renglones duplicados, sin embargo es importante verificar que no se estén agregando renglones que ya existen. \n",
    "\n",
    "Para ello, una manera simple es agregar el **DataFrame** a sí mismo empleando el método `append()`, el cual regresará una copia pero sin modificar el **DataFrame** original. Esta copia se captura en un nuevo **DataFrame** llamado `temp_df` para no emplear los datos originales. \n",
    "\n",
    "Una vez que se revisa el tamaño de esta copia con el método `.shape`, es notorio ver que la cantidad de renglones es el doble. A partir de esto, se pueden eliminar los renglones duplicados:"
   ]
  },
  {
   "cell_type": "code",
   "execution_count": null,
   "metadata": {},
   "outputs": [],
   "source": [
    "#Copia y agregado del DataFrame original\n",
    "temp_df = movies_df.append(movies_df)\n",
    "\n",
    "#Impresión de los Resultados\n",
    "print(\"La Información del nuevo DataFrame es:\")\n",
    "temp_df.shape"
   ]
  },
  {
   "cell_type": "markdown",
   "metadata": {},
   "source": [
    "De manera similar al método `append()`, el método `drop_duplicates()` regresa una copia del **DataFrame** pero con los renglones duplicados ya removidos. \n",
    "\n",
    "Al verificar su extensión con el método `.shape` se puede ver que el tamaño original de la base de datos se recupera."
   ]
  },
  {
   "cell_type": "code",
   "execution_count": null,
   "metadata": {},
   "outputs": [],
   "source": [
    "#Eliminación de renglones duplicados\n",
    "temp_df = temp_df.drop_duplicates()\n",
    "\n",
    "#Impresión de los Resultados\n",
    "print(\"La Información del nuevo DataFrame es:\")\n",
    "temp_df.shape"
   ]
  },
  {
   "cell_type": "markdown",
   "metadata": {},
   "source": [
    "Para no tener que asignar el **DataFrame** a la misma variable como se realizó en este ejemplo, **Pandas** proporciona el argumento `inplace` en varios de sus métodos. Al emplear `inplace = True` se modificará el **DataFrame** original:"
   ]
  },
  {
   "cell_type": "code",
   "execution_count": null,
   "metadata": {},
   "outputs": [],
   "source": [
    "#Eliminación de renglones duplicados\n",
    "temp_df.drop_duplicates(inplace = True)\n",
    "\n",
    "#Impresión de los Resultados\n",
    "print(\"La Información del nuevo DataFrame es:\")\n",
    "temp_df.shape"
   ]
  },
  {
   "cell_type": "markdown",
   "metadata": {},
   "source": [
    "De esta manera, la variable `temp_df` *tendrá* los datos transformados automáticamente.\n",
    "\n",
    "Otro argumento importante del método `drop_duplicates()` es `keep`, el cual tiene tres alternativas:\n",
    "\n",
    "* `first`: Elimina los duplicados excepto la primer ocurrencia (predeterminado).\n",
    "* `last`: Elimina los duplicados excepto la última ocurrencia.\n",
    "* `False`: Elimina todos los duplicados.\n",
    "\n",
    "Debido a que no se empleó el argumento `keep`en el ejemplo, se aplica el valor `first` de manera predeterminada. Esto significa que si dos renglones tienen los mismos valores, **Pandas** eliminará el segundo renglón pero conservará el primero.\n",
    "\n",
    "Si se emplea `False` se eliminarán todos los duplicados. Para ejemplificarlo: "
   ]
  },
  {
   "cell_type": "code",
   "execution_count": null,
   "metadata": {},
   "outputs": [],
   "source": [
    "#Copia y agregado del DataFrame original\n",
    "temp_df = movies_df.append(movies_df)\n",
    "\n",
    "#Eliminación de todos los duplicados\n",
    "temp_df.drop_duplicates(inplace = True, keep = False)\n",
    "\n",
    "#Impresión de los Resultados\n",
    "print(\"La Información del nuevo DataFrame es:\")\n",
    "temp_df.shape"
   ]
  },
  {
   "cell_type": "markdown",
   "metadata": {},
   "source": [
    "### Limpieza de Columnas\n",
    "En muchas ocasiones, las bases de datos pueden tener nombres extensos con símbolos, palabras en mayúsculas y minúsculas, espacios y tipografías. Para realizar la selección de datos a través de columnas empleando nombres sencillos, es necesario tomar tiempo para hacer una limpieza de esos nombres. \n",
    "\n",
    "Primeramente, podemos imprimir los encabezados (nombres de columnas) de nuestra base de datos empleando el método `.columns`, el cual es de gran ayuda cuando se requiere renombrar alguna columna o si se está recibiendo un ***Key Error*** al momento de seleccionar una columna en particular.\n",
    "\n",
    "Esto es:"
   ]
  },
  {
   "cell_type": "code",
   "execution_count": null,
   "metadata": {},
   "outputs": [],
   "source": [
    "#Mostrar los Nombres de los Encabezados\n",
    "movies_df.columns"
   ]
  },
  {
   "cell_type": "markdown",
   "metadata": {},
   "source": [
    "Se puede emplear el método `.rename()` para cambiar el nombre a alguna columna en particular o a todas ellas a través de un **Diccionario**. \n",
    "\n",
    "Por ejemplo, para no tener encabezados con paréntesis incluidos: "
   ]
  },
  {
   "cell_type": "code",
   "execution_count": null,
   "metadata": {},
   "outputs": [],
   "source": [
    "#Renombrado de Encabezados\n",
    "movies_df.rename(columns = {\n",
    "        'Runtime (Minutes)': 'Runtime', \n",
    "        'Revenue (Millions)': 'Revenue'\n",
    "    }, inplace = True)\n",
    "\n",
    "#Mostrar los Nombres de los Encabezados\n",
    "movies_df.columns"
   ]
  },
  {
   "cell_type": "markdown",
   "metadata": {},
   "source": [
    "Es posible hacer que todas las letras estén en mayúsculas. Pero para evitar hacerlo de manera manual, se puede aplicar la siguiente función directamente sobre el método `.columns`: \n",
    "```Python\n",
    "col.upper() for col in movies_df\n",
    "```"
   ]
  },
  {
   "cell_type": "code",
   "execution_count": null,
   "metadata": {},
   "outputs": [],
   "source": [
    "#Cambio de Encabezados a Mayúsculas\n",
    "movies_df.columns = [col.upper() for col in movies_df]\n",
    "\n",
    "#Mostrar los Nombres de los Encabezados\n",
    "movies_df.columns"
   ]
  },
  {
   "cell_type": "markdown",
   "metadata": {},
   "source": [
    "De manera similar, es posible hacer que todas las letras estén en minúsculas aplicando la siguiente función directamente sobre el método `.columns`: \n",
    "```Python\n",
    "col.lower() for col in movies_df\n",
    "```"
   ]
  },
  {
   "cell_type": "code",
   "execution_count": null,
   "metadata": {},
   "outputs": [],
   "source": [
    "#Cambio de Encabezados a Minúsculas\n",
    "movies_df.columns = [col.lower() for col in movies_df]\n",
    "\n",
    "#Mostrar los Nombres de los Encabezados\n",
    "movies_df.columns"
   ]
  },
  {
   "cell_type": "markdown",
   "metadata": {},
   "source": [
    "### Manejo de Valores Nulos\n",
    "En la etapa de exploración de datos, es muy probable que exitan ***valores perdidos o nulos***, los cuales son marcadores de posición (*placeholders*) para valores no existentes. Lo más común es ver `None` en **Python**, o `np.nan` y `NaN` en **NumPy**, cada uno de ellos se manejan de manera distinta dependiendo de las situaciones.\n",
    "\n",
    "Hay dos opciones para el manejo de ***valores nulos***:\n",
    "\n",
    "1. Eliminar el renglón o la columna que contenga ***valores nulos***. \n",
    "2. Reemplazar los ***valores nulos*** con valores que no sean nulos, es una operación conocida como **Imputación**.\n",
    "\n",
    "Para la base de datos que estamos usando, es posible determinar la cantidad de ***valores nulos*** en cada columna por medio del método `.isnull()`, el cual regresa un **DataFrame** donde cada celda contiene un valor booleano (*True / False*) dependiendo del estado de dicha celda, esto es:"
   ]
  },
  {
   "cell_type": "code",
   "execution_count": null,
   "metadata": {},
   "outputs": [],
   "source": [
    "#Verificación de Valores Nulos\n",
    "movies_df.isnull()"
   ]
  },
  {
   "cell_type": "markdown",
   "metadata": {},
   "source": [
    "Para contar el número de ***valores nulos*** en cada columna, se puede usar una función de agregación para realizar el conteo, en otras palabras, se puede escribir como `.isnull().sum()`.\n",
    "\n",
    "El método `.isnull()` suele no ser muy útil por sí mismo, pero en combinación de otros métodos como `.sum()` es de gran utilidad.\n",
    "\n",
    "Es posible ver la base de datos tiene **128** valores perdidos en la columna de nombre `revenue`, y **64** valores perdidos en la columna de nombre `metascore`."
   ]
  },
  {
   "cell_type": "code",
   "execution_count": null,
   "metadata": {},
   "outputs": [],
   "source": [
    "#Conteo de Valores Nulos\n",
    "movies_df.isnull().sum()"
   ]
  },
  {
   "cell_type": "markdown",
   "metadata": {},
   "source": [
    "### Eliminar Valores Nulos\n",
    "Los científicos de datos y analistas suelen enfrentarse al dilema de eliminar o modificar ***valores nulos***, es una decisión que depende completamente del conocimiento de los datos y su contexto. Por lo mismo, eliminar los ***valores nulos*** solo se recomienda si existe una cantidad muy pequeña de datos nulos, o si no son verdaderamente representativos como para afectar el conjunto general de datos. \n",
    "\n",
    "El proceso es sencillo empleando el método `.dropna()`, pero esta operación eliminará cualquier **renglón** que tenga al menos un ***valor nulo***, pero regresará un nuevo **DataFrame** para no alterar el original. \n",
    "\n",
    "La documentación del método `.dropna()` puede ser consultada [en esta liga](https://pandas.pydata.org/pandas-docs/stable/reference/api/pandas.DataFrame.dropna.html).\n",
    "\n",
    "***Nota:*** Es válido usar el argumento `inplace = True` en este método para que se modifique el **DataFrame** original."
   ]
  },
  {
   "cell_type": "code",
   "execution_count": null,
   "metadata": {},
   "outputs": [],
   "source": [
    "#Eliminación de Renglones con Valores Nulos\n",
    "no_ren_df = movies_df.dropna()\n",
    "\n",
    "#Verificación de Valores Nulos\n",
    "no_ren_df.isnull().sum()"
   ]
  },
  {
   "cell_type": "markdown",
   "metadata": {},
   "source": [
    "Esta operación removió 162 renglones donde las columnas `revenue` y `metascore` tenían ***valores nulos***. Esto puede interpretarse como una enorme pérdida de información debido a que existe una gran cantidad de valores adecuados que fueron perdidos, por lo mismo se puede ver la posibilidad de realizar la **Imputación** de los valores. \n",
    "\n",
    "Además de eliminar renglones, se pueden eliminar las columnas que tienen valores nulos empleando el argumento `axis=1` dentro del método `.dropna()`, esto es:"
   ]
  },
  {
   "cell_type": "code",
   "execution_count": null,
   "metadata": {},
   "outputs": [],
   "source": [
    "#Eliminación de Columnas con Valores Nulos\n",
    "no_col_df = movies_df.dropna(axis = 1)\n",
    "\n",
    "#Verificación de Valores Nulos\n",
    "no_col_df.isnull().sum()"
   ]
  },
  {
   "cell_type": "markdown",
   "metadata": {},
   "source": [
    "Para la base de datos empleada, esta operación eliminará las columnas `revenue` y `metascore`.\n",
    "\n",
    "**Nota**: ¿Cuál es la razón del parámetro `axis = 1`?\n",
    "\n",
    "No es muy obvio el motivo por el cual se emplea `axis` y por qué su valor debe ser igual a 1 para que afecte a las columnas. Sin embargo, la salida del método `.shape` es:"
   ]
  },
  {
   "cell_type": "code",
   "execution_count": null,
   "metadata": {},
   "outputs": [],
   "source": [
    "#Impresión de los Resultados\n",
    "print(\"La Información del nuevo DataFrame es:\")\n",
    "movies_df.shape"
   ]
  },
  {
   "cell_type": "markdown",
   "metadata": {},
   "source": [
    "De este resultado es posibe ver que el número de **renglones** está en el índice 0 de la **Tupla**, y el número de **columnas** está en el índice 1. Es por ello que el parámetro `axis = 1` afecta las columnas, esto viene heredado de **NumPy**."
   ]
  },
  {
   "cell_type": "markdown",
   "metadata": {},
   "source": [
    "### Imputación de Datos\n",
    "La **Imputación** es una técnica convencional de ingeniería que se emplea para mantener datos relevantes que contienen ***valores nulos***. \n",
    "\n",
    "Para evitar que se pierdan datos de la base de datos original, generalmente se emplean valores como **media** y **mediana** para **Imputar** el dato faltante. \n",
    "\n",
    "Como ejemplo, se hará la **Imputación** de los valores nulos en la columna `revenue`. \n",
    "\n",
    "Para ralizar la **Imputación** de los ***valores nulos*** de la columna `revenue`, es posible emplear el valor de la **media**, el cual se calcula a través del método `.mean()` de la siguiente manera: "
   ]
  },
  {
   "cell_type": "code",
   "execution_count": null,
   "metadata": {},
   "outputs": [],
   "source": [
    "#Determinación del Valor de la Media de la Columna\n",
    "revenue_mean = movies_df['revenue'].mean()\n",
    "\n",
    "#Impresión de los Resultados\n",
    "print(\"El valor de la Media de la columna es: %.2f\" % revenue_mean)"
   ]
  },
  {
   "cell_type": "markdown",
   "metadata": {},
   "source": [
    "Con este valor de **media**, se llenan los ***valores nulos*** de la columna empleando el método `.fillna()` de la siguiente manera:"
   ]
  },
  {
   "cell_type": "code",
   "execution_count": null,
   "metadata": {},
   "outputs": [],
   "source": [
    "#Asignación de Valores de Media a los Valores Nulos\n",
    "movies_df['revenue'].fillna(revenue_mean, inplace = True)"
   ]
  },
  {
   "cell_type": "markdown",
   "metadata": {},
   "source": [
    "De esta manera se han reemplazados todos los ***valores nulos*** de la columna `revenue` con el valor de la **media** de la columna. \n",
    "\n",
    "***Nota:*** Al emplear `inplace = True`, automáticamente se actualizan los valores original del **DataFrame** `movies_df`."
   ]
  },
  {
   "cell_type": "code",
   "execution_count": null,
   "metadata": {},
   "outputs": [],
   "source": [
    "#Conteo de Valores Nulos\n",
    "movies_df.isnull().sum()"
   ]
  },
  {
   "cell_type": "markdown",
   "metadata": {},
   "source": [
    "Realizar la **Imputación** de una columna con el mismo valor es un ejemplo básico. Se podria realizar una **Imputación** mucho más adecuada considerando elementos como `Genre` o `Director`. \n",
    "\n",
    "Por ejemplo, se puede calcular la **media** de la columna `revenue` para cada género de manera individual, y aplicarlo solo a los ***valores nulos*** que son del mismo género."
   ]
  },
  {
   "cell_type": "markdown",
   "metadata": {},
   "source": [
    "### Comprendiendo las Variables\n",
    "El uso del método `.describe()` en un **DataFrame** proporciona el resumen de datos estadísticos para cada una de las columnas que contienen valores numéricos.\n",
    "\n",
    "La documentación del método `.describe()` puede ser consultada [en esta liga](https://pandas.pydata.org/pandas-docs/stable/reference/api/pandas.DataFrame.describe.html)."
   ]
  },
  {
   "cell_type": "code",
   "execution_count": null,
   "metadata": {},
   "outputs": [],
   "source": [
    "#Valores Estadísticos de las Columnas\n",
    "movies_df.describe()"
   ]
  },
  {
   "cell_type": "markdown",
   "metadata": {},
   "source": [
    "El método `.describe()` también puede proporcionar para columnas en específico:\n",
    "\n",
    "* El conteo de renglones.\n",
    "* La cantidad de categorías únicas.\n",
    "* La categoría más importante (mediana).\n",
    "* La frecuencia de la categoría más importante.\n",
    "\n",
    "Para ello, se debe especificar por medio de corchetes el encabezado de la columna de interés como `['columna']`, por ejemplo para la columna `genre` será:"
   ]
  },
  {
   "cell_type": "code",
   "execution_count": null,
   "metadata": {},
   "outputs": [],
   "source": [
    "#Características de una Columna\n",
    "movies_df['genre'].describe()"
   ]
  },
  {
   "cell_type": "markdown",
   "metadata": {},
   "source": [
    "Esto indica que para la columna `genre` tenemos que:\n",
    "* Tiene 1000 renglones.\n",
    "* Contienen 207 valores únicos.\n",
    "* El valor que más se repite es `Action/Adventure/Sci-Fi`.\n",
    "* El valor que más se repite tiene una frecuencia de 50 repeticiones.\n",
    "\n",
    "Por otro lado, el método `.value_counts()` muestra la frecuencia de todos los valores en una columna, este método se puede aplicar de la siguiente manera:"
   ]
  },
  {
   "cell_type": "code",
   "execution_count": null,
   "metadata": {},
   "outputs": [],
   "source": [
    "#Frecuencia de Valores en una Columna\n",
    "movies_df['genre'].value_counts().head(10)"
   ]
  },
  {
   "cell_type": "markdown",
   "metadata": {},
   "source": [
    "### Relaciones entre las Variables\n",
    "Empleando el método de **Correlación** definido por `.corr()`, se pueden general las relaciones entre las variables continuas, mostrando una **Tabla de Correlación** la cual es de gran uso para ciertos tipos de análisis.\n",
    "\n",
    "La documentación del método `.corr()` de **Pandas** puede ser consultada [en esta liga](https://pandas.pydata.org/pandas-docs/stable/reference/api/pandas.DataFrame.corr.html)."
   ]
  },
  {
   "cell_type": "code",
   "execution_count": null,
   "metadata": {},
   "outputs": [],
   "source": [
    "#Tabla de Correlación\n",
    "movies_df.corr()"
   ]
  },
  {
   "cell_type": "markdown",
   "metadata": {},
   "source": [
    "Las **Tablas de Correlación** son representaciones numéricas de las relaciones en la base de datos.\n",
    "\n",
    "Los valores positivos indican una correlación positiva (ambas variables van en incremento), y un valor negativo representa una correlación inversa (una variable incrementa mientras que la otra decrementa). El valor de la correlación está normalizado (0 a 1).\n",
    "\n",
    "Se puede ver que cada renglón tiene una correlación de 1 con su valor en la columna, lo cual es obvio. Pero por ejemplo, la correlación de `votes` con `revenue` es 0.6, lo cual puede proporcionar información relevante para un análisis en particular.\n",
    "\n",
    "La **Tabla de Correlación** es una **Matriz de Correlación**, la cual puede ser interpretada de una manera muy sencilla al visualizarla gráficamente. "
   ]
  },
  {
   "cell_type": "markdown",
   "metadata": {},
   "source": [
    "### Guardar los Cambios en un Archivo CSV\n",
    "\n",
    "Finalmente, los datos del **DataFrame** `movies_df` que ya han sido actualizados serán guardados en un archivo con formato `CSV` por medio del método `.to_csv()` de **Pandas**, donde el argumento corresponde al nombre del archivo."
   ]
  },
  {
   "cell_type": "code",
   "execution_count": null,
   "metadata": {},
   "outputs": [],
   "source": [
    "#Guardado del Archivo en formato CSV\n",
    "movies_df.to_csv('./Guardados/movies_df.csv')"
   ]
  },
  {
   "cell_type": "markdown",
   "metadata": {},
   "source": [
    "<div class=\"alert alert-block alert-success\">\n",
    "<b>.: Fin del Subtema :.</b>\n",
    "</div>\n",
    "\n",
    "***Liga de aceso al siguiente Subtema:*** \n",
    "<br>[d. Extracción de Datos, Filtros y Funciones](d.%20Extraccion%20de%20Datos,%20Filtros%20y%20Funciones.ipynb)"
   ]
  }
 ],
 "metadata": {
  "kernelspec": {
   "display_name": "Python 3 (ipykernel)",
   "language": "python",
   "name": "python3"
  },
  "language_info": {
   "codemirror_mode": {
    "name": "ipython",
    "version": 3
   },
   "file_extension": ".py",
   "mimetype": "text/x-python",
   "name": "python",
   "nbconvert_exporter": "python",
   "pygments_lexer": "ipython3",
   "version": "3.8.19"
  }
 },
 "nbformat": 4,
 "nbformat_minor": 4
}
