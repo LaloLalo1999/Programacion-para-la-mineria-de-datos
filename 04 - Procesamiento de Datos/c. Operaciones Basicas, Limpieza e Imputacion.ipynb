{
 "cells": [
  {
   "cell_type": "markdown",
   "metadata": {},
   "source": [
    "<div class=\"alert alert-block alert-info\">\n",
    "<span style=\"color: rgb(0,53,91);\">\n",
    "<center><img src=\"./Imagenes/ITESO_Logo.png\" style=\"width:500px;height:142px;\" title=\"Logo ITESO\"></center>\n",
    "<font face = \"Times New Roman\" size = \"6\"><b><center>Maestría en Sistemas Computacionales</center></b></font>\n",
    "<font face = \"Times New Roman\" size = \"5\"><b><center>Programación para Análisis de Datos</center></b></font>\n",
    "\n",
    "<b><br><font face = \"Times New Roman\" size = \"4\"><center>Unidad 4: Conceptos Generales</center></font>\n",
    "<font face = \"Times New Roman\" size = \"4\"><center>Tema 4.1: Exploración, Integración y Limpieza de Datos</center></font>\n",
    "<font face = \"Times New Roman\" size = \"4\"><center>Subtema c: Operaciones Básicas, Limpieza e Imputación</center></font></b>\n",
    "<div align=\"right\"><font face = \"Times New Roman\" size = \"2\">Dr. Iván Esteban Villalón Turrubiates (villalon@iteso.mx)</font></div>\n",
    "</span></div>"
   ]
  },
  {
   "cell_type": "markdown",
   "metadata": {},
   "source": [
    "## OPERACIONES BÁSICAS, LIMPIEZA E IMPUTACIÓN\n",
    "\n",
    "La clase **DataFrame** de **Pandas** contiene cientos de atributos y métodos que son de gran importancia para el proceso de análisis de datos. Estos pueden ser consultados en detalle por medio de [esta liga](https://pandas.pydata.org/pandas-docs/stable/reference/api/pandas.DataFrame.html).\n",
    "\n",
    "Para ejemplificar algunos de ellos, se empleará una base de datos generada por ***Internet Movie DataBase (IMDB)***, la cual puede ser empleada de manera abierta para uso personal y/o no comercial. ***IMDB*** genera varias bases de datos las cuales están disponibles de manera gratuita, se actualizan diariamente y pueden ser descargadas a través de [esta liga](https://www.imdb.com/interfaces).\n",
    "\n",
    "Debido a que son bases de datos sumamente extensas (mayores a 500MB), se contará con una versión reducida de una de ellas para este ejercicio, la cual está almacenada en un archivo de nombre `IMBD_Data.csv` que contiene 12 columnas con 1000 entradas, y todos los datos contenidos en la misma están en el idioma *inglés*. Los encabezados de las columnas de información son:\n",
    "\n",
    ">1. **Rank**: Es un número consecutivo entre 1 y 1000.\n",
    ">2. **Title**: Es el título de la película.\n",
    ">3. **Genre**: Son los géneros a los cuales pertenece la película.\n",
    ">4. **Description**: Es un texto breve con una descripción de la película.\n",
    ">5. **Director**: Es el director de la película.\n",
    ">6. **Actors**: Son los actores principales de la película.\n",
    ">7. **Year**: Es el año de la película.\n",
    ">8. **Runtime (Minutes)**: Es el tiempo de duración de la película en minutos.\n",
    ">9. **Rating**: Es una valoración entre 0 y 10 de la película proporcionado por los críticos. \n",
    ">10. **Votes**: Es la cantidad de votos de las personas que recibió la película. \n",
    ">11. **Revenue (Millions)**: Es el ingreso recibido por la película en millones de dólares americanos.\n",
    ">12. **Metascore**: Es una valoración entre 0 y 100 basada en los votos de las personas que recibió la película.\n",
    "\n",
    "Para la lectura del archivo, se importará la librería **Pandas** y se empleará el método `.read_csv()` definiendo la columna `Title` como el **Indice**, finalmente se muestra el **DataFrame**.\n",
    "\n",
    "***Nota 1:*** Podrá notarse que el tamaño del **DataFrame** se muestra como `1000 rows × 11 columns`, esto es debido a que la columna definida como **Indice** no se cuenta como parte del **DataFrame**. Por otro lado, hay que recordar que la columna que queda definida como el **Indice** del **DataFrame** siempre se mostrará un poco más abajo en relación a los nombres de las columnas restantes.\n",
    "\n",
    "***Nota 2:*** Para mostrar el **DataFrame** solo es necesario escribir el nombre del mismo (no se requiere la función `print()`), pero cuando se requiere mostrar más de un **DataFrame** en **Jupyter Notebook**, solamente el último será el que se muestre (se van mostrando uno sobre otro). Para evitarlo, se puede emplear la función `display()` para mostrar uno o varios **DataFrames** con la ventaja de que los mostrará uno después del otro. "
   ]
  },
  {
   "cell_type": "code",
   "execution_count": 1,
   "metadata": {},
   "outputs": [
    {
     "name": "stdout",
     "output_type": "stream",
     "text": [
      "El DataFrame es:\n"
     ]
    },
    {
     "data": {
      "text/html": [
       "<div>\n",
       "<style scoped>\n",
       "    .dataframe tbody tr th:only-of-type {\n",
       "        vertical-align: middle;\n",
       "    }\n",
       "\n",
       "    .dataframe tbody tr th {\n",
       "        vertical-align: top;\n",
       "    }\n",
       "\n",
       "    .dataframe thead th {\n",
       "        text-align: right;\n",
       "    }\n",
       "</style>\n",
       "<table border=\"1\" class=\"dataframe\">\n",
       "  <thead>\n",
       "    <tr style=\"text-align: right;\">\n",
       "      <th></th>\n",
       "      <th>Rank</th>\n",
       "      <th>Genre</th>\n",
       "      <th>Description</th>\n",
       "      <th>Director</th>\n",
       "      <th>Actors</th>\n",
       "      <th>Year</th>\n",
       "      <th>Runtime (Minutes)</th>\n",
       "      <th>Rating</th>\n",
       "      <th>Votes</th>\n",
       "      <th>Revenue (Millions)</th>\n",
       "      <th>Metascore</th>\n",
       "    </tr>\n",
       "    <tr>\n",
       "      <th>Title</th>\n",
       "      <th></th>\n",
       "      <th></th>\n",
       "      <th></th>\n",
       "      <th></th>\n",
       "      <th></th>\n",
       "      <th></th>\n",
       "      <th></th>\n",
       "      <th></th>\n",
       "      <th></th>\n",
       "      <th></th>\n",
       "      <th></th>\n",
       "    </tr>\n",
       "  </thead>\n",
       "  <tbody>\n",
       "    <tr>\n",
       "      <th>Guardians of the Galaxy</th>\n",
       "      <td>1</td>\n",
       "      <td>Action,Adventure,Sci-Fi</td>\n",
       "      <td>A group of intergalactic criminals are forced ...</td>\n",
       "      <td>James Gunn</td>\n",
       "      <td>Chris Pratt, Vin Diesel, Bradley Cooper, Zoe S...</td>\n",
       "      <td>2014</td>\n",
       "      <td>121</td>\n",
       "      <td>8.1</td>\n",
       "      <td>757074</td>\n",
       "      <td>333.13</td>\n",
       "      <td>76.0</td>\n",
       "    </tr>\n",
       "    <tr>\n",
       "      <th>Prometheus</th>\n",
       "      <td>2</td>\n",
       "      <td>Adventure,Mystery,Sci-Fi</td>\n",
       "      <td>Following clues to the origin of mankind, a te...</td>\n",
       "      <td>Ridley Scott</td>\n",
       "      <td>Noomi Rapace, Logan Marshall-Green, Michael Fa...</td>\n",
       "      <td>2012</td>\n",
       "      <td>124</td>\n",
       "      <td>7.0</td>\n",
       "      <td>485820</td>\n",
       "      <td>126.46</td>\n",
       "      <td>65.0</td>\n",
       "    </tr>\n",
       "    <tr>\n",
       "      <th>Split</th>\n",
       "      <td>3</td>\n",
       "      <td>Horror,Thriller</td>\n",
       "      <td>Three girls are kidnapped by a man with a diag...</td>\n",
       "      <td>M. Night Shyamalan</td>\n",
       "      <td>James McAvoy, Anya Taylor-Joy, Haley Lu Richar...</td>\n",
       "      <td>2016</td>\n",
       "      <td>117</td>\n",
       "      <td>7.3</td>\n",
       "      <td>157606</td>\n",
       "      <td>138.12</td>\n",
       "      <td>62.0</td>\n",
       "    </tr>\n",
       "    <tr>\n",
       "      <th>Sing</th>\n",
       "      <td>4</td>\n",
       "      <td>Animation,Comedy,Family</td>\n",
       "      <td>In a city of humanoid animals, a hustling thea...</td>\n",
       "      <td>Christophe Lourdelet</td>\n",
       "      <td>Matthew McConaughey,Reese Witherspoon, Seth Ma...</td>\n",
       "      <td>2016</td>\n",
       "      <td>108</td>\n",
       "      <td>7.2</td>\n",
       "      <td>60545</td>\n",
       "      <td>270.32</td>\n",
       "      <td>59.0</td>\n",
       "    </tr>\n",
       "    <tr>\n",
       "      <th>Suicide Squad</th>\n",
       "      <td>5</td>\n",
       "      <td>Action,Adventure,Fantasy</td>\n",
       "      <td>A secret government agency recruits some of th...</td>\n",
       "      <td>David Ayer</td>\n",
       "      <td>Will Smith, Jared Leto, Margot Robbie, Viola D...</td>\n",
       "      <td>2016</td>\n",
       "      <td>123</td>\n",
       "      <td>6.2</td>\n",
       "      <td>393727</td>\n",
       "      <td>325.02</td>\n",
       "      <td>40.0</td>\n",
       "    </tr>\n",
       "    <tr>\n",
       "      <th>...</th>\n",
       "      <td>...</td>\n",
       "      <td>...</td>\n",
       "      <td>...</td>\n",
       "      <td>...</td>\n",
       "      <td>...</td>\n",
       "      <td>...</td>\n",
       "      <td>...</td>\n",
       "      <td>...</td>\n",
       "      <td>...</td>\n",
       "      <td>...</td>\n",
       "      <td>...</td>\n",
       "    </tr>\n",
       "    <tr>\n",
       "      <th>Secret in Their Eyes</th>\n",
       "      <td>996</td>\n",
       "      <td>Crime,Drama,Mystery</td>\n",
       "      <td>A tight-knit team of rising investigators, alo...</td>\n",
       "      <td>Billy Ray</td>\n",
       "      <td>Chiwetel Ejiofor, Nicole Kidman, Julia Roberts...</td>\n",
       "      <td>2015</td>\n",
       "      <td>111</td>\n",
       "      <td>6.2</td>\n",
       "      <td>27585</td>\n",
       "      <td>NaN</td>\n",
       "      <td>45.0</td>\n",
       "    </tr>\n",
       "    <tr>\n",
       "      <th>Hostel: Part II</th>\n",
       "      <td>997</td>\n",
       "      <td>Horror</td>\n",
       "      <td>Three American college students studying abroa...</td>\n",
       "      <td>Eli Roth</td>\n",
       "      <td>Lauren German, Heather Matarazzo, Bijou Philli...</td>\n",
       "      <td>2007</td>\n",
       "      <td>94</td>\n",
       "      <td>5.5</td>\n",
       "      <td>73152</td>\n",
       "      <td>17.54</td>\n",
       "      <td>46.0</td>\n",
       "    </tr>\n",
       "    <tr>\n",
       "      <th>Step Up 2: The Streets</th>\n",
       "      <td>998</td>\n",
       "      <td>Drama,Music,Romance</td>\n",
       "      <td>Romantic sparks occur between two dance studen...</td>\n",
       "      <td>Jon M. Chu</td>\n",
       "      <td>Robert Hoffman, Briana Evigan, Cassie Ventura,...</td>\n",
       "      <td>2008</td>\n",
       "      <td>98</td>\n",
       "      <td>6.2</td>\n",
       "      <td>70699</td>\n",
       "      <td>58.01</td>\n",
       "      <td>50.0</td>\n",
       "    </tr>\n",
       "    <tr>\n",
       "      <th>Search Party</th>\n",
       "      <td>999</td>\n",
       "      <td>Adventure,Comedy</td>\n",
       "      <td>A pair of friends embark on a mission to reuni...</td>\n",
       "      <td>Scot Armstrong</td>\n",
       "      <td>Adam Pally, T.J. Miller, Thomas Middleditch,Sh...</td>\n",
       "      <td>2014</td>\n",
       "      <td>93</td>\n",
       "      <td>5.6</td>\n",
       "      <td>4881</td>\n",
       "      <td>NaN</td>\n",
       "      <td>22.0</td>\n",
       "    </tr>\n",
       "    <tr>\n",
       "      <th>Nine Lives</th>\n",
       "      <td>1000</td>\n",
       "      <td>Comedy,Family,Fantasy</td>\n",
       "      <td>A stuffy businessman finds himself trapped ins...</td>\n",
       "      <td>Barry Sonnenfeld</td>\n",
       "      <td>Kevin Spacey, Jennifer Garner, Robbie Amell,Ch...</td>\n",
       "      <td>2016</td>\n",
       "      <td>87</td>\n",
       "      <td>5.3</td>\n",
       "      <td>12435</td>\n",
       "      <td>19.64</td>\n",
       "      <td>11.0</td>\n",
       "    </tr>\n",
       "  </tbody>\n",
       "</table>\n",
       "<p>1000 rows × 11 columns</p>\n",
       "</div>"
      ],
      "text/plain": [
       "                         Rank                     Genre  \\\n",
       "Title                                                     \n",
       "Guardians of the Galaxy     1   Action,Adventure,Sci-Fi   \n",
       "Prometheus                  2  Adventure,Mystery,Sci-Fi   \n",
       "Split                       3           Horror,Thriller   \n",
       "Sing                        4   Animation,Comedy,Family   \n",
       "Suicide Squad               5  Action,Adventure,Fantasy   \n",
       "...                       ...                       ...   \n",
       "Secret in Their Eyes      996       Crime,Drama,Mystery   \n",
       "Hostel: Part II           997                    Horror   \n",
       "Step Up 2: The Streets    998       Drama,Music,Romance   \n",
       "Search Party              999          Adventure,Comedy   \n",
       "Nine Lives               1000     Comedy,Family,Fantasy   \n",
       "\n",
       "                                                               Description  \\\n",
       "Title                                                                        \n",
       "Guardians of the Galaxy  A group of intergalactic criminals are forced ...   \n",
       "Prometheus               Following clues to the origin of mankind, a te...   \n",
       "Split                    Three girls are kidnapped by a man with a diag...   \n",
       "Sing                     In a city of humanoid animals, a hustling thea...   \n",
       "Suicide Squad            A secret government agency recruits some of th...   \n",
       "...                                                                    ...   \n",
       "Secret in Their Eyes     A tight-knit team of rising investigators, alo...   \n",
       "Hostel: Part II          Three American college students studying abroa...   \n",
       "Step Up 2: The Streets   Romantic sparks occur between two dance studen...   \n",
       "Search Party             A pair of friends embark on a mission to reuni...   \n",
       "Nine Lives               A stuffy businessman finds himself trapped ins...   \n",
       "\n",
       "                                     Director  \\\n",
       "Title                                           \n",
       "Guardians of the Galaxy            James Gunn   \n",
       "Prometheus                       Ridley Scott   \n",
       "Split                      M. Night Shyamalan   \n",
       "Sing                     Christophe Lourdelet   \n",
       "Suicide Squad                      David Ayer   \n",
       "...                                       ...   \n",
       "Secret in Their Eyes                Billy Ray   \n",
       "Hostel: Part II                      Eli Roth   \n",
       "Step Up 2: The Streets             Jon M. Chu   \n",
       "Search Party                   Scot Armstrong   \n",
       "Nine Lives                   Barry Sonnenfeld   \n",
       "\n",
       "                                                                    Actors  \\\n",
       "Title                                                                        \n",
       "Guardians of the Galaxy  Chris Pratt, Vin Diesel, Bradley Cooper, Zoe S...   \n",
       "Prometheus               Noomi Rapace, Logan Marshall-Green, Michael Fa...   \n",
       "Split                    James McAvoy, Anya Taylor-Joy, Haley Lu Richar...   \n",
       "Sing                     Matthew McConaughey,Reese Witherspoon, Seth Ma...   \n",
       "Suicide Squad            Will Smith, Jared Leto, Margot Robbie, Viola D...   \n",
       "...                                                                    ...   \n",
       "Secret in Their Eyes     Chiwetel Ejiofor, Nicole Kidman, Julia Roberts...   \n",
       "Hostel: Part II          Lauren German, Heather Matarazzo, Bijou Philli...   \n",
       "Step Up 2: The Streets   Robert Hoffman, Briana Evigan, Cassie Ventura,...   \n",
       "Search Party             Adam Pally, T.J. Miller, Thomas Middleditch,Sh...   \n",
       "Nine Lives               Kevin Spacey, Jennifer Garner, Robbie Amell,Ch...   \n",
       "\n",
       "                         Year  Runtime (Minutes)  Rating   Votes  \\\n",
       "Title                                                              \n",
       "Guardians of the Galaxy  2014                121     8.1  757074   \n",
       "Prometheus               2012                124     7.0  485820   \n",
       "Split                    2016                117     7.3  157606   \n",
       "Sing                     2016                108     7.2   60545   \n",
       "Suicide Squad            2016                123     6.2  393727   \n",
       "...                       ...                ...     ...     ...   \n",
       "Secret in Their Eyes     2015                111     6.2   27585   \n",
       "Hostel: Part II          2007                 94     5.5   73152   \n",
       "Step Up 2: The Streets   2008                 98     6.2   70699   \n",
       "Search Party             2014                 93     5.6    4881   \n",
       "Nine Lives               2016                 87     5.3   12435   \n",
       "\n",
       "                         Revenue (Millions)  Metascore  \n",
       "Title                                                   \n",
       "Guardians of the Galaxy              333.13       76.0  \n",
       "Prometheus                           126.46       65.0  \n",
       "Split                                138.12       62.0  \n",
       "Sing                                 270.32       59.0  \n",
       "Suicide Squad                        325.02       40.0  \n",
       "...                                     ...        ...  \n",
       "Secret in Their Eyes                    NaN       45.0  \n",
       "Hostel: Part II                       17.54       46.0  \n",
       "Step Up 2: The Streets                58.01       50.0  \n",
       "Search Party                            NaN       22.0  \n",
       "Nine Lives                            19.64       11.0  \n",
       "\n",
       "[1000 rows x 11 columns]"
      ]
     },
     "metadata": {},
     "output_type": "display_data"
    }
   ],
   "source": [
    "#Importación de librerías\n",
    "import pandas as pd\n",
    "\n",
    "#Lectura de los datos y asignación del nombre de las películas como el índice\n",
    "movies_df = pd.read_csv(\"./Datos/IMDB_Data.csv\", index_col = 'Title')\n",
    "\n",
    "#Impresión de los Resultados\n",
    "print(\"El DataFrame es:\")\n",
    "display(movies_df)"
   ]
  },
  {
   "cell_type": "markdown",
   "metadata": {},
   "source": [
    "### Visualización de los Datos\n",
    "A manera de referencia visual y para poder corroborar que el archivo se ha leído de manera adecuada, es adecuado imprimir una parte de la base de datos. \n",
    "\n",
    "Esto se puede llevar a cabo empleando el método `.head()`, el cual muestra las **primeras** cinco filas del **DataFrame** de manera predeterminada, pero se puede dar un número distinto en el argumento si se requiere.\n",
    "\n",
    "Por ejemplo, para visualizar los primeros 10 renglones se emplea: \n",
    "```python\n",
    "movies_df.head(10)\n",
    "```"
   ]
  },
  {
   "cell_type": "code",
   "execution_count": 2,
   "metadata": {},
   "outputs": [
    {
     "name": "stdout",
     "output_type": "stream",
     "text": [
      "El DataFrame es:\n"
     ]
    },
    {
     "data": {
      "text/html": [
       "<div>\n",
       "<style scoped>\n",
       "    .dataframe tbody tr th:only-of-type {\n",
       "        vertical-align: middle;\n",
       "    }\n",
       "\n",
       "    .dataframe tbody tr th {\n",
       "        vertical-align: top;\n",
       "    }\n",
       "\n",
       "    .dataframe thead th {\n",
       "        text-align: right;\n",
       "    }\n",
       "</style>\n",
       "<table border=\"1\" class=\"dataframe\">\n",
       "  <thead>\n",
       "    <tr style=\"text-align: right;\">\n",
       "      <th></th>\n",
       "      <th>Rank</th>\n",
       "      <th>Genre</th>\n",
       "      <th>Description</th>\n",
       "      <th>Director</th>\n",
       "      <th>Actors</th>\n",
       "      <th>Year</th>\n",
       "      <th>Runtime (Minutes)</th>\n",
       "      <th>Rating</th>\n",
       "      <th>Votes</th>\n",
       "      <th>Revenue (Millions)</th>\n",
       "      <th>Metascore</th>\n",
       "    </tr>\n",
       "    <tr>\n",
       "      <th>Title</th>\n",
       "      <th></th>\n",
       "      <th></th>\n",
       "      <th></th>\n",
       "      <th></th>\n",
       "      <th></th>\n",
       "      <th></th>\n",
       "      <th></th>\n",
       "      <th></th>\n",
       "      <th></th>\n",
       "      <th></th>\n",
       "      <th></th>\n",
       "    </tr>\n",
       "  </thead>\n",
       "  <tbody>\n",
       "    <tr>\n",
       "      <th>Guardians of the Galaxy</th>\n",
       "      <td>1</td>\n",
       "      <td>Action,Adventure,Sci-Fi</td>\n",
       "      <td>A group of intergalactic criminals are forced ...</td>\n",
       "      <td>James Gunn</td>\n",
       "      <td>Chris Pratt, Vin Diesel, Bradley Cooper, Zoe S...</td>\n",
       "      <td>2014</td>\n",
       "      <td>121</td>\n",
       "      <td>8.1</td>\n",
       "      <td>757074</td>\n",
       "      <td>333.13</td>\n",
       "      <td>76.0</td>\n",
       "    </tr>\n",
       "    <tr>\n",
       "      <th>Prometheus</th>\n",
       "      <td>2</td>\n",
       "      <td>Adventure,Mystery,Sci-Fi</td>\n",
       "      <td>Following clues to the origin of mankind, a te...</td>\n",
       "      <td>Ridley Scott</td>\n",
       "      <td>Noomi Rapace, Logan Marshall-Green, Michael Fa...</td>\n",
       "      <td>2012</td>\n",
       "      <td>124</td>\n",
       "      <td>7.0</td>\n",
       "      <td>485820</td>\n",
       "      <td>126.46</td>\n",
       "      <td>65.0</td>\n",
       "    </tr>\n",
       "    <tr>\n",
       "      <th>Split</th>\n",
       "      <td>3</td>\n",
       "      <td>Horror,Thriller</td>\n",
       "      <td>Three girls are kidnapped by a man with a diag...</td>\n",
       "      <td>M. Night Shyamalan</td>\n",
       "      <td>James McAvoy, Anya Taylor-Joy, Haley Lu Richar...</td>\n",
       "      <td>2016</td>\n",
       "      <td>117</td>\n",
       "      <td>7.3</td>\n",
       "      <td>157606</td>\n",
       "      <td>138.12</td>\n",
       "      <td>62.0</td>\n",
       "    </tr>\n",
       "    <tr>\n",
       "      <th>Sing</th>\n",
       "      <td>4</td>\n",
       "      <td>Animation,Comedy,Family</td>\n",
       "      <td>In a city of humanoid animals, a hustling thea...</td>\n",
       "      <td>Christophe Lourdelet</td>\n",
       "      <td>Matthew McConaughey,Reese Witherspoon, Seth Ma...</td>\n",
       "      <td>2016</td>\n",
       "      <td>108</td>\n",
       "      <td>7.2</td>\n",
       "      <td>60545</td>\n",
       "      <td>270.32</td>\n",
       "      <td>59.0</td>\n",
       "    </tr>\n",
       "    <tr>\n",
       "      <th>Suicide Squad</th>\n",
       "      <td>5</td>\n",
       "      <td>Action,Adventure,Fantasy</td>\n",
       "      <td>A secret government agency recruits some of th...</td>\n",
       "      <td>David Ayer</td>\n",
       "      <td>Will Smith, Jared Leto, Margot Robbie, Viola D...</td>\n",
       "      <td>2016</td>\n",
       "      <td>123</td>\n",
       "      <td>6.2</td>\n",
       "      <td>393727</td>\n",
       "      <td>325.02</td>\n",
       "      <td>40.0</td>\n",
       "    </tr>\n",
       "    <tr>\n",
       "      <th>The Great Wall</th>\n",
       "      <td>6</td>\n",
       "      <td>Action,Adventure,Fantasy</td>\n",
       "      <td>European mercenaries searching for black powde...</td>\n",
       "      <td>Yimou Zhang</td>\n",
       "      <td>Matt Damon, Tian Jing, Willem Dafoe, Andy Lau</td>\n",
       "      <td>2016</td>\n",
       "      <td>103</td>\n",
       "      <td>6.1</td>\n",
       "      <td>56036</td>\n",
       "      <td>45.13</td>\n",
       "      <td>42.0</td>\n",
       "    </tr>\n",
       "    <tr>\n",
       "      <th>La La Land</th>\n",
       "      <td>7</td>\n",
       "      <td>Comedy,Drama,Music</td>\n",
       "      <td>A jazz pianist falls for an aspiring actress i...</td>\n",
       "      <td>Damien Chazelle</td>\n",
       "      <td>Ryan Gosling, Emma Stone, Rosemarie DeWitt, J....</td>\n",
       "      <td>2016</td>\n",
       "      <td>128</td>\n",
       "      <td>8.3</td>\n",
       "      <td>258682</td>\n",
       "      <td>151.06</td>\n",
       "      <td>93.0</td>\n",
       "    </tr>\n",
       "    <tr>\n",
       "      <th>Mindhorn</th>\n",
       "      <td>8</td>\n",
       "      <td>Comedy</td>\n",
       "      <td>A has-been actor best known for playing the ti...</td>\n",
       "      <td>Sean Foley</td>\n",
       "      <td>Essie Davis, Andrea Riseborough, Julian Barrat...</td>\n",
       "      <td>2016</td>\n",
       "      <td>89</td>\n",
       "      <td>6.4</td>\n",
       "      <td>2490</td>\n",
       "      <td>NaN</td>\n",
       "      <td>71.0</td>\n",
       "    </tr>\n",
       "    <tr>\n",
       "      <th>The Lost City of Z</th>\n",
       "      <td>9</td>\n",
       "      <td>Action,Adventure,Biography</td>\n",
       "      <td>A true-life drama, centering on British explor...</td>\n",
       "      <td>James Gray</td>\n",
       "      <td>Charlie Hunnam, Robert Pattinson, Sienna Mille...</td>\n",
       "      <td>2016</td>\n",
       "      <td>141</td>\n",
       "      <td>7.1</td>\n",
       "      <td>7188</td>\n",
       "      <td>8.01</td>\n",
       "      <td>78.0</td>\n",
       "    </tr>\n",
       "    <tr>\n",
       "      <th>Passengers</th>\n",
       "      <td>10</td>\n",
       "      <td>Adventure,Drama,Romance</td>\n",
       "      <td>A spacecraft traveling to a distant colony pla...</td>\n",
       "      <td>Morten Tyldum</td>\n",
       "      <td>Jennifer Lawrence, Chris Pratt, Michael Sheen,...</td>\n",
       "      <td>2016</td>\n",
       "      <td>116</td>\n",
       "      <td>7.0</td>\n",
       "      <td>192177</td>\n",
       "      <td>100.01</td>\n",
       "      <td>41.0</td>\n",
       "    </tr>\n",
       "  </tbody>\n",
       "</table>\n",
       "</div>"
      ],
      "text/plain": [
       "                         Rank                       Genre  \\\n",
       "Title                                                       \n",
       "Guardians of the Galaxy     1     Action,Adventure,Sci-Fi   \n",
       "Prometheus                  2    Adventure,Mystery,Sci-Fi   \n",
       "Split                       3             Horror,Thriller   \n",
       "Sing                        4     Animation,Comedy,Family   \n",
       "Suicide Squad               5    Action,Adventure,Fantasy   \n",
       "The Great Wall              6    Action,Adventure,Fantasy   \n",
       "La La Land                  7          Comedy,Drama,Music   \n",
       "Mindhorn                    8                      Comedy   \n",
       "The Lost City of Z          9  Action,Adventure,Biography   \n",
       "Passengers                 10     Adventure,Drama,Romance   \n",
       "\n",
       "                                                               Description  \\\n",
       "Title                                                                        \n",
       "Guardians of the Galaxy  A group of intergalactic criminals are forced ...   \n",
       "Prometheus               Following clues to the origin of mankind, a te...   \n",
       "Split                    Three girls are kidnapped by a man with a diag...   \n",
       "Sing                     In a city of humanoid animals, a hustling thea...   \n",
       "Suicide Squad            A secret government agency recruits some of th...   \n",
       "The Great Wall           European mercenaries searching for black powde...   \n",
       "La La Land               A jazz pianist falls for an aspiring actress i...   \n",
       "Mindhorn                 A has-been actor best known for playing the ti...   \n",
       "The Lost City of Z       A true-life drama, centering on British explor...   \n",
       "Passengers               A spacecraft traveling to a distant colony pla...   \n",
       "\n",
       "                                     Director  \\\n",
       "Title                                           \n",
       "Guardians of the Galaxy            James Gunn   \n",
       "Prometheus                       Ridley Scott   \n",
       "Split                      M. Night Shyamalan   \n",
       "Sing                     Christophe Lourdelet   \n",
       "Suicide Squad                      David Ayer   \n",
       "The Great Wall                    Yimou Zhang   \n",
       "La La Land                    Damien Chazelle   \n",
       "Mindhorn                           Sean Foley   \n",
       "The Lost City of Z                 James Gray   \n",
       "Passengers                      Morten Tyldum   \n",
       "\n",
       "                                                                    Actors  \\\n",
       "Title                                                                        \n",
       "Guardians of the Galaxy  Chris Pratt, Vin Diesel, Bradley Cooper, Zoe S...   \n",
       "Prometheus               Noomi Rapace, Logan Marshall-Green, Michael Fa...   \n",
       "Split                    James McAvoy, Anya Taylor-Joy, Haley Lu Richar...   \n",
       "Sing                     Matthew McConaughey,Reese Witherspoon, Seth Ma...   \n",
       "Suicide Squad            Will Smith, Jared Leto, Margot Robbie, Viola D...   \n",
       "The Great Wall               Matt Damon, Tian Jing, Willem Dafoe, Andy Lau   \n",
       "La La Land               Ryan Gosling, Emma Stone, Rosemarie DeWitt, J....   \n",
       "Mindhorn                 Essie Davis, Andrea Riseborough, Julian Barrat...   \n",
       "The Lost City of Z       Charlie Hunnam, Robert Pattinson, Sienna Mille...   \n",
       "Passengers               Jennifer Lawrence, Chris Pratt, Michael Sheen,...   \n",
       "\n",
       "                         Year  Runtime (Minutes)  Rating   Votes  \\\n",
       "Title                                                              \n",
       "Guardians of the Galaxy  2014                121     8.1  757074   \n",
       "Prometheus               2012                124     7.0  485820   \n",
       "Split                    2016                117     7.3  157606   \n",
       "Sing                     2016                108     7.2   60545   \n",
       "Suicide Squad            2016                123     6.2  393727   \n",
       "The Great Wall           2016                103     6.1   56036   \n",
       "La La Land               2016                128     8.3  258682   \n",
       "Mindhorn                 2016                 89     6.4    2490   \n",
       "The Lost City of Z       2016                141     7.1    7188   \n",
       "Passengers               2016                116     7.0  192177   \n",
       "\n",
       "                         Revenue (Millions)  Metascore  \n",
       "Title                                                   \n",
       "Guardians of the Galaxy              333.13       76.0  \n",
       "Prometheus                           126.46       65.0  \n",
       "Split                                138.12       62.0  \n",
       "Sing                                 270.32       59.0  \n",
       "Suicide Squad                        325.02       40.0  \n",
       "The Great Wall                        45.13       42.0  \n",
       "La La Land                           151.06       93.0  \n",
       "Mindhorn                                NaN       71.0  \n",
       "The Lost City of Z                     8.01       78.0  \n",
       "Passengers                           100.01       41.0  "
      ]
     },
     "execution_count": 2,
     "metadata": {},
     "output_type": "execute_result"
    }
   ],
   "source": [
    "#Impresión de los Resultados\n",
    "print(\"El DataFrame es:\")\n",
    "movies_df.head(10)"
   ]
  },
  {
   "cell_type": "markdown",
   "metadata": {},
   "source": [
    "De manera similar, para visualizar los **últimos** cinco renglones (de manera predeterminada) se emplea el método `.tail()`, pero el valor del argumento puede cambiar para visualizar una cantidad distinta.\n",
    "\n",
    "Por ejemplo, para visualizar los últimos 10 renglones será:"
   ]
  },
  {
   "cell_type": "code",
   "execution_count": 3,
   "metadata": {},
   "outputs": [
    {
     "name": "stdout",
     "output_type": "stream",
     "text": [
      "El DataFrame es:\n"
     ]
    },
    {
     "data": {
      "text/html": [
       "<div>\n",
       "<style scoped>\n",
       "    .dataframe tbody tr th:only-of-type {\n",
       "        vertical-align: middle;\n",
       "    }\n",
       "\n",
       "    .dataframe tbody tr th {\n",
       "        vertical-align: top;\n",
       "    }\n",
       "\n",
       "    .dataframe thead th {\n",
       "        text-align: right;\n",
       "    }\n",
       "</style>\n",
       "<table border=\"1\" class=\"dataframe\">\n",
       "  <thead>\n",
       "    <tr style=\"text-align: right;\">\n",
       "      <th></th>\n",
       "      <th>Rank</th>\n",
       "      <th>Genre</th>\n",
       "      <th>Description</th>\n",
       "      <th>Director</th>\n",
       "      <th>Actors</th>\n",
       "      <th>Year</th>\n",
       "      <th>Runtime (Minutes)</th>\n",
       "      <th>Rating</th>\n",
       "      <th>Votes</th>\n",
       "      <th>Revenue (Millions)</th>\n",
       "      <th>Metascore</th>\n",
       "    </tr>\n",
       "    <tr>\n",
       "      <th>Title</th>\n",
       "      <th></th>\n",
       "      <th></th>\n",
       "      <th></th>\n",
       "      <th></th>\n",
       "      <th></th>\n",
       "      <th></th>\n",
       "      <th></th>\n",
       "      <th></th>\n",
       "      <th></th>\n",
       "      <th></th>\n",
       "      <th></th>\n",
       "    </tr>\n",
       "  </thead>\n",
       "  <tbody>\n",
       "    <tr>\n",
       "      <th>Underworld: Rise of the Lycans</th>\n",
       "      <td>991</td>\n",
       "      <td>Action,Adventure,Fantasy</td>\n",
       "      <td>An origins story centered on the centuries-old...</td>\n",
       "      <td>Patrick Tatopoulos</td>\n",
       "      <td>Rhona Mitra, Michael Sheen, Bill Nighy, Steven...</td>\n",
       "      <td>2009</td>\n",
       "      <td>92</td>\n",
       "      <td>6.6</td>\n",
       "      <td>129708</td>\n",
       "      <td>45.80</td>\n",
       "      <td>44.0</td>\n",
       "    </tr>\n",
       "    <tr>\n",
       "      <th>Taare Zameen Par</th>\n",
       "      <td>992</td>\n",
       "      <td>Drama,Family,Music</td>\n",
       "      <td>An eight-year-old boy is thought to be a lazy ...</td>\n",
       "      <td>Aamir Khan</td>\n",
       "      <td>Darsheel Safary, Aamir Khan, Tanay Chheda, Sac...</td>\n",
       "      <td>2007</td>\n",
       "      <td>165</td>\n",
       "      <td>8.5</td>\n",
       "      <td>102697</td>\n",
       "      <td>1.20</td>\n",
       "      <td>42.0</td>\n",
       "    </tr>\n",
       "    <tr>\n",
       "      <th>Take Me Home Tonight</th>\n",
       "      <td>993</td>\n",
       "      <td>Comedy,Drama,Romance</td>\n",
       "      <td>Four years after graduation, an awkward high s...</td>\n",
       "      <td>Michael Dowse</td>\n",
       "      <td>Topher Grace, Anna Faris, Dan Fogler, Teresa P...</td>\n",
       "      <td>2011</td>\n",
       "      <td>97</td>\n",
       "      <td>6.3</td>\n",
       "      <td>45419</td>\n",
       "      <td>6.92</td>\n",
       "      <td>NaN</td>\n",
       "    </tr>\n",
       "    <tr>\n",
       "      <th>Resident Evil: Afterlife</th>\n",
       "      <td>994</td>\n",
       "      <td>Action,Adventure,Horror</td>\n",
       "      <td>While still out to destroy the evil Umbrella C...</td>\n",
       "      <td>Paul W.S. Anderson</td>\n",
       "      <td>Milla Jovovich, Ali Larter, Wentworth Miller,K...</td>\n",
       "      <td>2010</td>\n",
       "      <td>97</td>\n",
       "      <td>5.9</td>\n",
       "      <td>140900</td>\n",
       "      <td>60.13</td>\n",
       "      <td>37.0</td>\n",
       "    </tr>\n",
       "    <tr>\n",
       "      <th>Project X</th>\n",
       "      <td>995</td>\n",
       "      <td>Comedy</td>\n",
       "      <td>3 high school seniors throw a birthday party t...</td>\n",
       "      <td>Nima Nourizadeh</td>\n",
       "      <td>Thomas Mann, Oliver Cooper, Jonathan Daniel Br...</td>\n",
       "      <td>2012</td>\n",
       "      <td>88</td>\n",
       "      <td>6.7</td>\n",
       "      <td>164088</td>\n",
       "      <td>54.72</td>\n",
       "      <td>48.0</td>\n",
       "    </tr>\n",
       "    <tr>\n",
       "      <th>Secret in Their Eyes</th>\n",
       "      <td>996</td>\n",
       "      <td>Crime,Drama,Mystery</td>\n",
       "      <td>A tight-knit team of rising investigators, alo...</td>\n",
       "      <td>Billy Ray</td>\n",
       "      <td>Chiwetel Ejiofor, Nicole Kidman, Julia Roberts...</td>\n",
       "      <td>2015</td>\n",
       "      <td>111</td>\n",
       "      <td>6.2</td>\n",
       "      <td>27585</td>\n",
       "      <td>NaN</td>\n",
       "      <td>45.0</td>\n",
       "    </tr>\n",
       "    <tr>\n",
       "      <th>Hostel: Part II</th>\n",
       "      <td>997</td>\n",
       "      <td>Horror</td>\n",
       "      <td>Three American college students studying abroa...</td>\n",
       "      <td>Eli Roth</td>\n",
       "      <td>Lauren German, Heather Matarazzo, Bijou Philli...</td>\n",
       "      <td>2007</td>\n",
       "      <td>94</td>\n",
       "      <td>5.5</td>\n",
       "      <td>73152</td>\n",
       "      <td>17.54</td>\n",
       "      <td>46.0</td>\n",
       "    </tr>\n",
       "    <tr>\n",
       "      <th>Step Up 2: The Streets</th>\n",
       "      <td>998</td>\n",
       "      <td>Drama,Music,Romance</td>\n",
       "      <td>Romantic sparks occur between two dance studen...</td>\n",
       "      <td>Jon M. Chu</td>\n",
       "      <td>Robert Hoffman, Briana Evigan, Cassie Ventura,...</td>\n",
       "      <td>2008</td>\n",
       "      <td>98</td>\n",
       "      <td>6.2</td>\n",
       "      <td>70699</td>\n",
       "      <td>58.01</td>\n",
       "      <td>50.0</td>\n",
       "    </tr>\n",
       "    <tr>\n",
       "      <th>Search Party</th>\n",
       "      <td>999</td>\n",
       "      <td>Adventure,Comedy</td>\n",
       "      <td>A pair of friends embark on a mission to reuni...</td>\n",
       "      <td>Scot Armstrong</td>\n",
       "      <td>Adam Pally, T.J. Miller, Thomas Middleditch,Sh...</td>\n",
       "      <td>2014</td>\n",
       "      <td>93</td>\n",
       "      <td>5.6</td>\n",
       "      <td>4881</td>\n",
       "      <td>NaN</td>\n",
       "      <td>22.0</td>\n",
       "    </tr>\n",
       "    <tr>\n",
       "      <th>Nine Lives</th>\n",
       "      <td>1000</td>\n",
       "      <td>Comedy,Family,Fantasy</td>\n",
       "      <td>A stuffy businessman finds himself trapped ins...</td>\n",
       "      <td>Barry Sonnenfeld</td>\n",
       "      <td>Kevin Spacey, Jennifer Garner, Robbie Amell,Ch...</td>\n",
       "      <td>2016</td>\n",
       "      <td>87</td>\n",
       "      <td>5.3</td>\n",
       "      <td>12435</td>\n",
       "      <td>19.64</td>\n",
       "      <td>11.0</td>\n",
       "    </tr>\n",
       "  </tbody>\n",
       "</table>\n",
       "</div>"
      ],
      "text/plain": [
       "                                Rank                     Genre  \\\n",
       "Title                                                            \n",
       "Underworld: Rise of the Lycans   991  Action,Adventure,Fantasy   \n",
       "Taare Zameen Par                 992        Drama,Family,Music   \n",
       "Take Me Home Tonight             993      Comedy,Drama,Romance   \n",
       "Resident Evil: Afterlife         994   Action,Adventure,Horror   \n",
       "Project X                        995                    Comedy   \n",
       "Secret in Their Eyes             996       Crime,Drama,Mystery   \n",
       "Hostel: Part II                  997                    Horror   \n",
       "Step Up 2: The Streets           998       Drama,Music,Romance   \n",
       "Search Party                     999          Adventure,Comedy   \n",
       "Nine Lives                      1000     Comedy,Family,Fantasy   \n",
       "\n",
       "                                                                      Description  \\\n",
       "Title                                                                               \n",
       "Underworld: Rise of the Lycans  An origins story centered on the centuries-old...   \n",
       "Taare Zameen Par                An eight-year-old boy is thought to be a lazy ...   \n",
       "Take Me Home Tonight            Four years after graduation, an awkward high s...   \n",
       "Resident Evil: Afterlife        While still out to destroy the evil Umbrella C...   \n",
       "Project X                       3 high school seniors throw a birthday party t...   \n",
       "Secret in Their Eyes            A tight-knit team of rising investigators, alo...   \n",
       "Hostel: Part II                 Three American college students studying abroa...   \n",
       "Step Up 2: The Streets          Romantic sparks occur between two dance studen...   \n",
       "Search Party                    A pair of friends embark on a mission to reuni...   \n",
       "Nine Lives                      A stuffy businessman finds himself trapped ins...   \n",
       "\n",
       "                                          Director  \\\n",
       "Title                                                \n",
       "Underworld: Rise of the Lycans  Patrick Tatopoulos   \n",
       "Taare Zameen Par                        Aamir Khan   \n",
       "Take Me Home Tonight                 Michael Dowse   \n",
       "Resident Evil: Afterlife        Paul W.S. Anderson   \n",
       "Project X                          Nima Nourizadeh   \n",
       "Secret in Their Eyes                     Billy Ray   \n",
       "Hostel: Part II                           Eli Roth   \n",
       "Step Up 2: The Streets                  Jon M. Chu   \n",
       "Search Party                        Scot Armstrong   \n",
       "Nine Lives                        Barry Sonnenfeld   \n",
       "\n",
       "                                                                           Actors  \\\n",
       "Title                                                                               \n",
       "Underworld: Rise of the Lycans  Rhona Mitra, Michael Sheen, Bill Nighy, Steven...   \n",
       "Taare Zameen Par                Darsheel Safary, Aamir Khan, Tanay Chheda, Sac...   \n",
       "Take Me Home Tonight            Topher Grace, Anna Faris, Dan Fogler, Teresa P...   \n",
       "Resident Evil: Afterlife        Milla Jovovich, Ali Larter, Wentworth Miller,K...   \n",
       "Project X                       Thomas Mann, Oliver Cooper, Jonathan Daniel Br...   \n",
       "Secret in Their Eyes            Chiwetel Ejiofor, Nicole Kidman, Julia Roberts...   \n",
       "Hostel: Part II                 Lauren German, Heather Matarazzo, Bijou Philli...   \n",
       "Step Up 2: The Streets          Robert Hoffman, Briana Evigan, Cassie Ventura,...   \n",
       "Search Party                    Adam Pally, T.J. Miller, Thomas Middleditch,Sh...   \n",
       "Nine Lives                      Kevin Spacey, Jennifer Garner, Robbie Amell,Ch...   \n",
       "\n",
       "                                Year  Runtime (Minutes)  Rating   Votes  \\\n",
       "Title                                                                     \n",
       "Underworld: Rise of the Lycans  2009                 92     6.6  129708   \n",
       "Taare Zameen Par                2007                165     8.5  102697   \n",
       "Take Me Home Tonight            2011                 97     6.3   45419   \n",
       "Resident Evil: Afterlife        2010                 97     5.9  140900   \n",
       "Project X                       2012                 88     6.7  164088   \n",
       "Secret in Their Eyes            2015                111     6.2   27585   \n",
       "Hostel: Part II                 2007                 94     5.5   73152   \n",
       "Step Up 2: The Streets          2008                 98     6.2   70699   \n",
       "Search Party                    2014                 93     5.6    4881   \n",
       "Nine Lives                      2016                 87     5.3   12435   \n",
       "\n",
       "                                Revenue (Millions)  Metascore  \n",
       "Title                                                          \n",
       "Underworld: Rise of the Lycans               45.80       44.0  \n",
       "Taare Zameen Par                              1.20       42.0  \n",
       "Take Me Home Tonight                          6.92        NaN  \n",
       "Resident Evil: Afterlife                     60.13       37.0  \n",
       "Project X                                    54.72       48.0  \n",
       "Secret in Their Eyes                           NaN       45.0  \n",
       "Hostel: Part II                              17.54       46.0  \n",
       "Step Up 2: The Streets                       58.01       50.0  \n",
       "Search Party                                   NaN       22.0  \n",
       "Nine Lives                                   19.64       11.0  "
      ]
     },
     "execution_count": 3,
     "metadata": {},
     "output_type": "execute_result"
    }
   ],
   "source": [
    "#Impresión de los Resultados\n",
    "print(\"El DataFrame es:\")\n",
    "movies_df.tail(10)"
   ]
  },
  {
   "cell_type": "markdown",
   "metadata": {},
   "source": [
    "### Obtener Información de los Datos\n",
    "El método `.info()` es uno de los primeros comandos que se pueden emplear después de cargar los datos, proporciona los detalles más esenciales acerca de los datos contenidos en el **DataFrame** como:\n",
    "\n",
    "* El número de filas y columnas.\n",
    "* La cantidad de valores nulos presentes.\n",
    "* El tipo de datos en cada columna. \n",
    "* La cantidad de memoria que el **DataFrame** está empleando. \n",
    "\n",
    "En esta base de datos de ***IMDB*** se tienen algunos valores nulos en las columnas `Revenue` y `Metascore` para poder analizar una manera de rellenarlos (se verá posteriormente).\n",
    "\n",
    "Revisar los tipos de datos es de gran utilidad, por ejemplo, si se carga un archivo `JSON` y los valores enteros en el mismo fueron cargados como tipo cadena, al momento de realizar alguna operación aritmética con ellos habrá una excepción del tipo ***unsupported operand***, esto debido a que no se pueden realizar operaciones matemáticas con cadenas. El emplear el método `.info()` aporta una utilidad rápida para corroborar el formato adecuado de los datos, su aplicación es sencilla:"
   ]
  },
  {
   "cell_type": "code",
   "execution_count": 4,
   "metadata": {},
   "outputs": [
    {
     "name": "stdout",
     "output_type": "stream",
     "text": [
      "La Información del DataFrame es:\n",
      "\n",
      "<class 'pandas.core.frame.DataFrame'>\n",
      "Index: 1000 entries, Guardians of the Galaxy to Nine Lives\n",
      "Data columns (total 11 columns):\n",
      " #   Column              Non-Null Count  Dtype  \n",
      "---  ------              --------------  -----  \n",
      " 0   Rank                1000 non-null   int64  \n",
      " 1   Genre               1000 non-null   object \n",
      " 2   Description         1000 non-null   object \n",
      " 3   Director            1000 non-null   object \n",
      " 4   Actors              1000 non-null   object \n",
      " 5   Year                1000 non-null   int64  \n",
      " 6   Runtime (Minutes)   1000 non-null   int64  \n",
      " 7   Rating              1000 non-null   float64\n",
      " 8   Votes               1000 non-null   int64  \n",
      " 9   Revenue (Millions)  872 non-null    float64\n",
      " 10  Metascore           936 non-null    float64\n",
      "dtypes: float64(3), int64(4), object(4)\n",
      "memory usage: 93.8+ KB\n"
     ]
    }
   ],
   "source": [
    "#Impresión de los Resultados\n",
    "print(\"La Información del DataFrame es:\\n\")\n",
    "movies_df.info()"
   ]
  },
  {
   "cell_type": "markdown",
   "metadata": {},
   "source": [
    "Otro método de gran utilidad es `.shape`, el cual proporciona una Tupla con la cantidad de renglones y columnas en formato `(renglones, columnas)`.\n",
    "\n",
    "En el proceso de limpieza de datos se emplea mucho este método, por ejemplo, cuando se hace filtrado de renglones a través de varios criterios, es posible indentificar la cantidad de ellos que fueron removidos.\n",
    "\n",
    "***Nota:*** Es importante recalcar que la sintaxis para el método `.shape` no incluye paréntesis y regresa una simple Tupla. Se cuenta con **1000 renglones** y **12 columnas** en el DataFrame que se ha cargado, y estos valores se pueden asignar a variables. Hay que recordar que la columna definida como **Indice** no se cuenta como parte del **DataFrame**."
   ]
  },
  {
   "cell_type": "code",
   "execution_count": 5,
   "metadata": {},
   "outputs": [
    {
     "name": "stdout",
     "output_type": "stream",
     "text": [
      "La Información del DataFrame es:\n"
     ]
    },
    {
     "data": {
      "text/plain": [
       "(1000, 11)"
      ]
     },
     "execution_count": 5,
     "metadata": {},
     "output_type": "execute_result"
    }
   ],
   "source": [
    "#Impresión de los Resultados\n",
    "print(\"La Información del DataFrame es:\")\n",
    "movies_df.shape"
   ]
  },
  {
   "cell_type": "markdown",
   "metadata": {},
   "source": [
    "### Manejo de Datos Duplicados\n",
    "La base de datos que se está empleando de ***IMDB*** no contiene renglones duplicados, sin embargo es importante verificar que no se estén agregando renglones que ya existen. \n",
    "\n",
    "Para ello, una manera simple es agregar el **DataFrame** a sí mismo empleando el método `append()`, el cual regresará una copia pero sin modificar el **DataFrame** original. Esta copia se captura en un nuevo **DataFrame** llamado `temp_df` para no emplear los datos originales. \n",
    "\n",
    "Una vez que se revisa el tamaño de esta copia con el método `.shape`, es notorio ver que la cantidad de renglones es el doble. A partir de esto, se pueden eliminar los renglones duplicados:"
   ]
  },
  {
   "cell_type": "code",
   "execution_count": 8,
   "metadata": {},
   "outputs": [
    {
     "name": "stdout",
     "output_type": "stream",
     "text": [
      "La Información del nuevo DataFrame es:\n"
     ]
    },
    {
     "data": {
      "text/plain": [
       "(2000, 11)"
      ]
     },
     "execution_count": 8,
     "metadata": {},
     "output_type": "execute_result"
    }
   ],
   "source": [
    "#Copia y agregado del DataFrame original\n",
    "temp_df = pd.concat([movies_df, movies_df])\n",
    "\n",
    "#Impresión de los Resultados\n",
    "print(\"La Información del nuevo DataFrame es:\")\n",
    "temp_df.shape"
   ]
  },
  {
   "cell_type": "markdown",
   "metadata": {},
   "source": [
    "De manera similar al método `append()`, el método `drop_duplicates()` regresa una copia del **DataFrame** pero con los renglones duplicados ya removidos. \n",
    "\n",
    "Al verificar su extensión con el método `.shape` se puede ver que el tamaño original de la base de datos se recupera."
   ]
  },
  {
   "cell_type": "code",
   "execution_count": 9,
   "metadata": {},
   "outputs": [
    {
     "name": "stdout",
     "output_type": "stream",
     "text": [
      "La Información del nuevo DataFrame es:\n"
     ]
    },
    {
     "data": {
      "text/plain": [
       "(1000, 11)"
      ]
     },
     "execution_count": 9,
     "metadata": {},
     "output_type": "execute_result"
    }
   ],
   "source": [
    "#Eliminación de renglones duplicados\n",
    "temp_df = temp_df.drop_duplicates()\n",
    "\n",
    "#Impresión de los Resultados\n",
    "print(\"La Información del nuevo DataFrame es:\")\n",
    "temp_df.shape"
   ]
  },
  {
   "cell_type": "markdown",
   "metadata": {},
   "source": [
    "Para no tener que asignar el **DataFrame** a la misma variable como se realizó en este ejemplo, **Pandas** proporciona el argumento `inplace` en varios de sus métodos. Al emplear `inplace = True` se modificará el **DataFrame** original:"
   ]
  },
  {
   "cell_type": "code",
   "execution_count": 10,
   "metadata": {},
   "outputs": [
    {
     "name": "stdout",
     "output_type": "stream",
     "text": [
      "La Información del nuevo DataFrame es:\n"
     ]
    },
    {
     "data": {
      "text/plain": [
       "(1000, 11)"
      ]
     },
     "execution_count": 10,
     "metadata": {},
     "output_type": "execute_result"
    }
   ],
   "source": [
    "#Eliminación de renglones duplicados\n",
    "temp_df.drop_duplicates(inplace = True)\n",
    "\n",
    "#Impresión de los Resultados\n",
    "print(\"La Información del nuevo DataFrame es:\")\n",
    "temp_df.shape"
   ]
  },
  {
   "cell_type": "markdown",
   "metadata": {},
   "source": [
    "De esta manera, la variable `temp_df` *tendrá* los datos transformados automáticamente.\n",
    "\n",
    "Otro argumento importante del método `drop_duplicates()` es `keep`, el cual tiene tres alternativas:\n",
    "\n",
    "* `first`: Elimina los duplicados excepto la primer ocurrencia (predeterminado).\n",
    "* `last`: Elimina los duplicados excepto la última ocurrencia.\n",
    "* `False`: Elimina todos los duplicados.\n",
    "\n",
    "Debido a que no se empleó el argumento `keep`en el ejemplo, se aplica el valor `first` de manera predeterminada. Esto significa que si dos renglones tienen los mismos valores, **Pandas** eliminará el segundo renglón pero conservará el primero.\n",
    "\n",
    "Si se emplea `False` se eliminarán todos los duplicados. Para ejemplificarlo: "
   ]
  },
  {
   "cell_type": "code",
   "execution_count": 12,
   "metadata": {},
   "outputs": [
    {
     "name": "stdout",
     "output_type": "stream",
     "text": [
      "La Información del nuevo DataFrame es:\n"
     ]
    },
    {
     "data": {
      "text/plain": [
       "(0, 11)"
      ]
     },
     "execution_count": 12,
     "metadata": {},
     "output_type": "execute_result"
    }
   ],
   "source": [
    "#Copia y agregado del DataFrame original\n",
    "temp_df = pd.concat([movies_df, movies_df])\n",
    "\n",
    "#Eliminación de todos los duplicados\n",
    "temp_df.drop_duplicates(inplace = True, keep = False)\n",
    "\n",
    "#Impresión de los Resultados\n",
    "print(\"La Información del nuevo DataFrame es:\")\n",
    "temp_df.shape"
   ]
  },
  {
   "cell_type": "markdown",
   "metadata": {},
   "source": [
    "### Limpieza de Columnas\n",
    "En muchas ocasiones, las bases de datos pueden tener nombres extensos con símbolos, palabras en mayúsculas y minúsculas, espacios y tipografías. Para realizar la selección de datos a través de columnas empleando nombres sencillos, es necesario tomar tiempo para hacer una limpieza de esos nombres. \n",
    "\n",
    "Primeramente, podemos imprimir los encabezados (nombres de columnas) de nuestra base de datos empleando el método `.columns`, el cual es de gran ayuda cuando se requiere renombrar alguna columna o si se está recibiendo un ***Key Error*** al momento de seleccionar una columna en particular.\n",
    "\n",
    "Esto es:"
   ]
  },
  {
   "cell_type": "code",
   "execution_count": 13,
   "metadata": {},
   "outputs": [
    {
     "data": {
      "text/plain": [
       "Index(['Rank', 'Genre', 'Description', 'Director', 'Actors', 'Year',\n",
       "       'Runtime (Minutes)', 'Rating', 'Votes', 'Revenue (Millions)',\n",
       "       'Metascore'],\n",
       "      dtype='object')"
      ]
     },
     "execution_count": 13,
     "metadata": {},
     "output_type": "execute_result"
    }
   ],
   "source": [
    "#Mostrar los Nombres de los Encabezados\n",
    "movies_df.columns"
   ]
  },
  {
   "cell_type": "markdown",
   "metadata": {},
   "source": [
    "Se puede emplear el método `.rename()` para cambiar el nombre a alguna columna en particular o a todas ellas a través de un **Diccionario**. \n",
    "\n",
    "Por ejemplo, para no tener encabezados con paréntesis incluidos: "
   ]
  },
  {
   "cell_type": "code",
   "execution_count": 14,
   "metadata": {},
   "outputs": [
    {
     "data": {
      "text/plain": [
       "Index(['Rank', 'Genre', 'Description', 'Director', 'Actors', 'Year', 'Runtime',\n",
       "       'Rating', 'Votes', 'Revenue', 'Metascore'],\n",
       "      dtype='object')"
      ]
     },
     "execution_count": 14,
     "metadata": {},
     "output_type": "execute_result"
    }
   ],
   "source": [
    "#Renombrado de Encabezados\n",
    "movies_df.rename(columns = {\n",
    "        'Runtime (Minutes)': 'Runtime', \n",
    "        'Revenue (Millions)': 'Revenue'\n",
    "    }, inplace = True)\n",
    "\n",
    "#Mostrar los Nombres de los Encabezados\n",
    "movies_df.columns"
   ]
  },
  {
   "cell_type": "markdown",
   "metadata": {},
   "source": [
    "Es posible hacer que todas las letras estén en mayúsculas. Pero para evitar hacerlo de manera manual, se puede aplicar la siguiente función directamente sobre el método `.columns`: \n",
    "```Python\n",
    "col.upper() for col in movies_df\n",
    "```"
   ]
  },
  {
   "cell_type": "code",
   "execution_count": 15,
   "metadata": {},
   "outputs": [
    {
     "data": {
      "text/plain": [
       "Index(['RANK', 'GENRE', 'DESCRIPTION', 'DIRECTOR', 'ACTORS', 'YEAR', 'RUNTIME',\n",
       "       'RATING', 'VOTES', 'REVENUE', 'METASCORE'],\n",
       "      dtype='object')"
      ]
     },
     "execution_count": 15,
     "metadata": {},
     "output_type": "execute_result"
    }
   ],
   "source": [
    "#Cambio de Encabezados a Mayúsculas\n",
    "movies_df.columns = [col.upper() for col in movies_df]\n",
    "\n",
    "#Mostrar los Nombres de los Encabezados\n",
    "movies_df.columns"
   ]
  },
  {
   "cell_type": "markdown",
   "metadata": {},
   "source": [
    "De manera similar, es posible hacer que todas las letras estén en minúsculas aplicando la siguiente función directamente sobre el método `.columns`: \n",
    "```Python\n",
    "col.lower() for col in movies_df\n",
    "```"
   ]
  },
  {
   "cell_type": "code",
   "execution_count": 16,
   "metadata": {},
   "outputs": [
    {
     "data": {
      "text/plain": [
       "Index(['rank', 'genre', 'description', 'director', 'actors', 'year', 'runtime',\n",
       "       'rating', 'votes', 'revenue', 'metascore'],\n",
       "      dtype='object')"
      ]
     },
     "execution_count": 16,
     "metadata": {},
     "output_type": "execute_result"
    }
   ],
   "source": [
    "#Cambio de Encabezados a Minúsculas\n",
    "movies_df.columns = [col.lower() for col in movies_df]\n",
    "\n",
    "#Mostrar los Nombres de los Encabezados\n",
    "movies_df.columns"
   ]
  },
  {
   "cell_type": "markdown",
   "metadata": {},
   "source": [
    "### Manejo de Valores Nulos\n",
    "En la etapa de exploración de datos, es muy probable que exitan ***valores perdidos o nulos***, los cuales son marcadores de posición (*placeholders*) para valores no existentes. Lo más común es ver `None` en **Python**, o `np.nan` y `NaN` en **NumPy**, cada uno de ellos se manejan de manera distinta dependiendo de las situaciones.\n",
    "\n",
    "Hay dos opciones para el manejo de ***valores nulos***:\n",
    "\n",
    "1. Eliminar el renglón o la columna que contenga ***valores nulos***. \n",
    "2. Reemplazar los ***valores nulos*** con valores que no sean nulos, es una operación conocida como **Imputación**.\n",
    "\n",
    "Para la base de datos que estamos usando, es posible determinar la cantidad de ***valores nulos*** en cada columna por medio del método `.isnull()`, el cual regresa un **DataFrame** donde cada celda contiene un valor booleano (*True / False*) dependiendo del estado de dicha celda, esto es:"
   ]
  },
  {
   "cell_type": "code",
   "execution_count": 17,
   "metadata": {},
   "outputs": [
    {
     "data": {
      "text/html": [
       "<div>\n",
       "<style scoped>\n",
       "    .dataframe tbody tr th:only-of-type {\n",
       "        vertical-align: middle;\n",
       "    }\n",
       "\n",
       "    .dataframe tbody tr th {\n",
       "        vertical-align: top;\n",
       "    }\n",
       "\n",
       "    .dataframe thead th {\n",
       "        text-align: right;\n",
       "    }\n",
       "</style>\n",
       "<table border=\"1\" class=\"dataframe\">\n",
       "  <thead>\n",
       "    <tr style=\"text-align: right;\">\n",
       "      <th></th>\n",
       "      <th>rank</th>\n",
       "      <th>genre</th>\n",
       "      <th>description</th>\n",
       "      <th>director</th>\n",
       "      <th>actors</th>\n",
       "      <th>year</th>\n",
       "      <th>runtime</th>\n",
       "      <th>rating</th>\n",
       "      <th>votes</th>\n",
       "      <th>revenue</th>\n",
       "      <th>metascore</th>\n",
       "    </tr>\n",
       "    <tr>\n",
       "      <th>Title</th>\n",
       "      <th></th>\n",
       "      <th></th>\n",
       "      <th></th>\n",
       "      <th></th>\n",
       "      <th></th>\n",
       "      <th></th>\n",
       "      <th></th>\n",
       "      <th></th>\n",
       "      <th></th>\n",
       "      <th></th>\n",
       "      <th></th>\n",
       "    </tr>\n",
       "  </thead>\n",
       "  <tbody>\n",
       "    <tr>\n",
       "      <th>Guardians of the Galaxy</th>\n",
       "      <td>False</td>\n",
       "      <td>False</td>\n",
       "      <td>False</td>\n",
       "      <td>False</td>\n",
       "      <td>False</td>\n",
       "      <td>False</td>\n",
       "      <td>False</td>\n",
       "      <td>False</td>\n",
       "      <td>False</td>\n",
       "      <td>False</td>\n",
       "      <td>False</td>\n",
       "    </tr>\n",
       "    <tr>\n",
       "      <th>Prometheus</th>\n",
       "      <td>False</td>\n",
       "      <td>False</td>\n",
       "      <td>False</td>\n",
       "      <td>False</td>\n",
       "      <td>False</td>\n",
       "      <td>False</td>\n",
       "      <td>False</td>\n",
       "      <td>False</td>\n",
       "      <td>False</td>\n",
       "      <td>False</td>\n",
       "      <td>False</td>\n",
       "    </tr>\n",
       "    <tr>\n",
       "      <th>Split</th>\n",
       "      <td>False</td>\n",
       "      <td>False</td>\n",
       "      <td>False</td>\n",
       "      <td>False</td>\n",
       "      <td>False</td>\n",
       "      <td>False</td>\n",
       "      <td>False</td>\n",
       "      <td>False</td>\n",
       "      <td>False</td>\n",
       "      <td>False</td>\n",
       "      <td>False</td>\n",
       "    </tr>\n",
       "    <tr>\n",
       "      <th>Sing</th>\n",
       "      <td>False</td>\n",
       "      <td>False</td>\n",
       "      <td>False</td>\n",
       "      <td>False</td>\n",
       "      <td>False</td>\n",
       "      <td>False</td>\n",
       "      <td>False</td>\n",
       "      <td>False</td>\n",
       "      <td>False</td>\n",
       "      <td>False</td>\n",
       "      <td>False</td>\n",
       "    </tr>\n",
       "    <tr>\n",
       "      <th>Suicide Squad</th>\n",
       "      <td>False</td>\n",
       "      <td>False</td>\n",
       "      <td>False</td>\n",
       "      <td>False</td>\n",
       "      <td>False</td>\n",
       "      <td>False</td>\n",
       "      <td>False</td>\n",
       "      <td>False</td>\n",
       "      <td>False</td>\n",
       "      <td>False</td>\n",
       "      <td>False</td>\n",
       "    </tr>\n",
       "    <tr>\n",
       "      <th>...</th>\n",
       "      <td>...</td>\n",
       "      <td>...</td>\n",
       "      <td>...</td>\n",
       "      <td>...</td>\n",
       "      <td>...</td>\n",
       "      <td>...</td>\n",
       "      <td>...</td>\n",
       "      <td>...</td>\n",
       "      <td>...</td>\n",
       "      <td>...</td>\n",
       "      <td>...</td>\n",
       "    </tr>\n",
       "    <tr>\n",
       "      <th>Secret in Their Eyes</th>\n",
       "      <td>False</td>\n",
       "      <td>False</td>\n",
       "      <td>False</td>\n",
       "      <td>False</td>\n",
       "      <td>False</td>\n",
       "      <td>False</td>\n",
       "      <td>False</td>\n",
       "      <td>False</td>\n",
       "      <td>False</td>\n",
       "      <td>True</td>\n",
       "      <td>False</td>\n",
       "    </tr>\n",
       "    <tr>\n",
       "      <th>Hostel: Part II</th>\n",
       "      <td>False</td>\n",
       "      <td>False</td>\n",
       "      <td>False</td>\n",
       "      <td>False</td>\n",
       "      <td>False</td>\n",
       "      <td>False</td>\n",
       "      <td>False</td>\n",
       "      <td>False</td>\n",
       "      <td>False</td>\n",
       "      <td>False</td>\n",
       "      <td>False</td>\n",
       "    </tr>\n",
       "    <tr>\n",
       "      <th>Step Up 2: The Streets</th>\n",
       "      <td>False</td>\n",
       "      <td>False</td>\n",
       "      <td>False</td>\n",
       "      <td>False</td>\n",
       "      <td>False</td>\n",
       "      <td>False</td>\n",
       "      <td>False</td>\n",
       "      <td>False</td>\n",
       "      <td>False</td>\n",
       "      <td>False</td>\n",
       "      <td>False</td>\n",
       "    </tr>\n",
       "    <tr>\n",
       "      <th>Search Party</th>\n",
       "      <td>False</td>\n",
       "      <td>False</td>\n",
       "      <td>False</td>\n",
       "      <td>False</td>\n",
       "      <td>False</td>\n",
       "      <td>False</td>\n",
       "      <td>False</td>\n",
       "      <td>False</td>\n",
       "      <td>False</td>\n",
       "      <td>True</td>\n",
       "      <td>False</td>\n",
       "    </tr>\n",
       "    <tr>\n",
       "      <th>Nine Lives</th>\n",
       "      <td>False</td>\n",
       "      <td>False</td>\n",
       "      <td>False</td>\n",
       "      <td>False</td>\n",
       "      <td>False</td>\n",
       "      <td>False</td>\n",
       "      <td>False</td>\n",
       "      <td>False</td>\n",
       "      <td>False</td>\n",
       "      <td>False</td>\n",
       "      <td>False</td>\n",
       "    </tr>\n",
       "  </tbody>\n",
       "</table>\n",
       "<p>1000 rows × 11 columns</p>\n",
       "</div>"
      ],
      "text/plain": [
       "                          rank  genre  description  director  actors   year  \\\n",
       "Title                                                                         \n",
       "Guardians of the Galaxy  False  False        False     False   False  False   \n",
       "Prometheus               False  False        False     False   False  False   \n",
       "Split                    False  False        False     False   False  False   \n",
       "Sing                     False  False        False     False   False  False   \n",
       "Suicide Squad            False  False        False     False   False  False   \n",
       "...                        ...    ...          ...       ...     ...    ...   \n",
       "Secret in Their Eyes     False  False        False     False   False  False   \n",
       "Hostel: Part II          False  False        False     False   False  False   \n",
       "Step Up 2: The Streets   False  False        False     False   False  False   \n",
       "Search Party             False  False        False     False   False  False   \n",
       "Nine Lives               False  False        False     False   False  False   \n",
       "\n",
       "                         runtime  rating  votes  revenue  metascore  \n",
       "Title                                                                \n",
       "Guardians of the Galaxy    False   False  False    False      False  \n",
       "Prometheus                 False   False  False    False      False  \n",
       "Split                      False   False  False    False      False  \n",
       "Sing                       False   False  False    False      False  \n",
       "Suicide Squad              False   False  False    False      False  \n",
       "...                          ...     ...    ...      ...        ...  \n",
       "Secret in Their Eyes       False   False  False     True      False  \n",
       "Hostel: Part II            False   False  False    False      False  \n",
       "Step Up 2: The Streets     False   False  False    False      False  \n",
       "Search Party               False   False  False     True      False  \n",
       "Nine Lives                 False   False  False    False      False  \n",
       "\n",
       "[1000 rows x 11 columns]"
      ]
     },
     "execution_count": 17,
     "metadata": {},
     "output_type": "execute_result"
    }
   ],
   "source": [
    "#Verificación de Valores Nulos\n",
    "movies_df.isnull()"
   ]
  },
  {
   "cell_type": "markdown",
   "metadata": {},
   "source": [
    "Para contar el número de ***valores nulos*** en cada columna, se puede usar una función de agregación para realizar el conteo, en otras palabras, se puede escribir como `.isnull().sum()`.\n",
    "\n",
    "El método `.isnull()` suele no ser muy útil por sí mismo, pero en combinación de otros métodos como `.sum()` es de gran utilidad.\n",
    "\n",
    "Es posible ver la base de datos tiene **128** valores perdidos en la columna de nombre `revenue`, y **64** valores perdidos en la columna de nombre `metascore`."
   ]
  },
  {
   "cell_type": "code",
   "execution_count": 18,
   "metadata": {},
   "outputs": [
    {
     "data": {
      "text/plain": [
       "rank             0\n",
       "genre            0\n",
       "description      0\n",
       "director         0\n",
       "actors           0\n",
       "year             0\n",
       "runtime          0\n",
       "rating           0\n",
       "votes            0\n",
       "revenue        128\n",
       "metascore       64\n",
       "dtype: int64"
      ]
     },
     "execution_count": 18,
     "metadata": {},
     "output_type": "execute_result"
    }
   ],
   "source": [
    "#Conteo de Valores Nulos\n",
    "movies_df.isnull().sum()"
   ]
  },
  {
   "cell_type": "markdown",
   "metadata": {},
   "source": [
    "### Eliminar Valores Nulos\n",
    "Los científicos de datos y analistas suelen enfrentarse al dilema de eliminar o modificar ***valores nulos***, es una decisión que depende completamente del conocimiento de los datos y su contexto. Por lo mismo, eliminar los ***valores nulos*** solo se recomienda si existe una cantidad muy pequeña de datos nulos, o si no son verdaderamente representativos como para afectar el conjunto general de datos. \n",
    "\n",
    "El proceso es sencillo empleando el método `.dropna()`, pero esta operación eliminará cualquier **renglón** que tenga al menos un ***valor nulo***, pero regresará un nuevo **DataFrame** para no alterar el original. \n",
    "\n",
    "La documentación del método `.dropna()` puede ser consultada [en esta liga](https://pandas.pydata.org/pandas-docs/stable/reference/api/pandas.DataFrame.dropna.html).\n",
    "\n",
    "***Nota:*** Es válido usar el argumento `inplace = True` en este método para que se modifique el **DataFrame** original."
   ]
  },
  {
   "cell_type": "code",
   "execution_count": 19,
   "metadata": {},
   "outputs": [
    {
     "data": {
      "text/plain": [
       "rank           0\n",
       "genre          0\n",
       "description    0\n",
       "director       0\n",
       "actors         0\n",
       "year           0\n",
       "runtime        0\n",
       "rating         0\n",
       "votes          0\n",
       "revenue        0\n",
       "metascore      0\n",
       "dtype: int64"
      ]
     },
     "execution_count": 19,
     "metadata": {},
     "output_type": "execute_result"
    }
   ],
   "source": [
    "#Eliminación de Renglones con Valores Nulos\n",
    "no_ren_df = movies_df.dropna()\n",
    "\n",
    "#Verificación de Valores Nulos\n",
    "no_ren_df.isnull().sum()"
   ]
  },
  {
   "cell_type": "markdown",
   "metadata": {},
   "source": [
    "Esta operación removió 162 renglones donde las columnas `revenue` y `metascore` tenían ***valores nulos***. Esto puede interpretarse como una enorme pérdida de información debido a que existe una gran cantidad de valores adecuados que fueron perdidos, por lo mismo se puede ver la posibilidad de realizar la **Imputación** de los valores. \n",
    "\n",
    "Además de eliminar renglones, se pueden eliminar las columnas que tienen valores nulos empleando el argumento `axis=1` dentro del método `.dropna()`, esto es:"
   ]
  },
  {
   "cell_type": "code",
   "execution_count": 22,
   "metadata": {},
   "outputs": [
    {
     "data": {
      "text/plain": [
       "rank           0\n",
       "genre          0\n",
       "description    0\n",
       "director       0\n",
       "actors         0\n",
       "year           0\n",
       "runtime        0\n",
       "rating         0\n",
       "votes          0\n",
       "dtype: int64"
      ]
     },
     "execution_count": 22,
     "metadata": {},
     "output_type": "execute_result"
    }
   ],
   "source": [
    "#Eliminación de Columnas con Valores Nulos\n",
    "no_col_df = movies_df.dropna(axis = 1)\n",
    "\n",
    "#Verificación de Valores Nulos\n",
    "no_col_df.isnull().sum()"
   ]
  },
  {
   "cell_type": "markdown",
   "metadata": {},
   "source": [
    "Para la base de datos empleada, esta operación eliminará las columnas `revenue` y `metascore`.\n",
    "\n",
    "**Nota**: ¿Cuál es la razón del parámetro `axis = 1`?\n",
    "\n",
    "No es muy obvio el motivo por el cual se emplea `axis` y por qué su valor debe ser igual a 1 para que afecte a las columnas. Sin embargo, la salida del método `.shape` es:"
   ]
  },
  {
   "cell_type": "code",
   "execution_count": null,
   "metadata": {},
   "outputs": [],
   "source": [
    "#Impresión de los Resultados\n",
    "print(\"La Información del nuevo DataFrame es:\")\n",
    "movies_df.shape"
   ]
  },
  {
   "cell_type": "markdown",
   "metadata": {},
   "source": [
    "De este resultado es posibe ver que el número de **renglones** está en el índice 0 de la **Tupla**, y el número de **columnas** está en el índice 1. Es por ello que el parámetro `axis = 1` afecta las columnas, esto viene heredado de **NumPy**."
   ]
  },
  {
   "cell_type": "markdown",
   "metadata": {},
   "source": [
    "### Imputación de Datos\n",
    "La **Imputación** es una técnica convencional de ingeniería que se emplea para mantener datos relevantes que contienen ***valores nulos***. \n",
    "\n",
    "Para evitar que se pierdan datos de la base de datos original, generalmente se emplean valores como **media** y **mediana** para **Imputar** el dato faltante. \n",
    "\n",
    "Como ejemplo, se hará la **Imputación** de los valores nulos en la columna `revenue`. \n",
    "\n",
    "Para ralizar la **Imputación** de los ***valores nulos*** de la columna `revenue`, es posible emplear el valor de la **media**, el cual se calcula a través del método `.mean()` de la siguiente manera: "
   ]
  },
  {
   "cell_type": "code",
   "execution_count": null,
   "metadata": {},
   "outputs": [],
   "source": [
    "#Determinación del Valor de la Media de la Columna\n",
    "revenue_mean = movies_df['revenue'].mean()\n",
    "\n",
    "#Impresión de los Resultados\n",
    "print(\"El valor de la Media de la columna es: %.2f\" % revenue_mean)"
   ]
  },
  {
   "cell_type": "markdown",
   "metadata": {},
   "source": [
    "Con este valor de **media**, se llenan los ***valores nulos*** de la columna empleando el método `.fillna()` de la siguiente manera:"
   ]
  },
  {
   "cell_type": "code",
   "execution_count": null,
   "metadata": {},
   "outputs": [],
   "source": [
    "#Asignación de Valores de Media a los Valores Nulos\n",
    "movies_df['revenue'].fillna(revenue_mean, inplace = True)"
   ]
  },
  {
   "cell_type": "markdown",
   "metadata": {},
   "source": [
    "De esta manera se han reemplazados todos los ***valores nulos*** de la columna `revenue` con el valor de la **media** de la columna. \n",
    "\n",
    "***Nota:*** Al emplear `inplace = True`, automáticamente se actualizan los valores original del **DataFrame** `movies_df`."
   ]
  },
  {
   "cell_type": "code",
   "execution_count": null,
   "metadata": {},
   "outputs": [],
   "source": [
    "#Conteo de Valores Nulos\n",
    "movies_df.isnull().sum()"
   ]
  },
  {
   "cell_type": "markdown",
   "metadata": {},
   "source": [
    "Realizar la **Imputación** de una columna con el mismo valor es un ejemplo básico. Se podria realizar una **Imputación** mucho más adecuada considerando elementos como `Genre` o `Director`. \n",
    "\n",
    "Por ejemplo, se puede calcular la **media** de la columna `revenue` para cada género de manera individual, y aplicarlo solo a los ***valores nulos*** que son del mismo género."
   ]
  },
  {
   "cell_type": "markdown",
   "metadata": {},
   "source": [
    "### Comprendiendo las Variables\n",
    "El uso del método `.describe()` en un **DataFrame** proporciona el resumen de datos estadísticos para cada una de las columnas que contienen valores numéricos.\n",
    "\n",
    "La documentación del método `.describe()` puede ser consultada [en esta liga](https://pandas.pydata.org/pandas-docs/stable/reference/api/pandas.DataFrame.describe.html)."
   ]
  },
  {
   "cell_type": "code",
   "execution_count": null,
   "metadata": {},
   "outputs": [],
   "source": [
    "#Valores Estadísticos de las Columnas\n",
    "movies_df.describe()"
   ]
  },
  {
   "cell_type": "markdown",
   "metadata": {},
   "source": [
    "El método `.describe()` también puede proporcionar para columnas en específico:\n",
    "\n",
    "* El conteo de renglones.\n",
    "* La cantidad de categorías únicas.\n",
    "* La categoría más importante (mediana).\n",
    "* La frecuencia de la categoría más importante.\n",
    "\n",
    "Para ello, se debe especificar por medio de corchetes el encabezado de la columna de interés como `['columna']`, por ejemplo para la columna `genre` será:"
   ]
  },
  {
   "cell_type": "code",
   "execution_count": null,
   "metadata": {},
   "outputs": [],
   "source": [
    "#Características de una Columna\n",
    "movies_df['genre'].describe()"
   ]
  },
  {
   "cell_type": "markdown",
   "metadata": {},
   "source": [
    "Esto indica que para la columna `genre` tenemos que:\n",
    "* Tiene 1000 renglones.\n",
    "* Contienen 207 valores únicos.\n",
    "* El valor que más se repite es `Action/Adventure/Sci-Fi`.\n",
    "* El valor que más se repite tiene una frecuencia de 50 repeticiones.\n",
    "\n",
    "Por otro lado, el método `.value_counts()` muestra la frecuencia de todos los valores en una columna, este método se puede aplicar de la siguiente manera:"
   ]
  },
  {
   "cell_type": "code",
   "execution_count": null,
   "metadata": {},
   "outputs": [],
   "source": [
    "#Frecuencia de Valores en una Columna\n",
    "movies_df['genre'].value_counts().head(10)"
   ]
  },
  {
   "cell_type": "markdown",
   "metadata": {},
   "source": [
    "### Relaciones entre las Variables\n",
    "Empleando el método de **Correlación** definido por `.corr()`, se pueden general las relaciones entre las variables continuas, mostrando una **Tabla de Correlación** la cual es de gran uso para ciertos tipos de análisis.\n",
    "\n",
    "La documentación del método `.corr()` de **Pandas** puede ser consultada [en esta liga](https://pandas.pydata.org/pandas-docs/stable/reference/api/pandas.DataFrame.corr.html)."
   ]
  },
  {
   "cell_type": "code",
   "execution_count": null,
   "metadata": {},
   "outputs": [],
   "source": [
    "#Tabla de Correlación\n",
    "movies_df.corr()"
   ]
  },
  {
   "cell_type": "markdown",
   "metadata": {},
   "source": [
    "Las **Tablas de Correlación** son representaciones numéricas de las relaciones en la base de datos.\n",
    "\n",
    "Los valores positivos indican una correlación positiva (ambas variables van en incremento), y un valor negativo representa una correlación inversa (una variable incrementa mientras que la otra decrementa). El valor de la correlación está normalizado (0 a 1).\n",
    "\n",
    "Se puede ver que cada renglón tiene una correlación de 1 con su valor en la columna, lo cual es obvio. Pero por ejemplo, la correlación de `votes` con `revenue` es 0.6, lo cual puede proporcionar información relevante para un análisis en particular.\n",
    "\n",
    "La **Tabla de Correlación** es una **Matriz de Correlación**, la cual puede ser interpretada de una manera muy sencilla al visualizarla gráficamente. "
   ]
  },
  {
   "cell_type": "markdown",
   "metadata": {},
   "source": [
    "### Guardar los Cambios en un Archivo CSV\n",
    "\n",
    "Finalmente, los datos del **DataFrame** `movies_df` que ya han sido actualizados serán guardados en un archivo con formato `CSV` por medio del método `.to_csv()` de **Pandas**, donde el argumento corresponde al nombre del archivo."
   ]
  },
  {
   "cell_type": "code",
   "execution_count": null,
   "metadata": {},
   "outputs": [],
   "source": [
    "#Guardado del Archivo en formato CSV\n",
    "movies_df.to_csv('./Guardados/movies_df.csv')"
   ]
  },
  {
   "cell_type": "markdown",
   "metadata": {},
   "source": [
    "<div class=\"alert alert-block alert-success\">\n",
    "<b>.: Fin del Subtema :.</b>\n",
    "</div>\n",
    "\n",
    "***Liga de aceso al siguiente Subtema:*** \n",
    "<br>[d. Extracción de Datos, Filtros y Funciones](d.%20Extraccion%20de%20Datos,%20Filtros%20y%20Funciones.ipynb)"
   ]
  }
 ],
 "metadata": {
  "kernelspec": {
   "display_name": "Python 3 (ipykernel)",
   "language": "python",
   "name": "python3"
  },
  "language_info": {
   "codemirror_mode": {
    "name": "ipython",
    "version": 3
   },
   "file_extension": ".py",
   "mimetype": "text/x-python",
   "name": "python",
   "nbconvert_exporter": "python",
   "pygments_lexer": "ipython3",
   "version": "3.11.5"
  }
 },
 "nbformat": 4,
 "nbformat_minor": 4
}
