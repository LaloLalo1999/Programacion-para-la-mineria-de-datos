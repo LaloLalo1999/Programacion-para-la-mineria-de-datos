{
 "cells": [
  {
   "cell_type": "markdown",
   "metadata": {},
   "source": [
    "<div class=\"alert alert-block alert-info\">\n",
    "<span style=\"color: rgb(0,53,91);\">\n",
    "<center><img src=\"./Imagenes/ITESO_Logo.png\" style=\"width:500px;height:142px;\" title=\"Logo ITESO\"></center>\n",
    "<font face = \"Times New Roman\" size = \"6\"><b><center>Maestría en Sistemas Computacionales</center></b></font>\n",
    "<font face = \"Times New Roman\" size = \"5\"><b><center>Programación para Análisis de Datos</center></b></font>\n",
    "\n",
    "<b><br><font face = \"Times New Roman\" size = \"4\"><center>Unidad 4: Conceptos Generales</center></font>\n",
    "<font face = \"Times New Roman\" size = \"4\"><center>Tema 4.1: Exploración, Integración y Limpieza de Datos</center></font>\n",
    "<font face = \"Times New Roman\" size = \"4\"><center>Subtema j: Recapitulación del Análisis de DataFrames</center></font></b>\n",
    "<div align=\"right\"><font face = \"Times New Roman\" size = \"2\">Dr. Iván Esteban Villalón Turrubiates (villalon@iteso.mx)</font></div>\n",
    "</span></div>"
   ]
  },
  {
   "cell_type": "markdown",
   "metadata": {},
   "source": [
    "## RECAPITULACIÓN DEL ANÁLISIS DE DATAFRAMES\n",
    "\n",
    "A manera de resumen de las operaciones que se pueden realizar con la librería **Pandas**, se considerará un **DataFrame** que contiene ciertos elementos que podrían causar conflictos durante el análisis de la información así como las operaciones matemáticas con los valores nuiméricos que contiene. Entre estos elementos se tienen:\n",
    "\n",
    "* Diversos signos de acentuación.\n",
    "* Separación de miles usando coma (,).\n",
    "\n",
    "Se considera un **DataFrame** con estos elementos almacenado en el archivo `Datos.csv` que representa varios nombres de personas, sus respectivas ciudades donde viven, así como sus ganancias a lo largo de un periodo de un año. Los encabezados de las columnas de información son:\n",
    "\n",
    "1. **Nombre**: Es el nombre de la persona.\n",
    "2. **Apellido**: Es el apellido de la persona.\n",
    "3. **Ciudad**: Es el nombre de la ciudad donde habita.\n",
    "4. **Enero**: Es la ganancia de la persona en el mes (en pesos).\n",
    "5. **Febrero**: Es la ganancia de la persona en el mes (en pesos).\n",
    "6. **Marzo**: Es la ganancia de la persona en el mes (en pesos).\n",
    "7. **Abril**: Es la ganancia de la persona en el mes (en pesos).\n",
    "8. **Mayo**: Es la ganancia de la persona en el mes (en pesos).\n",
    "9. **Junio**: Es la ganancia de la persona en el mes (en pesos).\n",
    "10. **Julio**: Es la ganancia de la persona en el mes (en pesos).\n",
    "11. **Agosto**: Es la ganancia de la persona en el mes (en pesos).\n",
    "12. **Septiembre**: Es la ganancia de la persona en el mes (en pesos).\n",
    "13. **Octubre**: Es la ganancia de la persona en el mes (en pesos).\n",
    "14. **Noviembre**: Es la ganancia de la persona en el mes (en pesos).\n",
    "15. **Diciembre**: Es la ganancia de la persona en el mes (en pesos).\n",
    "\n",
    "Podrá notarse que las columnas `Nombre`, `Apellido` y `Ciudad` contienen diversos signos de acentuación propios de diversas culturas. Adicionalmente, en las columnas que contienen las ganacias por mes de cada persona, la separación de miles se realiza por medio de comas (,) como se emplea en muchos países. Por lo mismo se requiere hacer una adecuación de estos elementos para evitar problemas al momento de analizar el **DataFrame**. \n",
    "\n",
    "Para la lectura del archivo y la preparación de los datos, se realizarán las siguientes operaciones:\n",
    "\n",
    "1. Importación de las librerías necesarias (**Pandas**, **NumPy**, **Matplotlib** y **Seaborn**).\n",
    "2. Lectura de los datos empleando el método `.read_csv()`.\n",
    "3. Mostrar el **DataFrame** resultante empleando la función `display()`."
   ]
  },
  {
   "cell_type": "code",
   "execution_count": null,
   "metadata": {},
   "outputs": [],
   "source": [
    "#Importación de librerías\n",
    "import pandas as pd\n",
    "import numpy as np\n",
    "import matplotlib.pyplot as plt\n",
    "import seaborn as sns\n",
    "\n",
    "#Lectura de los datos de los Administradores desde el archivo CSV\n",
    "datos_df = pd.read_csv('./Datos/Datos.csv')\n",
    "\n",
    "#Impresión de los Resultados\n",
    "print(\"Los datos de las personas y sus ganancias mensuales son: \\n\")\n",
    "display(datos_df)"
   ]
  },
  {
   "cell_type": "markdown",
   "metadata": {},
   "source": [
    "A continuación se revisará el tipo de datos contenidos en cada una de las columnas por medio del método `.info()` a través del cual se podrá notar que los valores numéricos de las ganancias no están en formato de valor entero (como debería ser), esto es debido a que la coma (,) hace que **Pandas** lo interprete como una cadena de texto."
   ]
  },
  {
   "cell_type": "code",
   "execution_count": null,
   "metadata": {},
   "outputs": [],
   "source": [
    "#Mostrar la información del tipo de datos en el DataFrame\n",
    "datos_df.info()"
   ]
  },
  {
   "cell_type": "markdown",
   "metadata": {},
   "source": [
    "### Librería Unidecode\n",
    "\n",
    "Como primer paso, se eliminarán los símbolos de acentuación presentes en el **DataFrame** para con ello tener los elementos de las columnas `Nombre`, `Apellido` y `Ciudad` en un formato sencillo. Para ello se empleará la librería **Unidecode** de **PyPI**.\n",
    "\n",
    "**Unidecode** de **PyPI** proporciona una función `unidecode()` la cual toma la cadena de texto e intenta representarla en caracteres del ***Código ASCII***. \n",
    "\n",
    "El ***Código ASCII*** hace referencia al *American Standard Code for Information Interchange* siendo el precursor estadounidense de la Norma *ISO 646* ([sobre el conjunto internacional de caracteres](https://www.iso.org/standard/4777.html)). El ***Código ASCII*** es un código de 7 bits con 128 caracteres definidos (33 no imprimibles y 95 imprimibles), y comprende tanto letras, signos de puntuación y números como caracteres de control. Se puede consultar información adicional sobre el ***Código ASCII*** [en esta liga](https://www.ascii-code.com).\n",
    "\n",
    "Para instalar la librería se emplea la siguiente instrucción en una terminal:\n",
    "\n",
    "```python\n",
    "pip install Unidecode\n",
    "```\n",
    "La documentación de la librería **Unidecode** se puede consultar [en esta liga](https://pypi.org/project/Unidecode).\n",
    "\n",
    "Una vez que se ha realizado la instalación de la librería, se hará la eliminación de los símbolos de acentuación presentes en el **DataFrame** por medio de las siguientes operaciones:\n",
    "\n",
    "1. Importación de la librería **Unidecode**.\n",
    "2. Se define una función (`funcion_noacentos`) la cual recibirá una cadena de texto a la cual le aplicará el método `.unidecode()` que regresará esa misma cadena pero sin los símbolos de acentuación (formato ASCII).\n",
    "3. Se aplica la función `funcion_noacentos` por medio del método `.apply()` de **Pandas**, esto se puede realizar de columna en columna, o a todo el **DataFrame** exceptuando las columnas que contienen valores numéricos.\n",
    "4. Dicha función también se puede aplicar por medio de una ***Función Lambda*** de **Python**.\n",
    "5. Se muestra el **DataFrame** resultante empleando la función `display()`."
   ]
  },
  {
   "cell_type": "code",
   "execution_count": null,
   "metadata": {},
   "outputs": [],
   "source": [
    "# import required module\n",
    "import unidecode\n",
    "\n",
    "#Definición de la Función\n",
    "def funcion_noacentos(cadena):\n",
    "    return unidecode.unidecode(cadena)\n",
    "\n",
    "#Aplicación de la Función al DataFrame para una columna\n",
    "datos_df['Nombre']   = datos_df['Nombre'].apply(funcion_noacentos)\n",
    "\n",
    "#Aplicación por Medio de una Función Lambda a las columnas restantes\n",
    "datos_df['Apellido'] = datos_df['Apellido'].apply(lambda cadena: unidecode.unidecode(cadena))\n",
    "datos_df['Ciudad']   = datos_df['Ciudad'].apply(lambda cadena: unidecode.unidecode(cadena))\n",
    "\n",
    "#Impresión de los Resultados\n",
    "print(\"Los datos de las personas y sus ganancias mensuales son: \\n\")\n",
    "display(datos_df)"
   ]
  },
  {
   "cell_type": "markdown",
   "metadata": {},
   "source": [
    "Es posible observar que las columnas `Nombre`, `Apellido` y `Ciudad` ya no contienen caracteres especiales y la función de la librería **Unidecode** hizo la adecuación a los caracteres del **Código ASCII** correspondientes.  \n",
    "\n",
    "Ahora se hará un renombrado de los encabezados de las columnas correspondientes a los meses a través del método `.rename()` para que solo tengan 3 caracteres y de esa manera mantenerlo homogéneo en todo el **DataFrame**."
   ]
  },
  {
   "cell_type": "code",
   "execution_count": null,
   "metadata": {},
   "outputs": [],
   "source": [
    "#Renombrado de Encabezados\n",
    "datos_df = datos_df.rename(columns = {\n",
    "        'Enero'     : 'Ene', \n",
    "        'Febrero'   : 'Feb',\n",
    "        'Marzo'     : 'Mar',\n",
    "        'Abril'     : 'Abr',\n",
    "        'Mayo'      : 'May',\n",
    "        'Junio'     : 'Jun',\n",
    "        'Julio'     : 'Jul',\n",
    "        'Agosto'    : 'Ago',\n",
    "        'Septiembre': 'Sep',\n",
    "        'Octubre'   : 'Oct',\n",
    "        'Noviembre' : 'Nov',\n",
    "        'Diciembre' : 'Dic'\n",
    "    })\n",
    "\n",
    "#Impresión de los Resultados\n",
    "print(\"Los datos de las personas y sus ganancias mensuales son: \\n\")\n",
    "display(datos_df)"
   ]
  },
  {
   "cell_type": "markdown",
   "metadata": {},
   "source": [
    "Ahora se cambiarán las letras del **DataFrame** a mayúsculas para manejarlo como un estándar de formato del mismo. Para ello se deberán realizar las siguientes dos operaciones:\n",
    "\n",
    "1. Cambio de los encabezados de las columnas a mayúsculas por medio del método `.columns`.\n",
    "2. Cambio de las letras de las cadenas de texto dentro del **DataFrame** a mayúsculas por medio del método `.str.upper()` aplicado a cada columna correspondiente. Se puede consultar la documentación de este método por medio [de esta liga](https://pandas.pydata.org/docs/reference/api/pandas.Series.str.upper.html)."
   ]
  },
  {
   "cell_type": "code",
   "execution_count": null,
   "metadata": {},
   "outputs": [],
   "source": [
    "#Cambio de Encabezados a Mayúsculas\n",
    "datos_df.columns = [col.upper() for col in datos_df]\n",
    "\n",
    "#Cambio de las Cadenas de las columnas a Mayúsculas\n",
    "datos_df['NOMBRE']   = datos_df['NOMBRE'].str.upper()\n",
    "datos_df['APELLIDO'] = datos_df['APELLIDO'].str.upper()\n",
    "datos_df['CIUDAD']   = datos_df ['CIUDAD'].str.upper()\n",
    "\n",
    "#Impresión de los Resultados\n",
    "print(\"Los datos de las personas y sus ganancias mensuales son: \\n\")\n",
    "display(datos_df)"
   ]
  },
  {
   "cell_type": "markdown",
   "metadata": {},
   "source": [
    "Como los datos insertados en el **DataFrame** son del tipo *objeto*, se debe hacer un cambio de formato para que sean valores numéricos. \n",
    "\n",
    "Primeramente, se deben eliminar las `,` de cada número para que **Pandas** pueda hacer la conversión adecuadamente. Esto se realiza por medio del método `.str.replace()` donde se indica el cambio a realizar (en este caso, reemplazar la ',' por ningún valor).\n",
    "\n",
    "La aplicación del método `.str.replace()` se puede realizar columna por columna, o a través de todo el **DataFrame** por medio de una ***Función Lambda***.\n",
    "\n",
    "Se puede consultar la documentación del método `.str.replace()` por medio [de esta liga](https://pandas.pydata.org/docs/reference/api/pandas.Series.str.replace.html).\n",
    "\n",
    "**Nota Importante:** *Al aplicar el método `.str.replace()` a todo el **DataFrame** por medio de una ***Función Lambda*** se debe considerar que el reemplazo de caracteres se realizará también sobre aquellas columnas que no contengan valores correspondientes a números, es decir, cualquier ',' será reemplazada.*"
   ]
  },
  {
   "cell_type": "code",
   "execution_count": null,
   "metadata": {},
   "outputs": [],
   "source": [
    "#Eliminación de comas a una columna del DataFrame\n",
    "#datos_df['ENE'] = datos_df['ENE'].str.replace(',','')\n",
    "\n",
    "#Eliminación de comas a todo el DataFrame\n",
    "datos_df = datos_df.apply(lambda x: x.str.replace(',',''))\n",
    "\n",
    "#Impresión de los Resultados\n",
    "print(\"Los datos de las personas y sus ganancias mensuales son: \\n\")\n",
    "display(datos_df)"
   ]
  },
  {
   "cell_type": "markdown",
   "metadata": {},
   "source": [
    "Es posible notar que las comas ',' fueron eliminadas de las cadenas que representan valores numéricos. Sin embargo, es necesario verificar el tipo de datos contenidos en esas columnas del **DataFrame** por medio del método `.info()` para corroborar si los datos son correctos."
   ]
  },
  {
   "cell_type": "code",
   "execution_count": null,
   "metadata": {},
   "outputs": [],
   "source": [
    "#Mostrar la información del tipo de datos en el DataFrame\n",
    "datos_df.info()"
   ]
  },
  {
   "cell_type": "markdown",
   "metadata": {},
   "source": [
    "Como puede verse, los datos siguen suendo del tipo `object`, por lo mismo hace falta convertirlos a un formato adecuado (del tipo *objeto* al tipo *flotante*). \n",
    "\n",
    "Para ello, se realizará la conversión por medio del método `.astype()` donde su parámetro indica el tipo de dato al cual se hará la conversión (por ejemplo, `'int'` o `'float'`).\n",
    "\n",
    "La aplicación del método `.astype()` se puede realizar columna por columna, o a través de todas las columnas correspondientes del **DataFrame** por medio de una ***Función Lambda***.\n",
    "\n",
    "Se puede consultar la documentación del método `.astype()` por medio [de esta liga](https://pandas.pydata.org/docs/reference/api/pandas.DataFrame.astype.html)."
   ]
  },
  {
   "cell_type": "code",
   "execution_count": null,
   "metadata": {},
   "outputs": [],
   "source": [
    "#Conversión de datos columna a columna del DataFrame\n",
    "#datos_df['ENE'] = datos_df['ENE'].astype('int')\n",
    "#datos_df['FEB'] = datos_df['FEB'].astype('int')\n",
    "#datos_df['MAR'] = datos_df['MAR'].astype('int')\n",
    "#datos_df['ABR'] = datos_df['ABR'].astype('int')\n",
    "#datos_df['MAY'] = datos_df['MAY'].astype('int')\n",
    "#datos_df['JUN'] = datos_df['JUN'].astype('int')\n",
    "#datos_df['JUL'] = datos_df['JUL'].astype('int')\n",
    "#datos_df['AGO'] = datos_df['AGO'].astype('int')\n",
    "#datos_df['SEP'] = datos_df['SEP'].astype('int')\n",
    "#datos_df['OCT'] = datos_df['OCT'].astype('int')\n",
    "#datos_df['NOV'] = datos_df['NOV'].astype('int')\n",
    "#datos_df['DIC'] = datos_df['DIC'].astype('int')\n",
    "\n",
    "#Conversión de datos de las columnas correspondientes del DataFrame\n",
    "datos_df[['ENE','FEB','MAR','ABR','MAY','JUN','JUL','AGO','SEP','OCT','NOV','DIC']] = datos_df[['ENE',\n",
    "          'FEB','MAR','ABR','MAY','JUN','JUL','AGO','SEP','OCT','NOV','DIC']].apply(lambda x: x.astype(int))\n",
    "\n",
    "#Impresión de los Resultados\n",
    "print(\"Los datos de las personas y sus ganancias mensuales son: \\n\")\n",
    "display(datos_df)"
   ]
  },
  {
   "cell_type": "markdown",
   "metadata": {},
   "source": [
    "Se verifica el tipo de datos contenidos en esas columnas del **DataFrame** por medio del método `.info()` para corroborar si los datos son correctos."
   ]
  },
  {
   "cell_type": "code",
   "execution_count": null,
   "metadata": {},
   "outputs": [],
   "source": [
    "#Mostrar la información del tipo de datos en el DataFrame\n",
    "datos_df.info()"
   ]
  },
  {
   "cell_type": "markdown",
   "metadata": {},
   "source": [
    "Como el **DataFrame** ya ha sido preparado, es adecuado guardar una copia del mismo en un archivo en formato `.csv`, para ello se emplea el método `.to_csv()` de **Pandas**."
   ]
  },
  {
   "cell_type": "code",
   "execution_count": null,
   "metadata": {},
   "outputs": [],
   "source": [
    "#Lectura de los datos de los Administradores desde el archivo CSV\n",
    "datos_df.to_csv('./Guardados/Datos_DF.csv')"
   ]
  },
  {
   "cell_type": "markdown",
   "metadata": {},
   "source": [
    "Se verifica el resumen de datos estadísticos para cada una de las columnas que contienen valores numéricos en el **DataFrame** por medio del método `.describe()`. \n",
    "\n",
    "Para que los datos estadísticos mostrados por el método `.describe()` sean más sencillos de leer, se pueden formatear para que contengan una cantidad específica de decimales. Esto se realiza por medio del método `.apply()` donde el parámetro indica el formato de los decimales por medio de `'{:.2f}'.format` de la siguiente manera:"
   ]
  },
  {
   "cell_type": "code",
   "execution_count": null,
   "metadata": {},
   "outputs": [],
   "source": [
    "#Valores Estadísticos de las Columnas\n",
    "datos_df.describe().apply(lambda x: x.apply('{0:.2f}'.format))"
   ]
  },
  {
   "cell_type": "markdown",
   "metadata": {},
   "source": [
    "Para la visualización de los datos, primeramente se puede realizar un Histograma con los datos de alguna de las columnas contenidas en el **DataFrame**. Para ello se emplea el método `.histplot()` de la librebría **Seaborn** cuyo argumento corresponde a la columna del **DataFrame** que se quiere mostrar.\n",
    "\n",
    "Adicionalmente, se guarda una copia del gráfico resultante por medio del método `.savefig()` de **Matplotlib** indicando el nombre del archivo, la cantidad de puntos por pulgada (*dpi*) a ser empleados, la transparencia y el ajuste de la ventana del gráfico.\n",
    "\n",
    "**Nota:** *El método `.set()` de **Seaborn** se emplea par definir un estilo en el gráfico, en este caso `style = \"darkgrid\"` el cual es un estilo predeterminado que sirve para mejorar el gráfico resultante.*"
   ]
  },
  {
   "cell_type": "code",
   "execution_count": null,
   "metadata": {},
   "outputs": [],
   "source": [
    "#Definición de los parámetros de los gráficos\n",
    "plt.rcParams.update({'font.size': 10, 'figure.figsize': (6, 4)}) \n",
    "\n",
    "#Definición del estilo del gráfico\n",
    "sns.set(style = \"darkgrid\")\n",
    "\n",
    "#Gráfica de Histograma de Datos\n",
    "sns.histplot(data = datos_df['ENE'])\n",
    "plt.title('Histograma de Enero')\n",
    "plt.xlabel('Cantidades')\n",
    "plt.ylabel('Frecuencia')\n",
    "\n",
    "#Guardar el Gráfico en formato PNG \n",
    "#plt.savefig('./Guardados/Histograma.png', dpi = 300, transparent = False, bbox_inches=\"tight\");\n",
    "plt.plot();"
   ]
  },
  {
   "cell_type": "markdown",
   "metadata": {},
   "source": [
    "Ahora se relizará un gráfico de la Matriz de Correlación de las columnas numéricas del **DataFrame** que corresponden a los meses del año. Para ello se emplea el método `.heatmap()` de la librebría **Seaborn** cuyo argumento corresponde a la matriz de correlación del **DataFrame** que se determinó por medio del método `.corr()` de **Pandas**.\n",
    "\n",
    "Para que los valores de correlación en el gráfico sean más sencillos de leer, se pueden agregar el argumento `fmt='0.2f'` el cual especifica la cantidad de decimales a considerar en el mismo. \n",
    "\n",
    "Adicionalmente, se guarda una copia del gráfico resultante por medio del método `.savefig()` de **Matplotlib** indicando el nombre del archivo, la cantidad de puntos por pulgada (*dpi*) a ser empleados, la transparencia y el ajuste de la ventana del gráfico."
   ]
  },
  {
   "cell_type": "code",
   "execution_count": null,
   "metadata": {},
   "outputs": [],
   "source": [
    "#Definición de los parámetros de los gráficos\n",
    "plt.rcParams.update({'font.size': 10, 'figure.figsize': (10, 8)})\n",
    "\n",
    "#Generación de la Matriz de Correlación\n",
    "valores_df = datos_df[['ENE','FEB','MAR','ABR','MAY','JUN','JUL','AGO','SEP','OCT','NOV','DIC']]\n",
    "sns.heatmap(valores_df.corr(), annot = True, fmt='.2f', cmap = 'PuBuGn');\n",
    "plt.title('Matriz de Correlación')\n",
    "\n",
    "#Guardar el Gráfico en formato PNG \n",
    "#plt.savefig('./Guardados/Matriz_Correlacion.png', dpi = 300, transparent = True, bbox_inches=\"tight\");\n",
    "plt.plot();"
   ]
  },
  {
   "cell_type": "markdown",
   "metadata": {},
   "source": [
    "El siguiente paso será realizar un gráfico de las ganancias mensuales de una persona en el **DataFrame**. Sin embargo, estos valores están ubicados por renglón y no por columna, es por ello que se deberá hacer una extracción de los mismos para poder realizar el gráfico. Esto se lleva a cabo a través del siguiente proceso:\n",
    "\n",
    "1. Se extrae un renglón del **DataFrame** a una **Serie** por medio del método `.iloc[]`.\n",
    "2. Para convertir la **Serie** de renglón a columna, se usará el método `.transpose()` de **Pandas**.\n",
    "3. Se convierte la **Serie** en un **DataFrame** por medio del método `.to_frame()` de **Pandas**.\n",
    "4. El **DataFrame** generado contendrá los encabezados de las columnas en su índice, pero la columna con datos no tiene un nombre. Por lo mismo será necesario darle un nombre por medio del método `.rename()` de **Pandas**.\n",
    "5. Ahora se eliminarán los renglones que no son de interés (`NOMBRE`, `APELLIDO` y `CIUDAD`), para ello se emplea el método `.drop()` de **Pandas**.\n",
    "6. Finalmente, se muestra el **DataFrame** obtenido por medio de la función `display()`."
   ]
  },
  {
   "cell_type": "code",
   "execution_count": null,
   "metadata": {},
   "outputs": [],
   "source": [
    "#Extraer una renglón a un nuevo DataFrame\n",
    "periodo_df = datos_df.iloc[1]\n",
    "\n",
    "#Convertir el renglón en columna (Serie) \n",
    "periodo_df = periodo_df.transpose()\n",
    "periodo_df = periodo_df.to_frame()\n",
    "periodo_df = periodo_df.rename(columns = {1: 'MES'})\n",
    "periodo_df = periodo_df.drop(['NOMBRE','APELLIDO','CIUDAD'])\n",
    "\n",
    "#Impresión de los Resultados\n",
    "print(\"Los datos de las ganancias mensuales para una persona son: \\n\")\n",
    "display(periodo_df)"
   ]
  },
  {
   "cell_type": "markdown",
   "metadata": {},
   "source": [
    "Con este **DataFrame** se puede relizar un gráfico de líneas con la información de las ganancias por mes de una persona contenida en el **DataFrame**. Para ello se emplea el método `.plot()` de la librebría **Matplotlib** cuyo argumento corresponde al **DataFrame** que se acaba de generar.\n",
    "\n",
    "Adicionalmente, se guarda una copia del gráfico resultante por medio del método `.savefig()` de **Matplotlib** indicando el nombre del archivo, la cantidad de puntos por pulgada (*dpi*) a ser empleados, la transparencia y el ajuste de la ventana del gráfico."
   ]
  },
  {
   "cell_type": "code",
   "execution_count": null,
   "metadata": {},
   "outputs": [],
   "source": [
    "#Definición de los parámetros de los gráficos\n",
    "plt.rcParams.update({'font.size': 10, 'figure.figsize': (6, 4)}) \n",
    "\n",
    "#Gráfico de los datos\n",
    "plt.plot(periodo_df)\n",
    "plt.title('Ganancias de la Persona por Año')\n",
    "plt.xlabel('Periodo de Tiempo')\n",
    "plt.ylabel('Valor de la Ganancia')\n",
    "plt.xticks(rotation='vertical')\n",
    "\n",
    "#Guardar el Gráfico en formato PNG \n",
    "#plt.savefig('./Guardados/Grafico.png', dpi = 300, transparent = False, bbox_inches=\"tight\");\n",
    "plt.plot();"
   ]
  },
  {
   "cell_type": "markdown",
   "metadata": {},
   "source": [
    "<div class=\"alert alert-block alert-success\">\n",
    "<b>.: Fin del Subtema :.</b>\n",
    "</div>\n",
    "\n",
    "***Liga de aceso al siguiente Subtema:*** \n",
    "<br>[j. Implementación en Streamlit](j.%20Implementacion%20en%20Streamlit.ipynb)"
   ]
  }
 ],
 "metadata": {
  "kernelspec": {
   "display_name": "Python 3 (ipykernel)",
   "language": "python",
   "name": "python3"
  },
  "language_info": {
   "codemirror_mode": {
    "name": "ipython",
    "version": 3
   },
   "file_extension": ".py",
   "mimetype": "text/x-python",
   "name": "python",
   "nbconvert_exporter": "python",
   "pygments_lexer": "ipython3",
   "version": "3.8.19"
  }
 },
 "nbformat": 4,
 "nbformat_minor": 4
}
