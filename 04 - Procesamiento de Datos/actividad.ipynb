{
 "cells": [
  {
   "cell_type": "code",
   "execution_count": 1,
   "metadata": {},
   "outputs": [],
   "source": [
    "import pandas as pd"
   ]
  },
  {
   "cell_type": "code",
   "execution_count": 2,
   "metadata": {},
   "outputs": [],
   "source": [
    "datos_abiertos_2024 = pd.read_csv('/Users/lalomac/Downloads/Notebook - David/04 - Procesamiento de Datos/datos_abiertos_2024_08.csv')"
   ]
  },
  {
   "cell_type": "code",
   "execution_count": 3,
   "metadata": {},
   "outputs": [
    {
     "name": "stdout",
     "output_type": "stream",
     "text": [
      "<class 'pandas.core.frame.DataFrame'>\n",
      "RangeIndex: 394894 entries, 0 to 394893\n",
      "Data columns (total 8 columns):\n",
      " #   Column             Non-Null Count   Dtype  \n",
      "---  ------             --------------   -----  \n",
      " 0   Viaje_Id           394894 non-null  int64  \n",
      " 1   Usuario_Id         394894 non-null  int64  \n",
      " 2   Genero             392499 non-null  object \n",
      " 3   Ano_de_nacimiento  394727 non-null  float64\n",
      " 4   Inicio_del_viaje   394894 non-null  object \n",
      " 5   Fin_del_viaje      394894 non-null  object \n",
      " 6   Origen_Id          394894 non-null  int64  \n",
      " 7   Destino_Id         394894 non-null  int64  \n",
      "dtypes: float64(1), int64(4), object(3)\n",
      "memory usage: 24.1+ MB\n"
     ]
    }
   ],
   "source": [
    "datos_abiertos_2024.info()"
   ]
  },
  {
   "cell_type": "code",
   "execution_count": 4,
   "metadata": {},
   "outputs": [
    {
     "name": "stdout",
     "output_type": "stream",
     "text": [
      "   Viaje_Id  Usuario_Id Genero  Ano_de_nacimiento     Inicio_del_viaje  \\\n",
      "0  34950758     1653754      M             2001.0  2024-08-01 00:00:09   \n",
      "1  34950759     2703032      M             1970.0  2024-08-01 00:01:08   \n",
      "2  34950760     2077125      M             1990.0  2024-08-01 00:01:16   \n",
      "3  34950764     3503076      F             1981.0  2024-08-01 00:05:12   \n",
      "4  34950765     3470220      M             1997.0  2024-08-01 00:05:47   \n",
      "\n",
      "         Fin_del_viaje  Origen_Id  Destino_Id  \n",
      "0  2024-08-01 00:14:18         12         159  \n",
      "1  2024-08-01 00:23:41         78         341  \n",
      "2  2024-08-01 00:26:01         85          53  \n",
      "3  2024-08-01 00:25:26        255         349  \n",
      "4  2024-08-01 00:21:17         21         178  \n",
      "        Viaje_Id  Usuario_Id Genero  Ano_de_nacimiento     Inicio_del_viaje  \\\n",
      "394889  35406559      772126      M             1993.0  2024-08-31 23:57:57   \n",
      "394890  35406560     4055203      M             1990.0  2024-08-31 23:58:20   \n",
      "394891  35406561     2026005      M             2003.0  2024-08-31 23:58:41   \n",
      "394892  35406562     4032216      F             2001.0  2024-08-31 23:59:10   \n",
      "394893  35406563      661573      M             1976.0  2024-08-31 23:59:16   \n",
      "\n",
      "              Fin_del_viaje  Origen_Id  Destino_Id  \n",
      "394889  2024-09-01 00:02:13         64          66  \n",
      "394890  2024-09-01 00:16:29         50          67  \n",
      "394891  2024-09-01 00:03:46        269         385  \n",
      "394892  2024-09-01 00:11:26         88          50  \n",
      "394893  2024-09-01 00:08:19          9         228  \n",
      "           Viaje_Id    Usuario_Id  Ano_de_nacimiento      Origen_Id  \\\n",
      "count  3.948940e+05  3.948940e+05      394727.000000  394894.000000   \n",
      "mean   3.517914e+07  1.888543e+06        1989.842111     152.138364   \n",
      "std    1.315776e+05  1.367292e+06          12.275640     110.244294   \n",
      "min    3.495076e+07  1.020000e+02         200.000000       2.000000   \n",
      "25%    3.506501e+07  5.532420e+05        1984.000000      51.000000   \n",
      "50%    3.517922e+07  1.712601e+06        1993.000000     155.000000   \n",
      "75%    3.529353e+07  2.764674e+06        1998.000000     254.000000   \n",
      "max    3.540656e+07  4.451616e+06        2023.000000     390.000000   \n",
      "\n",
      "          Destino_Id  \n",
      "count  394894.000000  \n",
      "mean      153.616535  \n",
      "std       113.344279  \n",
      "min         2.000000  \n",
      "25%        51.000000  \n",
      "50%       154.000000  \n",
      "75%       259.000000  \n",
      "max       390.000000  \n",
      "['M' 'F' nan]\n",
      "Genero\n",
      "M    286905\n",
      "F    105594\n",
      "Name: count, dtype: int64\n",
      "Viaje_Id                0\n",
      "Usuario_Id              0\n",
      "Genero               2395\n",
      "Ano_de_nacimiento     167\n",
      "Inicio_del_viaje        0\n",
      "Fin_del_viaje           0\n",
      "Origen_Id               0\n",
      "Destino_Id              0\n",
      "dtype: int64\n"
     ]
    }
   ],
   "source": [
    "# Show the first 5 rows of the dataframe\n",
    "print(datos_abiertos_2024.head())\n",
    "\n",
    "# Show the last 5 rows of the dataframe\n",
    "print(datos_abiertos_2024.tail())\n",
    "\n",
    "# Show the summary statistics of the numerical columns\n",
    "print(datos_abiertos_2024.describe())\n",
    "\n",
    "# Show the unique values in the 'Genero' column\n",
    "print(datos_abiertos_2024['Genero'].unique())\n",
    "\n",
    "# Show the count of each unique value in the 'Genero' column\n",
    "print(datos_abiertos_2024['Genero'].value_counts())\n",
    "\n",
    "# Show the number of missing values in each column\n",
    "print(datos_abiertos_2024.isnull().sum())"
   ]
  },
  {
   "cell_type": "code",
   "execution_count": 5,
   "metadata": {},
   "outputs": [],
   "source": [
    "datos_abiertos_2024.drop_duplicates(inplace=True)"
   ]
  },
  {
   "cell_type": "code",
   "execution_count": 6,
   "metadata": {},
   "outputs": [
    {
     "data": {
      "text/plain": [
       "(394894, 8)"
      ]
     },
     "execution_count": 6,
     "metadata": {},
     "output_type": "execute_result"
    }
   ],
   "source": [
    "datos_abiertos_2024.shape"
   ]
  },
  {
   "cell_type": "code",
   "execution_count": 7,
   "metadata": {},
   "outputs": [
    {
     "data": {
      "text/plain": [
       "Index(['Viaje_Id', 'Usuario_Id', 'Sexo', 'Ano_de_nacimiento',\n",
       "       'Inicio_del_viaje', 'Fin_del_viaje', 'Origen_Id', 'Destino_Id'],\n",
       "      dtype='object')"
      ]
     },
     "execution_count": 7,
     "metadata": {},
     "output_type": "execute_result"
    }
   ],
   "source": [
    "datos_abiertos_2024.rename(columns={'Genero': 'Sexo'}, inplace=True)\n",
    "datos_abiertos_2024.columns"
   ]
  },
  {
   "cell_type": "code",
   "execution_count": 8,
   "metadata": {},
   "outputs": [
    {
     "data": {
      "text/plain": [
       "Viaje_Id                0\n",
       "Usuario_Id              0\n",
       "Sexo                 2395\n",
       "Ano_de_nacimiento     167\n",
       "Inicio_del_viaje        0\n",
       "Fin_del_viaje           0\n",
       "Origen_Id               0\n",
       "Destino_Id              0\n",
       "dtype: int64"
      ]
     },
     "execution_count": 8,
     "metadata": {},
     "output_type": "execute_result"
    }
   ],
   "source": [
    "datos_abiertos_2024.isnull().sum()"
   ]
  },
  {
   "cell_type": "code",
   "execution_count": 9,
   "metadata": {},
   "outputs": [],
   "source": [
    "datos_abiertos_2024.fillna('Desconocido', inplace=True)"
   ]
  },
  {
   "cell_type": "code",
   "execution_count": null,
   "metadata": {},
   "outputs": [],
   "source": []
  }
 ],
 "metadata": {
  "kernelspec": {
   "display_name": "base",
   "language": "python",
   "name": "python3"
  },
  "language_info": {
   "codemirror_mode": {
    "name": "ipython",
    "version": 3
   },
   "file_extension": ".py",
   "mimetype": "text/x-python",
   "name": "python",
   "nbconvert_exporter": "python",
   "pygments_lexer": "ipython3",
   "version": "3.11.5"
  }
 },
 "nbformat": 4,
 "nbformat_minor": 2
}
