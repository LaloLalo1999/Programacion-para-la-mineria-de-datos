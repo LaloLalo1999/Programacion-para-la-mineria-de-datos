{
 "cells": [
  {
   "cell_type": "markdown",
   "id": "15c504d0-9849-4d1e-8699-0ec3e62dae25",
   "metadata": {},
   "source": [
    "<div class=\"alert alert-block alert-info\">\n",
    "<span style=\"color: rgb(0,53,91);\">\n",
    "<center><img src=\"./Imagenes/ITESO_Logo.png\" style=\"width:500px;height:142px;\" title=\"Logo ITESO\"></center>\n",
    "<font face = \"Times New Roman\" size = \"6\"><b><center>Maestría en Sistemas Computacionales</center></b></font>\n",
    "<font face = \"Times New Roman\" size = \"5\"><b><center>Programación para Análisis de Datos</center></b></font>\n",
    "\n",
    "<b><br><font face = \"Times New Roman\" size = \"4\"><center>Unidad 4: Conceptos Generales</center></font>\n",
    "<font face = \"Times New Roman\" size = \"4\"><center>Tema 4.1: Exploración, Integración y Limpieza de Datos</center></font>\n",
    "<font face = \"Times New Roman\" size = \"4\"><center>Subtema i: Series de Tiempo y Pronóstico</center></font></b>\n",
    "<div align=\"right\"><font face = \"Times New Roman\" size = \"2\">Dr. Iván Esteban Villalón Turrubiates (villalon@iteso.mx)</font></div>\n",
    "</span></div>"
   ]
  },
  {
   "cell_type": "markdown",
   "id": "cc4f2e95-1fed-443d-8334-4fc5fe2ec9a1",
   "metadata": {},
   "source": [
    "<p><b><h2>SERIES DE TIEMPO Y PRONÓSTICO</h2></b>\n",
    "\n",
    "Las **Series de Tiempo** son una importante fuente de información que se emplea para definir estrategias para la toma de decisiones en los negocios. Desde una industria financiera pasando por empresas de ingeniería y educación, las **Series de Tiempo** juegan un rol de suma importancia para comprender muchos detalles de factores específicos que se ven afectados respecto del tiempo. \n",
    "\n",
    "Para ejemplificar el uso de las **Series de Tiempo**, se empleará una base de datos que contiene la información de la cantidad de pasajeros que volaron cada mes en cierta línea aérea, en un rango de tiempo que va desde enero de 2010 hasta diciembre de 2020. Los encabezados de las columnas de información son:\n",
    "\n",
    "1. **Mes**: Es el mes en formato aaaa-mm.\n",
    "2. **Pasajeros**: Es la cantidad de pasajeros que volaron.\n",
    "\n",
    "Para la lectura del archivo y la preparación de los datos, se realizarán las siguientes operaciones:\n",
    "\n",
    "1. Importación de las librerías necesarias (**Pandas**, **NumPy** y **Matplotlib**).\n",
    "2. Definición de los parámetros a emplear en los gráficos de **Matplotlib**.\n",
    "3. Lectura de los datos empleando el método `.read_csv()`.\n",
    "4. Conversión de la columna `Mes` al formato de serie de tiempo.\n",
    "5. Definición de la columna `Mes` como el índice del **DataFrame**.\n",
    "7. Mostrar el **DataFrame** resultante empleando la función `display()`."
   ]
  },
  {
   "cell_type": "code",
   "execution_count": null,
   "id": "4b970bec-7032-4117-b4cf-736421387126",
   "metadata": {},
   "outputs": [],
   "source": [
    "#Importación de librerías\n",
    "import pandas as pd\n",
    "import numpy as np\n",
    "import matplotlib.pyplot as plt\n",
    "from datetime import datetime\n",
    "\n",
    "#Definición de los parámetros de los gráficos\n",
    "plt.rcParams.update({'font.size': 10, 'figure.figsize': (8, 6)}) \n",
    "\n",
    "#Lectura de los datos desde el archivo CSV\n",
    "datos_df = pd.read_csv('./Datos/Pasajeros.csv')\n",
    "\n",
    "#Conversión de la Columna \"Mes\" al formato de Serie de Tiempo\n",
    "datos_df['Mes'] = pd.to_datetime(datos_df['Mes'])\n",
    "\n",
    "#Definir la Columna \"Mes\" como el Indice del DataFrame\n",
    "datos_df = datos_df.set_index('Mes')\n",
    "\n",
    "#Impresión de los Resultados\n",
    "print(\"\\nEl DataFrame es:\")\n",
    "display(datos_df)"
   ]
  },
  {
   "cell_type": "markdown",
   "id": "622ec5be-3da6-4c17-9701-6ce7836e4f99",
   "metadata": {},
   "source": [
    "Ahora se extraerá la columna `Pasajeros` como una **Serie**, recordando que a pesar de ser un **DataFrame** de una sola columna (*vector*), el **Indice** se mantiene como parte del mismo."
   ]
  },
  {
   "cell_type": "code",
   "execution_count": null,
   "id": "42838669-d98d-434e-bd5c-53771d5157c6",
   "metadata": {},
   "outputs": [],
   "source": [
    "#Extracción de la columna 'Pasajeros' como una Serie\n",
    "ts = datos_df['Pasajeros']\n",
    "\n",
    "#Impresión de los Resultados\n",
    "print(\"\\nLa Serie es:\")\n",
    "display(ts)"
   ]
  },
  {
   "cell_type": "markdown",
   "id": "006c816f-a315-495f-87b5-4eca94820aa0",
   "metadata": {},
   "source": [
    "<p><b><h3>Estacionariedad (Stationarity)</h3></b>\n",
    "\n",
    "El concepto de **Estacionariedad** (*Stationarity*) es de mucha utilidad en el análisis de **Series de Tiempo**. \n",
    "\n",
    "Para poder emplear un modelo de **Series de Tiempo**, es importante que esa **Serie** sea *Estacionaria*, es decir, que sus propiedades estadísticas (**media** y **varianza**) permanezcan constantes en el tiempo. Esto es debido a que el comportamiento de la serie a lo largo del tiempo es constante, y por ello se mantendrá de esa manera en el futuro, lo cual permite hacer pronósticos más certeros.\n",
    "\n",
    "En la práctica, es posible asumir que una serie es *Estacionaria* si tiene sus propiedades estadísticas constantes en el tiempo, las cuales pueden ser:\n",
    "* Su valor de **Media** es constante. \n",
    "* Su valor de **Varianza** es constante. \n",
    "* Tiene un valor de auto-covarianza que no depende del tiempo.\n",
    "\n",
    "Estos valores pueden ser revisados de manera sencilla en **Python**. Sin embargo, una manera rápida es comprobarlo a través de un gráfico de la **Serie** de datos, para ello se empleará el método `.plot()` de **Matplotlib** aplicado a la **Serie** de tiempo `ts`, esto es:"
   ]
  },
  {
   "cell_type": "code",
   "execution_count": null,
   "id": "5204b3f1-d4aa-4f4a-b073-79b331cd2915",
   "metadata": {},
   "outputs": [],
   "source": [
    "#Gráfico de la Serie de Tiempo\n",
    "fig, ax = plt.subplots()\n",
    "ax.plot(ts, label = 'Serie de Tiempo')\n",
    "plt.legend(loc='best')\n",
    "plt.xlabel('Años')\n",
    "plt.ylabel('Número de Pasajeros')\n",
    "plt.title('Serie de Tiempo')\n",
    "fig.autofmt_xdate(rotation=45)\n",
    "ax.set_xlim(np.datetime64(ts.index.min()), np.datetime64(ts.index.max()))\n",
    "\n",
    "#Guardar el Gráfico Resultante\n",
    "#plt.savefig('./Guardados/SerieTiempo.png', dpi=300, transparent=False, bbox_inches='tight')\n",
    "plt.show();"
   ]
  },
  {
   "cell_type": "markdown",
   "id": "38ce6bc4-709e-4c5e-bfe5-74e96941c821",
   "metadata": {},
   "source": [
    "Es posible observar en el gráfico que existe un incremento en la tendencia, pero mantiene cierto nivel de **Estacionariedad**.\n",
    "\n",
    "<p><b><h3>Prueba de Estacionariedad</h3></b>\n",
    "\n",
    "Para realizar la prueba de **Estacionariedad**, se puede emplear la prueba ***Dickey-Fuller*** que está definida a través de la función de **Python** descrita a continuación como `prueba_estacionariedad`."
   ]
  },
  {
   "cell_type": "code",
   "execution_count": null,
   "id": "591dcda2-da91-4cc6-8cfe-d582dabedaa5",
   "metadata": {},
   "outputs": [],
   "source": [
    "#Función para la prueba Dicker-fuller de Estacionariedad\n",
    "import pandas as pd\n",
    "from statsmodels.tsa.stattools import adfuller\n",
    "\n",
    "def prueba_estacionariedad(serie_tiempo):\n",
    "    \n",
    "    #Determinación de Estadísticos\n",
    "    rolmean = serie_tiempo.rolling(12).mean()\n",
    "    rolstd = serie_tiempo.rolling(12).std()\n",
    "\n",
    "    #Gráfica de los Estadísticos\n",
    "    fig, ax = plt.subplots()\n",
    "    orig = ax.plot(serie_tiempo, color='blue',label='Serie')\n",
    "    mean = ax.plot(rolmean, color='red', label='Media')\n",
    "    std = ax.plot(rolstd, color='black', label = 'Desviación Estándar')\n",
    "    plt.legend(loc='best')\n",
    "    plt.title('Media y Desviación Estándar de la Serie de Tiempo')\n",
    "    plt.xlabel('Años')\n",
    "    plt.ylabel('Número de Pasajeros')\n",
    "    fig.autofmt_xdate(rotation=45)\n",
    "    ax.set_xlim(np.datetime64(ts.index.min()), np.datetime64(ts.index.max()))\n",
    "   \n",
    "    #Guardar el Gráfico Resultante\n",
    "    #plt.savefig('./Guardados/PruebaEstac.png', dpi=300, transparent=False, bbox_inches='tight')\n",
    "    plt.show();\n",
    "    \n",
    "    #Prueba Dickey-Fuller\n",
    "    print('Resultados de la Prueba Dickey-Fuller de Estacionariedad:\\n')\n",
    "    dftest = adfuller(serie_tiempo, autolag='AIC')\n",
    "    dfoutput = pd.Series(dftest[0:4], index=['Prueba Estadística','Valor-p','Número de Retardos','Número de Observaciones'])\n",
    "    for key,value in dftest[4].items():\n",
    "        dfoutput['Valor Crítico (%s)'%key] = value\n",
    "    print(dfoutput)"
   ]
  },
  {
   "cell_type": "markdown",
   "id": "ae3744f4-4e46-4536-b000-944872cc97c0",
   "metadata": {},
   "source": [
    "Una vez definida la función `prueba_estacionariedad`, se aplica a la **Serie de Tiempo**:"
   ]
  },
  {
   "cell_type": "code",
   "execution_count": null,
   "id": "a023977d-0fcd-4e38-8239-3c483180d86c",
   "metadata": {},
   "outputs": [],
   "source": [
    "#Prueba de Estacionariedad para la Serie\n",
    "prueba_estacionariedad(ts)"
   ]
  },
  {
   "cell_type": "markdown",
   "id": "00e84b0a-5f69-4196-b4a0-381bdb5206f6",
   "metadata": {},
   "source": [
    "De los resultados, es posible observar que no son *Estacionarios* debido a:\n",
    "* La **media** se incrementa a pesar de que la **desviación estándar** se mantiene baja.\n",
    "* El valor *Prueba Estadística* es mayor a los *Valores Críticos*.\n",
    "\n",
    "***Nota:*** El valor *Prueba Estadística* se compara con los *Valores Críticos* para definir la **Estacionariedad** de la **Serie**:\n",
    "* Si el valor *Prueba Estadística* es mayor a los *Valores Críticos*, la **Serie** *No es Estacionaria*.\n",
    "* Si el valor *Prueba Estadística* es menor a alguno de los *Valores Críticos*, la **Serie** *Es Estacionaria* y el porcentaje del *Valor Crítico* define la certeza de ello.\n",
    "\n",
    "<p><b><h2>Conviertiendo la Serie en Estacionaria</h2></b>\n",
    "\n",
    "Existen dos factores importantes que hacen que una **Serie** sea *No Estacionaria*:\n",
    "* Tendencia (Trend): La tendencia no tiene valor constante en su **media**.\n",
    "* Temporalidad (Seasonality): Hay variación en rangos de tiempo específicos.\n",
    "\n",
    "La idea es modelar la Tendencia y/o la Temporalidad en esta **Serie**, para con ello remover esas constantes y obtener una **Serie** *Estacionaria*. De esa manera es posible realizar pronósticos con un mayor nivel de confianza, para finalmente volver a aplicar las constantes de Tendencia y/o Temporalidad que previamente se había eliminado.\n",
    "\n",
    "Para reducir la Tendencia se aplica una transformación que puede ser de diversas índoles como logarítmica, raíz cuadrada, raíz cúbica, entre otras. En este caso se empleará una transformación logarítmica empleando el método `.log()` de **NumPy**:"
   ]
  },
  {
   "cell_type": "code",
   "execution_count": null,
   "id": "e3d04143-bcd9-4f00-bbd6-8d2359ae0547",
   "metadata": {},
   "outputs": [],
   "source": [
    "#Transformación logarítmica de la Serie\n",
    "ts_log = np.log(ts)\n",
    "\n",
    "#Gráfico de la Serie de Tiempo\n",
    "fig, ax = plt.subplots()\n",
    "ax.plot(ts_log, label = 'Serie de Tiempo')\n",
    "plt.legend(loc='best')\n",
    "plt.xlabel('Años')\n",
    "plt.ylabel('Número de Pasajeros [log]')\n",
    "plt.title('Serie de Tiempo en Escala Logarítmica')\n",
    "fig.autofmt_xdate(rotation=45)\n",
    "ax.set_xlim(np.datetime64(ts_log.index.min()), np.datetime64(ts_log.index.max()))\n",
    "\n",
    "#Guardar el Gráfico Resultante\n",
    "#plt.savefig('./Guardados/SerieTiempo.png', dpi=300, transparent=False, bbox_inches='tight')\n",
    "plt.show();"
   ]
  },
  {
   "cell_type": "markdown",
   "id": "85672d85-4888-4468-8763-f830cb8498c7",
   "metadata": {},
   "source": [
    "<p><b><h3>Métodos para Series de Tiempo Estacionarias</h3></b>\n",
    "\n",
    "Los métodos para realizar la **Estacionariedad** de una **Serie de Tiempo** se muestran en el siguiente diagrama:\n",
    "\n",
    "<center><img src=\"./Imagenes/Estacional.png\" style=\"width:796px;height:350px;\" class=\"center\"></center>\n",
    "\n",
    "<p><b><h4>Modelo de Diferencias</h4></b>\n",
    "\n",
    "Se empleará el **Modelo de Diferencias** debido a la simplicidad del mismo. Para ello cuenta con el método `.shift()` de **Pandas**, el cual toma la primera diferencia desde la **Serie** original.\n",
    "\n",
    "Se extrae el valor obtenido con este método de cada uno de los valores originales de la **Serie**, ambos en escala logarítmica:"
   ]
  },
  {
   "cell_type": "code",
   "execution_count": null,
   "id": "60b14061-198e-4e82-9d78-1e2617988c51",
   "metadata": {},
   "outputs": [],
   "source": [
    "#Se toma la primera diferencia desde la Serie original\n",
    "ts_log_diff = ts_log - ts_log.shift()\n",
    "\n",
    "#Gráfico de la Serie de Tiempo\n",
    "fig, ax = plt.subplots()\n",
    "ax.plot(ts_log_diff, label = 'Serie de Tiempo')\n",
    "plt.legend(loc='best')\n",
    "plt.xlabel('Años')\n",
    "plt.ylabel('Número de Pasajeros [log]')\n",
    "plt.title('Serie de Tiempo en Escala Logarítmica')\n",
    "fig.autofmt_xdate(rotation=45)\n",
    "ax.set_xlim(np.datetime64(ts_log.index.min()), np.datetime64(ts_log.index.max()))\n",
    "\n",
    "#Guardar el Gráfico Resultante\n",
    "#plt.savefig('./Guardados/SerieTiempo.png', dpi=300, transparent=False, bbox_inches='tight')\n",
    "plt.show();"
   ]
  },
  {
   "cell_type": "markdown",
   "id": "f73b7f90-d1a3-422f-a6dd-abb5f0ee8667",
   "metadata": {},
   "source": [
    "Ahora se hace una eliminación de los ***valores nulos*** que hayan resultado en este proceso, y se realiza la prueba de **Estacionariedad**:"
   ]
  },
  {
   "cell_type": "code",
   "execution_count": null,
   "id": "4784ccc6-d826-407a-b12c-83b682b260b5",
   "metadata": {},
   "outputs": [],
   "source": [
    "#Eliminación de los valores nulos\n",
    "ts_log_diff.dropna(inplace = True)\n",
    "\n",
    "#Prueba de Estacionariedad para la Serie\n",
    "prueba_estacionariedad(ts_log_diff)"
   ]
  },
  {
   "cell_type": "markdown",
   "id": "ff4e581d-0014-49ec-a3fe-3ca3d9ae9a7b",
   "metadata": {},
   "source": [
    "Al realizar la prueba de estacionariedad, es posible observar:\n",
    "* La **media** y **desviación estándar** tienen una pequeña variación respecto al tiempo.\n",
    "* El valor *Prueba Estadística* es menor que el valor del 5% de *Valor Crítico*, lo cual indica que hay un 95% de certeza de que esta **Serie** sea *Estacionaria*.\n",
    "\n",
    "<p><b><h3>Pronóstico de Series de Tiempo</h3></b>\n",
    "\n",
    "Ahora que la serie ya es **Estacionaria**, se emplea un modelo estadístico conocido como **Modelo de Promedios Móviles Integrados Auto Regresivos** o **ARIMA** (***Auto Regressive Integrated Moving Average***) para realizar el pronóstico de valores.\n",
    "\n",
    "El modelo **ARIMA** es similar a una *Regresión Lineal*, su predictor depende de tres parámetros (*p*, *d*, *q*), donde:\n",
    "\n",
    "* *p*: Es el número de términos auto regresivos (AR). Por ejemplo, si *p = 3*, entonces el predictor de *x(t)* considera los elementos *x(t-1)*, *x(t-2)* y *x(t-3)*.\n",
    "* *d*: Este es el número de diferencias a considerar.\n",
    "* *q*: Es el número de términos para el promedio móvil (MA). Por ejemplo, si *q = 3*, entonces el predictor de *x(t)* considera los elementos *x(t-1)*, *x(t-2)* y *x(t-3)*.\n",
    "\n",
    "Para determinar los valores *p* y *q*, se emplean dos funciones:\n",
    "\n",
    "* **Función de Autocorrelación (ACF)**, la cual mide la correlación entre dos versiones consecutivas de la **Serie**. Por ejemplo, si el intérvalo a considerar es igual a 4, la **ACF** comparará la **Serie** en los tiempos *t1...t2* con las instancias *t1-4...t2-5*.\n",
    "* **Función de Autocorrelación Parcial (PACF)**, la cual se emplea para medir el grado de asociación entre la **Serie** *x(t)* y *x(t-p)*.\n",
    "\n",
    "<p><b><h4>Modelos ACF y PACF</h4></b>\n",
    "\n",
    "El modelo **ARIMA**, así como los modelos **ACF** y **PACF** para determinar los valores *p* y *q* pueden ser determinados empleando la librería **StatsModels** de **Python**.\n",
    "\n",
    "<p><b><h4>La Librería StatsModels</h4></b>\n",
    "\n",
    "<center><img src=\"./Imagenes/Statsmodels_logo.png\" style=\"width:549px;height:100px;\" class=\"center\"></center>\n",
    "\n",
    "**StatsModels** es una librería para **Python** cuyo principal propósito es brindar clases y funciones para la estimación de distintos modelos estadísticos, así como pruebas estadísticas y exploración de datos. Cada estimación que se obtiene incluye una lista de diversos resultados del análisis estadístico. Esta biblioteca se vincula directamente con la librería **NumPy** así como con **Matplotlib**. \n",
    "\n",
    "La documentación de **StatsModels** se puede encontrar a través [de esta liga](https://www.statsmodels.org/stable/index.html).\n",
    "\n",
    "Se emplearán dos elementos al importar la librería, uno para el modelo **ARIMA** y otro para los modelos **ACF** y **PACF**:\n",
    "```python\n",
    "from statsmodels.tsa.arima_model import ARIMA\n",
    "from statsmodels.tsa.stattools import acf, pacf \n",
    "```\n",
    "> Para determinar la **Función de Autocorrelación (ACF)** se emplea la función `acf(a,b)`, cuyos parámetros son:\n",
    "\n",
    "* Parámetro a: Arreglo que contiene a la **Serie de Tiempo**.\n",
    "* Parámetro b: Indica el número de retardos (`nlags = 12`) a ser empleados.\n",
    "\n",
    "La documentación de la función `acf()` puede ser consultada [en esta liga](https://www.statsmodels.org/devel/generated/statsmodels.tsa.stattools.acf.html).\n",
    "\n",
    "> Para determinar la **Función de Autocorrelación Parcial (PACF)** se emplea la función `pacf(a,b,c)`, cuyos parámetros son:\n",
    "\n",
    "* Parámetro a: Arreglo que contiene a la **Serie de Tiempo**.\n",
    "* Parámetro b: Indica el número de retardos (`nlags = 12`) a ser empleados.\n",
    "* Parámetro c: Indica el método a ser empleado (`method = 'ols'`), en este caso indica regresión de **Series de Tiempo**.\n",
    "\n",
    "La documentación de la función `pacf()` puede ser consultada [en esta liga](https://www.statsmodels.org/stable/generated/statsmodels.tsa.stattools.pacf.html)."
   ]
  },
  {
   "cell_type": "code",
   "execution_count": null,
   "id": "33c6d4db-cb42-4f0b-a5c3-e86201a7b990",
   "metadata": {},
   "outputs": [],
   "source": [
    "#Importación de librerías\n",
    "from statsmodels.tsa.arima.model import ARIMA\n",
    "from statsmodels.tsa.stattools import acf, pacf  \n",
    "\n",
    "#Determinación de los Modelos ACF y PACF\n",
    "lag_acf  =  acf(ts_log_diff, nlags = 12)\n",
    "lag_pacf = pacf(ts_log_diff, nlags = 12, method = 'ols')\n",
    "\n",
    "#Gráfico para ACF:    \n",
    "plt.plot(lag_acf)\n",
    "plt.axhline(y = 0, linestyle='--', color='gray')\n",
    "plt.axhline(y = -1.96/np.sqrt(len(ts_log_diff)), linestyle='--', color='gray')\n",
    "plt.axhline(y = 1.96/np.sqrt(len(ts_log_diff)), linestyle='--', color='gray')\n",
    "plt.title('Autocorrelación (ACF)')\n",
    "plt.show();\n",
    "\n",
    "#Gráfico para PACF:\n",
    "plt.plot(lag_pacf)\n",
    "plt.axhline(y = 0, linestyle='--', color='gray')\n",
    "plt.axhline(y = -1.96/np.sqrt(len(ts_log_diff)), linestyle='--', color='gray')\n",
    "plt.axhline(y = 1.96/np.sqrt(len(ts_log_diff)), linestyle='--', color='gray')\n",
    "plt.title('Autocorrelación Parcial (PACF)')\n",
    "plt.show();"
   ]
  },
  {
   "cell_type": "markdown",
   "id": "b0cf6c70-7f6b-4bf9-8ca3-fb5e0bee221e",
   "metadata": {},
   "source": [
    "Las líneas punteadas que aparecen en los gráficos arriba y abajo del valor *0.0* son los intérvalos de confianza, que se usan para determinar los valores *p* y *q*: \n",
    "\n",
    "* *p*: Es el valor donde la curva toca por vez primera el intérvalo superior de confianza en la **Función de Autocorrelación Parcial (PACF)**. En este caso es aproximadamente *p = 2*.\n",
    "* *q*: Es el valor donde la curva toca por vez primera el intérvalo superior de confianza en la **Función de Autocorrelación (ACF)**. En este caso es aproximadamente *q = 2*.\n",
    "\n",
    "En base a estos valores, se pueden generar tres modelos considerando los valores individuales o combinados, los cuales son:\n",
    "\n",
    "1. El **Modelo Auto Regresivo** (**AR**, ***Auto Regressive***).\n",
    "2. El **Modelo de Promedios Móviles** (**MA**, ***Moving Average***). \n",
    "3. El **Modelo de Promedios Móviles Integrados Auto Regresivos** (**ARIMA**, ***Auto Regressive Integrated Moving Average***).\n",
    "\n",
    "Para cada uno de ellos se calcula un error conocido como **RSS** (***Residual Sum of Squares***, o **Suma Residual de Cuadrados**).\n",
    "\n",
    "Adicionalmente, los tres modelos previamente descritos se pueden determinar a través del método `ARIMA(a,b)` de la librería **StatsModels** empleando dos argumentos:\n",
    "\n",
    "1. El argumento a: Corresponde a la **Serie** que contiene a los datos en escala logarítmica.\n",
    "2. El argumento b: Corresponde al orden del modelo, es decir, los valores *p*, *d* y *q* que se especifican por medio del parámetro `order = (p,d,q)`.\n",
    "\n",
    "La documentación detallada del método `ARIMA()` puede ser consultada a través [de esta liga](https://www.statsmodels.org/stable/generated/statsmodels.tsa.arima.model.ARIMA.html).\n",
    "\n",
    "Para llevar a cabo la aplicación del Modelo **ARIMA** se realizan los siguientes pasos:\n",
    "\n",
    "1. Creación del Modelo **ARIMA** aplicando el método `ARIMA()` y especificando los parámetros correspondientes.\n",
    "2. Acoplamiento del Modelo a los valores con *máxima verosimilitud* (*maximum likelihood*) empleando el método `.fit()`. \n",
    "3. Determinación del **Error RSS** entre la predicción y el valor de la **Serie** que fue transformada a un modelo **Estacionario**.\n",
    "\n",
    "<p><b><h4>Modelo Auto Regresivo (AR)</h4></b>\n",
    "    \n",
    "Para el modelo **Modelo Auto Regresivo (AR)**, se emplearán los valores:\n",
    "* *p = 2* \n",
    "* *d = 1* \n",
    "* *q = 0*\n",
    "\n",
    "Esto es:"
   ]
  },
  {
   "cell_type": "code",
   "execution_count": null,
   "id": "282a0b5e-5c37-4b2f-bd66-c41810b961c4",
   "metadata": {},
   "outputs": [],
   "source": [
    "#Modelo Auto Regresivo (AR)\n",
    "modelo_AR = ARIMA(ts_log_diff, order = (2, 1, 0), freq = None)\n",
    "resulta_AR = modelo_AR.fit()\n",
    "RSS_AR = sum((resulta_AR.fittedvalues - ts_log_diff)**2)\n",
    "\n",
    "#Gráfico de la Serie de Tiempo\n",
    "plt.plot(ts_log_diff)\n",
    "plt.plot(resulta_AR.fittedvalues, color='red')\n",
    "plt.title(\"Modelo Auto Regresivo (AR), RSS: %.3f\"% RSS_AR)\n",
    "plt.xlabel('Años')\n",
    "plt.ylabel('Número de Pasajeros en Escala Logarítmica')\n",
    "plt.plot();"
   ]
  },
  {
   "cell_type": "markdown",
   "id": "a2ea5ad7-c392-4e7f-8bb4-3944fe3350e3",
   "metadata": {},
   "source": [
    "<p><b><h4>Modelo de Promedios Móviles (MA)</h4></b>\n",
    "    \n",
    "Para el modelo **Modelo de Promedios Móviles (MA)**, se emplearán los valores:\n",
    "* *p = 0* \n",
    "* *d = 1* \n",
    "* *q = 2*\n",
    "\n",
    "Esto es:"
   ]
  },
  {
   "cell_type": "code",
   "execution_count": null,
   "id": "4d819f9e-8e3d-4a4a-8a79-c119139e2220",
   "metadata": {},
   "outputs": [],
   "source": [
    "#Modelo de Promedios Móviles (MA)\n",
    "modelo_MA = ARIMA(ts_log_diff, order = (0, 1, 2), freq = None)\n",
    "resulta_MA = modelo_MA.fit()\n",
    "RSS_MA = sum((resulta_MA.fittedvalues - ts_log_diff)**2)\n",
    "\n",
    "#Gráfico de la Serie de Tiempo\n",
    "plt.plot(ts_log_diff)\n",
    "plt.plot(resulta_MA.fittedvalues, color='red')\n",
    "plt.title(\"Modelo de Promedios Móviles (MA), RSS: %.3f\"% RSS_MA)\n",
    "plt.xlabel('Años')\n",
    "plt.ylabel('Número de Pasajeros en Escala Logarítmica')\n",
    "plt.plot();"
   ]
  },
  {
   "cell_type": "markdown",
   "id": "ff00dbeb-4472-496c-a5ed-679e6cdb0c1a",
   "metadata": {},
   "source": [
    "<p><b><h4>Modelo de Promedios Móviles Integrados Auto Regresivos (ARIMA)</h4></b>\n",
    "    \n",
    "Para el modelo **Modelo de Promedios Móviles Integrados Auto Regresivos (ARIMA)**, se emplearán los valores:\n",
    "* *p = 2* \n",
    "* *d = 1* \n",
    "* *q = 2*\n",
    "\n",
    "Esto es:"
   ]
  },
  {
   "cell_type": "code",
   "execution_count": null,
   "id": "0b4c5622-a894-4a59-befe-e9131d28e87e",
   "metadata": {},
   "outputs": [],
   "source": [
    "#Modelo de Promedios Móviles Integrados Auto Regresivos (ARIMA)\n",
    "modelo_ARIMA = ARIMA(ts_log_diff, order = (2, 1, 2), freq = None)\n",
    "resulta_ARIMA = modelo_ARIMA.fit()\n",
    "RSS_ARIMA = sum((resulta_ARIMA.fittedvalues - ts_log_diff)**2)\n",
    "\n",
    "#Gráfico de la Serie de Tiempo\n",
    "plt.plot(ts_log_diff)\n",
    "plt.plot(resulta_ARIMA.fittedvalues, color='red')\n",
    "plt.title(\"Promedios Móviles Integrados Auto Regresivos (ARIMA), RSS: %.3f\"% RSS_ARIMA)\n",
    "plt.xlabel('Años')\n",
    "plt.ylabel('Número de Pasajeros en Escala Logarítmica')\n",
    "plt.plot();"
   ]
  },
  {
   "cell_type": "markdown",
   "id": "ebbd4caa-b650-4ccf-a20e-d21ae0cfa16d",
   "metadata": {},
   "source": [
    "Los valores del **Error RSS** generados por cada uno de los modelos son:"
   ]
  },
  {
   "cell_type": "code",
   "execution_count": null,
   "id": "b55f4ef8-3bdb-4114-8bcd-eda1979eb662",
   "metadata": {},
   "outputs": [],
   "source": [
    "print(\"Valor RSS para AR = %.3f\"% RSS_AR)\n",
    "print(\"Valor RSS para MA = %.3f\"% RSS_MA)\n",
    "print(\"Valor RSS para ARIMA = %.3f\"% RSS_ARIMA)"
   ]
  },
  {
   "cell_type": "markdown",
   "id": "a501c425-04f9-4148-a8d2-a294d0781e7e",
   "metadata": {},
   "source": [
    "Es posible observar que el modelo **ARIMA** general el valor más bajo de **RSS**, por lo mismo es el más adecuado. \n",
    "\n",
    "<p><b><h4>Paso Final: Regresando a la Escala Original</h4></b>\n",
    "    \n",
    "Para regresar los valores a la escala original: \n",
    "\n",
    "1. Primero se deben obtener las predicciones y guardarlas en una **Serie**. Se notará que el primer mes hace falta *2010-01-01* debido a que se están empleando diferencias de 1 mes (*d = 1*). \n",
    "2. Posteriormente se determina la suma acumulada (método `.cumsum()`) y se agrega en una nueva **Serie**.\n",
    "3. Se añaden esos valores a la **Serie** original. \n",
    "4. Se convierte a escala en tiempo la **Serie** obtenida."
   ]
  },
  {
   "cell_type": "code",
   "execution_count": null,
   "id": "1a9608f8-a20c-488f-97c0-f38b3daeeeb0",
   "metadata": {},
   "outputs": [],
   "source": [
    "#Paso 1: Asignación de las Predicciones a una Serie\n",
    "predic_ARIMA_diff = pd.Series(resulta_ARIMA.fittedvalues)\n",
    "\n",
    "#Impresión de los Resultados\n",
    "predic_ARIMA_diff"
   ]
  },
  {
   "cell_type": "code",
   "execution_count": null,
   "id": "57e81ab7-ba13-463d-a255-345e25a0fd7e",
   "metadata": {},
   "outputs": [],
   "source": [
    "#Paso 2: Asignación de la Suma Acumulada a una Serie\n",
    "predic_ARIMA_diff_cumsum = predic_ARIMA_diff.cumsum()\n",
    "\n",
    "#Impresión de los Resultados\n",
    "predic_ARIMA_diff_cumsum"
   ]
  },
  {
   "cell_type": "code",
   "execution_count": null,
   "id": "e6878b3d-58aa-456e-a81b-b6ffd1899d00",
   "metadata": {},
   "outputs": [],
   "source": [
    "#Paso 3: Adición de la Suma Acumulada a la Serie Original\n",
    "predic_ARIMA_log = pd.Series(ts_log.loc[ts_log.index[0]], index = ts_log.index)\n",
    "predic_ARIMA_log = predic_ARIMA_log.add(predic_ARIMA_diff_cumsum, fill_value = 0)\n",
    "\n",
    "#Impresión de los Resultados\n",
    "predic_ARIMA_log"
   ]
  },
  {
   "cell_type": "code",
   "execution_count": null,
   "id": "2d7556d2-2fe1-410c-afec-d039bd22f0f4",
   "metadata": {},
   "outputs": [],
   "source": [
    "#Paso 4: Conversión al Dominio del Tiempo\n",
    "predic_ARIMA = np.exp(predic_ARIMA_log).astype('int')\n",
    "\n",
    "#Gráfico de la Serie de Tiempo\n",
    "fig, ax = plt.subplots()\n",
    "ax.plot(ts, label='Serie')\n",
    "ax.plot(predic_ARIMA, label='ARIMA')\n",
    "plt.legend(loc='best')\n",
    "plt.title(\"Predicciones de Valores, Método ARIMA\")\n",
    "plt.xlabel('Años')\n",
    "plt.ylabel('Número de Pasajeros')\n",
    "fig.autofmt_xdate(rotation=45)\n",
    "ax.set_xlim(np.datetime64(ts.index.min()), np.datetime64(ts.index.max()))\n",
    "\n",
    "#Guardar el Gráfico Resultante\n",
    "#plt.savefig('./Guardados/SerieTiempo.png', dpi=300, transparent=False, bbox_inches='tight')\n",
    "plt.show();"
   ]
  },
  {
   "cell_type": "markdown",
   "id": "39a13e11-6c2a-4f23-81d1-46aaceb9078f",
   "metadata": {},
   "source": [
    "<p><b><h4>Pronóstico de Valores</h4></b>\n",
    "    \n",
    "Debido a que la **Serie** cuenta con la información de cada mes por 11 años (enero de 2010 hasta diciembre de 2020), y suponiendo que se requiere hacer el pronóstico por los próximos 6 meses, se emplea la fórmula siguiente:\n",
    "\n",
    "$ (11 x 12) + (6) = 138 $\n",
    "\n",
    "Esto es, *(11 meses x 12 años) + (6 meses)*. Este valor será de utilidad para emplear el método `.predict()` de **StatsModels** para hacer la predicción de un rango de valores.\n",
    "\n",
    "La documentación del método `.predict()` puede ser consultada [en esta liga](https://www.statsmodels.org/0.9.0/generated/statsmodels.tsa.arima_model.ARIMA.predict.html)."
   ]
  },
  {
   "cell_type": "code",
   "execution_count": null,
   "id": "1eecdcc5-5368-4a38-bf73-d3fe645e7162",
   "metadata": {},
   "outputs": [],
   "source": [
    "#Pronóstico de Valores para 10 Años\n",
    "pronos_ARIMA = resulta_ARIMA.predict(1,138)\n",
    "\n",
    "#Gráfico de la Serie de Tiempo\n",
    "fig, ax = plt.subplots()\n",
    "ax.plot(ts_log - ts_log.shift(), label = 'A')\n",
    "ax.plot(pronos_ARIMA, label = 'Pronostico')\n",
    "plt.legend(loc='best')\n",
    "plt.title('Predicción de Valores')\n",
    "plt.xlabel('Años')\n",
    "plt.ylabel('Número de Pasajeros en Escala Logarítmica')\n",
    "fig.autofmt_xdate(rotation=45)\n",
    "ax.set_xlim(np.datetime64(pronos_ARIMA.index.min()), np.datetime64(pronos_ARIMA.index.max()))\n",
    "\n",
    "#Guardar el Gráfico Resultante\n",
    "#plt.savefig('./Guardados/SerieTiempo.png', dpi=300, transparent=False, bbox_inches='tight')\n",
    "plt.show();"
   ]
  },
  {
   "cell_type": "markdown",
   "id": "a61a1f41-4d87-485c-99ce-7ac79047a93f",
   "metadata": {},
   "source": [
    "En este caso, la variable `pronos_ARIMA` contiene el pronóstico de 6 valores adicionales a los 132 valores con los que ya se contaba (*12 meses por 11 años*) para un total de 138 valores, los cuales pueden ser verificados aplicando el método `.shape` a la **Serie**:"
   ]
  },
  {
   "cell_type": "code",
   "execution_count": null,
   "id": "4891b946-63a3-48b6-bed6-08709e8009ab",
   "metadata": {},
   "outputs": [],
   "source": [
    "#Impresión de los Resultados\n",
    "print(\"El tamaño de la Serie de Tiempo es:\", ts.shape)\n",
    "print(\"El tamaño de la Serie con Pronóstico es:\", pronos_ARIMA.shape)"
   ]
  },
  {
   "cell_type": "markdown",
   "id": "29d0ae62-53d8-437c-a10b-dead5bb52160",
   "metadata": {},
   "source": [
    "El método `.predict()` proporciona el resultado en escala logarítmica. Para hacer la aproximación de los valores en su ***Escala Original***, es necesario realizar los 4 pasos descritos previamente pero considerando que cada valor pronosticado se deberá agregar a cada valor real previo.\n",
    "\n",
    "El primer paso se puede omitir ya que el método `.predict()` proporciona una **Serie**. "
   ]
  },
  {
   "cell_type": "code",
   "execution_count": null,
   "id": "6e6a3543-959e-4d83-860b-c6d418277956",
   "metadata": {},
   "outputs": [],
   "source": [
    "#Paso 2: Asignación de la Suma Acumulada a una Serie\n",
    "predic_ARIMA_diff_cumsum = pronos_ARIMA.cumsum()\n",
    "\n",
    "#Paso 3: Adición de la Suma Acumulada a la Serie Original\n",
    "predic_ARIMA_log = pd.Series(ts_log.loc[ts_log.index[0]], index = ts_log.index)\n",
    "predic_ARIMA_log = predic_ARIMA_log.add(predic_ARIMA_diff_cumsum, fill_value = 0)\n",
    "\n",
    "#Paso 4: Conversión al Dominio del Tiempo\n",
    "predic_ARIMA = np.exp(predic_ARIMA_log).astype('int')\n",
    "\n",
    "#Gráfico de la Serie de Tiempo\n",
    "fig, ax = plt.subplots()\n",
    "ax.plot(ts, label = 'Serie de Tiempo')\n",
    "ax.plot(predic_ARIMA, label = 'Pronostico')\n",
    "plt.legend(loc='best')\n",
    "plt.title(\"Predicciones de Valores, Método ARIMA\");\n",
    "plt.xlabel('Años');\n",
    "plt.ylabel('Número de Pasajeros');\n",
    "fig.autofmt_xdate(rotation=45)\n",
    "ax.set_xlim(np.datetime64(predic_ARIMA.index.min()), np.datetime64(predic_ARIMA.index.max()))\n",
    "\n",
    "#Guardar el Gráfico Resultante\n",
    "#plt.savefig('./Guardados/SerieTiempo.png', dpi=300, transparent=False, bbox_inches='tight')\n",
    "plt.show();"
   ]
  },
  {
   "cell_type": "markdown",
   "id": "83b3e824-bdcf-49bd-8ff8-5ef8e571bb7a",
   "metadata": {},
   "source": [
    "Sin embargo, se notará que a partir del *2021-01-01* hay una \"*caída*\" en lo valores, en realidad esto se debe a que no se cuenta con la información real de ese periodo de tiempo, y como se comentó previamente, cada uno de esos valores pronosticados se deben agregar al valor real previo para tener una estimación adecuada."
   ]
  },
  {
   "cell_type": "code",
   "execution_count": null,
   "id": "5142b8dc-bee8-4e5f-8bcb-b9b24effa855",
   "metadata": {},
   "outputs": [],
   "source": [
    "predic_ARIMA.tail(10)"
   ]
  },
  {
   "cell_type": "markdown",
   "id": "57ffe2b3-32da-4384-968c-52a7bbffa357",
   "metadata": {},
   "source": [
    "Los resultados pueden ser refinados para obtener un modelo más adecuado, pero por el momento se muestra a manera de introducción a un pronóstico de **Series de Tiempo**."
   ]
  },
  {
   "cell_type": "markdown",
   "id": "ea2a5df1-a3bb-433e-a81f-4d071c6d6711",
   "metadata": {},
   "source": [
    "<div class=\"alert alert-block alert-success\">\n",
    "<b>.: Fin del Subtema :.</b>\n",
    "</div>\n",
    "\n",
    "***Liga de aceso al siguiente Subtema:*** \n",
    "<br>[j. Recapitulación del Análisis de DataFrames](j.%20Recapitulacion%20del%20Analisis%20de%20DataFrames.ipynb)"
   ]
  }
 ],
 "metadata": {
  "kernelspec": {
   "display_name": "Python 3 (ipykernel)",
   "language": "python",
   "name": "python3"
  },
  "language_info": {
   "codemirror_mode": {
    "name": "ipython",
    "version": 3
   },
   "file_extension": ".py",
   "mimetype": "text/x-python",
   "name": "python",
   "nbconvert_exporter": "python",
   "pygments_lexer": "ipython3",
   "version": "3.8.19"
  }
 },
 "nbformat": 4,
 "nbformat_minor": 5
}
