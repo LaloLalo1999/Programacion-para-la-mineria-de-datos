{
 "cells": [
  {
   "cell_type": "markdown",
   "metadata": {},
   "source": [
    "<div class=\"alert alert-block alert-info\">\n",
    "<span style=\"color: rgb(0,53,91);\">\n",
    "<center><img src=\"./Imagenes/ITESO_Logo.png\" style=\"width:500px;height:142px;\" title=\"Logo ITESO\"></center>\n",
    "<font face = \"Times New Roman\" size = \"6\"><b><center>Maestría en Sistemas Computacionales</center></b></font>\n",
    "<font face = \"Times New Roman\" size = \"5\"><b><center>Programación para Análisis de Datos</center></b></font>\n",
    "\n",
    "<b><br><font face = \"Times New Roman\" size = \"4\"><center>Unidad 4: Conceptos Generales</center></font>\n",
    "<font face = \"Times New Roman\" size = \"4\"><center>Tema 4.1: Exploración, Integración y Limpieza de Datos</center></font>\n",
    "<font face = \"Times New Roman\" size = \"4\"><center>Subtema a: Creación de DataFrames de Pandas</center></font></b>\n",
    "<div align=\"right\"><font face = \"Times New Roman\" size = \"2\">Dr. Iván Esteban Villalón Turrubiates (villalon@iteso.mx)</font></div>\n",
    "</span></div>"
   ]
  },
  {
   "cell_type": "markdown",
   "metadata": {},
   "source": [
    "## CREACIÓN DE DATAFRAMES DE PANDAS\n",
    "\n",
    "Para el manejo de bases de datos en **Python** a través del uso de **DataFrame** se empleará la librería **Pandas**.\n",
    "\n",
    "#### La Librería Pandas\n",
    "<center><img src=\"./Imagenes/Pandas_logo.png\" style=\"width:677px;height:200px;\" class=\"center\"></center>\n",
    "\n",
    "La librería de software **Pandas** para **Python** es la herramienta de mayor importancia para los científicos de datos ya que permite el análisis de los datos recabados para un experimento en particular, y es una extensión de la librería **NumPy**. Ofrece estructuras de datos y operaciones para manipular tablas numéricas y series temporales.\n",
    "\n",
    "Su nombre deriva del término ***Panel Data***, el cual es un término de economía que hace referencia a grupos de datos que incluyen observaciones sobre múltiples periodos de tiempo para el mismo individuo.\n",
    "\n",
    "La documentación de **Pandas** se puede consultar a través [de esta liga](https://pandas.pydata.org).\n",
    "\n",
    "**Pandas** tiene muchos usos, básicamente se considera el lugar de reposo de los datos. A través de esta librería es posible conocer a profundidad y familiarizarse con los datos que se cuenta a través del proceso de limpieza, transformación y análisis.\n",
    "\n",
    "Por ejemplo, si se requiere explorar un set de datos en un archivo `CSV` almacenado de manera local en la computadora, **Pandas** puede extraer la información hacia un **DataFrame** (básicamente es una tabla) y permitir realizar acciones como:\n",
    "\n",
    "* Determinar los valores estadísticos para cada una de las columnas: Por ejemplo, el valor promedio, rango, varianza o desviación estándar de una columna, determinar los valores de correlación entre las columnas, o determinar la distribución de los datos en una columna en particular.\n",
    "\n",
    "* Realizar el proceso de limpieza de datos a través de la eliminación de valores perdidos y filtrado de líneas o columnas a través de algún criterio definido.\n",
    "\n",
    "* Visualización de los resultados por medio de la librería **Matplotlib**.\n",
    "\n",
    "* Guardar los datos nuevos que ya han sido limpiados y transformados en el mismo archivo `CSV` o en otro distinto.\n",
    "\n",
    "#### La importancia del Análisis de Datos\n",
    "Como ejemplo histórico ocurrido durante la ***Segunda Guerra Mundial*** (1939 a 1945) se considera a los aviones de combate que regresaban de la batalla con agujeros de bala. Los aliados encontraron las áreas que eran más comúnmente golpeadas por el fuego enemigo y trataron de reforzar las partes más dañadas de los aviones para reducir el número de aviones que era derribados.\n",
    "\n",
    "Un matemático, [Abraham Wald](https://blognewdeal.com/enrique-feas/el-sesgo-de-supervivencia-y-el-analisis-economico), señaló que tal vez había otra forma de ver los datos. Pensaba que posiblemente la razón por la que ciertas áreas de los aviones no estaban cubiertas de agujeros de bala era que los aviones que fueron dañados en esas áreas no regresaban (eran derribados). Esta idea llevó a que el blindaje se reforzara en las partes del avión donde no había agujeros de bala.\n",
    "\n",
    "Podría decirse que la historia detrás de los datos es más importante que los datos en sí. O más precisamente, la razón por la que faltan ciertos datos en una investigación puede ser más significativa que los datos con los que se cuenta.\n",
    "\n",
    "Desde entonces este problema se conoce como **Sesgo de Supervivencia**, es un sesgo de selección derivado de considerar en un proceso sólo a las personas o elementos supervivientes (datos con los que se cuenta), obviando la consideración de los desaparecidos por no ser observables en una muestra (datos no recolectados que dejan de ser representativos de la población).\n",
    "\n",
    "<center><img src=\"./Imagenes/Plane.png\" style=\"width:319px;height:250px;\" class=\"center\"></center>\n",
    "\n",
    "\n",
    "#### Un poco de humor\n",
    "La Ingeniería de Datos contra la Ciencia de Datos:\n",
    "\n",
    "<center><img src=\"./Imagenes/DataScienceEng.gif\" style=\"width:335px;height:250px;\" class=\"center\"></center>"
   ]
  },
  {
   "cell_type": "markdown",
   "metadata": {},
   "source": [
    "Para importar la librería **Pandas** se empleará la función:\n",
    "\n",
    "```python\n",
    "import pandas as pd\n",
    "```\n",
    "\n",
    "A partir de ello se podrá hacer uso de los distintos métodos invocándolos por medio de `pd`.\n",
    "\n",
    "Existen muchas maneras de crear un **DataFrame**, pero la mejor alternativa es emplear un simple **Diccionario**. \n",
    "\n",
    "Como primer ejemplo, se asume que se tiene un puesto de venta de frutas donde hay manzanas y naranjas. La estructura de interés consiste en tener una columna para cada fruta y un renglón para cada compra realizada. Para ello, se puede estructurar a partir de un **Diccionario** empleando el método `.DataFrame()`, el cual recibe un argumento único el cual consiste en el **Diccionario** que contiene a los datos de interés.\n",
    "\n",
    "La documentación detallada del método `.DataFrame()` se puede consultar [en esta liga](https://pandas.pydata.org/pandas-docs/stable/reference/api/pandas.DataFrame.html)."
   ]
  },
  {
   "cell_type": "code",
   "execution_count": 1,
   "metadata": {},
   "outputs": [
    {
     "name": "stdout",
     "output_type": "stream",
     "text": [
      "El DataFrame es:\n"
     ]
    },
    {
     "data": {
      "text/html": [
       "<div>\n",
       "<style scoped>\n",
       "    .dataframe tbody tr th:only-of-type {\n",
       "        vertical-align: middle;\n",
       "    }\n",
       "\n",
       "    .dataframe tbody tr th {\n",
       "        vertical-align: top;\n",
       "    }\n",
       "\n",
       "    .dataframe thead th {\n",
       "        text-align: right;\n",
       "    }\n",
       "</style>\n",
       "<table border=\"1\" class=\"dataframe\">\n",
       "  <thead>\n",
       "    <tr style=\"text-align: right;\">\n",
       "      <th></th>\n",
       "      <th>Manzana</th>\n",
       "      <th>Naranja</th>\n",
       "    </tr>\n",
       "  </thead>\n",
       "  <tbody>\n",
       "    <tr>\n",
       "      <th>0</th>\n",
       "      <td>3</td>\n",
       "      <td>0</td>\n",
       "    </tr>\n",
       "    <tr>\n",
       "      <th>1</th>\n",
       "      <td>2</td>\n",
       "      <td>3</td>\n",
       "    </tr>\n",
       "    <tr>\n",
       "      <th>2</th>\n",
       "      <td>0</td>\n",
       "      <td>7</td>\n",
       "    </tr>\n",
       "    <tr>\n",
       "      <th>3</th>\n",
       "      <td>1</td>\n",
       "      <td>2</td>\n",
       "    </tr>\n",
       "  </tbody>\n",
       "</table>\n",
       "</div>"
      ],
      "text/plain": [
       "   Manzana  Naranja\n",
       "0        3        0\n",
       "1        2        3\n",
       "2        0        7\n",
       "3        1        2"
      ]
     },
     "execution_count": 1,
     "metadata": {},
     "output_type": "execute_result"
    }
   ],
   "source": [
    "#Importación de librerías\n",
    "import pandas as pd\n",
    "\n",
    "#Creación del Diccionario\n",
    "datos = {\n",
    "    'Manzana': [3, 2, 0, 1], \n",
    "    'Naranja': [0, 3, 7, 2]\n",
    "}\n",
    "\n",
    "#Creación del DataFrame a partir del Diccinario\n",
    "compras = pd.DataFrame(datos)\n",
    "\n",
    "#Impresión de los Resultados\n",
    "print(\"El DataFrame es:\")\n",
    "compras"
   ]
  },
  {
   "cell_type": "markdown",
   "metadata": {},
   "source": [
    "#### ¿Cómo funciona?\n",
    "\n",
    "Cada uno de los elementos dentro del **Diccionario** son una combinación de *(llave, valor)*, los cuales corresponden a una *columna* en el **DataFrame** resultante.\n",
    "\n",
    "El **Indice** de este **DataFrame** se muestra como una primera *columna* y corresponde a un valor numérico consecutivo comenzando desde *0*, el cual proporciona un identificador a cada elemento dentro del **DataFrame**. Este valor se asigna de manera automática (para este caso, por medio de los números 0 a 3), pero es posible asignar un **Indice** particular una vez que se inicialice el **DataFrame**. \n",
    "\n",
    "Como ejemplo, podemos asignar nombres como el **Indice**, para ello se emplea el argumento `index = []` dentro del método `.DataFrame()` de la siguiente manera:"
   ]
  },
  {
   "cell_type": "code",
   "execution_count": 2,
   "metadata": {},
   "outputs": [
    {
     "name": "stdout",
     "output_type": "stream",
     "text": [
      "El DataFrame es:\n"
     ]
    },
    {
     "data": {
      "text/html": [
       "<div>\n",
       "<style scoped>\n",
       "    .dataframe tbody tr th:only-of-type {\n",
       "        vertical-align: middle;\n",
       "    }\n",
       "\n",
       "    .dataframe tbody tr th {\n",
       "        vertical-align: top;\n",
       "    }\n",
       "\n",
       "    .dataframe thead th {\n",
       "        text-align: right;\n",
       "    }\n",
       "</style>\n",
       "<table border=\"1\" class=\"dataframe\">\n",
       "  <thead>\n",
       "    <tr style=\"text-align: right;\">\n",
       "      <th></th>\n",
       "      <th>Manzana</th>\n",
       "      <th>Naranja</th>\n",
       "    </tr>\n",
       "  </thead>\n",
       "  <tbody>\n",
       "    <tr>\n",
       "      <th>María</th>\n",
       "      <td>3</td>\n",
       "      <td>0</td>\n",
       "    </tr>\n",
       "    <tr>\n",
       "      <th>Roberto</th>\n",
       "      <td>2</td>\n",
       "      <td>3</td>\n",
       "    </tr>\n",
       "    <tr>\n",
       "      <th>Lily</th>\n",
       "      <td>0</td>\n",
       "      <td>7</td>\n",
       "    </tr>\n",
       "    <tr>\n",
       "      <th>David</th>\n",
       "      <td>1</td>\n",
       "      <td>2</td>\n",
       "    </tr>\n",
       "  </tbody>\n",
       "</table>\n",
       "</div>"
      ],
      "text/plain": [
       "         Manzana  Naranja\n",
       "María          3        0\n",
       "Roberto        2        3\n",
       "Lily           0        7\n",
       "David          1        2"
      ]
     },
     "execution_count": 2,
     "metadata": {},
     "output_type": "execute_result"
    }
   ],
   "source": [
    "#Asignación de un nuevo Indice\n",
    "compras = pd.DataFrame(datos, index = ['María', 'Roberto', 'Lily', 'David'])\n",
    "\n",
    "#Impresión de los Resultados\n",
    "print(\"El DataFrame es:\")\n",
    "compras"
   ]
  },
  {
   "cell_type": "markdown",
   "metadata": {},
   "source": [
    "A partir de los valores del **Indice**, es posible buscar la orden de un cliente empleando su nombre. Esto se realiza empleando el método `.loc[]` donde su argumento corresponde al valor que se está buscando.\n",
    "\n",
    "La documentación detallada del método `.loc[]` se puede consultar [en esta liga](https://pandas.pydata.org/pandas-docs/stable/reference/api/pandas.DataFrame.loc.html)."
   ]
  },
  {
   "cell_type": "code",
   "execution_count": 3,
   "metadata": {},
   "outputs": [
    {
     "name": "stdout",
     "output_type": "stream",
     "text": [
      "Las compras realizadas por Lily son:\n",
      "\n"
     ]
    },
    {
     "data": {
      "text/plain": [
       "Manzana    0\n",
       "Naranja    7\n",
       "Name: Lily, dtype: int64"
      ]
     },
     "execution_count": 3,
     "metadata": {},
     "output_type": "execute_result"
    }
   ],
   "source": [
    "#Impresión de la Búsqueda de un Registro\n",
    "print(\"Las compras realizadas por Lily son:\\n\") \n",
    "compras.loc['Lily']"
   ]
  },
  {
   "cell_type": "markdown",
   "metadata": {},
   "source": [
    "<div class=\"alert alert-block alert-success\">\n",
    "<b>.: Fin del Subtema :.</b>\n",
    "</div>\n",
    "\n",
    "***Liga de aceso al siguiente Subtema:*** \n",
    "<br>[b. Lectura de Datos](b.%20Lectura%20de%20Datos.ipynb)"
   ]
  },
  {
   "cell_type": "code",
   "execution_count": null,
   "metadata": {},
   "outputs": [],
   "source": []
  }
 ],
 "metadata": {
  "kernelspec": {
   "display_name": "Python 3 (ipykernel)",
   "language": "python",
   "name": "python3"
  },
  "language_info": {
   "codemirror_mode": {
    "name": "ipython",
    "version": 3
   },
   "file_extension": ".py",
   "mimetype": "text/x-python",
   "name": "python",
   "nbconvert_exporter": "python",
   "pygments_lexer": "ipython3",
   "version": "3.11.5"
  }
 },
 "nbformat": 4,
 "nbformat_minor": 4
}
