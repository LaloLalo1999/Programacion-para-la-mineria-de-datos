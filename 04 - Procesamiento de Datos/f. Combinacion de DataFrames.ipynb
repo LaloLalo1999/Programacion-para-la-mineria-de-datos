{
 "cells": [
  {
   "cell_type": "markdown",
   "metadata": {},
   "source": [
    "<div class=\"alert alert-block alert-info\">\n",
    "<span style=\"color: rgb(0,53,91);\">\n",
    "<center><img src=\"./Imagenes/ITESO_Logo.png\" style=\"width:500px;height:142px;\" title=\"Logo ITESO\"></center>\n",
    "<font face = \"Times New Roman\" size = \"6\"><b><center>Maestría en Sistemas Computacionales</center></b></font>\n",
    "<font face = \"Times New Roman\" size = \"5\"><b><center>Programación para Análisis de Datos</center></b></font>\n",
    "\n",
    "<b><br><font face = \"Times New Roman\" size = \"4\"><center>Unidad 4: Conceptos Generales</center></font>\n",
    "<font face = \"Times New Roman\" size = \"4\"><center>Tema 4.1: Exploración, Integración y Limpieza de Datos</center></font>\n",
    "<font face = \"Times New Roman\" size = \"4\"><center>Subtema f: Combinación de DataFrames</center></font></b>\n",
    "<div align=\"right\"><font face = \"Times New Roman\" size = \"2\">Dr. Iván Esteban Villalón Turrubiates (villalon@iteso.mx)</font></div>\n",
    "</span></div>"
   ]
  },
  {
   "cell_type": "markdown",
   "metadata": {},
   "source": [
    "## COMBINACIÓN DE DATAFRAMES\n",
    "\n",
    "Una alternativa que la librería **Pandas** proporciona es la habilidad de combinar distintos **DataFrames**. A continuación se muestran las alternativas para realizar:\n",
    "\n",
    "* Unión desde la Izquierda (***Left Join***).\n",
    "* Unión desde la Derecha (***Right Join***).\n",
    "* Unión Interna (***Inner Join***). \n",
    "* Unión Externa (***Outer Join***). \n",
    "\n",
    "Adicionalmente, se revisa la combinación ordenada (***ordered merging***), la cual es de gran utilidad cuando se desea hacer la combinación de **DataFrames** cuyas columnas tienen un orden natural (por ejemplo, cuando la columna contiene información de fecha y hora).\n",
    "\n",
    "Como ejemplo, consideraremos un grupo de datos provenientes de una Empresa que tiene operaciones en diferentes ciudades y con distintos administradores. Existen dos archivos `.CSV` que contienen a los **DataFrames** `Administradores` y `Ganancias`, respectivamente. Cada uno de ellos contienen información parcial relacionada con la Empresa:\n",
    "\n",
    "Para el **DataFrame** `Administradores.csv`, los encabezados de las columnas de información son:\n",
    "\n",
    "1. **Ciudad**: Es el nombre de las ciudades donde opera la Empresa.\n",
    "2. **Administrador**: Es el nombre de la persona que administra la sucursal de la Empresa en cada ciudad.\n",
    "\n",
    "Para el **DataFrame** `Ganancias.csv`, los encabezados de las columnas de información son:\n",
    "\n",
    "1. **Ciudad**: Es el nombre de las ciudades donde opera la Empresa.\n",
    "2. **Ganancia**: Es la ganancia neta (miles de pesos) de la sucursal de la Empresa en cada ciudad.\n",
    "\n",
    "Será posible visualizar que los renglones en ambos **DataFrames** no se adaptan adecuadamente debido a que la lista de ciudades no es exactamente similar. Por otro lado, la sucursal de *San Luis Potosí* no tiene ganancias aún debido a que apenas ha abierto, además de que el administrador de la sede en *Zacatecas* renunció hace poco.\n",
    "\n",
    "Se realizarán varias operaciones con estos **DataFrames**, el primer paso es importar las librerías necesarias, así como cargar los datos:"
   ]
  },
  {
   "cell_type": "code",
   "execution_count": null,
   "metadata": {},
   "outputs": [],
   "source": [
    "#Importación de librerías\n",
    "import pandas as pd\n",
    "\n",
    "#Lectura de los datos de los Administradores desde el archivo CSV\n",
    "admin_df = pd.read_csv('./Datos/Administradores.csv')\n",
    "\n",
    "#Lectura de los datos de las Ganancias desde el archivo CSV\n",
    "ganan_df = pd.read_csv('./Datos/Ganancias.csv')\n",
    "\n",
    "#Impresión de los Resultados\n",
    "print(\"Los Datos de los Administradores son: \\n\")\n",
    "display(admin_df)\n",
    "print(\"Los Datos de las Ganancias son: \\n\")\n",
    "display(ganan_df)"
   ]
  },
  {
   "cell_type": "markdown",
   "metadata": {},
   "source": [
    "### El Método `.append()`\n",
    "Como se había visto previamente, es posible agregar dos **DataFrames** que tengan una estructura similar a través del método `.append()` de **Pandas**. Sin embargo, es un método que ya ha sido definido como [*obsoleto*](https://pandas.pydata.org/pandas-docs/version/1.4/reference/api/pandas.DataFrame.append.html) para las versiones más actuales de la librería. \n",
    "\n",
    "El proceso a realizar para agregar dos **DataFrames** con la misma estructura por medio del método `.append()` se llevaba a cabo por medio de dos pasos: \n",
    "1. Se realiza una copia del primer **DataFrame** (**admin_df**) por medio del método `.copy()`.\n",
    "2. Se le agregará el segundo **DataFrame** (**ganan_df**) empleando el método `.append()`."
   ]
  },
  {
   "cell_type": "code",
   "execution_count": null,
   "metadata": {},
   "outputs": [],
   "source": [
    "#Copia del Primer DataFrame\n",
    "nuevo_df = admin_df.copy()\n",
    "\n",
    "#Agregación de los DataFrames\n",
    "nuevo_df = nuevo_df.append(ganan_df)\n",
    "\n",
    "#Impresión de los Resultados\n",
    "print(\"El DataFrame es:\")\n",
    "nuevo_df.head(10)"
   ]
  },
  {
   "cell_type": "markdown",
   "metadata": {},
   "source": [
    "A partir de la aplicación del método `.append()`, es posible observar que debido a que los dos **DataFrames** no tenían una estructura totalmente similar, la unión de ambos genera un resultado no tan adecuado e incluso los renglones con valores similares no se están ajustando de manera adecuada. \n",
    "\n",
    "Cabe señalar que este método asigna ***valores nulos*** del tipo `NaN` de **Pandas** a las celdas donde no existen valores. \n",
    "\n",
    "Para que se realice una combinación más adecuada de los **DataFrames**, se emplea otro método que se describe a continuación.\n",
    "\n",
    "### El Método `.merge()`\n",
    "A través del uso del método `.merge()` de Pandas es posible realizar la combinación de dos **DataFrames**. \n",
    "\n",
    "Sin embargo, al tratar de combinar ambos **DataFrames**, la pregunta es: ¿cuántos renglones se combinarán?\n",
    "\n",
    "La documentación del método `.merge()` se puede consultar [en esta liga](https://pandas.pydata.org/pandas-docs/stable/reference/api/pandas.DataFrame.merge.html).\n",
    "\n",
    "La aplicación del método `.merge(a,b,c)` se realizará con tres argumentos, los cuales son:\n",
    "* El argumento a: El primer **DataFrame** a ser combinado.\n",
    "* El argumento b: El segundo **DataFrame** a ser combinado.\n",
    "* El argumento c: Se emplea `on = 'columna'` para indicar la columna de referencia para la combinación."
   ]
  },
  {
   "cell_type": "code",
   "execution_count": null,
   "metadata": {},
   "outputs": [],
   "source": [
    "#Combinación de DataFrames empleando el método .merge()\n",
    "comb_df = pd.merge(admin_df, ganan_df, on = 'Ciudad')\n",
    "\n",
    "#Impresión de los Resultados\n",
    "print(\"La combinación de los DataFrames es:\")\n",
    "comb_df"
   ]
  },
  {
   "cell_type": "markdown",
   "metadata": {},
   "source": [
    "El método `.merge()` realiza de manera predeterminada (***default***) una Unión Interna (**Inner Join**), por lo mismo el nuevo **DataFrame** llamado **comb_df** contendrá solo los renglones comunes a ambos.\n",
    "\n",
    "La operación de combinación de **DataFrames** que realiza el método `.merge()` toma el **DataFrame** de la izquierda (el primer argumento, en este caso es **admin_df**), después toma el **DataFrame** de la derecha (el segundo argumento, en este caso **ganan_df**), y después el nombre de la columna de combinación (el tercer argumento, en este caso `Ciudad`) la cual será la columna base para realizar la combinación.\n",
    "\n",
    "En el resultado, los renglones de los **DataFrames** izquierdo y derecho se emparejan donde hay valores comunes en la columna de combinación especificada por la variable `on` del tercer argumento.\n",
    "\n",
    "Una combinación interna o Unión Interna (**Inner Join**) solo mantiene los valores que se tienen en común en ambos **DataFrames**.\n",
    "\n",
    "### Combinación en una Columna en Específico\n",
    "Se espera que la Empresa crezca y, eventualmente, opere en ciudades con el mismo nombre pero ubicadas en distintos Estados. \n",
    "\n",
    "Debido a ello, se decide que cada sucursal tenga un identificador numérico, para lo cual se deberá agregar una columna llamada `Susursal` a ambos **DataFrames**. Adicionalmente, en los archivos `.CSV` se han agregado nuevas ciudades, por lo mismo se hará la lectura de ambos (`Administradores` y `Ganancias`)."
   ]
  },
  {
   "cell_type": "code",
   "execution_count": null,
   "metadata": {},
   "outputs": [],
   "source": [
    "#Lectura de los datos de los Administradores desde el archivo CSV\n",
    "admin_df = pd.read_csv('./Datos/Administradores_id.csv')\n",
    "\n",
    "#Lectura de los datos de las Ganancias desde el archivo CSV\n",
    "ganan_df = pd.read_csv('./Datos/Ganancias_id.csv')\n",
    "\n",
    "#Impresión de los Resultados\n",
    "print(\"Los Datos de los Administradores son: \\n\")\n",
    "display(admin_df)\n",
    "print(\"Los Datos de las Ganancias son: \\n\")\n",
    "display(ganan_df)"
   ]
  },
  {
   "cell_type": "markdown",
   "metadata": {},
   "source": [
    "Se emplea nuevamente el método `.merge()` de **Pandas** para combinar los **DataFrames** `Administradores` y `Ganancias` basados en la columna `Ciudad` de manera similar al ejemplo anterior."
   ]
  },
  {
   "cell_type": "code",
   "execution_count": null,
   "metadata": {},
   "outputs": [],
   "source": [
    "#Combinación de DataFrames empleando el método .merge()\n",
    "comb_df = pd.merge(admin_df, ganan_df, on = 'Ciudad')\n",
    "\n",
    "#Impresión de los Resultados\n",
    "print(\"La combinación de los DataFrames es:\")\n",
    "comb_df"
   ]
  },
  {
   "cell_type": "markdown",
   "metadata": {},
   "source": [
    "Puede notarse que el **DataFrame** resultante contiene los renglones que son comunes en ambos, y excluye aquellos que no son similares.\n",
    "\n",
    "Sin embargo, y debido a que la combinación se lleva a cabo usando la columna `Ciudad` como base, podrá notarse que las otras columnas que son comunes a ambos aparecen por separado (aunque sean similares), por ejemplo aparece `Sucursal_x` y `Sucursal_y`, al igual que `Estado_x` y `Estado_y`. \n",
    "\n",
    "Entonces, es posible realizar la combinación de los **DataFrames** basados en más de una columna, para ello al argumento `on` en el método `.merge()` se le pasa una lista con las columnas base. En este caso se realizará la combinación basado en las columnas `Sucursal`, `Ciudad` y `Estado` que son comunes a ambos."
   ]
  },
  {
   "cell_type": "code",
   "execution_count": null,
   "metadata": {},
   "outputs": [],
   "source": [
    "#Combinación de DataFrames empleando el método .merge()\n",
    "comb_df = pd.merge(admin_df, ganan_df, on = ['Sucursal', 'Ciudad'])\n",
    "\n",
    "#Impresión de los Resultados\n",
    "print(\"La combinación de los DataFrames es:\")\n",
    "comb_df"
   ]
  },
  {
   "cell_type": "markdown",
   "metadata": {},
   "source": [
    "## Otros Tipos de Combinaciones\n",
    "\n",
    "Existen diferentes tipos de combinaciones disponibles en **Pandas**, los cuales son comunes a través de la mayoría de bases de datos y lenguajes orientados en datos (SQL, R, SAS), típicamente se les llama **Join**.\n",
    "\n",
    "<center><img src=\"./Imagenes/Merge_Type.png\" style=\"width:406px;height:300px;\" class=\"center\"></center>\n",
    "\n",
    "Las cuatro combinaciones más empleadas se describen a continuación:\n",
    "\n",
    "1. **Inner Merge / Inner Join** – Es el valor predeterminado (***default***) de **Pandas**, el cual solo mantiene los renglones donde el argumento `on` existe tanto en el **DataFrame** de la izquierda como en el **DataFrame** de la derecha.\n",
    "\n",
    "2. **Left Merge / Left Join** – Esta combinación mantiene cada renglón en el **DataFrame** de la izquierda. Cuando existen ***valores nulos*** de la variable `on` en el **DataFrame** de la derecha, agrega un ***valor nulo*** (`NaN`) en el resultado. \n",
    "\n",
    "3. **Right Merge / Right Join** – Esta combinación mantiene cada renglón en el **DataFrame** de la derecha. Cuando existen ***valores nulos*** de la variable `on` en el **DataFrame** de la izquierda, agrega un ***valor nulo*** (`NaN`) en el resultado.\n",
    "\n",
    "4. **Outer Merge / Full Outer Join** – Esta combinación mantiene cada renglón en el **DataFrame** de la izquierda, así como cada renglón en el **DataFrame** de la derecha, y hace una combinación de renglones cuando es posible hacerlo, asignando ***valores nulos*** (`NaN`) en las celdas correspondientes. \n",
    "\n",
    "Para este caso se seguirá empleando el método `.merge(a,b,c,d)` de **Pandas** con un argumento adicional, estos son:\n",
    "* El argumento a: El primer DataFrame a ser combinado (*izquierda*).\n",
    "* El argumento b: El segundo DataFrame a ser combinado (*derecha*).\n",
    "* El argumento c: Se emplea el parámetro `how`, donde se especifica el tipo de combinación a emplear: `inner` (default), `left`, `right`, o `outer`, respectivamente.\n",
    "* El argumento d: Se emplea el parámetro `on` para indicar la columna de referencia para la combinación.\n",
    "\n",
    "### Combinación Izquierda (Left Join)\n",
    "Como se describió previamente, esta combinación mantiene cada renglón en el **DataFrame** de la izquierda. Cuando existen ***valores nulos*** de la variable `on` en el **DataFrame** de la derecha, agrega un ***valor nulo*** (`NaN`) en el resultado. \n",
    "\n",
    "En el resultado es posible ver los siguientes elementos:\n",
    "\n",
    "1. Los renglones que contienen las ciudades *San Luis Potosí* y *Abasolo* (Guanajuato) que son parte del **DataFrame** de la izquierda (**admin_df**) se incluyen, pero *Zacatecas* y *Abasolo* (Tamaulipas) no están incluidos ya que forman parte del **DataFrame** de la derecha (**ganan_df**).\n",
    "2. Debido a que el **DataFrame** de la izquierda (**admin_df**) no contenía la columna `Ganancia`, los valores de esta columna se integran con los renglones correspondientes y donde no existen valores se asigna `NaN`."
   ]
  },
  {
   "cell_type": "code",
   "execution_count": null,
   "metadata": {},
   "outputs": [],
   "source": [
    "#Combinación Left Join empleando el método .merge()\n",
    "comb_df = pd.merge(admin_df, ganan_df, how = 'left', on = ['Sucursal', 'Ciudad', 'Estado'])\n",
    "\n",
    "#Impresión de los Resultados\n",
    "print(\"La combinación de los DataFrames es:\")\n",
    "comb_df"
   ]
  },
  {
   "cell_type": "markdown",
   "metadata": {},
   "source": [
    "### Combinación Derecha (Right Join)\n",
    "Como se describió previamente, esta combinación mantiene cada renglón en el **DataFrame** de la derecha. Cuando existen ***valores nulos*** de la variable `on` en el **DataFrame** de la izquierda, agrega un ***valor nulo*** (`NaN`) en el resultado.\n",
    "\n",
    "En el resultado es posible ver los siguientes elementos:\n",
    "\n",
    "1. Los renglones que contienen las ciudades *Zacatecas* y *Abasolo* (Tamaulipas) que son parte del **DataFrame** de la derecha (**ganan_df**) se incluyen, pero *San Luis Potosí* y *Abasolo* (Guanajuato) no están incluidos ya que forman parte del **DataFrame** de la izquierda (**admin_df**).\n",
    "2. Debido a que el **DataFrame** de la derecha (**ganan_df**) no contenía la columna `Administrador`, los valores de esta columna se integran con los renglones correspondientes y donde no existen valores se asigna `NaN`."
   ]
  },
  {
   "cell_type": "code",
   "execution_count": null,
   "metadata": {},
   "outputs": [],
   "source": [
    "#Combinación Right Join empleando el método .merge()\n",
    "comb_df = pd.merge(admin_df, ganan_df, how = 'right', on = ['Sucursal', 'Ciudad', 'Estado'])\n",
    "\n",
    "#Impresión de los Resultados\n",
    "print(\"La combinación de los DataFrames es:\")\n",
    "comb_df"
   ]
  },
  {
   "cell_type": "markdown",
   "metadata": {},
   "source": [
    "### Combinación Externa (Outer Join)\n",
    "Como se describió previamente, esta combinación mantiene cada renglón en el **DataFrame** de la izquierda, así como cada renglón en el **DataFrame** de la derecha, y hace una combinación de renglones cuando es posible hacerlo, asignando ***valores nulos*** (`NaN`) en las celdas correspondientes.\n",
    "\n",
    "En el resultado es posible ver los siguientes elementos:\n",
    "\n",
    "1. Los renglones que contienen las ciudades *San Luis Potosí* y *Abasolo* (Guanajuato) que son parte del **DataFrame** de la izquierda (**admin_df**) se incluyen.\n",
    "2. Los renglones que contienen las ciudades *Zacatecas* y *Abasolo* (Tamaulipas) que son parte del **DataFrame** de la derecha (**ganan_df**) se incluyen.\n",
    "3. Debido a que el **DataFrame** de la izquierda (**admin_df**) no contenía la columna `Ganancia`, los valores de esta columna se integran con los renglones correspondientes y donde no existen valores se asigna `NaN`.\n",
    "4. Debido a que el **DataFrame** de la derecha (**ganan_df**) no contenía la columna `Administrador`, los valores de esta columna se integran con los renglones correspondientes y donde no existen valores se asigna `NaN`."
   ]
  },
  {
   "cell_type": "code",
   "execution_count": null,
   "metadata": {},
   "outputs": [],
   "source": [
    "#Combinación Right Join empleando el método .merge()\n",
    "comb_df = pd.merge(admin_df, ganan_df, how = 'outer', on = ['Sucursal', 'Ciudad', 'Estado'])\n",
    "\n",
    "#Impresión de los Resultados\n",
    "print(\"La combinación de los DataFrames es:\")\n",
    "comb_df"
   ]
  },
  {
   "cell_type": "markdown",
   "metadata": {},
   "source": [
    "### Combinación Ordenada con el Método `.merge_ordered()`\n",
    "Otra alternativa de amplio uso que ofrece la librería **Pandas** es el método `.merge_ordered()`, el cual proporciona un nuevo **DataFrame** combinado con los mismos argumentos del método `.merge()`, pero con un ordenamiento en base a una columna predefinida.\n",
    "\n",
    "La documentación del método `.merge_ordered()` se puede consultar [en esta liga](https://pandas.pydata.org/pandas-docs/stable/reference/api/pandas.merge_ordered.html).\n",
    "\n",
    "Por lo mismo, el método `.merge_ordered(a,b,c,d)` de **Pandas** queda definido con los siguientes argumentos:\n",
    "* El argumento a: El primer DataFrame a ser combinado (*izquierda*).\n",
    "* El argumento b: El segundo DataFrame a ser combinado (*derecha*).\n",
    "* El argumento c: Se emplea el parámetro `how`, donde se especifica el tipo de combinación a emplear: `inner` (default), `left`, `right`, o `outer`, respectivamente.\n",
    "* El argumento d: Se emplea el parámetro `on` para indicar la columna de referencia para la combinación.\n",
    "\n",
    "El parámetro `on` indicará la columna en base a la cual se hará un ordenamiento, la cual puede ser numérica, alfanumérica o una cadena. Si el parámetro `on` contiene una lista de columnas en base a las cuales se está haciendo la referencia para la combinación de **DataFrames**, el orden en la lista define la manera como el método llevará a cabo el proceso de ordenamiento. \n",
    "\n",
    "Por ejemplo, se realiza el ordenamiento del **DataFrame** combinado en base a la columna `Sucursal` empleando una combinación tipo `outer`."
   ]
  },
  {
   "cell_type": "code",
   "execution_count": null,
   "metadata": {},
   "outputs": [],
   "source": [
    "#Combinación y Ordenamiento del DataFrame\n",
    "comb_df = pd.merge_ordered(admin_df, ganan_df, how = 'outer', on = ['Sucursal', 'Ciudad', 'Estado'])\n",
    "\n",
    "#Impresión de los Resultados\n",
    "print(\"La combinación de los DataFrames es:\")\n",
    "comb_df"
   ]
  },
  {
   "cell_type": "markdown",
   "metadata": {},
   "source": [
    "Ahora, para ordenar el **DataFrame** combinado en base a la columna `Ciudad` empleando una combinación tipo `outer` se emplea el código descrito a continuación."
   ]
  },
  {
   "cell_type": "code",
   "execution_count": null,
   "metadata": {},
   "outputs": [],
   "source": [
    "#Combinación y Ordenamiento del DataFrame\n",
    "comb_df = pd.merge_ordered(admin_df, ganan_df, how = 'outer', on = ['Ciudad', 'Sucursal', 'Estado'])\n",
    "\n",
    "#Impresión de los Resultados\n",
    "print(\"La combinación de los DataFrames es:\")\n",
    "comb_df"
   ]
  },
  {
   "cell_type": "markdown",
   "metadata": {},
   "source": [
    "#### Imputación de Valores Nulos\n",
    "Se puede agregar un parámetro adicional al método `.merge_ordered()`, el cual es el parámetro `fill_method` que es un auxiliar para el llenado de los ***valores nulos*** al interior del **DataFrame**. Puede tener dos variantes:\n",
    "\n",
    "* `fill_method = ffill`: Reemplaza los ***valores nulos*** con el valor más reciente.\n",
    "* `fill_method = backfill`: Reemplaza los ***valores nulos*** con el valor posterior.\n",
    "\n",
    "Por ejemplo, para ordenar el **DataFrame** combinado en base a la columna `Sucursal` empleando una combinación tipo `outer` y con un llenado de valores `NaN` del tipo `ffill`, se tiene lo siguiente:"
   ]
  },
  {
   "cell_type": "code",
   "execution_count": null,
   "metadata": {},
   "outputs": [],
   "source": [
    "#Combinación y Ordenamiento del DataFrame\n",
    "comb_df = pd.merge_ordered(admin_df, ganan_df, \n",
    "                           how = 'outer', \n",
    "                           fill_method = 'ffill',\n",
    "                           on = ['Ciudad', 'Sucursal', 'Estado'])\n",
    "\n",
    "#Impresión de los Resultados\n",
    "print(\"La combinación de los DataFrames es:\")\n",
    "comb_df"
   ]
  },
  {
   "cell_type": "markdown",
   "metadata": {},
   "source": [
    "Donde puede notarse que los valores del tipo `NaN` fueron llenados con el valor más reciente para cada columna. Sin embargo, para la columna `Ganancia` existe un ***valor nulo*** en su primer renglón. Este se puede llenar con argumentos equivalentes empleando el método `.fillna()` de **Pandas**, donde el argumento es:\n",
    "\n",
    "* `method = ffill`: Reemplaza los ***valores nulos*** con el valor más reciente.\n",
    "* `method = bfill`: Reemplaza los ***valores nulos*** con el valor posterior.\n",
    "\n",
    "Por ejemplo, para este caso se empleará el valor posterior pero hay dos maneras de hacerlo:\n",
    "1. Rellenando solamente la columna de interés.\n",
    "2. Rellenando todo el **DataFrame**, en este caso se aplica sobre todas las columnas existentes. "
   ]
  },
  {
   "cell_type": "code",
   "execution_count": null,
   "metadata": {},
   "outputs": [],
   "source": [
    "#Llenado para Una Columna\n",
    "comb_df['Ganancia'] = comb_df['Ganancia'].fillna(method = 'bfill') \n",
    "\n",
    "#Llenado para Todo el DataFrame\n",
    "#comb_df.fillna(method = 'bfill', inplace = True) \n",
    "\n",
    "#Impresión de los Resultados\n",
    "print(\"El DataFrames es:\")\n",
    "comb_df"
   ]
  },
  {
   "cell_type": "markdown",
   "metadata": {},
   "source": [
    "Finalmente, se define la columna `Sucursal` como el **Indice** del **DataFrame** empleando el método `.set_index()` de la siguiente manera:"
   ]
  },
  {
   "cell_type": "code",
   "execution_count": null,
   "metadata": {},
   "outputs": [],
   "source": [
    "#Indice del DataFrame\n",
    "comb_df.set_index('Sucursal', inplace = True) \n",
    "\n",
    "#Impresión de los Resultados\n",
    "print(\"El DataFrames Final es:\")\n",
    "comb_df"
   ]
  },
  {
   "cell_type": "markdown",
   "metadata": {},
   "source": [
    "De esta manera, se tiene un solo **DataFrame** ordenado por ciudad, con la información completa de ambos grupos de datos y sin ***valores nulos***."
   ]
  },
  {
   "cell_type": "markdown",
   "metadata": {},
   "source": [
    "<div class=\"alert alert-block alert-success\">\n",
    "<b>.: Fin del Subtema :.</b>\n",
    "</div>\n",
    "\n",
    "***Liga de aceso al siguiente Subtema:*** \n",
    "<br>[g. Concatenación, Agrupación y Pivoteo](g.%20Concatenacion,%20Agrupacion%20y%20Pivoteo.ipynb)"
   ]
  }
 ],
 "metadata": {
  "kernelspec": {
   "display_name": "Python 3 (ipykernel)",
   "language": "python",
   "name": "python3"
  },
  "language_info": {
   "codemirror_mode": {
    "name": "ipython",
    "version": 3
   },
   "file_extension": ".py",
   "mimetype": "text/x-python",
   "name": "python",
   "nbconvert_exporter": "python",
   "pygments_lexer": "ipython3",
   "version": "3.8.19"
  }
 },
 "nbformat": 4,
 "nbformat_minor": 4
}
