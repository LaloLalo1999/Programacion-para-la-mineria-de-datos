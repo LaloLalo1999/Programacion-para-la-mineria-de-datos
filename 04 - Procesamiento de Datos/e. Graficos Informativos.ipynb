{
 "cells": [
  {
   "cell_type": "markdown",
   "metadata": {},
   "source": [
    "<div class=\"alert alert-block alert-info\">\n",
    "<span style=\"color: rgb(0,53,91);\">\n",
    "<center><img src=\"./Imagenes/ITESO_Logo.png\" style=\"width:500px;height:142px;\" title=\"Logo ITESO\"></center>\n",
    "<font face = \"Times New Roman\" size = \"6\"><b><center>Maestría en Sistemas Computacionales</center></b></font>\n",
    "<font face = \"Times New Roman\" size = \"5\"><b><center>Programación para Análisis de Datos</center></b></font>\n",
    "\n",
    "<b><br><font face = \"Times New Roman\" size = \"4\"><center>Unidad 4: Conceptos Generales</center></font>\n",
    "<font face = \"Times New Roman\" size = \"4\"><center>Tema 4.1: Exploración, Integración y Limpieza de Datos</center></font>\n",
    "<font face = \"Times New Roman\" size = \"4\"><center>Subtema e: Gráficos Informativos</center></font></b>\n",
    "<div align=\"right\"><font face = \"Times New Roman\" size = \"2\">Dr. Iván Esteban Villalón Turrubiates (villalon@iteso.mx)</font></div>\n",
    "</span></div>"
   ]
  },
  {
   "cell_type": "markdown",
   "metadata": {},
   "source": [
    "## GRÁFICOS INFORMATIVOS\n",
    "\n",
    "La clase **DataFrame** de **Pandas** contiene cientos de atributos y métodos que son de gran importancia para el proceso de análisis de datos. Estos pueden ser consultados en detalle por medio de [esta liga](https://pandas.pydata.org/pandas-docs/stable/reference/api/pandas.DataFrame.html).\n",
    "\n",
    "Para ejemplificar algunos de ellos, se empleará una base de datos generada por ***Internet Movie DataBase (IMDB)***, la cual puede ser empleada de manera abierta para uso personal y/o no comercial. ***IMDB*** genera varias bases de datos las cuales están disponibles de manera gratuita, se actualizan diariamente y pueden ser descargadas a través de [esta liga](https://www.imdb.com/interfaces).\n",
    "\n",
    "Debido a que son bases de datos sumamente extensas (mayores a 500MB), se contará con una versión reducida de una de ellas para este ejercicio, la cual está almacenada en un archivo de nombre `IMBD_Data.csv` que contiene 12 columnas con 1000 entradas, y todos los datos contenidos en la misma están en el idioma *inglés*. Los encabezados de las columnas de información son:\n",
    "\n",
    ">1. **Rank**: Es un número consecutivo entre 1 y 1000.\n",
    ">2. **Title**: Es el título de la película.\n",
    ">3. **Genre**: Son los géneros a los cuales pertenece la película.\n",
    ">4. **Description**: Es un texto breve con una descripción de la película.\n",
    ">5. **Director**: Es el director de la película.\n",
    ">6. **Actors**: Son los actores principales de la película.\n",
    ">7. **Year**: Es el año de la película.\n",
    ">8. **Runtime (Minutes)**: Es el tiempo de duración de la película en minutos.\n",
    ">9. **Rating**: Es una valoración entre 0 y 10 de la película proporcionado por los críticos. \n",
    ">10. **Votes**: Es la cantidad de votos de las personas que recibió la película. \n",
    ">11. **Revenue (Millions)**: Es el ingreso recibido por la película en millones de dólares americanos.\n",
    ">12. **Metascore**: Es una valoración entre 0 y 100 basada en los votos de las personas que recibió la película.\n",
    "\n",
    "Para la lectura del archivo y la preparación de los datos, se realizarán las siguientes operaciones:\n",
    "\n",
    "1. Importación de las librerías necesarias (**Pandas**, **Matplotlib** y **Seaborn**).\n",
    "2. Lectura de los datos actualizados anteriormente (`movies_df_ext.csv`) y definiendo la columna `Title` como el **Indice** empleando el método `.read_csv()`.\n",
    "3. Mostrar el **DataFrame** resultante empleando el método `.head()`."
   ]
  },
  {
   "cell_type": "code",
   "execution_count": null,
   "metadata": {},
   "outputs": [],
   "source": [
    "#Importación de librerías\n",
    "import pandas as pd\n",
    "import matplotlib.pyplot as plt\n",
    "import seaborn as sns\n",
    "\n",
    "#Lectura de los datos y asignación del nombre de las películas como el índice\n",
    "movies_df = pd.read_csv(\"./Guardados/movies_df_ext.csv\", index_col = 'Title')\n",
    "\n",
    "#Impresión de los Resultados\n",
    "print(\"El DataFrame es:\")\n",
    "movies_df.head()"
   ]
  },
  {
   "cell_type": "markdown",
   "metadata": {},
   "source": [
    "Como ya se ha comentado, una de las enormes ventajas de **Pandas** es su integración con la librería **Matplotlib**, de esa manera es posibe realizar gráficos de manera directa desde **Series** y **DataFrames**. \n",
    "\n",
    "Para definir algunas características de los gráficos como el tamaño de la fuente o el tamaño del gráfico, se puede emplear el método `.rcParams.update()` de **Matplotlib** de la siguiente manera:\n",
    "```python\n",
    "plt.rcParams.update({'font.size': 12, 'figure.figsize': (6, 4)}) \n",
    "```\n",
    "A manera de ejemplo, se emplearán dos argumentos para modificar el gráfico resultante:\n",
    "\n",
    "* El argumento `a` que modifica el tamaño de las fuentes empleadas en el gráfico por medio del parámetro `font.size`.\n",
    "* El argumento `b` que modifica el tamaño predeterminado del gráfico por medio del parámetro `figure.figsize`.\n",
    "\n",
    "La descripción detallada del método `.rcParams.update()` se puede consultar [en esta liga](https://matplotlib.org/stable/api/matplotlib_configuration_api.html#matplotlib.rcParams).\n",
    "\n",
    "***Nota:*** Los valores para estos parámetros se pasan al método `.rcParams.update()` por medio de un arreglo tipo **Diccionario**. Esto es:"
   ]
  },
  {
   "cell_type": "code",
   "execution_count": null,
   "metadata": {},
   "outputs": [],
   "source": [
    "#Definición de los parámetros de los gráficos\n",
    "plt.rcParams.update({'font.size': 12, 'figure.figsize': (6, 4)}) "
   ]
  },
  {
   "cell_type": "markdown",
   "metadata": {},
   "source": [
    "Las **Tablas de Correlación** son representaciones numéricas de las relaciones en la base de datos.\n",
    "\n",
    "Los valores positivos indican una correlación positiva (ambas variables van en incremento), y un valor negativo representa una correlación inversa (una variable incrementa mientras que la otra decrementa). El valor de la correlación está normalizado (0 a 1).\n",
    "\n",
    "Se puede ver que cada renglón tiene una correlación de 1 con su valor en la columna, lo cual es obvio. Pero por ejemplo, la correlación de `votes` con `revenue` es 0.6, lo cual puede proporcionar información relevante para un análisis en particular.\n",
    "\n",
    "La **Tabla de Correlación** es una **Matriz de Correlación**, la cual puede ser interpretada de una manera muy sencilla al visualizarla gráficamente. Para ello se puede emplear el método `.matshow()` de la librería **Matplotlib**, cuyo argumento corresponde al valor de la **Matriz de Correlación** extraída del **DataFrame**.\n",
    "\n",
    "La documentación del método `.matshow()` de **Matplotlib** puede ser consultada [en esta liga](https://matplotlib.org/stable/api/_as_gen/matplotlib.pyplot.matshow.html).\n",
    "\n",
    "***Nota:*** Es importante recalcar que solo *7* de las *12* columnas del **DataFrame** contienen valores numéricos. "
   ]
  },
  {
   "cell_type": "code",
   "execution_count": null,
   "metadata": {},
   "outputs": [],
   "source": [
    "#Generación de la Matriz de Correlación\n",
    "plt.matshow(movies_df.corr())\n",
    "plt.title('Matriz de Correlación')\n",
    "plt.colorbar()\n",
    "#plt.savefig('./Guardados/Correlation_PLT.png', dpi=300, transparent=False, bbox_inches='tight')\n",
    "plt.show();"
   ]
  },
  {
   "cell_type": "markdown",
   "metadata": {},
   "source": [
    "Usando la librería **Matplotlib** se puede obtener un buen resultado, sin embargo es más complicado agregar elementos como la descripción de cada uno de los valores en los renglones y columnas, así como sus respectivos nombres. Una alternativa es emplear una librería adicional llamada **Seaborn**.\n",
    "\n",
    "#### Librería Seaborn\n",
    "<center><img src=\"./Imagenes/Seaborn_Logo.png\" style=\"width:349px;height:100px;\"></center>\n",
    "\n",
    "La librería **Seaborn** para **Python** está basada en **Matplotlib**, proporciona una interfaz de alto nivel para realizar gráficos estadísticos atractivos e informativos. \n",
    "\n",
    "La documentación detallada de la librería **Seaborn** se puede consultar [en esta liga](https://seaborn.pydata.org).\n",
    "\n",
    "#### Matriz de Correlación\n",
    "Para realizar el gráfico de la **Matriz de Correlación** empleando la librería **Seaborn** se utilizará el método `.heatmap(a,b,c)` de la librería **Seaborn**, cuyos argumentos corresponden a:\n",
    "* Argumento a: Es el valor de la **Matriz de Correlación** extraída del **DataFrame**.\n",
    "* Argumento b: Corresponde a `annot = True` que indica que se mostrarán las anotaciones relevantes como los nombres de las variables y los valores de la **Matriz de Correlación**.\n",
    "* Argumento c: Corresponde a `cmap = 'cool'` e indica el mapa de color a ser utilizado.\n",
    "\n",
    "La documentación del método `.heatmap()` de **Seaborn** puede ser consultada [en esta liga](https://seaborn.pydata.org/generated/seaborn.heatmap.html).\n",
    "\n",
    "#### Guardar el Gráfico Resultante\n",
    "Es posible guardar una copia de un gráfico realizado por **Matplotlib** en un archivo por medio del método `.savefig(a,b,c,d)`, en el cual se pueden incluir diversos argumentos para modificar el gráfico resultante:\n",
    "* El argumento `a` indica el nombre del archivo y su formato, así como su ubicación.\n",
    "* El argumento `b` indica la cantidad de puntos por pulgada que tendrá el gráfico resultante por medio del parámetro `dpi`.\n",
    "* El argumento `c` indica si el gráfico resultante tendrá fondo transparente, siempre y cuando el formato del archivo destino lo soporte (por ejemplo, para el formato PNG) por medio del parámetro `trasparent` cuyo valor es booleano.\n",
    "* El argumento `d` indica que el archivo a ser guardado debe contener todos los elementos que se están agregando al gráfico, esto es por medio del parámetro `bbox_inches`.\n",
    "\n",
    "La descripción detallada del método `.savefig()` se puede consultar [en esta liga](https://matplotlib.org/stable/api/_as_gen/matplotlib.pyplot.savefig.html).\n",
    "\n",
    "***Nota:*** Es importante que el método `.show()` vaya después del método `.savefig()`, ya que en caso contrario se guardará una imagen sin contenido. "
   ]
  },
  {
   "cell_type": "code",
   "execution_count": null,
   "metadata": {},
   "outputs": [],
   "source": [
    "#Generación de la Matriz de Correlación\n",
    "sns.heatmap(movies_df.corr(), annot = True, cmap = 'cool')\n",
    "plt.title('Matriz de Correlación')\n",
    "#plt.savefig('./Guardados/Correlation_SNS.png', dpi=300, transparent=False, bbox_inches='tight')\n",
    "plt.show()"
   ]
  },
  {
   "cell_type": "markdown",
   "metadata": {},
   "source": [
    "#### Mapas de Color\n",
    "Los mapas de color disponibles en **Seaborn** son los empleados por **Matplotlib** y pueden ser consultados [en esta liga](https://matplotlib.org/stable/gallery/color/colormap_reference.html), básicamente son los siguientes:\n",
    "\n",
    "<center><img src=\"./Imagenes/Colormaps/sphx_glr_colormap_reference_001.png\" style=\"width:600px;\"></center>\n",
    "<center><img src=\"./Imagenes/Colormaps/sphx_glr_colormap_reference_002.png\" style=\"width:600px;\"></center>\n",
    "<center><img src=\"./Imagenes/Colormaps/sphx_glr_colormap_reference_003.png\" style=\"width:600px;\"></center>\n",
    "<center><img src=\"./Imagenes/Colormaps/sphx_glr_colormap_reference_004.png\" style=\"width:600px;\"></center>\n",
    "<center><img src=\"./Imagenes/Colormaps/sphx_glr_colormap_reference_005.png\" style=\"width:600px;\"></center>\n",
    "<center><img src=\"./Imagenes/Colormaps/sphx_glr_colormap_reference_006.png\" style=\"width:600px;\"></center>\n",
    "<center><img src=\"./Imagenes/Colormaps/sphx_glr_colormap_reference_007.png\" style=\"width:600px;\"></center>"
   ]
  },
  {
   "cell_type": "markdown",
   "metadata": {},
   "source": [
    "#### Tipos de Gráficos\n",
    "La recomendación de los tipos de gráficos depende de las variables:\n",
    "* Para variables categóricas es mejor el uso de *Bar Charts* y *Boxplots*. \n",
    "* Para variables continuas es mejor el uso de *Histograms*, *Scatterplots*, *Line graphs* y *Boxplots*.\n",
    "\n",
    "#### Gráfico de Dispersión\n",
    "Como primer ejercicio se graficará la relación entre las columnas `rating` y `revenue`. Para ello se puede emplear el método `.plot()` de **Pandas** en el **DataFrame** `movies_df` con información adicional para construir el gráfico.\n",
    "\n",
    "Para realizar el gráfico de dispersión empleando el método `.plot(a,b,c,d)` de la librería **Pandas**, los argumentos corresponden a:\n",
    "* Argumento a: Es el tipo de gráfico a emplear, en este caso corresponde a `kind='scatter'`.\n",
    "* Argumento b: Son los valores para el eje de las `x` que se extraen del **DataFrame**.\n",
    "* Argumento c: Son los valores para el eje de las `y` que se extraen del **DataFrame**.\n",
    "* Argumento d: Corresponde a `color` que indica el color a ser utilizado.\n",
    "\n",
    "**Nota Relevante:**\n",
    "¿Por qué aparece un `;` al final del método `.show()`? No es un error, es solo para ocultar la salida `<matplotlib.axes._subplots.AxesSubplot at 0x26613b5cc18>` que se genera en **Jupyter** al momento de realizar el gráfico. "
   ]
  },
  {
   "cell_type": "code",
   "execution_count": null,
   "metadata": {},
   "outputs": [],
   "source": [
    "#Gráfica de Dispersión de Datos\n",
    "movies_df.plot(kind='scatter', x='rating', y='revenue', color = 'green')\n",
    "plt.title('Rating vs Revenue')\n",
    "plt.xlabel('Rating')\n",
    "plt.ylabel('Revenue [M$]')\n",
    "#plt.savefig('./Guardados/Movies_Scatter.png', dpi=300, transparent=False, bbox_inches='tight')\n",
    "plt.show();"
   ]
  },
  {
   "cell_type": "markdown",
   "metadata": {},
   "source": [
    "#### Múltiples Gráficos\n",
    "El método `.plot()` de **Pandas** también se puede emplear para graficar distintas series de datos en un mismo espacio, para ello solo es necesario indicar cada una de las series de datos que se van a graficar con sus respectivos parámetros, y al final se agrega el método `.show();`. \n",
    "\n",
    "Para realizar el gráfico de una serie de datos empleando el método `.plot(a,b,c)` de la librería **Pandas**, los argumentos corresponden a:\n",
    "* Argumento a: Indica la columna del **DataFrame** que será graficada. Se incluye el método `.iloc[a:b]` para indicar la lista de los valores que se van a mostrar.\n",
    "* Argumento b: Corresponde a `color` que indica el color a ser utilizado por la serie de datos.\n",
    "* Argumento c: Se agrega un nombre a la serie de datos por medio de `label`, esto será util para diferenciar las distintas series de datos que se incluyan en el gráfico.\n",
    "\n",
    "Para este ejemplo, se graficarán los primeros 10 datos de las columnas `runtime`, `revenue` y `metascore` del **DataFrame** en el mismo gráfico."
   ]
  },
  {
   "cell_type": "code",
   "execution_count": null,
   "metadata": {},
   "outputs": [],
   "source": [
    "#Gráfico de Series de Datos del DataFrame\n",
    "plt.plot(movies_df['runtime'].iloc[0:10],   color = 'blue',  label = 'Runtime [s]')\n",
    "plt.plot(movies_df['revenue'].iloc[0:10],   color = 'red',   label = 'Revenue [M$]')\n",
    "plt.plot(movies_df['metascore'].iloc[0:10], color = 'green', label = 'Metascore')\n",
    "plt.title('Datos del DataFrame')\n",
    "plt.legend(loc='best')\n",
    "plt.xlabel('Película')\n",
    "plt.ylabel('Valores')\n",
    "plt.xticks(rotation=70)\n",
    "#plt.savefig('./Guardados/Movies_ThreePlots.png', dpi=300, transparent=False, bbox_inches='tight')\n",
    "plt.show();"
   ]
  },
  {
   "cell_type": "markdown",
   "metadata": {},
   "source": [
    "#### Histograma\n",
    "Para realizar el Histograma de una columna del **DataFrame**, simplemente se grafica sobre esa columna. Para este ejemplo se realiza el Histograma de la columna `rating` del **DataFrame** agregando distintos elementos adicionales.\n",
    "\n",
    "Para realizar el histograma empleando el método `.plot(a,b)` de la librería **Pandas**, los argumentos corresponden a:\n",
    "* Argumento a: Es el tipo de gráfico a emplear, en este caso corresponde a `kind='hist'`.\n",
    "* Argumento b: Corresponde a `cmap` que indica el mapa de color a ser utilizado por la serie de datos."
   ]
  },
  {
   "cell_type": "code",
   "execution_count": null,
   "metadata": {},
   "outputs": [],
   "source": [
    "#Gráfico del Histograma de Datos\n",
    "movies_df['rating'].plot(kind='hist', cmap='viridis')\n",
    "plt.title('Histograma de la Columna Rating')\n",
    "plt.xlabel('Rating')\n",
    "plt.ylabel('Frecuencia')\n",
    "#plt.savefig('./Guardados/Movies_Histogram.png', dpi=300, transparent=False, bbox_inches='tight')\n",
    "plt.show();"
   ]
  },
  {
   "cell_type": "markdown",
   "metadata": {},
   "source": [
    "#### Gráfico de Pastel\n",
    "El método `.plot()` de **Pandas** también se puede aplicar para realizar un gráfico de pastel. Para este ejemplo se realizará el gráfico de la columna `category` del **DataFrame**, debido a que es una columna con datos categóricos será necesario interpretarlos como datos cuantitativos y esto se puede realizar por medio del método `.groupby().size()` de **Pandas** (este método se revisará a detalle en el *subtema g*).\n",
    "\n",
    "Para realizar el gráfico de pastel empleando el método `.plot(a,b,c,d)` de la librería **Pandas**, los argumentos corresponden a:\n",
    "* Argumento a: Es el tipo de gráfico a emplear, en este caso corresponde a `kind='pie'`.\n",
    "* Argumento b: Indica el nivel de separación de cada una de las \"rebanadas\" del gráfico por medio de `explode`, los valores se pasan por medio de una lista (el valor 0 indica que no hay separación).\n",
    "* Argumento c: Corresponde a `autopct='%.0f%%'` el cual indica el formato del valor porcentual de cada \"rebanada\".\n",
    "* Argumento d: Corresponde a `cmap` que indica el mapa de color a ser utilizado por el gráfico."
   ]
  },
  {
   "cell_type": "code",
   "execution_count": null,
   "metadata": {},
   "outputs": [],
   "source": [
    "#Gráfico de Pastel de los Datos Categóricos\n",
    "movies_df.groupby('category').size().plot(kind='pie', explode=[0.1, 0.1, 0.1, 0.1, 0.1], autopct='%.0f%%', cmap='tab10')\n",
    "plt.title('Categorías')\n",
    "plt.axis('off')\n",
    "#plt.savefig('./Guardados/Movies_Pie.png', dpi=300, transparent=False, bbox_inches='tight')\n",
    "plt.show();"
   ]
  },
  {
   "cell_type": "markdown",
   "metadata": {},
   "source": [
    "#### Gráfico Vertical de Barras\n",
    "Para realizar el gráfico vertical de barras de datos categóricos se puede emplear el método `.catplot()` de la librería **Seaborn**. Para este ejemplo se realizará el gráfico de la columna `category` del **DataFrame**.\n",
    "\n",
    "La descripción detallada del método `.catplot()` de la librería **Seaborn** se puede consultar [en esta liga](https://seaborn.pydata.org/generated/seaborn.catplot.html).\n",
    "\n",
    "Para realizar el gráfico vertical de barras empleando el método `.catplot(a,b,c,d)` de la librería **Seaborn**, los argumentos corresponden a:\n",
    "* Argumento a: Corresponde a `data` donde se indica el **DataFrame** de donde se obtienen los datos a graficar.\n",
    "* Argumento b: Son los valores para el eje de las `x` que se extraen del **DataFrame**.\n",
    "* Argumento c: Es el tipo de conteo de las categorías que se va a emplear, en este caso corresponde a `kind='count'`.\n",
    "* Argumento d: Corresponde a `palette` que indica el mapa de color a ser utilizado por el gráfico."
   ]
  },
  {
   "cell_type": "code",
   "execution_count": null,
   "metadata": {},
   "outputs": [],
   "source": [
    "#Gráfico de Barras de Datos Categóricos\n",
    "sns.catplot(data=movies_df, x='category', kind='count', palette='hot')\n",
    "sns.set_style('darkgrid')\n",
    "plt.title('Categorías')\n",
    "plt.xlabel('Categorías')\n",
    "plt.ylabel('Valores')\n",
    "#plt.savefig('./Guardados/Movies_Bar_CatV.png', dpi=300, transparent=False, bbox_inches='tight')\n",
    "plt.show();"
   ]
  },
  {
   "cell_type": "markdown",
   "metadata": {},
   "source": [
    "#### Gráfico Horizontal de Barras\n",
    "De manera similar al gráfico vertical de barras, es posible generar un gráfico horizontal de barras de datos categóricos por medio del método `.catplot()` de la librería **Seaborn**, simplemente se debe indicar que la serie de datos corresponden al eje `y`. Para este ejemplo se realizará el gráfico de la columna `category` del **DataFrame**.\n",
    "\n",
    "Para realizar el gráfico horizontal de barras empleando el método `.catplot(a,b,c,d)` de la librería **Seaborn**, los argumentos corresponden a:\n",
    "* Argumento a: Corresponde a `data` donde se indica el **DataFrame** de donde se obtienen los datos a graficar.\n",
    "* Argumento b: Son los valores para el eje de las `y` que se extraen del **DataFrame**.\n",
    "* Argumento c: Es el tipo de conteo de las categorías que se va a emplear, en este caso corresponde a `kind='count'`.\n",
    "* Argumento d: Corresponde a `palette` que indica el mapa de color a ser utilizado por el gráfico."
   ]
  },
  {
   "cell_type": "code",
   "execution_count": null,
   "metadata": {},
   "outputs": [],
   "source": [
    "#Gráfico de Barras de Datos Categóricos\n",
    "sns.catplot(data=movies_df, y='category', kind='count', palette='copper')\n",
    "sns.set_style('darkgrid')\n",
    "plt.title('Categorías')\n",
    "plt.xlabel('Valores')\n",
    "plt.ylabel('Categorías')\n",
    "#plt.savefig('./Guardados/Movies_Bar_CatH.png', dpi=300, transparent=False, bbox_inches='tight')\n",
    "plt.show();"
   ]
  },
  {
   "cell_type": "markdown",
   "metadata": {},
   "source": [
    "#### Datos Estadísticos\n",
    "Como se había revisado previamente, el método `.describe()` en un **DataFrame** proporciona el resumen de la distribución de variables en el mismo. Por ejemplo, se revisará el contenido de la columna `rating` del **DataFrame**."
   ]
  },
  {
   "cell_type": "code",
   "execution_count": null,
   "metadata": {},
   "outputs": [],
   "source": [
    "#Valores Estadísticos de la Columna\n",
    "movies_df['rating'].describe()"
   ]
  },
  {
   "cell_type": "markdown",
   "metadata": {},
   "source": [
    "#### Gráfico Boxplot\n",
    "Existe una manera de representar gráficamente el rango de los cuartiles al interior de una columna, esto se realiza a través de un gráfico llamado boxplot cuyo objetivo es visualizar la distribución de una variable numérica de la manera más simplificada posible, para ello utiliza los valores de los cuartiles, los extremos (el mínimo y el máximo) y valores *raros* conocidos como *outliers*, esto facilita las cosas cuando se debe realizar la comparativa de varios grupos.\n",
    "\n",
    "Primeramente ordena la variable y después la caracteriza según la posición de los cuartiles y los valores extremos, y se visualiza de manera similar a:\n",
    "\n",
    "<center><img src=\"./Imagenes/Boxplot.png\" style=\"width:444px;height:320px;\" class=\"center\"></center>\n",
    "\n",
    "Para este ejemplo se realiza el boxplot de la columna `rating` del **DataFrame**. \n",
    "\n",
    "La descripción detallada del método `.boxplot()` de la librería **Pandas** se puede consultar [en esta liga](https://pandas.pydata.org/pandas-docs/stable/reference/api/pandas.DataFrame.boxplot.html).\n",
    "\n",
    "Para realizar el boxplot empleando el método `.boxplot(a)` de la librería **Pandas**, los argumentos corresponden a:\n",
    "* Argumento a: Corresponde a `column` donde se indica la columna del **DataFrame** de donde se obtienen los datos a graficar."
   ]
  },
  {
   "cell_type": "code",
   "execution_count": null,
   "metadata": {},
   "outputs": [],
   "source": [
    "#Gráfica de Boxplot de Datos\n",
    "movies_df.boxplot(column='rating')\n",
    "plt.title('Boxplot de la Columna Rating')\n",
    "plt.xlabel('Rating')\n",
    "#plt.savefig('./Guardados/Movies_Boxplot.png', dpi=300, transparent=False, bbox_inches='tight')\n",
    "plt.show();"
   ]
  },
  {
   "cell_type": "markdown",
   "metadata": {},
   "source": [
    "Adicional a ello, se puede realizar considerando las categorías de los valores contenidos en las columnas. \n",
    "\n",
    "Por ejemplo, el boxplot de la columna `rating` del **DataFrame** pero categorizada por medio de los valores de la columna `category` quedará como se muestra a continuación.\n",
    "\n",
    "Para realizar el boxplot por categorías empleando el método `.boxplot(a,b)` de la librería **Pandas**, los argumentos corresponden a:\n",
    "* Argumento a: Corresponde a `column` donde se indica la columna del **DataFrame** de donde se obtienen los datos a graficar.\n",
    "* Argumento b: Corresponde a `by` donde se indica la columna del **DataFrame** a través de la cual se categorizan los resultados."
   ]
  },
  {
   "cell_type": "code",
   "execution_count": null,
   "metadata": {},
   "outputs": [],
   "source": [
    "#Gráfica de Boxplot de Datos por Categorías\n",
    "movies_df.boxplot(column='revenue', by='category')\n",
    "plt.title('Boxplot de la Columna Rating Agrupado por Categoría')\n",
    "plt.suptitle('')\n",
    "plt.xlabel('Rating por Categoría')\n",
    "#plt.savefig('./Guardados/Movies_Boxplot_Cat.png', dpi=300, transparent=False, bbox_inches='tight')\n",
    "plt.show();"
   ]
  },
  {
   "cell_type": "markdown",
   "metadata": {},
   "source": [
    "Existen muchos tipos de gráficos adicionales, los cuales pueden revisarse a través de la documentación del método `.plot()` de **Pandas** a través de [esta liga](https://pandas.pydata.org/pandas-docs/stable/reference/api/pandas.DataFrame.plot.html)."
   ]
  },
  {
   "cell_type": "markdown",
   "metadata": {},
   "source": [
    "<div class=\"alert alert-block alert-success\">\n",
    "<b>.: Fin del Subtema :.</b>\n",
    "</div>\n",
    "\n",
    "***Liga de aceso al siguiente Subtema:*** \n",
    "<br>[f. Combinación de DataFrames](f.%20Combinacion%20de%20DataFrames.ipynb)"
   ]
  }
 ],
 "metadata": {
  "kernelspec": {
   "display_name": "Python 3 (ipykernel)",
   "language": "python",
   "name": "python3"
  },
  "language_info": {
   "codemirror_mode": {
    "name": "ipython",
    "version": 3
   },
   "file_extension": ".py",
   "mimetype": "text/x-python",
   "name": "python",
   "nbconvert_exporter": "python",
   "pygments_lexer": "ipython3",
   "version": "3.8.19"
  }
 },
 "nbformat": 4,
 "nbformat_minor": 4
}
