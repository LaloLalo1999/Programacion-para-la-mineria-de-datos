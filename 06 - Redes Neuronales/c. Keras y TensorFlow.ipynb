{
 "cells": [
  {
   "cell_type": "markdown",
   "metadata": {},
   "source": [
    "<div class=\"alert alert-block alert-info\">\n",
    "<span style=\"color: rgb(0,53,91);\">\n",
    "<center><img src=\"./Imagenes/ITESO_Logo.png\" style=\"width:500px;height:142px;\" title=\"Logo ITESO\"></center>\n",
    "<font face = \"Times New Roman\" size = \"6\"><b><center>Maestría en Sistemas Computacionales</center></b></font>\n",
    "<font face = \"Times New Roman\" size = \"5\"><b><center>Programación para Análisis de Datos</center></b></font>\n",
    "\n",
    "<b><br><font face = \"Times New Roman\" size = \"4\"><center>Unidad 5: Proceso de Selección de Métodos</center></font>\n",
    "<font face = \"Times New Roman\" size = \"4\"><center>Tema 5.2: Redes Neuronales</center></font>\n",
    "<font face = \"Times New Roman\" size = \"4\"><center>Subtema c: Keras y TensorFlow</center></font></b>\n",
    "<div align=\"right\"><font face = \"Times New Roman\" size = \"2\">Dr. Iván Esteban Villalón Turrubiates (villalon@iteso.mx)</font></div>\n",
    "</span></div>"
   ]
  },
  {
   "cell_type": "markdown",
   "metadata": {},
   "source": [
    "## KERAS Y TENSORFLOW\n",
    "\n",
    "Crear un proceso inteligente usando técnicas de **Aprendizaje Automático *(Machine Learning)*** es algo sobresaliente. Pero si se pueden emplear técnicas de **Aprendizaje Profundo *(Deep Learning)*** es aún más sobresaliente y actualmente es de un gran uso a nivel mundial. En realidad, **Deep Learning** son **Redes Neuronales** nacidas desde el siglo pasado pero el aumento de la capacidad computacional que se ha producido en este siglo, más la acuñación de un nuevo nombre y el nacimiento de herramientas que facilitan su construcción, ha producido su popularidad.\n",
    "\n",
    "Según cual sea el objetivo, implementar un proceso con **Deep Learning** no mejorará lo que se pueda realizar con **Machine Learning**. Cada técnica tiene sus ventajas y desventajas y las dos tienen el mismo objetivo de aprendizaje a partir de los datos, con métodos distintos, pero igual de válidos.\n",
    "\n",
    "**Keras** y **Tensorflow** son dos de las herramientas que se pueden usar para desarrollar un proceso con **Deep Learning** o ***Redes Neuronales Profundas***."
   ]
  },
  {
   "cell_type": "markdown",
   "metadata": {},
   "source": [
    "### LA LIBRERÍA KERAS\n",
    "<center><img src=\"./Imagenes/Keras.png\" style=\"width:500px;height:145px;\" class=\"center\"></center>\n",
    "\n",
    "**Keras** es un framework para trabajar con **Redes Neuronales** en alto nivel mediante el uso de APIs. Creada por François Chollet, un ingeniero de **Google**, es muy fácil de usar y permite una implementación muy rápida. Es una librería de código abierto que nació en 2015 y que enfatiza el minimalismo por el hecho que se puede construir una red neuronal con muy pocas líneas de código.\n",
    "\n",
    "**Keras** necesita un ***backend***, es decir, un motor computacional que corra debajo (como **TensorFlow**). A manera análoga se puede pensar en un programa que debe acceder a una base de datos, donde el programa no cambiará por acceder a MySQL, PostgreSQL o SQL Server. De manera similar, **Keras** sería el programa y **TensorFlow** la base de datos.\n",
    "\n",
    "**Keras** fue desarrollada para experimentaciones rápidas, para con ello poder ir de una idea a un resultado en la menor cantidad de tiempo pero con resultados adecuados, además de ello:\n",
    "\n",
    "* Permite un prototipado rápido y sencillo, incluyendo modularidad, extensibilidad y un esquema sencillo para el usuario. \n",
    "* Permite la implementación de **Redes Convolucionales** y **Redes Recurrentes**, así como combinaciones de ambas.\n",
    "* Se puede ejecutar en CPU y GPU.\n",
    "\n",
    "El portal de **Keras** se puede encontrar a través [de esta liga](https://keras.io).\n",
    "\n",
    "### Instalación PIP de Keras\n",
    "\n",
    "Para la instalación **PIP** de la librería **Keras**, se deberá abrir una ventana con la **Terminal** del sistema (independientemente de **Windows**, **macOS** o **Linux**) y se deberá escribir el siguiente comando:\n",
    "\n",
    "```python\n",
    "pip install keras\n",
    "```\n",
    "Una vez que la instalación concluye, se inicia **Anaconda Navigator** desde donde se puede verificar en el apartado `Environments` que la librería ya ha sido instalada, como se muestra en la siguiente figura:\n",
    "\n",
    "<center><img src=\"./Imagenes/K_P01.png\" style=\"width:800px;height:464px;\" class=\"center\"></center>"
   ]
  },
  {
   "cell_type": "markdown",
   "metadata": {},
   "source": [
    "### LA LIBRERÍA TENSORFLOW\n",
    "<center><img src=\"./Imagenes/Tensorflow.png\" style=\"width:794px;height:150px;\" class=\"center\"></center>\n",
    "\n",
    "**TensorFlow** es una librería de código libre para computación numérica creada por [**Google DeepMind**](https://deepmind.google) (conocida como ***Google Brain*** hasta abril del 2023) y que permite principalmente procesar matrices o tensores, de ahí su nombre. Su primera versión se liberó al público en febrero de 2017.\n",
    "\n",
    "El inicio de **TensorFlow** fue facilitar la programación de **Redes Neuronales**. Anteriormente se desarrollaban en C++ y CUDA (dependiendo de si desarrollabas para hardware en CPUs o GPUs). Con la irrupción de **TensorFlow**, era posible abstraerse del tipo de hardware donde se ejecutara el programa, además de tener una serie de librerías con funciones pre-definidas. La facilidad de uso en cálculo de matrices facilita la programación y el hecho de que ahora **Google** haya generado nuevo hardware donde las operaciones de tensores más básicas estén implementadas directamente en el chip (TPUs) incrementa exponencialmente la rapidez de los cálculos.\n",
    "\n",
    "**TensorFlow** está detrás del ***Traductor de Google***, el ***Smart Reply de Gmail*** y en aplicaciones como **Airbnb**, **Uber** o **Twitter (X)**.\n",
    "\n",
    "**TensorFlow** es una librería muy adecuada para su uso, principalmente por el hecho de haberse desarrollado en **Google**, se puede usar dentro de un programa desarrollado en Python (o C++), pero es de muy bajo nivel (aunque ha ido mejorando en el tiempo con la inclusión de más funciones).\n",
    "\n",
    "Si se requiere programar una nueva **Red Neuronal** (alguna que no esté inventada) o realizar cálculos muy costosos con matrices lo más adecuado es usar **TensorFlow**, pero si se requiere usar alguna **Red Neuronal** ya existente, es mejor usar otras librerías más simples como **Keras**.\n",
    "\n",
    "**TensorFlow** contiene un sencillo y flexible ecosistema de herramientas, librerías recursos a través de su comunidad que permite a los desarrolladores e investigadores realizar implementaciones del estado del arte en tópicos relacionados con el **Aprendizaje Máquina**, para con ello poder ir de una idea a un resultado en la menor cantidad de tiempo pero con resultados adecuados, además de ello:\n",
    "\n",
    "* Permite una construcción sencilla y rápida de modelos. \n",
    "* Contiene una producción robusta de modelos de aprendizaje máquina.\n",
    "* Es una poderosa herramienta para experimentación em investigación.\n",
    "* Contiene la librería **Keras** para la implementación de **Redes Convolucionales** y **Redes Recurrentes** como parte de su librería.\n",
    "* Se puede ejecutar en CPU y GPU.\n",
    "\n",
    "El portal de **TensorFlow** se puede encontrar a través [de esta liga](https://www.tensorflow.org).\n",
    "\n",
    "### Instalación PIP de TensorFlow\n",
    "\n",
    "Para la instalación **PIP** de la librería **TensorFlow**, se deberá abrir una ventana con la **Terminal** del sistema (independientemente de **Windows**, **macOS** o **Linux**) y se deberá escribir el siguiente comando:\n",
    "\n",
    "```python\n",
    "pip install tensorflow\n",
    "```\n",
    "Una vez que la instalación concluye, se inicia **Anaconda Navigator** desde donde se puede verificar en el apartado `Environments` que la librería ya ha sido instalada, como se muestra en la siguiente figura:\n",
    "\n",
    "<center><img src=\"./Imagenes/TF_P01.png\" style=\"width:800px;height:464px;\" class=\"center\"></center>"
   ]
  },
  {
   "cell_type": "markdown",
   "metadata": {},
   "source": [
    "### LA RELACIÓN ENTRE KERAS Y TENSORFLOW\n",
    "En sus inicios el ***backend*** por defecto de **Keras** fue [***Theano***](https://pypi.org/project/Theano), posteriormente **TensorFlow** pasó a ser su ***backend*** por defecto y comenzaron a crecer juntos.\n",
    "\n",
    "**TensorFlow** añadió dentro de sus librerías el módulo de **Keras** (`tf.keras`). Aún así, esta librería es independiente de tener **Keras** instalado.\n",
    "\n",
    "Desde junio de 2019 cuando **Google** anunció la nueva versión de **TensorFlow 2.0**, **Keras** (`tf.Keras`) ha pasado a ser oficialmente su API de alto nivel.\n",
    "\n",
    "**TensorFlow** es mucho más que un motor de cálculo y una librería de **Deep Learning**, gestiona múltiples GPUs en el entrenamiento si la arquitectura lo permite. Además, permite entrenar y optimizar modelos para ser ejecutados en smartphones o dispositivos IoT (Internet of Things), así como la ejecución de modelos en navegadores web. "
   ]
  },
  {
   "cell_type": "markdown",
   "metadata": {},
   "source": [
    "### LA LIBRERÍA PYTORCH\n",
    "<center><img src=\"./Imagenes/PyTorch.png\" style=\"width:605px;height:150px;\" class=\"center\"></center>\n",
    "\n",
    "**PyTorch** es un marco de **Aprendizaje Profundo *(Deep Learning)*** de código abierto basado en software que se utiliza para crear **Redes Neuronales**, combinando la librería **Torch** de **Aprendizaje Automático** con una API de alto nivel basada en **Python**. Su flexibilidad y facilidad de uso, entre otras ventajas, lo han convertido en el principal marco de aprendizaje automático para las comunidades académicas y de investigación.\n",
    "\n",
    "**PyTorch** fue originalmente desarrollado por [**Meta AI**](https://ai.meta.com) (***Facebook***), y actualmente es muy empleado a nivel mundial, aunque su implementación no será realizada en este curso.\n",
    "\n",
    "El portal de **PyTorch** se puede encontrar a través [de esta liga](https://pytorch.org)."
   ]
  },
  {
   "cell_type": "markdown",
   "metadata": {},
   "source": [
    "<div class=\"alert alert-block alert-success\">\n",
    "<b>.: Fin del Subtema :.</b>\n",
    "</div>\n",
    "\n",
    "***Liga de aceso al siguiente Subtema:*** \n",
    "<br>[d. Red Neuronal con Tensorflow](d.%20Red%20Neuronal%20con%20Tensorflow.ipynb)"
   ]
  }
 ],
 "metadata": {
  "kernelspec": {
   "display_name": "Python 3 (ipykernel)",
   "language": "python",
   "name": "python3"
  },
  "language_info": {
   "codemirror_mode": {
    "name": "ipython",
    "version": 3
   },
   "file_extension": ".py",
   "mimetype": "text/x-python",
   "name": "python",
   "nbconvert_exporter": "python",
   "pygments_lexer": "ipython3",
   "version": "3.8.19"
  }
 },
 "nbformat": 4,
 "nbformat_minor": 4
}
