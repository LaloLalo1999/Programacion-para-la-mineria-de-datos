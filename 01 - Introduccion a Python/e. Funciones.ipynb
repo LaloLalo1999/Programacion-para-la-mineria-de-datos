{
 "cells": [
  {
   "cell_type": "markdown",
   "metadata": {},
   "source": [
    "<div class=\"alert alert-block alert-info\">\n",
    "<span style=\"color: rgb(0,53,91);\">\n",
    "<center><img src=\"./Imagenes/ITESO_Logo.png\" style=\"width:500px;height:142px;\" title=\"Logo ITESO\"></center>\n",
    "<font face = \"Times New Roman\" size = \"6\"><b><center>Maestría en Sistemas Computacionales</center></b></font>\n",
    "<font face = \"Times New Roman\" size = \"5\"><b><center>Programación para Análisis de Datos</center></b></font>\n",
    "\n",
    "<b><font face = \"Times New Roman\" size = \"4\"><center>Unidad 2: Conceptos Generales</center></font>\n",
    "<font face = \"Times New Roman\" size = \"4\"><center>Tema 2.1: Introducción a Python como Herramienta de Desarrollo</center></font>\n",
    "<font face = \"Times New Roman\" size = \"4\"><center>Subtema e: Funciones</center></font></b>\n",
    "<div align=\"right\"><font face = \"Times New Roman\" size = \"2\">Dr. Iván Esteban Villalón Turrubiates (villalon@iteso.mx)</font></div>\n",
    "</span></div>"
   ]
  },
  {
   "cell_type": "markdown",
   "metadata": {},
   "source": [
    "## FUNCIONES\n",
    "\n",
    "En la mayoría de las ocasiones, dentro de un algoritmo hay ciertos grupos de instrucciones que se repiten un cierto número de veces y llega a ser algo tedioso cuando se deben ejecutar esos mismos grupos de instrucciones en diversas partes del código, esto consume mucha memoria y no es eficiente en su ejecución. Para este caso se emplean las ***Funciones***, cuya sintaxis básica es:\n",
    "```python\n",
    "    def nombre_funcion(argumento1, argumento2, ..., argumentoN):\n",
    "        ''' Descripción de la función '''\n",
    "        algoritmo de ejecución\n",
    "       return <valores>\n",
    "```\n",
    "Para entenderlo mejor, la ***Función*** llamada *nombre_funcion* se define por la palabra reservada `def` y recibe los argumentos *argumento1, argumento2, ..., argumentoN*. Puede ser documentada con el texto definido como *''' Descripción de la función '''*, y el resultado que se obtiene después de realizar el *algoritmo de ejecución* se describe por la función `return`.\n",
    "\n",
    "Un primer ejemplo es el siguiente, donde se define una función que recibirá una cadena con un nombre de una persona, y regresará un enunciado con dicho nombre. Primeramente se define la función:"
   ]
  },
  {
   "cell_type": "code",
   "execution_count": null,
   "metadata": {},
   "outputs": [],
   "source": [
    "#Definición de una función\n",
    "def funcion1(nombre):\n",
    "    print(\"¡Hola\", nombre + '!')\n",
    "    \n"
   ]
  },
  {
   "cell_type": "markdown",
   "metadata": {},
   "source": [
    "Ahora definimos una ***Lista*** que contenga varios nombres, y mandamos llamar a `funcion1` para cada uno de ellos:"
   ]
  },
  {
   "cell_type": "code",
   "execution_count": null,
   "metadata": {},
   "outputs": [],
   "source": [
    "#Definición de una lista de nombres\n",
    "nombres = ['Maria', 'Iván', 'Jorge', 'Omar', 'Dulce']\n",
    "\n",
    "#Llamado a la función para cada elemento de la lista\n",
    "for i in nombres:\n",
    "    funcion1(i)"
   ]
  },
  {
   "cell_type": "markdown",
   "metadata": {},
   "source": [
    "Cuando la ***Función*** generará un valor que debe ser almacenado en una variable o debe emplearse desde donde se mandó llamar a la misma, se emplea la función `return` para este efecto. \n",
    "\n",
    "A manera de ejemplo definimos una **Función** que recibe dos valores en su argumento, los cuales va a multiplicar entre ellos y regresará el resultado:"
   ]
  },
  {
   "cell_type": "code",
   "execution_count": null,
   "metadata": {},
   "outputs": [],
   "source": [
    "#Definición de una función\n",
    "def funcion2(x,y):\n",
    "    z = x * y\n",
    "    return z"
   ]
  },
  {
   "cell_type": "markdown",
   "metadata": {},
   "source": [
    "Ahora llamamos a la **Función** enviando los dos valores como los parámetros requeridos y almacenando el resultado en una variable:"
   ]
  },
  {
   "cell_type": "code",
   "execution_count": null,
   "metadata": {},
   "outputs": [],
   "source": [
    "#Llamado a la función\n",
    "c = funcion2(4,5)\n",
    "print(\"El resultado es:\", c)"
   ]
  },
  {
   "cell_type": "code",
   "execution_count": 4,
   "metadata": {},
   "outputs": [],
   "source": [
    "def conc(x: str, y: str) -> str:\n",
    "    if not isinstance(x, str) or not isinstance(y, str):\n",
    "        raise TypeError(\"Both arguments must be strings\")\n",
    "    return x + y"
   ]
  },
  {
   "cell_type": "code",
   "execution_count": 5,
   "metadata": {},
   "outputs": [
    {
     "ename": "TypeError",
     "evalue": "Both arguments must be strings",
     "output_type": "error",
     "traceback": [
      "\u001b[0;31m---------------------------------------------------------------------------\u001b[0m",
      "\u001b[0;31mTypeError\u001b[0m                                 Traceback (most recent call last)",
      "Cell \u001b[0;32mIn[5], line 1\u001b[0m\n\u001b[0;32m----> 1\u001b[0m conc(\u001b[38;5;124m\"\u001b[39m\u001b[38;5;124mhola\u001b[39m\u001b[38;5;124m\"\u001b[39m, \u001b[38;5;241m1\u001b[39m)\n",
      "Cell \u001b[0;32mIn[4], line 3\u001b[0m, in \u001b[0;36mconc\u001b[0;34m(x, y)\u001b[0m\n\u001b[1;32m      1\u001b[0m \u001b[38;5;28;01mdef\u001b[39;00m \u001b[38;5;21mconc\u001b[39m(x: \u001b[38;5;28mstr\u001b[39m, y: \u001b[38;5;28mstr\u001b[39m) \u001b[38;5;241m-\u001b[39m\u001b[38;5;241m>\u001b[39m \u001b[38;5;28mstr\u001b[39m:\n\u001b[1;32m      2\u001b[0m     \u001b[38;5;28;01mif\u001b[39;00m \u001b[38;5;129;01mnot\u001b[39;00m \u001b[38;5;28misinstance\u001b[39m(x, \u001b[38;5;28mstr\u001b[39m) \u001b[38;5;129;01mor\u001b[39;00m \u001b[38;5;129;01mnot\u001b[39;00m \u001b[38;5;28misinstance\u001b[39m(y, \u001b[38;5;28mstr\u001b[39m):\n\u001b[0;32m----> 3\u001b[0m         \u001b[38;5;28;01mraise\u001b[39;00m \u001b[38;5;167;01mTypeError\u001b[39;00m(\u001b[38;5;124m\"\u001b[39m\u001b[38;5;124mBoth arguments must be strings\u001b[39m\u001b[38;5;124m\"\u001b[39m)\n\u001b[1;32m      4\u001b[0m     \u001b[38;5;28;01mreturn\u001b[39;00m x \u001b[38;5;241m+\u001b[39m y\n",
      "\u001b[0;31mTypeError\u001b[0m: Both arguments must be strings"
     ]
    }
   ],
   "source": [
    "conc(\"hola\", 1)"
   ]
  },
  {
   "cell_type": "markdown",
   "metadata": {},
   "source": [
    "En este caso, como la operación fue sencilla, se puede omitir la asignación del valor a la variable `z` dentro de la ***Función***, la cual queda como:"
   ]
  },
  {
   "cell_type": "code",
   "execution_count": null,
   "metadata": {},
   "outputs": [],
   "source": [
    "#Definición de una función\n",
    "def funcion3(x,y):\n",
    "    '''Esta función regresa el valor de la multiplicación de dos números.'''\n",
    "    return x * y"
   ]
  },
  {
   "cell_type": "markdown",
   "metadata": {},
   "source": [
    "Nuevamente llamamos a la **Función** enviando los dos valores como los parámetros requeridos y almacenando el resultado en una variable:"
   ]
  },
  {
   "cell_type": "code",
   "execution_count": null,
   "metadata": {},
   "outputs": [],
   "source": [
    "#Llamado a la función\n",
    "c = funcion3(4,5)\n",
    "print(\"El resultado es:\", c)"
   ]
  },
  {
   "cell_type": "markdown",
   "metadata": {},
   "source": [
    "Para la ***Función*** `funcion3` se definió una descripción opcional, la cual puede ser consultada empleando la función `help()` de la siguiente manera: "
   ]
  },
  {
   "cell_type": "code",
   "execution_count": null,
   "metadata": {},
   "outputs": [],
   "source": [
    "#Descripción de la función\n",
    "help(funcion3)"
   ]
  },
  {
   "cell_type": "markdown",
   "metadata": {},
   "source": [
    "También se pueden regresar los valores de múltiples variables, pero deben definirse con cuidado ya que el orden tiene importancia. Por ejemplo, se define la siguiente ***Función***:"
   ]
  },
  {
   "cell_type": "code",
   "execution_count": null,
   "metadata": {},
   "outputs": [],
   "source": [
    "#Definición de una función\n",
    "def funcion4(lista):\n",
    "    mayor = max(lista)\n",
    "    menor = min(lista)\n",
    "    primero = lista[0]\n",
    "    ultimo = lista[-1]\n",
    "    return mayor, menor, primero, ultimo"
   ]
  },
  {
   "cell_type": "markdown",
   "metadata": {},
   "source": [
    "Ahora definimos una ***Lista*** que contenga varios valores, y mandamos llamar a `funcion4` con toda esa lista:"
   ]
  },
  {
   "cell_type": "code",
   "execution_count": null,
   "metadata": {},
   "outputs": [],
   "source": [
    "#Definición de una lista de valores\n",
    "lista = [10, 50, 30, 12, 6, 8, 100]\n",
    "\n",
    "#Llamado a la función\n",
    "a, b, c, d = funcion4(lista)\n",
    "\n",
    "#Impresión de resultados:\n",
    "print(\"El valor mayor es:\", a)\n",
    "print(\"El valor menor es:\", b)\n",
    "print(\"El primer valor es:\", c)\n",
    "print(\"El último valor es:\", d)"
   ]
  },
  {
   "cell_type": "markdown",
   "metadata": {},
   "source": [
    "### Funciones Lambda\n",
    "Hay pequeñas ***Funciones*** que no están definidas por ningún nombre y se componen por una simple expresión cuyo valor es regresado, y se les conoce como ***Funciones Lambda*** que son de mucha utilidad cuando se manejan ***Listas***. Su sintaxis es sencilla:\n",
    "```python\n",
    "    lambda variables: expresión\n",
    "```\n",
    "Por ejemplo, se define una ***Función Lambda*** que realiza la multiplicación de un número por sí mismo y se almacena el resultado en una variable, esto es:"
   ]
  },
  {
   "cell_type": "code",
   "execution_count": null,
   "metadata": {},
   "outputs": [],
   "source": [
    "#Definición de una función lambda\n",
    "funcion5 = lambda x: x * x"
   ]
  },
  {
   "cell_type": "markdown",
   "metadata": {},
   "source": [
    "Ahora se llama a la variable con el argumento que interesa emplear para la operación:"
   ]
  },
  {
   "cell_type": "code",
   "execution_count": null,
   "metadata": {},
   "outputs": [],
   "source": [
    "#Llamado a la función\n",
    "res = funcion5(8)\n",
    "\n",
    "#Impresión de resultados:\n",
    "print(\"El resultado de la operación es:\", res)"
   ]
  },
  {
   "cell_type": "markdown",
   "metadata": {},
   "source": [
    "<div class=\"alert alert-block alert-success\">\n",
    "<b>.: Fin del Subtema :.</b>\n",
    "</div>\n",
    "\n",
    "***Liga de aceso al siguiente Subtema:*** \n",
    "<br>[f. Gráficos](f.%20Graficos.ipynb)"
   ]
  },
  {
   "cell_type": "code",
   "execution_count": 1,
   "metadata": {},
   "outputs": [],
   "source": [
    "def multiplication_table(number):\n",
    "    for i in range(1, 11):\n",
    "        result = number * i\n",
    "        print(f\"{number} x {i} = {result}\")"
   ]
  },
  {
   "cell_type": "code",
   "execution_count": null,
   "metadata": {},
   "outputs": [],
   "source": [
    "def multiplication_table(number):\n",
    "    table = [number * i for i in range(1, 11)]\n",
    "    return table"
   ]
  },
  {
   "cell_type": "code",
   "execution_count": 3,
   "metadata": {},
   "outputs": [],
   "source": [
    "def multiplication_table(number, i=1):\n",
    "    if i <= 10:\n",
    "        result = number * i\n",
    "        print(f\"{number} x {i} = {result}\")\n",
    "        multiplication_table(number, i+1)"
   ]
  },
  {
   "cell_type": "code",
   "execution_count": 4,
   "metadata": {},
   "outputs": [
    {
     "name": "stdout",
     "output_type": "stream",
     "text": [
      "5 x 1 = 5\n",
      "5 x 2 = 10\n",
      "5 x 3 = 15\n",
      "5 x 4 = 20\n",
      "5 x 5 = 25\n",
      "5 x 6 = 30\n",
      "5 x 7 = 35\n",
      "5 x 8 = 40\n",
      "5 x 9 = 45\n",
      "5 x 10 = 50\n"
     ]
    }
   ],
   "source": [
    "multiplication_table(5)"
   ]
  },
  {
   "cell_type": "code",
   "execution_count": null,
   "metadata": {},
   "outputs": [],
   "source": []
  }
 ],
 "metadata": {
  "kernelspec": {
   "display_name": "Python 3 (ipykernel)",
   "language": "python",
   "name": "python3"
  },
  "language_info": {
   "codemirror_mode": {
    "name": "ipython",
    "version": 3
   },
   "file_extension": ".py",
   "mimetype": "text/x-python",
   "name": "python",
   "nbconvert_exporter": "python",
   "pygments_lexer": "ipython3",
   "version": "3.11.5"
  }
 },
 "nbformat": 4,
 "nbformat_minor": 4
}
