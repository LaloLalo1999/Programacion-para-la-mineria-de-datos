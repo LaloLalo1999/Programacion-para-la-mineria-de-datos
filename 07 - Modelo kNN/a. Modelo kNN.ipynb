{
 "cells": [
  {
   "cell_type": "markdown",
   "metadata": {},
   "source": [
    "<div class=\"alert alert-block alert-info\">\n",
    "<span style=\"color: rgb(0,53,91);\">\n",
    "<center><img src=\"./Imagenes/ITESO_Logo.png\" style=\"width:500px;height:142px;\" title=\"Logo ITESO\"></center>\n",
    "<font face = \"Times New Roman\" size = \"6\"><b><center>Maestría en Sistemas Computacionales</center></b></font>\n",
    "<font face = \"Times New Roman\" size = \"5\"><b><center>Programación para Análisis de Datos</center></b></font>\n",
    "\n",
    "<b><br><font face = \"Times New Roman\" size = \"4\"><center>Unidad 5: Proceso de Selección de Métodos</center></font>\n",
    "<font face = \"Times New Roman\" size = \"4\"><center>Tema 5.3: Modelo K-Nearest Neighbor (k-NN)</center></font>\n",
    "<div align=\"right\"><font face = \"Times New Roman\" size = \"2\">Dr. Iván Esteban Villalón Turrubiates (villalon@iteso.mx)</font></div>\n",
    "</span></div>"
   ]
  },
  {
   "cell_type": "markdown",
   "metadata": {},
   "source": [
    "## Modelo k-NEAREST NEIGHBOR (k-NN)\n",
    "\n",
    "El modelo **k-Nearest Neighbor (k-NN)** es un algoritmo de tipo supervisado de **Aprendizaje Automático (Machine Learning)**. Puede usarse para clasificar nuevas muestras (valores discretos) o para predecir (regresión, valores continuos). Sirve esencialmente para clasificar valores buscando los puntos de datos que son más similares por medio de su cercanía, a través de la etapa de entrenamiento y haciendo conjeturas de nuevos puntos basado en esa clasificación.\n",
    "\n",
    "A diferencia de **K-Means**, que es un algoritmo no supervisado y donde la **K** significa la cantidad de ***grupos*** (*clusters*) que deseamos clasificar, en **k-Nearest Neighbor** la **k** significa la cantidad de *puntos vecinos* que tenemos en cuenta en las cercanías para clasificar los *n* grupos (que ya se conocen de antemano, pues es un algoritmo supervisado).\n",
    "\n",
    "### ¿Qué es el algoritmo k-NN?\n",
    "Es un método que simplemente busca en las observaciones más cercanas a la que se está tratando de predecir y clasifica el punto de interés basado en la mayoría de datos que le rodean. \n",
    "\n",
    "Es un algoritmo:\n",
    "\n",
    "* Supervisado: Esto quiere decir que se tiene etiquetado el conjunto de datos de entrenamiento, con la clase o resultado esperado dada *una fila* de datos.\n",
    "* Basado en Instancia: Esto quiere decir que el algoritmo no aprende explícitamente un modelo (como por ejemplo en **Regresión Logística** o **Árboles de Decisión**). En cambio, memoriza las instancias de entrenamiento que son usadas como *base de conocimiento* para la fase de predicción.\n",
    "\n",
    "### ¿Dónde se aplica k-NN?\n",
    "Aunque sencillo, se utiliza en la resolución de multitud de problemas como en sistemas de recomendación, búsqueda semántica y detección de anomalías.\n",
    "\n",
    "### Pros y contras\n",
    "* Como ***pros*** tiene sobre todo que es sencillo de aprender e implementar. \n",
    "* Tiene como ***contras*** que utiliza todo el **DataSet** para entrenar cada punto y por eso requiere de uso de mucha memoria y recursos de procesamiento (CPU). Por estas razones, **k-NN** tiende a funcionar mejor con un **DataSet** pequeño y sin una gran cantidad de características o *features* (las columnas).\n",
    "\n",
    "### ¿Cómo funciona k-NN?\n",
    "Su proceso se basa en:\n",
    "\n",
    "1. Calcular la distancia entre el item a clasificar y el resto de items del **DataSet** de entrenamiento.\n",
    "2. Seleccionar los *k* elementos más cercanos (con menor distancia, según la función que se use).\n",
    "3. Realizar una *votación de mayoría* entre los *k* puntos: los de una clase/etiqueta que ***dominen*** decidirán su clasificación final.\n",
    "\n",
    "Para decidir la clase de un punto es muy importante el valor de *k*, pues este terminará casi por definir a qué grupo pertenecerán los puntos, sobre todo en las fronteras entre grupos.\n",
    "\n",
    "Las formas más populares de *medir la cercanía* entre puntos son la **Distancia Euclidiana** o la **Cosine Similarity** (mide el ángulo de los vectores, cuanto menores, serán similares).\n",
    "\n",
    "### Implementación de un ejemplo\n",
    "Para ello se empleará la librería **SciKit-Learn**, la cual contiene herramientas simples y eficientes para análisis predictivo de datos.\n",
    "\n",
    "<center><img src=\"./Imagenes/scikit.png\" style=\"width:200px;height:108px;\" class=\"center\"></center>\n",
    "\n",
    "La documentación de **SciKit-Learn** se puede encontrar a través [de esta liga](https://scikit-learn.org/stable/).\n",
    "\n",
    "Para este ejemplo se tomarán 250 registros con reseñas (*reviews*) de usuarios sobre una *app* en particular. El **DataFrame** contenido en el archivo `Resena_Sentimientos.CSV` contiene los siguientes encabezados de las columnas de información:\n",
    "\n",
    "1. `Título`: Es el nombre corto de la reseña (*texto*).\n",
    "2. `Reseña`: Es el texto extenso de la reseña (*texto*).\n",
    "3. `Conteo de Palabras`: Es la cantidad de palabras que tiene el texto extenso de la reseña (*entero*).\n",
    "4. `Título_Sentimiento`: Es el sentimiento (*positivo* o *negativo*) del nombre corto de la reseña (*texto*).\n",
    "5. `Reseña_Sentimiento`: Es el sentimiento (*positivo* o *negativo*) del texto extenso de la reseña (*texto*).\n",
    "6. `Rating`: Es la valoración de la *app* por el tradicional método de estrellas (1 a 5, *entero*).\n",
    "7. `Valor_Sentimiento`: Contiene un valor entre -4 y 4 que indica una ponderación de lo *positivo* o *negativo* del texto extenso de la reseña (*flotante*). \n",
    "\n",
    "Las etiquetas serán las estrellas que dieron los usuarios a la app, que son valores discretos del 1 al 5 contenidos en la columna `Rating`. \n",
    "\n",
    "**El problema consiste en predecir el** `Rating` **en base a los valores de** `Conteo de Palabras` **y** `Valor_Sentimiento` **en específico, a través de un entrenamiento (modelo supervisado) empleando los 250 registros del DataFrame.**\n",
    "\n",
    "**Nota:** Se puede pensar que si el usuario puntúa con más estrellas, tendrá un sentimiento positivo, pero no necesariamente es así.\n",
    "\n",
    "Para ello, primeramente se importarán las librerías **Pandas**, **NumPy** y **Matplotlib**:"
   ]
  },
  {
   "cell_type": "code",
   "execution_count": null,
   "metadata": {
    "ExecuteTime": {
     "end_time": "2018-07-08T21:06:07.018425Z",
     "start_time": "2018-07-08T21:06:05.294010Z"
    }
   },
   "outputs": [],
   "source": [
    "#Importación de librerías\n",
    "import pandas as pd\n",
    "import numpy as np\n",
    "import matplotlib.pyplot as plt\n",
    "\n",
    "#Definición de los parámetros de los gráficos\n",
    "plt.rcParams.update({'font.size': 11, 'figure.figsize': (10, 8)}) \n",
    "plt.style.use('ggplot')"
   ]
  },
  {
   "cell_type": "markdown",
   "metadata": {},
   "source": [
    "Ahora se realiza la lectura del DataSet desde un archivo `CSV` y se guarda en un **DataFrame** de **Pandas**:"
   ]
  },
  {
   "cell_type": "code",
   "execution_count": null,
   "metadata": {
    "ExecuteTime": {
     "end_time": "2018-07-08T21:06:07.085378Z",
     "start_time": "2018-07-08T21:06:07.021056Z"
    }
   },
   "outputs": [],
   "source": [
    "#Lectura del DataSet\n",
    "datos_df = pd.read_csv(\"./Datos/Resena_Sentimientos.csv\")\n",
    "\n",
    "#Impresión de los Resultados\n",
    "print(\"El valor mínimo para la columna \\\"Valor_Sentimiento\\\" es: %.2f\"% datos_df[\"Valor_Sentimiento\"].min())\n",
    "print(\"El valor máximo para la columna \\\"Valor_Sentimiento\\\" es: %.2f\"% datos_df[\"Valor_Sentimiento\"].max())\n",
    "print(\"El DataFrame es:\")\n",
    "display(datos_df)"
   ]
  },
  {
   "cell_type": "markdown",
   "metadata": {},
   "source": [
    "Ahora se revisan los histogramas de las columnas que contienen valores numéricos en el **DataFrame** a través del método `.hist()` de **Pandas**, con la finalidad de visualizar el comportamiento de los datos. Las columnas con valores numéricos son `Conteo de Palabras`, `Rating` y `Valor_Sentimiento`:"
   ]
  },
  {
   "cell_type": "code",
   "execution_count": null,
   "metadata": {
    "ExecuteTime": {
     "end_time": "2018-07-08T21:06:07.592242Z",
     "start_time": "2018-07-08T21:06:07.127692Z"
    }
   },
   "outputs": [],
   "source": [
    "#Mostrar los histogramas del DataFrame\n",
    "datos_df.hist(color = 'skyblue', grid = True);"
   ]
  },
  {
   "cell_type": "markdown",
   "metadata": {},
   "source": [
    "A partir de aquí tenemos estas conclusiones:\n",
    "* Para `Conteo de Palabras` es posible ver que la cantidad de palabras se centra sobre todo de 0 a 10.\n",
    "* La distribución de `Rating` no está balanceada en relación a `Valor_Sentimiento`, lo cual no es bueno. \n",
    "* El histograma de `Valor_Sentimiento` parece una campana de Gauss desplazada levemente hacia la derecha del cero.\n",
    "\n",
    "Es posible ver la cantidad de valores para cada *estrella* en la columna `Rating` empleando los métodos `.groupby()` y `.size()` de **Pandas**:"
   ]
  },
  {
   "cell_type": "code",
   "execution_count": null,
   "metadata": {
    "ExecuteTime": {
     "end_time": "2018-07-08T21:06:07.603298Z",
     "start_time": "2018-07-08T21:06:07.595168Z"
    }
   },
   "outputs": [],
   "source": [
    "#Mostrar la cantidad de valores por estrellas en el DataFrame\n",
    "print(\"El total de entradas en el DataFrame es:\", datos_df.shape[0])\n",
    "print(\"La cantidad de valores para cada estrella es:\\n\", datos_df.groupby('Rating').size())"
   ]
  },
  {
   "cell_type": "markdown",
   "metadata": {},
   "source": [
    "Es posible ver que hay mayor cantidad de *3 estrellas* y *5 estrellas*. Esto se puede mostrar de manera más representativa usando el método `.catplot()` de la librería **Seaborn**, la cual es usada para visualización estadística de datos.\n",
    "\n",
    "#### Librería Seaborn\n",
    "<center><img src=\"./Imagenes/Seaborn_Logo.png\" style=\"width:349px;height:100px;\" title=\"Logo ITESO\"></center>\n",
    "\n",
    "La librería **Seaborn** para **Python** está basada en **Matplotlib**, proporciona una interfaz de alto nivel para realizar gráficos estadísticos atractivos e informativos. \n",
    "\n",
    "La documentación detallada de la librería **Seaborn** se puede consultar [en esta liga](https://seaborn.pydata.org).\n",
    "\n",
    "La descripción detallada del método `.catplot()` se puede consultar [en esta liga](https://seaborn.pydata.org/generated/seaborn.catplot.html)."
   ]
  },
  {
   "cell_type": "code",
   "execution_count": null,
   "metadata": {
    "ExecuteTime": {
     "end_time": "2018-07-08T21:06:07.821277Z",
     "start_time": "2018-07-08T21:06:07.606864Z"
    }
   },
   "outputs": [],
   "source": [
    "#Importación de librerías\n",
    "import seaborn as sns\n",
    "\n",
    "#Eliminación de las Advertencias (Warnings) de Matplotlib\n",
    "import warnings\n",
    "warnings.filterwarnings('ignore')\n",
    "\n",
    "#Gráfico de la columna \"Rating\" del DataFrame\n",
    "sns.catplot(x='Rating', data = datos_df, kind = 'count', aspect = 2, palette='Paired')\n",
    "plt.title('Cantidad de Valores por Estrellas')\n",
    "plt.xlabel('Número de Estrellas')\n",
    "plt.ylabel('Cantidad de Reseñas')\n",
    "#plt.savefig('./Guardados/Catplot1.png', dpi=300, transparent=False, bbox_inches='tight')\n",
    "plt.show();"
   ]
  },
  {
   "cell_type": "markdown",
   "metadata": {},
   "source": [
    "Ahora se graficará la cantidad de palabras por reseña en el **DataFrame** para comprender su distribución, donde se podrá notar que la mayoría se encuentra entre 1 y 10 palabras:"
   ]
  },
  {
   "cell_type": "code",
   "execution_count": null,
   "metadata": {
    "ExecuteTime": {
     "end_time": "2018-07-08T21:06:08.264250Z",
     "start_time": "2018-07-08T21:06:07.824002Z"
    }
   },
   "outputs": [],
   "source": [
    "#Eliminación de las Advertencias (Warnings) de Matplotlib\n",
    "warnings.filterwarnings('ignore')\n",
    "\n",
    "#Gráfico de la columna \"Conteo de Palabras\" del DataFrame\n",
    "sns.catplot(x='Conteo de Palabras', data = datos_df, kind='count', aspect = 3, palette='tab20c')\n",
    "plt.title('Cantidad de Palabras por Reseña')\n",
    "plt.xlabel('Número de Palabras')\n",
    "plt.ylabel('Cantidad de Reseñas')\n",
    "#plt.savefig('./Guardados/Catplot2.png', dpi=300, transparent=False, bbox_inches='tight')\n",
    "plt.show();"
   ]
  },
  {
   "cell_type": "markdown",
   "metadata": {},
   "source": [
    "#### Proceso de preparación de las entradas\n",
    "Ahora se crearán los valores *X* y *y* de entrada, así como los sets de entrenamiento y prueba.\n",
    "\n",
    "* El valor *X* estará definido por los valores de las columnas `Conteo de Palabras` y `Valor_Sentimiento`.\n",
    "* El valor *y* estará definido por los valores de la columna `Rating`.\n",
    "\n",
    "Para obtener los valores de entrenamiento y prueba, se empleará la función `train_test_split()` de la librería **SciKit-Learn** por medio de los siguientes pasos:\n",
    "\n",
    "1. Los valores de entrenamiento (*train*) y de prueba (*test*) para las entradas (*X*) y las salidas (*y*) se obtienen con la función `train_test_split()` donde sus argumentos son los valores de entrada *X*, los valores de salida *y* y una función aleatoria para generarlos definida por el parámetro `random_state = 0`. \n",
    "2. Se define el proceso de normalización de los datos por medio de la función `MinMaxScaler()`.\n",
    "3. Se generan los valores normalizados de entrenamiento de las entradas (*X*) por medio de la función `scaler.fit_transform()` aplicada a los valores de entrenamiento de entrada.\n",
    "4. Se generan los valores normalizados de prueba de las entradas (*X*) por medio de la función `scaler.transform()` aplicada a los valores de prueba de entrada.\n",
    "\n",
    "Esto es:"
   ]
  },
  {
   "cell_type": "code",
   "execution_count": null,
   "metadata": {
    "ExecuteTime": {
     "end_time": "2018-07-08T21:06:08.274906Z",
     "start_time": "2018-07-08T21:06:08.267067Z"
    }
   },
   "outputs": [],
   "source": [
    "#Importación de librerías\n",
    "from sklearn.model_selection import train_test_split\n",
    "from sklearn.preprocessing import MinMaxScaler\n",
    "from sklearn.neighbors import KNeighborsClassifier\n",
    "from sklearn.metrics import classification_report\n",
    "from sklearn.metrics import confusion_matrix\n",
    "\n",
    "#Definición de los valores X e y\n",
    "X = datos_df[['Conteo de Palabras','Valor_Sentimiento']].values\n",
    "y = datos_df['Rating'].values\n",
    "\n",
    "#Definición de los valores de enrtenamiento y prueba\n",
    "X_train, X_test, y_train, y_test = train_test_split(X, y, random_state = 0)\n",
    "scaler = MinMaxScaler()\n",
    "X_train = scaler.fit_transform(X_train)\n",
    "X_test = scaler.transform(X_test)"
   ]
  },
  {
   "cell_type": "markdown",
   "metadata": {},
   "source": [
    "### Modelo k-NN con Scikit-Learn\n",
    "Se definirá el valor de *k = 7*, posteriormente se podrá verificar este valor. A partir de ahí se define el clasificador con la función `KNeighborsClassifier()` de **SciKit-Learn**.\n",
    "\n",
    "La descripción detallada de la función `KNeighborsClassifier()` se puede consultar [en esta liga](https://scikit-learn.org/stable/modules/generated/sklearn.neighbors.KNeighborsClassifier.html).\n",
    "\n",
    "Para ello se realizarán los siguientes pasos:\n",
    "\n",
    "1. Se define una variable que contiene el valor *k*.\n",
    "2. Se define el modelo a partir de la función `KNeighborsClassifier()` aplicada al valor *k*.\n",
    "3. Se emplea el método `.fit()` para realizar la estimación basada en un modelo lineal. \n",
    "4. Se imprimen los valores del nivel de certeza del clasificador para el entrenamiento y la prueba. \n",
    "\n",
    "**NOTA:** La función `KNeighborsClassifier()` de **SciKit-Learn** se aplica a valores discretos como en este ejemplo (estrellas del 1 al 5). Pero existe la función `KneighborsRegressor()` para etiquetas con valores continuos.\n",
    "\n",
    "Esto es:"
   ]
  },
  {
   "cell_type": "code",
   "execution_count": null,
   "metadata": {
    "ExecuteTime": {
     "end_time": "2018-07-08T21:06:08.298007Z",
     "start_time": "2018-07-08T21:06:08.281409Z"
    }
   },
   "outputs": [],
   "source": [
    "#Asignación del valor k\n",
    "n_neighbors = 7\n",
    "\n",
    "#Definición del Clasificador\n",
    "knn = KNeighborsClassifier(n_neighbors)\n",
    "knn.fit(X_train, y_train)\n",
    "\n",
    "#Mostrar los valores del nivel de certeza para el entrenamiento y la prueba\n",
    "print('El Nivel de Certeza del Clasificador k-NN en el set de Entrenamiento es: {:.2f}'.format(knn.score(X_train, y_train)*100),\"%\")\n",
    "print('El Nivel de Certeza del Clasificador k-NN en el set de Prueba es: {:.2f}'.format(knn.score(X_test, y_test)*100),\"%\")"
   ]
  },
  {
   "cell_type": "markdown",
   "metadata": {},
   "source": [
    "### Precisión del Modelo\n",
    "Se realiza la confirmación de la precisión a través de una ***Matriz de Confusión*** (función `confusion_matrix()`) y el ***Reporte*** (función `classification_report()`), ambos sobre el conjunto de prueba, esto proporciona información estadística de los aciertos y fallos.\n",
    "\n",
    "La descripción detallada de la función `confusion_matrix` se puede consultar [en esta liga](https://scikit-learn.org/stable/modules/generated/sklearn.metrics.confusion_matrix.html).\n",
    "\n",
    "La descripción detallada de la función `classification_report` se puede consultar [en esta liga](https://scikit-learn.org/stable/modules/generated/sklearn.metrics.classification_report.html).\n",
    "\n",
    "Para ello se empleará la función `.predict()` aplicada a los datos de prueba, la cual genera los valores de predicción en base al entrenamiento realizado."
   ]
  },
  {
   "cell_type": "code",
   "execution_count": null,
   "metadata": {
    "ExecuteTime": {
     "end_time": "2018-07-08T21:06:08.318080Z",
     "start_time": "2018-07-08T21:06:08.303739Z"
    }
   },
   "outputs": [],
   "source": [
    "#Revisión de la precisión del modelo\n",
    "pred = knn.predict(X_test)\n",
    "\n",
    "#Mostrar los valores\n",
    "print(\"Matriz de Confusión:\\n\", confusion_matrix(y_test, pred), \"\\n\")\n",
    "print(\"Reporte:\\n\", classification_report(y_test, pred), \"\\n\")"
   ]
  },
  {
   "cell_type": "markdown",
   "metadata": {},
   "source": [
    "A partir del ***Reporte*** se puede ver que el `f1-score` es de 84%, es una puntuación alta (valor de referencia).\n",
    "\n",
    "Ahora se realizará la gráfica con la clasificación obtenida, la cual ayudará a ver fácilmente en donde caerán las predicciones. El modelo queda definido por la variable **clf**. \n",
    "\n",
    "***NOTA:*** Al ser 2 características (`Conteo de Palabras` y `Valor_Sentimiento`), se puede hacer la gráfica 2D. En caso de 3 características se puede hacer la gráfica en 3D. Pero para usos reales, se podrían tener más de 3 dimensiones, el gráfico no será representativo pero el resultado del algoritmo será el que cuente."
   ]
  },
  {
   "cell_type": "code",
   "execution_count": null,
   "metadata": {
    "ExecuteTime": {
     "end_time": "2018-07-08T21:06:38.684163Z",
     "start_time": "2018-07-08T21:06:08.324560Z"
    },
    "code_folding": []
   },
   "outputs": [],
   "source": [
    "#Importación de librerías\n",
    "from matplotlib.colors import ListedColormap\n",
    "import matplotlib.patches as mpatches\n",
    "\n",
    "#Valor de pasos en la malla\n",
    "h = 0.02\n",
    "\n",
    "#Creación del mapa de colores\n",
    "cmap_light = ListedColormap(['#FFAAAA', '#ffcc99', '#ffffb3','#b3ffff','#c2f0c2'])\n",
    "cmap_bold = ListedColormap(['#FF0000', '#ff9933','#FFFF00','#00ffff','#00FF00'])\n",
    "\n",
    "#Creación de una instancia de KNeighborsClassifier\n",
    "clf = KNeighborsClassifier(n_neighbors, weights='distance')\n",
    "clf.fit(X, y)\n",
    "\n",
    "#Gráfico de los límites de decisión, asignando un color a cada punto\n",
    "x_min, x_max = X[:, 0].min() - 1, X[:, 0].max() + 1\n",
    "y_min, y_max = X[:, 1].min() - 1, X[:, 1].max() + 1\n",
    "xx, yy = np.meshgrid(np.arange(x_min, x_max, h), np.arange(y_min, y_max, h))\n",
    "Z = clf.predict(np.c_[xx.ravel(), yy.ravel()])\n",
    "\n",
    "#Colocar el resultado en un gráfico de color\n",
    "Z = Z.reshape(xx.shape)\n",
    "plt.figure()\n",
    "plt.pcolormesh(xx, yy, Z, cmap=cmap_light, shading='auto')\n",
    "\n",
    "#Gráfico de los puntos de entrenamiento\n",
    "plt.scatter(X[:, 0], X[:, 1], c=y, cmap=cmap_bold, edgecolor='k', s=20)\n",
    "plt.xlim(xx.min(), xx.max())\n",
    "plt.ylim(yy.min(), yy.max())\n",
    "patch0 = mpatches.Patch(color='#FF0000', label='1')\n",
    "patch1 = mpatches.Patch(color='#ff9933', label='2')\n",
    "patch2 = mpatches.Patch(color='#FFFF00', label='3')\n",
    "patch3 = mpatches.Patch(color='#00ffff', label='4')\n",
    "patch4 = mpatches.Patch(color='#00FF00', label='5')\n",
    "plt.legend(handles=[patch0, patch1, patch2, patch3,patch4])\n",
    "plt.title(\"Clasificación de 5 Clases (k = %i, pesos = '%s')\"% (n_neighbors, 'distancia'))\n",
    "plt.xlabel('Conteo de Palabras');\n",
    "plt.ylabel('Valor Sentimiento');\n",
    "#plt.savefig('./Guardados/Clasifica.png', dpi=300, transparent=False, bbox_inches='tight')\n",
    "plt.show();"
   ]
  },
  {
   "cell_type": "markdown",
   "metadata": {},
   "source": [
    "Es posible ver 5 zonas (representadas por colores) en las que se relacionan `Conteo de Palabras` y `Valor_Sentimiento` en las revisiones que dejan los usuarios. Estas pueden dividirse de la siguiente manera:\n",
    "\n",
    "<center><img src=\"./Imagenes/knn-sectores.png\" style=\"width:787px;height:450px;\" class=\"center\"></center>\n",
    "\n",
    "Esto es, que un `Conteo de Palabras` de 20 palabras y `Valor_Sentimiento` de 1 daría una valoración de 4 estrellas (zona de color azul celeste).\n",
    "\n",
    "Con estas zonas es posible pronosticar ciertas características de los usuarios que usan y valoran la *app*:\n",
    "\n",
    "* Los usuarios que ponen 1 estrella tienen sentimiento negativo y llegan a redactar una reseña de hasta 25 palabras.\n",
    "* Los usuarios que ponen 2 estrellas dan muchas explicaciones (hasta 100 palabras) y su sentimiento puede variar entre negativo y algo positivo.\n",
    "* Los usuarios que ponen 3 estrellas son bastante neutrales en sentimientos, puesto que están en torno al 0 y llegan a redactar una reseña de hasta 25 palabras.\n",
    "* Los usuarios que dan 5 estrellas son bastante positivos (de 0.5 en adelante, aproximadamente) y llegan a redactar una reseña de pocas palabras (hasta 10).\n",
    "\n",
    "#### Elección del valor de k\n",
    "Se hizo la asignación de *k* como *n_neighbors = 7*, y de ello se obtuvieron buenos resultados. ***¿De donde salió ese valor?*** \n",
    "\n",
    "Una manera de hacerlo es a partir del sigiente código, donde se muestran distintos valores de *k* y la precisión obtenida, todo ello aplicado al los datos del **DataFrame** con el que se cuenta. \n",
    "\n",
    "En la gráfica es posible ver que con valores *k = 7* a *k = 14* es donde mayor precisión se logra."
   ]
  },
  {
   "cell_type": "code",
   "execution_count": null,
   "metadata": {
    "ExecuteTime": {
     "end_time": "2018-07-08T21:06:38.869436Z",
     "start_time": "2018-07-08T21:06:38.687690Z"
    }
   },
   "outputs": [],
   "source": [
    "#Algoritmo para la elección del valor k\n",
    "k_range = range(1, 20)\n",
    "scores = []\n",
    "for k in k_range:\n",
    "    knn = KNeighborsClassifier(n_neighbors = k)\n",
    "    knn.fit(X_train, y_train)\n",
    "    scores.append(knn.score(X_test, y_test))\n",
    "plt.figure()\n",
    "plt.xlabel('Valor k')\n",
    "plt.ylabel('Precisión')\n",
    "plt.scatter(k_range, scores)\n",
    "plt.xticks([0,5,10,15,20])\n",
    "#plt.savefig('./Guardados/Grafico_k.png', dpi=300, transparent=False, bbox_inches='tight')\n",
    "plt.show();"
   ]
  },
  {
   "cell_type": "markdown",
   "metadata": {},
   "source": [
    "#### Clasificar y/o predecir nuevas muestras\n",
    "\n",
    "Ya se cuenta con el modelo y con el valor de *k*. Supongamos que llegan nuevas revisiones, se muestran dos maneras de predecir la cantidad de estrellas que recibirán.\n",
    "\n",
    "El modelo está en **clf** y las predicciones se determinan por medio del método `.predict()`.\n",
    "\n",
    "1. **Primer Método**: Se indica la cantidad de `Conteo de Palabras` y `Valor_Sentimiento` en los corchetes. Para este ejemplo los valores son 5 y 1.0, respectivamente, obteniendo 5 estrellas:"
   ]
  },
  {
   "cell_type": "code",
   "execution_count": null,
   "metadata": {
    "ExecuteTime": {
     "end_time": "2018-07-08T21:06:38.890532Z",
     "start_time": "2018-07-08T21:06:38.879285Z"
    }
   },
   "outputs": [],
   "source": [
    "#Predicción de \"Star Rating\", método 1\n",
    "print(\"El valor predecido que se obtendrá será:\", clf.predict([[5, 1.0]]), \"estrellas\")"
   ]
  },
  {
   "cell_type": "markdown",
   "metadata": {},
   "source": [
    "2. **Segundo Método**: Se pueden obtener las probabilidades que de se obtengan 1, 2, 3, 4 o 5 estrellas con el método `.predict_proba()`. De igual manera, se indica la cantidad de `Conteo de Palabras` y `Valor_Sentimiento` en los corchetes. Para este ejemplo los valores son 20 y 0.0, respectivamente:"
   ]
  },
  {
   "cell_type": "code",
   "execution_count": null,
   "metadata": {
    "ExecuteTime": {
     "end_time": "2018-07-08T21:06:38.903309Z",
     "start_time": "2018-07-08T21:06:38.894227Z"
    }
   },
   "outputs": [],
   "source": [
    "#Predicción de \"Star Rating\", método 2\n",
    "print(\"El porcentaje de obtención de cada cantidad de estrellas será:\\n\", (clf.predict_proba([[20, 0.0]])*100))"
   ]
  },
  {
   "cell_type": "markdown",
   "metadata": {},
   "source": [
    "<div class=\"alert alert-block alert-danger\">\n",
    "<b>.: Fin del Tema :.</b>\n",
    "</div>"
   ]
  }
 ],
 "metadata": {
  "kernelspec": {
   "display_name": "Python 3 (ipykernel)",
   "language": "python",
   "name": "python3"
  },
  "language_info": {
   "codemirror_mode": {
    "name": "ipython",
    "version": 3
   },
   "file_extension": ".py",
   "mimetype": "text/x-python",
   "name": "python",
   "nbconvert_exporter": "python",
   "pygments_lexer": "ipython3",
   "version": "3.8.19"
  }
 },
 "nbformat": 4,
 "nbformat_minor": 4
}
