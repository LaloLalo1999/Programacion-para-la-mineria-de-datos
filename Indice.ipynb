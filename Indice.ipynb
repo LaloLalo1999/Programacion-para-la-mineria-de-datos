{
 "cells": [
  {
   "cell_type": "markdown",
   "metadata": {},
   "source": [
    "<div class=\"alert alert-block alert-info\">\n",
    "<span style=\"color: rgb(0,53,91);\">\n",
    "<center><img src=\"./01 - Introduccion a Python/Imagenes/ITESO_Logo.png\" style=\"width:500px;height:142px;\" title=\"Logo ITESO\"></center>\n",
    "<font face = \"Times New Roman\" size = \"6\"><b><center>Maestría en Sistemas Computacionales</center></b></font>\n",
    "<font face = \"Times New Roman\" size = \"5\"><b><center>Programación para Análisis de Datos</center></b></font>\n",
    "<b><font face = \"Times New Roman\" size = \"5\"><center>Índice General de Temas del Curso</center></font></b></span>"
   ]
  },
  {
   "cell_type": "markdown",
   "metadata": {},
   "source": [
    "## Generalidades\n",
    "<center><img src=\"./01 - Introduccion a Python/Imagenes/Logo_canvas.png\" style=\"width:600px;height:150px;\"></center>\n",
    "\n",
    "#### Fundamentos del Curso\n",
    "El curso “**Programación para Análisis de Datos**”, también llamado “***Programming for Data Analysis***”, forma parte de las materias del área electiva de la Maestría en Sistemas Computacionales (MSC) cuyo propósito es desarrollar las competencias necesarias en el alumno para que adquiera las habilidades básicas de programación en Python que le sean de utilidad el proceso de la analítica de datos, comenzando con la concepción de un proyecto de analítica donde se puede aplicar la programación en cualquiera sus fases, ya sea para la toma de decisiones en hitos intermedios, mostrar avances a involucrados, garantizar la calidad de los datos, o el desarrollo de productos finales. Las tareas de programación pueden ser medios para obtener información y arribar a conclusiones, así como ser fines para obtener productos de software que se insertan en tareas de inteligencia de negocio o de procesos organizacionales rutinarios.\n",
    "\n",
    "Adicionalmente, este curso sirve de manera introductoria para materias de mayor especialización como **Aprendizaje Automático (*Machine Learning*)** o **Aprendizaje Profundo (*Deep Learning*)**.\n",
    "\n",
    "#### Propósito General\n",
    "El propósito general del curso es que el alumno sea capaz de aplicar un lenguaje de programación en proyectos de analítica de datos, empleando bibliotecas de funciones gráficas, numéricas, estadísticas y de manejo de archivos, para presentar soluciones a preguntas de investigación sobre datos de una organización o fenómeno."
   ]
  },
  {
   "cell_type": "markdown",
   "metadata": {},
   "source": [
    "## Contenido Temático\n",
    "\n",
    "Los temas del curso y los accesos a los códigos en Python se muestran a continuación: \n",
    "\n",
    "### Conceptos Generales\n",
    "#### 1. Introducción a Python\n",
    "* [a. Variables, Operadores y Funciones Integradas](./01%20-%20Introduccion%20a%20Python/a.%20Variables,%20Operadores%20y%20Funciones%20Integradas.ipynb)\n",
    "* [b. Impresión y Precisión](./01%20-%20Introduccion%20a%20Python/b.%20Impresion%20y%20Precision.ipynb)\n",
    "* [c. Listas, Tuplas y Diccionarios](./01%20-%20Introduccion%20a%20Python/c.%20Listas,%20Tuplas%20y%20Diccionarios.ipynb)\n",
    "* [d. Control de Flujo](./01%20-%20Introduccion%20a%20Python/d.%20Control%20de%20Flujo.ipynb)\n",
    "* [e. Funciones](./01%20-%20Introduccion%20a%20Python/e.%20Funciones.ipynb)\n",
    "* [f. Gráficos](./01%20-%20Introduccion%20a%20Python/f.%20Graficos.ipynb)\n",
    "* [g. Programación Orientada a Objetos](./01%20-%20Introduccion%20a%20Python/g.%20Programacion%20Orientada%20a%20Objetos.ipynb)\n",
    "\n",
    "#### 2. Álgebra Lineal y Estadística\n",
    "* [a. Vectores y Matrices](./02%20-%20Algebra%20Lineal%20y%20Estadistica/a.%20Vectores%20y%20Matrices.ipynb)\n",
    "* [b. Estadística](./02%20-%20Algebra%20Lineal%20y%20Estadistica/b.%20Estadistica.ipynb)\n",
    "* [c. Introduccion a Imágenes](./02%20-%20Algebra%20Lineal%20y%20Estadistica/c.%20Introduccion%20a%20Imagenes.ipynb)\n",
    "* [d. Convolución de Imagenes.ipynb](./02%20-%20Algebra%20Lineal%20y%20Estadistica/d.%20Convolucion%20de%20Imagenes.ipynb)\n",
    "* [e. Ruido en Imágenes](./02%20-%20Algebra%20Lineal%20y%20Estadistica/e.%20Ruido%20en%20Imagenes.ipynb)\n",
    "\n",
    "#### 3. Procesamiento de Imágenes\n",
    "* [a. Fundamentos de OpenCV](./03%20-%20Procesamiento%20de%20Imagenes/a.%20Fundamentos%20de%20OpenCV.ipynb)\n",
    "* [b. Procesamiento de Imágenes](./03%20-%20Procesamiento%20de%20Imagenes/b.%20Procesamiento%20de%20Imagenes.ipynb)\n",
    "* [c. Imágenes Multiespectrales](./03%20-%20Procesamiento%20de%20Imagenes/c.%20Imagenes%20Multiespectrales.ipynb)\n",
    "* [d. Clasificación en Cascada](./03%20-%20Procesamiento%20de%20Imagenes/d.%20Clasificacion%20en%20Cascada.ipynb)\n",
    "\n",
    "### Proceso de Obtención de Datos\n",
    "#### 4. Procesamiento de Datos\n",
    "* [a. Creación de DataFrames de Pandas](./04%20-%20Procesamiento%20de%20Datos/a.%20Creacion%20de%20DataFrames%20de%20Pandas.ipynb)\n",
    "* [b. Lectura de Datos](./04%20-%20Procesamiento%20de%20Datos/b.%20Lectura%20de%20Datos.ipynb)\n",
    "* [c. Operaciones Básicas, Limpieza e Imputación](./04%20-%20Procesamiento%20de%20Datos/c.%20Operaciones%20Basicas,%20Limpieza%20e%20Imputacion.ipynb)\n",
    "* [d. Extracción de Datos, Filtros y Funciones](./04%20-%20Procesamiento%20de%20Datos/d.%20Extraccion%20de%20Datos,%20Filtros%20y%20Funciones.ipynb)\n",
    "* [e. Gráficos Informativos](./04%20-%20Procesamiento%20de%20Datos/e.%20Graficos%20Informativos.ipynb)\n",
    "* [f. Combinación de DataFrames](./04%20-%20Procesamiento%20de%20Datos/f.%20Combinacion%20de%20DataFrames.ipynb)\n",
    "* [g. Concatenación, Agrupación y Pivoteo](./04%20-%20Procesamiento%20de%20Datos/g.%20Concatenacion,%20Agrupacion%20y%20Pivoteo.ipynb)\n",
    "* [h. Series de Tiempo y Estacionariedad](./04%20-%20Procesamiento%20de%20Datos/h.%20Series%20de%20Tiempo%20y%20Estacionariedad.ipynb)\n",
    "* [i. Series de Tiempo y Pronóstico](./04%20-%20Procesamiento%20de%20Datos/i.%20Series%20de%20Tiempo%20y%20Pronostico.ipynb)\n",
    "* [j. Recapitulación del Análisis de DataFrames](./04%20-%20Procesamiento%20de%20Datos/j.%20Recapitulacion%20del%20Analisis%20de%20DataFrames.ipynb)\n",
    "* [k. Implementación en Streamlit](./04%20-%20Procesamiento%20de%20Datos/k.%20Implementacion%20en%20Streamlit.ipynb)   \n",
    "* [l. Uso de PandasGUI](./04%20-%20Procesamiento%20de%20Datos/l.%20Uso%20de%20PandasGUI.ipynb)\n",
    "\n",
    "### Proceso de Selección de Métodos\n",
    "#### 5. Procesamiento de Lenguaje Natural\n",
    "* [a. Conteo de Texto](./05%20-%20Procesamiento%20de%20Lenguaje%20Natural/a.%20Conteo%20de%20Texto.ipynb)\n",
    "* [b. Conteo de Palabras por Enunciado](./05%20-%20Procesamiento%20de%20Lenguaje%20Natural/b.%20Conteo%20de%20Palabras%20por%20Enunciado.ipynb)\n",
    "* [c. Distribuciones de Frecuencia](./05%20-%20Procesamiento%20de%20Lenguaje%20Natural/c.%20Distribuciones%20de%20Frecuencia.ipynb)\n",
    "* [d. Palabras Informativas](./05%20-%20Procesamiento%20de%20Lenguaje%20Natural/d.%20Palabras%20Informativas.ipynb)\n",
    "* [e. Bigramas](./05%20-%20Procesamiento%20de%20Lenguaje%20Natural/e.%20Bigramas.ipynb)\n",
    "* [f. Expresiones Regulares](./05%20-%20Procesamiento%20de%20Lenguaje%20Natural/f.%20Expresiones%20Regulares.ipynb)\n",
    "* [g. Tokenización](./05%20-%20Procesamiento%20de%20Lenguaje%20Natural/g.%20Tokenizacion.ipynb)\n",
    "\n",
    "#### 6. Redes Neuronales\n",
    "* [a. Modelos de Aprendizaje](./06%20-%20Redes%20Neuronales/a.%20Modelos%20de%20Aprendizaje.ipynb)\n",
    "* [b. Introducción a Redes Neuronales](./06%20-%20Redes%20Neuronales/b.%20Introduccion%20a%20Redes%20Neuronales.ipynb)\n",
    "* [c. Keras y TensorFlow](./06%20-%20Redes%20Neuronales/c.%20Keras%20y%20TensorFlow.ipynb)\n",
    "* [d. Red Neuronal con TensorFlow](./06%20-%20Redes%20Neuronales/d.%20Red%20Neuronal%20con%20TensorFlow.ipynb)\n",
    "* [e. Clasificación de Imágenes](./06%20-%20Redes%20Neuronales/e.%20Clasificacion%20de%20Imagenes.ipynb)\n",
    "\n",
    "#### 7. Modelo K-Nearest Neighbor (k-NN)\n",
    "* [a. Modelo K-Nearest Neighbor (k-NN)](./07%20-%20Modelo%20kNN/a.%20Modelo%20kNN.ipynb)\n",
    "\n",
    "#### 8. Modelo K-Means\n",
    "* [a. Modelo K-Means](./08%20-%20Modelo%20KMeans/a.%20Modelo%20KMeans.ipynb)\n",
    "\n",
    "#### 9. Clasificador Bayesiano Ingenuo (Naïve Bayes)\n",
    "* [a. Clasificador Bayesiano Ingenuo (Naïve Bayes)](./09%20-%20Clasificador%20Naive%20Bayes/a.%20Clasificador%20Naive%20Bayes.ipynb)\n",
    "\n",
    "#### 10. Árboles de Decisión\n",
    "* [a. Árboles de Decisión](./10%20-%20Arboles%20de%20Decision/a.%20Arboles%20de%20Decision.ipynb)"
   ]
  },
  {
   "cell_type": "markdown",
   "metadata": {},
   "source": [
    "<div class=\"alert alert-block alert-danger\">\n",
    "<b>.: Fin del Índice :.</b>\n",
    "</div>"
   ]
  }
 ],
 "metadata": {
  "kernelspec": {
   "display_name": "Python 3 (ipykernel)",
   "language": "python",
   "name": "python3"
  },
  "language_info": {
   "codemirror_mode": {
    "name": "ipython",
    "version": 3
   },
   "file_extension": ".py",
   "mimetype": "text/x-python",
   "name": "python",
   "nbconvert_exporter": "python",
   "pygments_lexer": "ipython3",
   "version": "3.10.14"
  }
 },
 "nbformat": 4,
 "nbformat_minor": 4
}
