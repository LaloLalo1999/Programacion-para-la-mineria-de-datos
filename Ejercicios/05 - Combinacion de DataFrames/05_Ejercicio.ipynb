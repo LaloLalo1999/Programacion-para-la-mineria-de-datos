{
 "cells": [
  {
   "cell_type": "markdown",
   "id": "a59564d5-e3c3-4296-ba34-d4d04d035d75",
   "metadata": {},
   "source": [
    "<div class=\"alert alert-block alert-warning\">\n",
    "<span style=\"color: rgb(0,53,91);\">\n",
    "<center><img src=\"./Imagenes/ITESO_Logo.png\" style=\"width:500px;height:142px;\" title=\"Logo ITESO\"></center>\n",
    "<font face = \"Times New Roman\" size = \"6\"><b><center>Maestría en Sistemas Computacionales</center></b></font>\n",
    "<font face = \"Times New Roman\" size = \"5\"><b><center>Programación para Análisis de Datos</center></b></font>\n",
    "<font face = \"Times New Roman\" size = \"5\"><center>Ejercicio 5: Combinación de DataFrames de Pandas</center></font></b>\n",
    "<div align=\"right\"><font face = \"Times New Roman\" size = \"2\">Dr. Iván Esteban Villalón Turrubiates (villalon@iteso.mx)</font></div>\n",
    "</span></div>"
   ]
  },
  {
   "cell_type": "markdown",
   "id": "429e1001-bd53-44c5-9987-fab64d5c5391",
   "metadata": {},
   "source": [
    "#### Nombre del Alumno: \n",
    "#### Matrícula:"
   ]
  },
  {
   "cell_type": "markdown",
   "id": "b02bcc49-f0d8-43a0-a80d-57137d43d0da",
   "metadata": {},
   "source": [
    "#### Instrucciones:\n",
    "Por favor, revisa cuidadosamente las siguientes instrucciones:\n",
    "\n",
    "* Realiza este ejercicio de manera individual.\n",
    "* Escribe tu nombre completo y matrícula en la celda correspondiente.\n",
    "* Lee cuidadosamente cada uno de los ejercicios y realiza las acciones solicitadas.\n",
    "* Coloca tu código ejecutable en las celdas debajo de la explicación de cada reactivo.\n",
    "* Una vez terminado, sube en CANVAS sólamente el archivo `.ipynb` en la liga correspondiente."
   ]
  },
  {
   "cell_type": "markdown",
   "id": "1a298d2a-fa4a-4cea-9821-ca9c9abee959",
   "metadata": {},
   "source": [
    "#### Explicación:\n",
    "Se cuenta con dos grupos de datos que proporcionan información climática, los cuales están en dos archivos `.CSV` donde cada uno de ellos contienen información parcial sobre el clima:\n",
    "\n",
    "Para el **DataFrame** `Clima_T_H.csv`, los encabezados de las columnas de información son:\n",
    "\n",
    "1. **Fecha**: La fecha en la que se realizó la medición.\n",
    "2. **Temperatura**: El valor de la medición de temperatura.\n",
    "3. **Humedad**: El valor de la medición de humedad.\n",
    "\n",
    "Para el **DataFrame** `Clima_V_P.csv`, los encabezados de las columnas de información son:\n",
    "\n",
    "1. **Fecha**: La fecha en la que se realizó la medición.\n",
    "2. **Velocidad_Viento**: El valor de la medición de la velocidad del viento.\n",
    "3. **Presión**: El valor de la medición de la presión.\n",
    "\n",
    "Para este ejercicio, se deben realizar el proceso de análisis por medio de los reactivos descritos a continuación, donde cada uno tiene un valor de **5 CRÉDITOS**, los cuales se agregarán al total acumulado de cada uno de los alumnos del curso."
   ]
  },
  {
   "cell_type": "markdown",
   "id": "ebc1aca6-f6ff-479e-82f4-757834ae0249",
   "metadata": {},
   "source": [
    "**1.** Cargar las librerías **Pandas** y **Matplotlib**. Posteriormente, crear dos **DataFrames** donde se inserte el contenido de cada una de las bases de datos de este ejercicio, mostrando el contenido de los **DataFrames** a través de la función `display()`."
   ]
  },
  {
   "cell_type": "code",
   "execution_count": 1,
   "id": "654108c7-f66f-4658-bb3a-20ab232d2bcb",
   "metadata": {},
   "outputs": [],
   "source": [
    "# Código del Reactivo 1\n"
   ]
  },
  {
   "cell_type": "markdown",
   "id": "2073f432-bc89-46ca-a230-a31f0de85c4a",
   "metadata": {},
   "source": [
    "**2.** Realizar la combinación de los **DataFrames** empleando el método `.merge()` con los parámetros más adecuados para que se tenga la menor cantidad de pérdida de información, y mostrar el **DataFrame** resultante a través de la función `display()`."
   ]
  },
  {
   "cell_type": "code",
   "execution_count": 2,
   "id": "ae06f78e-79df-4d23-84af-3954a6db49fd",
   "metadata": {},
   "outputs": [],
   "source": [
    "# Código del Reactivo 2\n"
   ]
  },
  {
   "cell_type": "markdown",
   "id": "594f26ac-22d3-4eda-b163-548e60d191cf",
   "metadata": {},
   "source": [
    "**3.** Realizar el llenado de los ***valores nulos*** en el **DataFrame** resultante y mostrarlo a través de la función `display()`.\n",
    "\n",
    "***Nota:*** Hay dos alternativas para ello:\n",
    "1. Usar el método `.merge_ordered()` para combinar los **DataFrames** y llenar los **valores nulos**.\n",
    "2. Después de la combinación de los **DataFrames**, emplear el método `.fillna()` para llenar los **valores nulos**."
   ]
  },
  {
   "cell_type": "code",
   "execution_count": 3,
   "id": "827b5cdc-71c6-43aa-8a76-a0bd92cd42a6",
   "metadata": {},
   "outputs": [],
   "source": [
    "# Código del Reactivo 3\n"
   ]
  },
  {
   "cell_type": "markdown",
   "id": "10cb7a47-f999-4c20-af2b-cd303de38290",
   "metadata": {},
   "source": [
    "**4.** Convertir la columna `Fecha` al formato de **Series de Tiempo** y definirla como el **Indice**, mostrando el **DataFrame** resultante a través de la función `display()`."
   ]
  },
  {
   "cell_type": "code",
   "execution_count": 4,
   "id": "e62d4305-e6d1-44d3-9323-a3b58ddb10c9",
   "metadata": {},
   "outputs": [],
   "source": [
    "# Código del Reactivo 4\n"
   ]
  },
  {
   "cell_type": "markdown",
   "id": "269de31f-6b37-4abb-8deb-5336412557d9",
   "metadata": {},
   "source": [
    "**5.** Realizar una gráfica que muestre el comportamiento de las 4 variables (temperatura, humedad, velocidad del viento y presión) con sus respectivas etiquetas."
   ]
  },
  {
   "cell_type": "code",
   "execution_count": 5,
   "id": "c7043904-96e0-4c5c-b940-db18e9f73f91",
   "metadata": {},
   "outputs": [],
   "source": [
    "# Código del Reactivo 5\n"
   ]
  },
  {
   "cell_type": "markdown",
   "id": "49ffe40b-7a34-45a7-9504-f713dcac37c3",
   "metadata": {},
   "source": [
    "<div class=\"alert alert-block alert-danger\">\n",
    "<b>.: Fin del Ejercicio 5 :.</b>\n",
    "</div>"
   ]
  }
 ],
 "metadata": {
  "kernelspec": {
   "display_name": "Python 3 (ipykernel)",
   "language": "python",
   "name": "python3"
  },
  "language_info": {
   "codemirror_mode": {
    "name": "ipython",
    "version": 3
   },
   "file_extension": ".py",
   "mimetype": "text/x-python",
   "name": "python",
   "nbconvert_exporter": "python",
   "pygments_lexer": "ipython3",
   "version": "3.8.18"
  }
 },
 "nbformat": 4,
 "nbformat_minor": 5
}
