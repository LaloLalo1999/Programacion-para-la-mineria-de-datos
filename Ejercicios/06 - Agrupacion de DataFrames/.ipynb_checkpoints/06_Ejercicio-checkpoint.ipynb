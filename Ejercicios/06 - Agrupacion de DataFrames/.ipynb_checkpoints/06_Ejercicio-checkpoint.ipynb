{
 "cells": [
  {
   "cell_type": "markdown",
   "id": "ee232266-3573-4cd2-83ea-e4a8fa032d1b",
   "metadata": {},
   "source": [
    "<div class=\"alert alert-block alert-warning\">\n",
    "<span style=\"color: rgb(0,53,91);\">\n",
    "<center><img src=\"./Imagenes/ITESO_Logo.png\" style=\"width:500px;height:142px;\" title=\"Logo ITESO\"></center>\n",
    "<font face = \"Times New Roman\" size = \"6\"><b><center>Maestría en Sistemas Computacionales</center></b></font>\n",
    "<font face = \"Times New Roman\" size = \"5\"><b><center>Programación para Análisis de Datos</center></b></font>\n",
    "<font face = \"Times New Roman\" size = \"5\"><center>Ejercicio 6: Agrupación de DataFrames de Pandas</center></font></b>\n",
    "<div align=\"right\"><font face = \"Times New Roman\" size = \"2\">Dr. Iván Esteban Villalón Turrubiates (villalon@iteso.mx)</font></div>\n",
    "</span></div>"
   ]
  },
  {
   "cell_type": "markdown",
   "id": "f2fcd322-304c-4a74-92b0-419d73a9989f",
   "metadata": {},
   "source": [
    "#### Nombre del Alumno: \n",
    "#### Matrícula:"
   ]
  },
  {
   "cell_type": "markdown",
   "id": "dfb8a23c-9127-4ffb-8e14-b9070576ed70",
   "metadata": {},
   "source": [
    "#### Instrucciones:\n",
    "Por favor, revisa cuidadosamente las siguientes instrucciones:\n",
    "\n",
    "* Realiza este ejercicio de manera individual.\n",
    "* Escribe tu nombre completo y matrícula en la celda correspondiente.\n",
    "* Lee cuidadosamente cada uno de los ejercicios y realiza las acciones solicitadas.\n",
    "* Coloca tu código ejecutable en las celdas debajo de la explicación de cada reactivo.\n",
    "* Una vez terminado, sube en CANVAS sólamente el archivo `.ipynb` en la liga correspondiente."
   ]
  },
  {
   "cell_type": "markdown",
   "id": "d8d41f99-238c-4fa0-85bc-98ed819b8e97",
   "metadata": {},
   "source": [
    "#### Explicación:\n",
    "Se cuenta con un grupo de datos que proporcionan información sobre la población de 3 municipios en el Estado de Jalisco, los cuales están en tres archivos `.CSV` donde cada uno de ellos contienen la siguiente información:\n",
    "\n",
    "1. **Numero**: Es el número del del municipio que es parte del Estado.\n",
    "2. **Municipio**: Es el nombre del municipio que es parte del Estado.\n",
    "3. **Localidad**: Es el número de la localidad que es parte del municipio.\n",
    "4. **Nombre Localidad**: Es el nombre de la localidad que es parte del municipio.\n",
    "5. **Longitud**: Es el valor de la longitud para la coordenada de ubicación.\n",
    "6. **Latitud**: Es el valor de la latitud para la coordenada de ubicación.\n",
    "7. **Altitud**: Es el valor de la altitud para la coordenada de ubicación.\n",
    "8. **Población**: Es la cantidad de población en cada localidad que es parte del municipio. \n",
    "\n",
    "Los archivos son:\n",
    "\n",
    "1. El archivo `Jalisco_Mun01.csv` corresponde al municipio de Acatic.\n",
    "2. El archivo `Jalisco_Mun02.csv` corresponde al municipio de Acatlán de Juárez.\n",
    "3. El archivo `Jalisco_Mun03.csv` corresponde al municipio de Ahualulco de Mercado.\n",
    "\n",
    "<center><img src=\"./Imagenes/INEGI_logo.png\" style=\"width:350px;height:70px;\" class=\"center\"></center>\n",
    "\n",
    "> Esta información es proporcionada por el Instituto Nacional de Estadística y Geografía (INEGI) como parte de su portal de datos abiertos, los cuales pueden ser consultados [en esta liga](https://www.inegi.org.mx/servicios/datosabiertos.html).\n",
    "\n",
    "Para este ejercicio, se deben realizar el proceso de análisis por medio de los reactivos descritos a continuación, donde cada uno tiene un valor de **5 CRÉDITOS**, los cuales se agregarán al total acumulado de cada uno de los alumnos del curso."
   ]
  },
  {
   "cell_type": "markdown",
   "id": "3a189c09-4f5a-4a86-80d7-77d8c87539ed",
   "metadata": {},
   "source": [
    "**1.** Cargar las librerías **Pandas** y **Matplotlib**. Posteriormente, crear un **DataFrame** que contenga la concatenación de los tres archivos `.CSV` por medio de la aplicación del método `.concat()`, mostrando el contenido del **DataFrame** resultante a través de la función `display()`."
   ]
  },
  {
   "cell_type": "code",
   "execution_count": 1,
   "id": "5a720ba3-186a-4b9b-8230-cecf9bbb4295",
   "metadata": {},
   "outputs": [],
   "source": [
    "# Código del Reactivo 1\n"
   ]
  },
  {
   "cell_type": "markdown",
   "id": "a6dcd758-0c4c-40fd-be24-07b60b7da2ae",
   "metadata": {},
   "source": [
    "**2.** Realizar un nuevo **DataFrame** que contenga solamente la información de las columnas `Municipio`, `Nombre Localidad` y `Población`, mostrando su contenido a través de la función `display()`."
   ]
  },
  {
   "cell_type": "code",
   "execution_count": 2,
   "id": "772d7458-fe09-4641-ac13-b911c883b0ff",
   "metadata": {},
   "outputs": [],
   "source": [
    "# Código del Reactivo 2\n"
   ]
  },
  {
   "cell_type": "markdown",
   "id": "8fdd673f-b8af-4dd3-849b-714015f50043",
   "metadata": {},
   "source": [
    "**3.** Realizar un nuevo **DataFrame** que contenga la agrupación por medio de la columna `Municipio` y muestre la suma de los valores de la población. Para ello se emplea el método `.groupby().sum()`, mostrando su contenido a través de la función `display()`."
   ]
  },
  {
   "cell_type": "code",
   "execution_count": 3,
   "id": "898b8b36-1fa0-4dbc-8d81-50cf5327a142",
   "metadata": {},
   "outputs": [],
   "source": [
    "# Código del Reactivo 3\n"
   ]
  },
  {
   "cell_type": "markdown",
   "id": "a55e9aca-89f1-40fc-aa26-1815d9479c6d",
   "metadata": {},
   "source": [
    "**4.** A partir del **DataFrame** generado, realizar una gráfica que muestre los municipios y la cantidad de población en cada uno de ellos:"
   ]
  },
  {
   "cell_type": "code",
   "execution_count": 4,
   "id": "0e39961f-b0d1-41ed-9e35-c7513cb74028",
   "metadata": {},
   "outputs": [],
   "source": [
    "# Código del Reactivo 4\n"
   ]
  },
  {
   "cell_type": "markdown",
   "id": "58a77b79-cf3d-437b-99b6-343f946c80cc",
   "metadata": {},
   "source": [
    "**5.** Realizar una ***tabla pivote*** a partir del **DataFrame** del *Reactivo 2* en base a la `Población ` y `Nombre Localidad`, la cual mostrará la lista de las localidades y sus respectivos valores de población."
   ]
  },
  {
   "cell_type": "code",
   "execution_count": 5,
   "id": "092822e7-75ba-46a0-bc1b-dff270734bbf",
   "metadata": {},
   "outputs": [],
   "source": [
    "# Código del Reactivo 5\n"
   ]
  },
  {
   "cell_type": "markdown",
   "id": "2ef81bd4-0666-4abc-a29c-098e372fbeee",
   "metadata": {},
   "source": [
    "<div class=\"alert alert-block alert-danger\">\n",
    "<b>.: Fin del Ejercicio 6 :.</b>\n",
    "</div>"
   ]
  }
 ],
 "metadata": {
  "kernelspec": {
   "display_name": "Python 3 (ipykernel)",
   "language": "python",
   "name": "python3"
  },
  "language_info": {
   "codemirror_mode": {
    "name": "ipython",
    "version": 3
   },
   "file_extension": ".py",
   "mimetype": "text/x-python",
   "name": "python",
   "nbconvert_exporter": "python",
   "pygments_lexer": "ipython3",
   "version": "3.8.18"
  }
 },
 "nbformat": 4,
 "nbformat_minor": 5
}
