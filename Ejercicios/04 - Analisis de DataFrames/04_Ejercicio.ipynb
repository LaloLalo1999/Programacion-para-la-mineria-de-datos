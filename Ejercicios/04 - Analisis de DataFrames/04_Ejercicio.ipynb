{
 "cells": [
  {
   "cell_type": "markdown",
   "id": "a2eeacb5-6e90-411e-94f8-a6c3fb2e9a32",
   "metadata": {},
   "source": [
    "<div class=\"alert alert-block alert-warning\">\n",
    "<span style=\"color: rgb(0,53,91);\">\n",
    "<center><img src=\"./Imagenes/ITESO_Logo.png\" style=\"width:500px;height:142px;\" title=\"Logo ITESO\"></center>\n",
    "<font face = \"Times New Roman\" size = \"6\"><b><center>Maestría en Sistemas Computacionales</center></b></font>\n",
    "<font face = \"Times New Roman\" size = \"5\"><b><center>Programación para Análisis de Datos</center></b></font>\n",
    "<font face = \"Times New Roman\" size = \"5\"><center>Ejercicio 4: Análisis de DataFrames de Pandas</center></font></b>\n",
    "<div align=\"right\"><font face = \"Times New Roman\" size = \"2\">Dr. Iván Esteban Villalón Turrubiates (villalon@iteso.mx)</font></div>\n",
    "</span></div>"
   ]
  },
  {
   "cell_type": "markdown",
   "id": "9df4c1f9-c613-4c36-afd1-e717d66f0658",
   "metadata": {},
   "source": [
    "#### Nombre del Alumno: \n",
    "#### Matrícula: "
   ]
  },
  {
   "cell_type": "markdown",
   "id": "9c17a70e-b3e4-4c56-8f97-cfb2dc4dc5f0",
   "metadata": {},
   "source": [
    "#### Instrucciones:\n",
    "Por favor, revisa cuidadosamente las siguientes instrucciones:\n",
    "\n",
    "* Realiza este ejercicio de manera individual.\n",
    "* Escribe tu nombre completo y matrícula en la celda correspondiente.\n",
    "* Lee cuidadosamente cada uno de los ejercicios y realiza las acciones solicitadas.\n",
    "* Coloca tu código ejecutable en las celdas debajo de la explicación de cada reactivo.\n",
    "* Una vez terminado, sube en CANVAS sólamente el archivo `.ipynb` en la liga correspondiente."
   ]
  },
  {
   "cell_type": "markdown",
   "id": "3079cd73-7a24-489f-b2a4-a48a739478bb",
   "metadata": {},
   "source": [
    "#### Explicación:\n",
    "Se cuenta con una lista de 10 bases de datos obtenidas del portal Kaggle.\n",
    "\n",
    "<center><img src=\"./Imagenes/Kaggle_logo.png\" style=\"width:240px;height:86px;\" class=\"center\"></center>\n",
    "\n",
    "1. **New York City Airbnb Open Data**, archivo `01_AirbnbNY.csv`, la descripción se encuentra [en esta liga](https://www.kaggle.com/dgomonov/new-york-city-airbnb-open-data).\n",
    "2. **Mobile App Store**, archivo `02_AppleStore.csv`, la descripción se encuentra [en esta liga](https://www.kaggle.com/ramamet4/app-store-apple-data-set-10k-apps).\n",
    "3. **E-Commerce Data**, archivo `03_ECommerce.csv`, la descripción se encuentra [en esta liga](https://www.kaggle.com/carrie1/ecommerce-data).\n",
    "4. **FIFA 20 Complete Player Dataset**, archivo `04_FIFAPlayers.csv`, la descripción se encuentra [en esta liga](https://www.kaggle.com/datasets/stefanoleone992/fifa-20-complete-player-dataset).\n",
    "5. **NBA All Star Game 2000-2016**, archivo `05_NBAAllStars.csv`, la descripción se encuentra [en esta liga](https://www.kaggle.com/fmejia21/nba-all-star-game-20002016).\n",
    "6. **Netflix Movies and TV Shows**, archivo `06_NetflixTitles.csv`, la descripción se encuentra [en esta liga](https://www.kaggle.com/shivamb/netflix-shows).\n",
    "7. **120 Years of Olympic History: Athletes and Results**, archivo `07_OlympicAthletes.csv`, la descripción se encuentra [en esta liga](https://www.kaggle.com/heesoo37/120-years-of-olympic-history-athletes-and-results).\n",
    "8. **World University Rankings 2020**, archivo `08_UniversityRank.csv`, la descripción se encuentra [en esta liga](https://www.kaggle.com/joeshamen/world-university-rankings-2020/data).\n",
    "9. **Foreign Exchange Rates 2000-2019**, archivo `09_ForeignExchange.csv`, la descripción se encuentra [en esta liga](https://www.kaggle.com/brunotly/foreign-exchange-rates-per-dollar-20002019).\n",
    "10. **Used Cars Catalog**, archivo `10_UsedCars.csv`, la descripción se encuentra [en esta liga](https://www.kaggle.com/lepchenkov/usedcarscatalog).\n",
    "\n",
    "Como primer paso se deberá seleccionar una de ellas para realizar el proceso de análisis por medio de los reactivos descritos a continuación, donde cada uno tiene un valor de **5 CRÉDITOS** los cuales se agregarán al total acumulado de cada uno de los alumnos del curso."
   ]
  },
  {
   "cell_type": "markdown",
   "id": "96742748-8ef2-49ef-be29-9750ce6bab0d",
   "metadata": {},
   "source": [
    "**1.** Cargar las librerías **Pandas**, **Numpy**, **Matplotlib** y **Seaborn**. Posteriormente, crear un **DataFrame** donde se inserte el contenido de la base de datos seleccionada para este ejercicio, mostrando el contenido del **DataFrame** final a través de la función `display()`."
   ]
  },
  {
   "cell_type": "code",
   "execution_count": null,
   "id": "8f3bb0e2-c007-4080-9c7d-a3acde47b984",
   "metadata": {},
   "outputs": [],
   "source": [
    "# Código del Reactivo 1\n"
   ]
  },
  {
   "cell_type": "markdown",
   "id": "c3731d83-f417-4747-8272-4038f1e8c407",
   "metadata": {},
   "source": [
    "**2.** Definir alguna de las columnas como el índice del **DataFrame**."
   ]
  },
  {
   "cell_type": "code",
   "execution_count": null,
   "id": "397f8b7d-c00a-4a20-90bd-bf6a2628190f",
   "metadata": {},
   "outputs": [],
   "source": [
    "# Código del Reactivo 2\n"
   ]
  },
  {
   "cell_type": "markdown",
   "id": "a6aa7603-31b1-49bf-b5c2-0dae04bb4673",
   "metadata": {},
   "source": [
    "**3.** Realizar una homogeneización en los encabezados de las columnas empleando el método `.rename()`."
   ]
  },
  {
   "cell_type": "code",
   "execution_count": null,
   "id": "3909e305-9a6f-4996-acc8-a5d2f1eea248",
   "metadata": {},
   "outputs": [],
   "source": [
    "# Código del Reactivo 3\n"
   ]
  },
  {
   "cell_type": "markdown",
   "id": "e5afadc2-7165-4f9b-b069-a907a740e67e",
   "metadata": {},
   "source": [
    "**4.** Mostrar la cantidad de celdas que contienen valores nulos en el **DataFrame**."
   ]
  },
  {
   "cell_type": "code",
   "execution_count": null,
   "id": "8b7892cb-90a8-4dcc-8cf8-4e9143e6a71b",
   "metadata": {},
   "outputs": [],
   "source": [
    "# Código del Reactivo 4\n"
   ]
  },
  {
   "cell_type": "markdown",
   "id": "c4465160-35ce-44bb-983f-6e4ffb6cceb0",
   "metadata": {},
   "source": [
    "**5.** Debido a que es necesario contar con la información completa para cada columna, es posible realizar la eliminación de los renglones que contienen valores nulos. El siguiente paso es eliminar esos renglones:"
   ]
  },
  {
   "cell_type": "code",
   "execution_count": null,
   "id": "c3f1ce9f-6aef-430a-b652-b2ffef31679f",
   "metadata": {},
   "outputs": [],
   "source": [
    "# Código del Reactivo 5\n"
   ]
  },
  {
   "cell_type": "markdown",
   "id": "4026c115-8025-41da-9d80-480d93e5df53",
   "metadata": {},
   "source": [
    "**6.** Realizar algún proceso de **Imputación** de los ***valores nulos*** restantes en el **DataFrame**:"
   ]
  },
  {
   "cell_type": "code",
   "execution_count": null,
   "id": "a88e9e73-bf9c-4aa5-b1c7-06b679da0a3e",
   "metadata": {},
   "outputs": [],
   "source": [
    "# Código del Reactivo 6\n"
   ]
  },
  {
   "cell_type": "markdown",
   "id": "e61c8d9e-73a0-4bbc-a4a1-c4528ef7957a",
   "metadata": {},
   "source": [
    "**7.** Determinar el valor de la media de alguna de las columnas e imprimir el resultado con la función `print()`:"
   ]
  },
  {
   "cell_type": "code",
   "execution_count": null,
   "id": "b4d2a291-2997-4b30-86a0-8ffbd0d54ae8",
   "metadata": {},
   "outputs": [],
   "source": [
    "# Código del Reactivo 7\n"
   ]
  },
  {
   "cell_type": "markdown",
   "id": "4fa2abc3-2d09-492a-9382-274780c698a6",
   "metadata": {},
   "source": [
    "**8.** Realizar un Histograma con los datos de alguna de las columnas contenidas en el **DataFrame**, agregando títulos a los ejes y al gráfico:"
   ]
  },
  {
   "cell_type": "code",
   "execution_count": null,
   "id": "00ffa9d4-4bb0-4427-9811-fd430180880e",
   "metadata": {},
   "outputs": [],
   "source": [
    "# Código del Reactivo 8\n"
   ]
  },
  {
   "cell_type": "markdown",
   "id": "cc6cee37-0a4c-4976-8c21-0bc7309f0ac4",
   "metadata": {},
   "source": [
    "**9.** Realizar un gráfico de Correlación del **DataFrame**:"
   ]
  },
  {
   "cell_type": "code",
   "execution_count": null,
   "id": "c8d89025-2a67-415e-94b2-799a4c6f4582",
   "metadata": {},
   "outputs": [],
   "source": [
    "# Código del Reactivo 9\n"
   ]
  },
  {
   "cell_type": "markdown",
   "id": "6d8cc1b7-dda9-4941-93ac-bab8b569d450",
   "metadata": {},
   "source": [
    "**10.** Realizar alguna operación de filtrado sobre el **DataFrame**:"
   ]
  },
  {
   "cell_type": "code",
   "execution_count": null,
   "id": "dd0e7f21-6745-4a10-8ca0-76dc86b0f682",
   "metadata": {},
   "outputs": [],
   "source": [
    "# Código del Reactivo 10\n"
   ]
  },
  {
   "cell_type": "markdown",
   "id": "c83dcb3d-c4e2-4c4f-872b-7b2d901dc6fb",
   "metadata": {},
   "source": [
    "<div class=\"alert alert-block alert-danger\">\n",
    "<b>.: Fin del Ejercicio 4 :.</b>\n",
    "</div>"
   ]
  }
 ],
 "metadata": {
  "kernelspec": {
   "display_name": "Python 3 (ipykernel)",
   "language": "python",
   "name": "python3"
  },
  "language_info": {
   "codemirror_mode": {
    "name": "ipython",
    "version": 3
   },
   "file_extension": ".py",
   "mimetype": "text/x-python",
   "name": "python",
   "nbconvert_exporter": "python",
   "pygments_lexer": "ipython3",
   "version": "3.8.18"
  }
 },
 "nbformat": 4,
 "nbformat_minor": 5
}
