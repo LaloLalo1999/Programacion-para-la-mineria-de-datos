{
 "cells": [
  {
   "cell_type": "markdown",
   "id": "6d3eb06c-e3af-4b69-96f9-b1de8aa70bb6",
   "metadata": {},
   "source": [
    "<div class=\"alert alert-block alert-warning\">\n",
    "<span style=\"color: rgb(0,53,91);\">\n",
    "<center><img src=\"./Imagenes/ITESO_Logo.png\" style=\"width:500px;height:142px;\" title=\"Logo ITESO\"></center>\n",
    "<font face = \"Times New Roman\" size = \"6\"><b><center>Maestría en Sistemas Computacionales</center></b></font>\n",
    "<font face = \"Times New Roman\" size = \"5\"><b><center>Programación para Análisis de Datos</center></b></font>\n",
    "<font face = \"Times New Roman\" size = \"5\"><center>Ejercicio 2: Ruido en Imágenes</center></font></b>\n",
    "<div align=\"right\"><font face = \"Times New Roman\" size = \"2\">Dr. Iván Esteban Villalón Turrubiates (villalon@iteso.mx)</font></div>\n",
    "</span></div>"
   ]
  },
  {
   "cell_type": "markdown",
   "id": "63ff0877-d263-40da-a7c2-35e22cedb38f",
   "metadata": {},
   "source": [
    "#### Nombre del Alumno: \n",
    "#### Matrícula: "
   ]
  },
  {
   "cell_type": "markdown",
   "id": "f9d01b22-fdfd-439f-bbfa-722e29ef04ff",
   "metadata": {},
   "source": [
    "#### Instrucciones:\n",
    "Por favor, revisa cuidadosamente las siguientes instrucciones:\n",
    "\n",
    "* Realiza este ejercicio de manera individual.\n",
    "* Escribe tu nombre completo y matrícula en la celda correspondiente.\n",
    "* Lee cuidadosamente cada uno de los ejercicios y realiza las acciones solicitadas.\n",
    "* Coloca tu código ejecutable en las celdas debajo de la explicación de cada reactivo.\n",
    "* Una vez terminado, sube en CANVAS sólamente el archivo `.ipynb` en la liga correspondiente."
   ]
  },
  {
   "cell_type": "markdown",
   "id": "546c59a4-ef7d-4204-8b90-317b0ea8d9ea",
   "metadata": {},
   "source": [
    "#### Explicación:\n",
    "Se realizará la agregación de **Ruido Blanco Gaussiano** a una imagen **RGB**.\n",
    "\n",
    "<center><img src=\"./Imagenes/ConvRuido.png\" style=\"width:730px;height:148px;\" class=\"center\"></center>\n",
    "\n",
    "Para ello, se debe realizar el proceso de análisis por medio de los reactivos descritos a continuación, donde cada uno tiene un valor de **5 CRÉDITOS**, los cuales se agregarán al total acumulado de cada uno de los alumnos del curso."
   ]
  },
  {
   "cell_type": "markdown",
   "id": "361e404f-9ddd-481c-a0b1-2c9a376d6bf3",
   "metadata": {},
   "source": [
    "**1.** Cargar las librerías **Scikit-Image**, **NumPy** y **Matplotlib** que serán empleadas. Posteriormente, cargar una imagen desde un archivo y mostrarla, la cual puede tener dimensiones distintas a *512x512* pixeles:"
   ]
  },
  {
   "cell_type": "code",
   "execution_count": 1,
   "id": "9eb309b0-ff5a-427c-8d03-75f3f0925101",
   "metadata": {},
   "outputs": [],
   "source": [
    "# Código del Reactivo 1\n"
   ]
  },
  {
   "cell_type": "markdown",
   "id": "15888bd0-7ba2-4e1c-b22f-44eeebc7a1e5",
   "metadata": {},
   "source": [
    "**2.** Definir la **Función para Agregación de Ruido** que será empleada:"
   ]
  },
  {
   "cell_type": "code",
   "execution_count": 2,
   "id": "e4a9e826-b7ef-4391-b314-852aa017ee6f",
   "metadata": {},
   "outputs": [],
   "source": [
    "# Código del Reactivo 2\n"
   ]
  },
  {
   "cell_type": "markdown",
   "id": "e6c79de0-d42c-4fd7-99bf-9f3de5281327",
   "metadata": {},
   "source": [
    "**3.** Definir la función de **Normalización** que será empleada, considerando que se deben realizar las operaciones de normalización, escalamiento a 256 valores, y conversión a valores enteros:"
   ]
  },
  {
   "cell_type": "code",
   "execution_count": 3,
   "id": "24714839-99e7-4b42-8176-37a3247fdfec",
   "metadata": {},
   "outputs": [],
   "source": [
    "# Código del Reactivo 3\n"
   ]
  },
  {
   "cell_type": "markdown",
   "id": "628eb3d5-6feb-48da-834c-5e6bc78dd55e",
   "metadata": {},
   "source": [
    "**4.** Definir el valor de media y desviación estándar del **Ruido Blanco Gaussiano** que se va a agregar a la imagen, y posteriormente aplicar la **Función para Agregación de Ruido** así como la función de **Normalización** a la imagen del *reactivo 1*, mostrando el resultado y guardando una copia en formato ***JPG***:"
   ]
  },
  {
   "cell_type": "code",
   "execution_count": 4,
   "id": "9beb0568-5259-4bb7-b8a1-007edfb4f610",
   "metadata": {},
   "outputs": [],
   "source": [
    "# Código del Reactivo 4\n"
   ]
  },
  {
   "cell_type": "markdown",
   "id": "e18fb4c1-7b1e-46da-985e-84951add100e",
   "metadata": {},
   "source": [
    "**5.** El ***Filtro Sharpen*** está definido por la siguiente matriz de 3x3:\n",
    "\n",
    "\\begin{Bmatrix}\n",
    "0 & -3 & 0\\\\\n",
    "-3 & 21 & -3\\\\\n",
    "0 & -3 & 0\n",
    "\\end{Bmatrix}\n",
    "\n",
    "Este filtro suele ser utilizado como un reductor de ruido en imágenes. Se aplicará este filtro a la imagen con **Ruido Blanco Gaussiano**, para ello se debe definir la **Función para la Convolución** así como la **Matriz de Convolución** que se aplicará como filtro. A partir de ello se puede aplicar la operación de **Convolución** con el ***Filtro Sharpen*** así como su **Normalización**, mostrando los resultados por medio de la imagen con **Ruido Blanco Gaussiano** junto a la imagen filtrada:"
   ]
  },
  {
   "cell_type": "code",
   "execution_count": 5,
   "id": "3c6b6845-85bc-41d3-a956-86d07df033c0",
   "metadata": {},
   "outputs": [],
   "source": [
    "# Código del Reactivo 5\n"
   ]
  },
  {
   "cell_type": "markdown",
   "id": "81eba091-962b-4f04-9eb3-ef496c23a4b7",
   "metadata": {},
   "source": [
    "<div class=\"alert alert-block alert-danger\">\n",
    "<b>.: Fin del Ejercicio 2 :.</b>\n",
    "</div>"
   ]
  }
 ],
 "metadata": {
  "kernelspec": {
   "display_name": "Python 3 (ipykernel)",
   "language": "python",
   "name": "python3"
  },
  "language_info": {
   "codemirror_mode": {
    "name": "ipython",
    "version": 3
   },
   "file_extension": ".py",
   "mimetype": "text/x-python",
   "name": "python",
   "nbconvert_exporter": "python",
   "pygments_lexer": "ipython3",
   "version": "3.8.18"
  }
 },
 "nbformat": 4,
 "nbformat_minor": 5
}
