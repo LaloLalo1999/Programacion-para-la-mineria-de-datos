{
 "cells": [
  {
   "cell_type": "markdown",
   "id": "3d3adaf4-383b-430b-9a1d-1100fbb3622f",
   "metadata": {},
   "source": [
    "<div class=\"alert alert-block alert-warning\">\n",
    "<span style=\"color: rgb(0,53,91);\">\n",
    "<center><img src=\"./Imagenes/ITESO_Logo.png\" style=\"width:500px;height:142px;\" title=\"Logo ITESO\"></center>\n",
    "<font face = \"Times New Roman\" size = \"6\"><b><center>Maestría en Sistemas Computacionales</center></b></font>\n",
    "<font face = \"Times New Roman\" size = \"5\"><b><center>Programación para Análisis de Datos</center></b></font>\n",
    "<font face = \"Times New Roman\" size = \"5\"><center>Ejercicio 7: Procesamiento de Lenguaje Natural</center></font></b>\n",
    "<div align=\"right\"><font face = \"Times New Roman\" size = \"2\">Dr. Iván Esteban Villalón Turrubiates (villalon@iteso.mx)</font></div>\n",
    "</span></div>"
   ]
  },
  {
   "cell_type": "markdown",
   "id": "1b05dc8c-ce3e-4460-bedc-d57ec9ba4523",
   "metadata": {},
   "source": [
    "#### Nombre del Alumno: \n",
    "#### Matrícula:"
   ]
  },
  {
   "cell_type": "markdown",
   "id": "5b9af86a-c803-4a9d-b305-13ded0dbc116",
   "metadata": {},
   "source": [
    "#### Instrucciones:\n",
    "Por favor, revisa cuidadosamente las siguientes instrucciones:\n",
    "\n",
    "* Realiza este ejercicio de manera individual.\n",
    "* Escribe tu nombre completo y matrícula en la celda correspondiente.\n",
    "* Lee cuidadosamente cada uno de los ejercicios y realiza las acciones solicitadas.\n",
    "* Coloca tu código ejecutable en las celdas debajo de la explicación de cada reactivo.\n",
    "* Una vez terminado, sube en CANVAS sólamente el archivo `.ipynb` en la liga correspondiente."
   ]
  },
  {
   "cell_type": "markdown",
   "id": "24410d3f-4ba8-4dd8-ae11-49603e7d014e",
   "metadata": {},
   "source": [
    "#### Explicación:\n",
    "Se empleará el **Corpus** `Gutenberg`, del cual se leerán los datos del libro **The Tragedie of Julius Caesar** de ***William Shakespeare*** cuyo archivo es `shakespeare-caesar.txt`. \n",
    "\n",
    "Para este ejercicio, se deben realizar el proceso de análisis por medio de los reactivos descritos a continuación, donde cada uno tiene un valor de **5 CRÉDITOS**, los cuales se agregarán al total acumulado de cada uno de los alumnos del curso."
   ]
  },
  {
   "cell_type": "markdown",
   "id": "d08271a1-bf6c-4dad-b220-b1ab549d82df",
   "metadata": {},
   "source": [
    "**1.** Las acciones a realizar en este reactivo para leer los datos del libro **The Tragedie of Julius Caesar** de ***William Shakespeare*** son:\n",
    "\n",
    "* Importar la librería **NLTK**. \n",
    "* Descargar el **Corpus** `Gutenberg`.\n",
    "* Leer el texto del libro por medio del método `.corpus.gutenberg.words()`. "
   ]
  },
  {
   "cell_type": "code",
   "execution_count": 1,
   "id": "2293d4ab-b78e-433e-a9b7-80d05844bc7a",
   "metadata": {},
   "outputs": [
    {
     "name": "stdout",
     "output_type": "stream",
     "text": [
      "El contenido del libro es:\n",
      " ['[', 'The', 'Tragedie', 'of', 'Julius', 'Caesar', ...]\n"
     ]
    },
    {
     "name": "stderr",
     "output_type": "stream",
     "text": [
      "[nltk_data] Downloading package gutenberg to\n",
      "[nltk_data]     /Users/Villalon/nltk_data...\n",
      "[nltk_data]   Package gutenberg is already up-to-date!\n"
     ]
    }
   ],
   "source": [
    "# Código del Reactivo 1\n",
    "\n",
    "#Importación de la librería NLTK\n",
    "import nltk\n",
    "\n",
    "#Descarga del Corpus Gutenberg\n",
    "nltk.download('gutenberg')\n",
    "\n",
    "#Lectura de un texto\n",
    "caesar = nltk.corpus.gutenberg.words(\"shakespeare-caesar.txt\")\n",
    "\n",
    "#Impresión de los Resultados\n",
    "print(\"El contenido del libro es:\\n\", caesar)"
   ]
  },
  {
   "cell_type": "markdown",
   "id": "98bb46ef-707c-44f7-bd24-b4038db51b0f",
   "metadata": {},
   "source": [
    "**2.** Determinar la **Distribución de Frecuencia** presente en este libro empleando el método `.FreqDist()` y mostrar la lista resultante."
   ]
  },
  {
   "cell_type": "code",
   "execution_count": 2,
   "id": "2188cf9a-2840-4368-85ae-c14a2a158aa0",
   "metadata": {},
   "outputs": [
    {
     "name": "stdout",
     "output_type": "stream",
     "text": [
      "La Distribución de Frecuencia es:\n"
     ]
    },
    {
     "data": {
      "text/plain": [
       "FreqDist({',': 2204, '.': 1296, 'I': 531, 'the': 502, ':': 499, 'and': 409, \"'\": 384, 'to': 370, 'you': 342, 'of': 336, ...})"
      ]
     },
     "metadata": {},
     "output_type": "display_data"
    }
   ],
   "source": [
    "# Código del Reactivo 2\n",
    "\n",
    "#Creación del Diccionario con la distribución de frecuencias\n",
    "caesar_fd = nltk.FreqDist(caesar)\n",
    "\n",
    "#Impresión de los Resultados\n",
    "print(\"La Distribución de Frecuencia es:\")\n",
    "display(caesar_fd)"
   ]
  },
  {
   "cell_type": "markdown",
   "id": "eb722bec-98a5-4a97-9607-5d83869edf60",
   "metadata": {},
   "source": [
    "**3.** Determinar las siguientes cantidades: \n",
    "\n",
    "* La cantidad de elementos totales contenidos en el documento empleando el método `.len()`.\n",
    "* La cantidad de los elementos únicos contenidos en el documento empleando el método `.set()`."
   ]
  },
  {
   "cell_type": "code",
   "execution_count": 3,
   "id": "d09012f3-9d44-408f-b539-a3153bd07f3f",
   "metadata": {},
   "outputs": [
    {
     "name": "stdout",
     "output_type": "stream",
     "text": [
      "La cantidad de elementos en el documento es: 25833 elementos\n",
      "La cantidad de elementos únicos en el documento es: 3560 elementos\n"
     ]
    }
   ],
   "source": [
    "# Código del Reactivo 3\n",
    "\n",
    "#Impresión de los Resultados\n",
    "print(\"La cantidad de elementos en el documento es:\", len(caesar), \"elementos\")\n",
    "print(\"La cantidad de elementos únicos en el documento es:\", len(set(caesar)), \"elementos\")"
   ]
  },
  {
   "cell_type": "markdown",
   "id": "57e645a9-4c69-4518-a86b-240fc2d21bd7",
   "metadata": {},
   "source": [
    "**4.** Realizar la búsqueda de los 20 elementos más empleados en el libro empleando el método `.most_common()` y mostrarlos."
   ]
  },
  {
   "cell_type": "code",
   "execution_count": 4,
   "id": "dd502516-30c4-4be5-8516-99813ed91933",
   "metadata": {},
   "outputs": [
    {
     "name": "stdout",
     "output_type": "stream",
     "text": [
      "Los 20 elementos más empleados son:\n"
     ]
    },
    {
     "data": {
      "text/plain": [
       "[(',', 2204),\n",
       " ('.', 1296),\n",
       " ('I', 531),\n",
       " ('the', 502),\n",
       " (':', 499),\n",
       " ('and', 409),\n",
       " (\"'\", 384),\n",
       " ('to', 370),\n",
       " ('you', 342),\n",
       " ('of', 336),\n",
       " ('?', 296),\n",
       " ('not', 249),\n",
       " ('a', 240),\n",
       " ('is', 230),\n",
       " ('And', 218),\n",
       " ('d', 215),\n",
       " ('in', 204),\n",
       " ('that', 200),\n",
       " ('Caesar', 189),\n",
       " ('my', 188)]"
      ]
     },
     "metadata": {},
     "output_type": "display_data"
    }
   ],
   "source": [
    "# Código del Reactivo 4\n",
    "\n",
    "#Búsqueda de los 20 elementos más empleados\n",
    "caesar_fd_20 = caesar_fd.most_common(20)\n",
    "\n",
    "#Impresión de los Resultados\n",
    "print(\"Los 20 elementos más empleados son:\")\n",
    "display(caesar_fd_20)"
   ]
  },
  {
   "cell_type": "markdown",
   "id": "a3bd7210-f040-4aa6-bc21-bac8032130c4",
   "metadata": {},
   "source": [
    "**5.** A partir del texto, realizar una búsqueda de las palabras que tengan 6 caracteres de extensión y los caracteres \"***ea***\" en su parte media, empleando el método `.search()` de la librería `re` (la cual debe ser importada). "
   ]
  },
  {
   "cell_type": "code",
   "execution_count": 5,
   "id": "c4e8004d-2c8e-43ff-804c-15f599c6491c",
   "metadata": {},
   "outputs": [
    {
     "data": {
      "text/plain": [
       "{'Breake',\n",
       " 'Breast',\n",
       " 'Cleane',\n",
       " 'Dreame',\n",
       " 'Sheath',\n",
       " 'Speake',\n",
       " 'Sweare',\n",
       " 'breake',\n",
       " 'breath',\n",
       " 'dreame',\n",
       " 'dreamt',\n",
       " 'please',\n",
       " 'speake',\n",
       " 'steale',\n",
       " 'sweare',\n",
       " 'wreath'}"
      ]
     },
     "execution_count": 5,
     "metadata": {},
     "output_type": "execute_result"
    }
   ],
   "source": [
    "# Código del Reactivo 5\n",
    "\n",
    "#Importación de la librería Regular Expressions\n",
    "import re\n",
    "\n",
    "#Identificación de las palabras con características específicas\n",
    "set([palabra for palabra in caesar if re.search(\"^..ea..$\", palabra)])"
   ]
  },
  {
   "cell_type": "markdown",
   "id": "b7128172-93c2-479f-9a56-9804abe92f19",
   "metadata": {},
   "source": [
    "<div class=\"alert alert-block alert-danger\">\n",
    "<b>.: Fin del Ejercicio 7 :.</b>\n",
    "</div>"
   ]
  }
 ],
 "metadata": {
  "kernelspec": {
   "display_name": "Python 3 (ipykernel)",
   "language": "python",
   "name": "python3"
  },
  "language_info": {
   "codemirror_mode": {
    "name": "ipython",
    "version": 3
   },
   "file_extension": ".py",
   "mimetype": "text/x-python",
   "name": "python",
   "nbconvert_exporter": "python",
   "pygments_lexer": "ipython3",
   "version": "3.8.19"
  }
 },
 "nbformat": 4,
 "nbformat_minor": 5
}
