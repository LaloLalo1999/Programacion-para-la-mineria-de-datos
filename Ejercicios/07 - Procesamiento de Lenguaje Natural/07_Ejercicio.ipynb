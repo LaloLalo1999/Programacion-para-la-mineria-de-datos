{
 "cells": [
  {
   "cell_type": "markdown",
   "id": "3d3adaf4-383b-430b-9a1d-1100fbb3622f",
   "metadata": {},
   "source": [
    "<div class=\"alert alert-block alert-warning\">\n",
    "<span style=\"color: rgb(0,53,91);\">\n",
    "<center><img src=\"./Imagenes/ITESO_Logo.png\" style=\"width:500px;height:142px;\" title=\"Logo ITESO\"></center>\n",
    "<font face = \"Times New Roman\" size = \"6\"><b><center>Maestría en Sistemas Computacionales</center></b></font>\n",
    "<font face = \"Times New Roman\" size = \"5\"><b><center>Programación para Análisis de Datos</center></b></font>\n",
    "<font face = \"Times New Roman\" size = \"5\"><center>Ejercicio 7: Procesamiento de Lenguaje Natural</center></font></b>\n",
    "<div align=\"right\"><font face = \"Times New Roman\" size = \"2\">Dr. Iván Esteban Villalón Turrubiates (villalon@iteso.mx)</font></div>\n",
    "</span></div>"
   ]
  },
  {
   "cell_type": "markdown",
   "id": "1b05dc8c-ce3e-4460-bedc-d57ec9ba4523",
   "metadata": {},
   "source": [
    "#### Nombre del Alumno: \n",
    "#### Matrícula:"
   ]
  },
  {
   "cell_type": "markdown",
   "id": "5b9af86a-c803-4a9d-b305-13ded0dbc116",
   "metadata": {},
   "source": [
    "#### Instrucciones:\n",
    "Por favor, revisa cuidadosamente las siguientes instrucciones:\n",
    "\n",
    "* Realiza este ejercicio de manera individual.\n",
    "* Escribe tu nombre completo y matrícula en la celda correspondiente.\n",
    "* Lee cuidadosamente cada uno de los ejercicios y realiza las acciones solicitadas.\n",
    "* Coloca tu código ejecutable en las celdas debajo de la explicación de cada reactivo.\n",
    "* Una vez terminado, sube en CANVAS sólamente el archivo `.ipynb` en la liga correspondiente."
   ]
  },
  {
   "cell_type": "markdown",
   "id": "24410d3f-4ba8-4dd8-ae11-49603e7d014e",
   "metadata": {},
   "source": [
    "#### Explicación:\n",
    "Se empleará el **Corpus** `Gutenberg`, del cual se leerán los datos del libro **The Tragedie of Julius Caesar** de ***William Shakespeare*** cuyo archivo es `shakespeare-caesar.txt`. \n",
    "\n",
    "Para este ejercicio, se deben realizar el proceso de análisis por medio de los reactivos descritos a continuación, donde cada uno tiene un valor de **5 CRÉDITOS**, los cuales se agregarán al total acumulado de cada uno de los alumnos del curso."
   ]
  },
  {
   "cell_type": "markdown",
   "id": "d08271a1-bf6c-4dad-b220-b1ab549d82df",
   "metadata": {},
   "source": [
    "**1.** Las acciones a realizar en este reactivo para leer los datos del libro **The Tragedie of Julius Caesar** de ***William Shakespeare*** son:\n",
    "\n",
    "* Importar la librería **NLTK**. \n",
    "* Descargar el **Corpus** `Gutenberg`.\n",
    "* Leer el texto del libro por medio del método `.corpus.gutenberg.words()`. "
   ]
  },
  {
   "cell_type": "code",
   "execution_count": null,
   "id": "2293d4ab-b78e-433e-a9b7-80d05844bc7a",
   "metadata": {},
   "outputs": [],
   "source": [
    "# Código del Reactivo 1\n"
   ]
  },
  {
   "cell_type": "markdown",
   "id": "98bb46ef-707c-44f7-bd24-b4038db51b0f",
   "metadata": {},
   "source": [
    "**2.** Determinar la **Distribución de Frecuencia** presente en este libro empleando el método `.FreqDist()` y mostrar la lista resultante."
   ]
  },
  {
   "cell_type": "code",
   "execution_count": null,
   "id": "2188cf9a-2840-4368-85ae-c14a2a158aa0",
   "metadata": {},
   "outputs": [],
   "source": [
    "# Código del Reactivo 2\n"
   ]
  },
  {
   "cell_type": "markdown",
   "id": "eb722bec-98a5-4a97-9607-5d83869edf60",
   "metadata": {},
   "source": [
    "**3.** Determinar las siguientes cantidades: \n",
    "\n",
    "* La cantidad de elementos totales contenidos en el documento empleando el método `.len()`.\n",
    "* La cantidad de los elementos únicos contenidos en el documento empleando el método `.set()`."
   ]
  },
  {
   "cell_type": "code",
   "execution_count": null,
   "id": "d09012f3-9d44-408f-b539-a3153bd07f3f",
   "metadata": {},
   "outputs": [],
   "source": [
    "# Código del Reactivo 3\n"
   ]
  },
  {
   "cell_type": "markdown",
   "id": "57e645a9-4c69-4518-a86b-240fc2d21bd7",
   "metadata": {},
   "source": [
    "**4.** Realizar la búsqueda de los 20 elementos más empleados en el libro empleando el método `.most_common()` y mostrarlos."
   ]
  },
  {
   "cell_type": "code",
   "execution_count": null,
   "id": "dd502516-30c4-4be5-8516-99813ed91933",
   "metadata": {},
   "outputs": [],
   "source": [
    "# Código del Reactivo 4\n"
   ]
  },
  {
   "cell_type": "markdown",
   "id": "a3bd7210-f040-4aa6-bc21-bac8032130c4",
   "metadata": {},
   "source": [
    "**5.** A partir del texto, realizar una búsqueda de las palabras que tengan 6 caracteres de extensión y los caracteres \"***ea***\" en su parte media, empleando el método `.search()` de la librería `re` (la cual debe ser importada). "
   ]
  },
  {
   "cell_type": "code",
   "execution_count": null,
   "id": "c4e8004d-2c8e-43ff-804c-15f599c6491c",
   "metadata": {},
   "outputs": [],
   "source": [
    "# Código del Reactivo 5\n"
   ]
  },
  {
   "cell_type": "markdown",
   "id": "b7128172-93c2-479f-9a56-9804abe92f19",
   "metadata": {},
   "source": [
    "<div class=\"alert alert-block alert-danger\">\n",
    "<b>.: Fin del Ejercicio 7 :.</b>\n",
    "</div>"
   ]
  }
 ],
 "metadata": {
  "kernelspec": {
   "display_name": "Python 3 (ipykernel)",
   "language": "python",
   "name": "python3"
  },
  "language_info": {
   "codemirror_mode": {
    "name": "ipython",
    "version": 3
   },
   "file_extension": ".py",
   "mimetype": "text/x-python",
   "name": "python",
   "nbconvert_exporter": "python",
   "pygments_lexer": "ipython3",
   "version": "3.8.19"
  }
 },
 "nbformat": 4,
 "nbformat_minor": 5
}
