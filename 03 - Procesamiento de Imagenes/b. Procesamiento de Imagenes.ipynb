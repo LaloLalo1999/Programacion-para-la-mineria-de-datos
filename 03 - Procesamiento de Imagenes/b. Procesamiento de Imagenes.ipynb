{
 "cells": [
  {
   "cell_type": "markdown",
   "metadata": {},
   "source": [
    "<div class=\"alert alert-block alert-info\">\n",
    "<span style=\"color: rgb(0,53,91);\">\n",
    "<center><img src=\"./Imagenes/ITESO_Logo.png\" style=\"width:500px;height:142px;\" title=\"Logo ITESO\"></center>\n",
    "<font face = \"Times New Roman\" size = \"6\"><b><center>Maestría en Sistemas Computacionales</center></b></font>\n",
    "<font face = \"Times New Roman\" size = \"5\"><b><center>Programación para Análisis de Datos</center></b></font>\n",
    "\n",
    "<b><br><font face = \"Times New Roman\" size = \"4\"><center>Unidad 2: Conceptos Generales</center></font>\n",
    "<font face = \"Times New Roman\" size = \"4\"><center>Tema 2.6: Conceptos del Procesamiento de Imágenes</center></font>\n",
    "<font face = \"Times New Roman\" size = \"4\"><center>Subtema b: Procesamiento de Imágenes</center></font></b>\n",
    "<div align=\"right\"><font face = \"Times New Roman\" size = \"2\">Dr. Iván Esteban Villalón Turrubiates (villalon@iteso.mx)</font></div>\n",
    "</span></div>"
   ]
  },
  {
   "cell_type": "markdown",
   "metadata": {
    "colab_type": "text",
    "id": "2TcCJuat3fWI"
   },
   "source": [
    "## PROCESAMIENTO DE IMÁGENES\n",
    "\n",
    "En este subtema se describen algunos principios básicos del **Procesamiento de Imágenes** empleando **OpenCV**.\n",
    "\n",
    "Para ello, se realizará la carga de la imagen con los siguientes pasos:\n",
    "\n",
    "1. Se cargan las librerías `OpenCV`, `NumPy` y `Matplotlib`.\n",
    "2. Se lee el archivo `Lily.jpg` por medio del método `.imread()`.\n",
    "3. Se convierte del modo `BGR` a `RGB` por medio del método `.cvtColor()`.\n",
    "4. Se muestra la imagen para su verificación."
   ]
  },
  {
   "cell_type": "code",
   "execution_count": null,
   "metadata": {
    "colab": {},
    "colab_type": "code",
    "id": "sWiMMUll3fWL"
   },
   "outputs": [],
   "source": [
    "#Importación de Librerías\n",
    "import cv2 \n",
    "import numpy as np \n",
    "import matplotlib.pyplot as plt\n",
    "\n",
    "#Lectura de la Imagen desde un archivo JPG\n",
    "Imagen = cv2.imread(\"./Imagenes/Lily.jpg\")    \n",
    "\n",
    "#Modificación del Espacio de Color\n",
    "Lily = cv2.cvtColor(Imagen, cv2.COLOR_BGR2RGB)\n",
    "\n",
    "#Impresión de la Imagen\n",
    "plt.imshow(Lily)\n",
    "plt.axis('off')\n",
    "plt.title(\"Lily\")\n",
    "plt.show()"
   ]
  },
  {
   "cell_type": "markdown",
   "metadata": {
    "colab_type": "text",
    "id": "b8PY3kZ63fWO"
   },
   "source": [
    "### Manipulaciones Básicas\n",
    "Algunas de las manipulaciones básicas de imágenes empleando **OpenCV** se describen a continuación.\n",
    "\n",
    "#### Reflejo:\n",
    "La operación de **Reflejo** (*flip*) se lleva a cabo empleando el método `.flip(a,b)`, donde los argumentos son definidos por:\n",
    "\n",
    "* El argumento `a`: Indica el nombre de la variable que contiene a la imagen.\n",
    "* El argumento `b`: Puede ser `0` para giro vertical, o `1` para giro horizontal.\n",
    "\n",
    "Esto es:"
   ]
  },
  {
   "cell_type": "code",
   "execution_count": null,
   "metadata": {
    "colab": {},
    "colab_type": "code",
    "id": "4LHzdNvt3fWP"
   },
   "outputs": [],
   "source": [
    "#Operaciones de Giro\n",
    "Lily_flip0 = cv2.flip(Lily,0)\n",
    "Lily_flip1 = cv2.flip(Lily,1)\n",
    "\n",
    "#Impresión de las Imágenes \n",
    "plt.subplot(1,3,1), plt.imshow(Lily), plt.axis('off'), plt.title(\"Original\")\n",
    "plt.subplot(1,3,2), plt.imshow(Lily_flip0), plt.axis('off'), plt.title(\"Reflejo Vertical\")\n",
    "plt.subplot(1,3,3), plt.imshow(Lily_flip1), plt.axis('off'), plt.title(\"Reflejo Horizontal\")\n",
    "#plt.imsave('./Guardados/Lily_GV.jpg', Lily_flip0)\n",
    "#plt.imsave('./Guardados/Lily_GH.jpg', Lily_flip1)\n",
    "plt.show()"
   ]
  },
  {
   "cell_type": "markdown",
   "metadata": {},
   "source": [
    "#### Transpuesta:\n",
    "La operación de imagen **Transpuesta** (*transpose*) se realiza por medio del método `.transpose()` de la manera descrita a continuación. \n",
    "\n",
    "***Nota:*** Es importante notar que la operación de imagen **Transpuesta** convierte cada renglón en columnas, es por ello que se hace una rotación de 90 grados contra las manecillas del reloj, pero a la vez se hace una operación de **Reflejo**."
   ]
  },
  {
   "cell_type": "code",
   "execution_count": null,
   "metadata": {
    "colab": {},
    "colab_type": "code",
    "id": "7zapvC1p3fWU"
   },
   "outputs": [],
   "source": [
    "#Operacion de Transpuesta\n",
    "Lily_trans = cv2.transpose(Lily)\n",
    "\n",
    "#Impresión de la Imagen\n",
    "plt.subplot(1,2,1), plt.imshow(Lily), plt.axis('off'), plt.title(\"Original\")\n",
    "plt.subplot(1,2,2), plt.imshow(Lily_trans), plt.axis('off'), plt.title(\"Transpuesta\")\n",
    "#plt.imsave('./Guardados/Lily_TR.jpg', Lily_trans)\n",
    "plt.show()"
   ]
  },
  {
   "cell_type": "markdown",
   "metadata": {},
   "source": [
    "#### Rotación:\n",
    "Una manera de realizar la operación de **Rotación** de una imagen, incluso especificando la cantidad de grados a rotar (en sentido contrario de las manecillas del reloj), es por medio del uso de una función de nombre `RotarImagen(imagen, angulo, p_base)`, cuyos argumentos son:\n",
    "\n",
    "* El argumento `imagen`: Indica el nombre de la variable que contiene a la imagen.\n",
    "* El argumento `angulo`: Indica el valor del ángulo a rotar.\n",
    "* El argumento `p_base`: Indica el punto base a partir del cual se hará la rotación.\n",
    "\n",
    "Por lo tanto, se definirá una **Función** llamada `RotarImagen(imagen, angulo, p_base)` la cual realiza las siguientes operaciones:\n",
    "\n",
    "1. Determina una matriz de rotación mapeando por medio del método `.getRotationMatrix2D()`.\n",
    "2. Mapea la matriz de rotación con la imagen de entrada usando el método `.warpAffine()`.\n",
    "\n",
    "Debido a que se hará la rotación en base al centro de la imagen, se define una **Tupla** la cual será un arreglo de **NumPy** que contiene dos elementos: \n",
    "* El punto medio del renglón.\n",
    "* El punto medio de la columna.\n",
    "\n",
    "Es necesario que sea una **Tupla** ya que el método `.getRotationMatrix2D()` lo requiere de esa manera (es decir, no puede ser una **Lista**).\n",
    "\n",
    "Esto es:"
   ]
  },
  {
   "cell_type": "code",
   "execution_count": null,
   "metadata": {},
   "outputs": [],
   "source": [
    "#Función para la Rotación\n",
    "def RotarImagen(imagen, angulo, p_base):\n",
    "    mat_rot = cv2.getRotationMatrix2D(p_base,angulo,1.0)\n",
    "    return cv2.warpAffine(imagen, mat_rot, imagen.shape[0:2], flags = cv2.INTER_LINEAR)"
   ]
  },
  {
   "cell_type": "markdown",
   "metadata": {},
   "source": [
    "De esa manera se puede definir la **Tupla** para el valor central de la imagen, y posteriormnte se llama a la función `RotarImagen()` con distintos ángulos de rotación, esto es:"
   ]
  },
  {
   "cell_type": "code",
   "execution_count": null,
   "metadata": {},
   "outputs": [],
   "source": [
    "#Definición de Tupla con el Centro de la Imagen como Punto Base\n",
    "centro = tuple(np.array(Lily.shape[0:2])/2)\n",
    "\n",
    "#Operacion de Rotación\n",
    "Lily_r90  = RotarImagen(Lily, 90,  centro)\n",
    "Lily_r130 = RotarImagen(Lily, 130, centro)\n",
    "Lily_r350 = RotarImagen(Lily, 350, centro)\n",
    "Lily_rn45 = RotarImagen(Lily, -45, centro)\n",
    "\n",
    "#Impresión de las Imágenes \n",
    "plt.subplot(2,2,1), plt.imshow(Lily_r90),  plt.axis('off'), plt.title(\"Rotación 90º\")\n",
    "plt.subplot(2,2,2), plt.imshow(Lily_r130), plt.axis('off'), plt.title(\"Rotación 130º\")\n",
    "plt.subplot(2,2,3), plt.imshow(Lily_r350), plt.axis('off'), plt.title(\"Rotación 350º\")\n",
    "plt.subplot(2,2,4), plt.imshow(Lily_rn45), plt.axis('off'), plt.title(\"Rotación -45º\")\n",
    "#plt.imsave('./Guardados/Lily_r90.jpg',  Lily_r90)\n",
    "#plt.imsave('./Guardados/Lily_r130.jpg', Lily_r130)\n",
    "#plt.imsave('./Guardados/Lily_r350.jpg', Lily_r350)\n",
    "#plt.imsave('./Guardados/Lily_rn45.jpg', Lily_rn45)\n",
    "plt.show()"
   ]
  },
  {
   "cell_type": "markdown",
   "metadata": {},
   "source": [
    "#### Rotación en base a un Punto de Referencia:\n",
    "Sin embargo, es posible definir una **Tupla** con un punto específico a través del cual se hará la **Rotación** de la imagen. \n",
    "\n",
    "Por ejemplo, para rotar 120 grados con base en la coordenada *(400,250)*, se define el punto base y posteriormente se llama a la función `RotarImagen(imagen,angulo,p_base)` de esta manera:"
   ]
  },
  {
   "cell_type": "code",
   "execution_count": null,
   "metadata": {},
   "outputs": [],
   "source": [
    "#Definición de Tupla con el Punto Base de Rotación\n",
    "p_base = (400,250)\n",
    "\n",
    "#Operacion de Rotación\n",
    "Lily_r120 = RotarImagen(Lily, 120, p_base)\n",
    "\n",
    "#Impresión de las Imágenes \n",
    "plt.imshow(Lily_r120)  \n",
    "plt.axis('off') \n",
    "plt.title(\"Rotación 120º en Referencia\")\n",
    "#plt.imsave('./Guardados/Lily_r120.jpg', Lily_r120)\n",
    "plt.show()"
   ]
  },
  {
   "cell_type": "markdown",
   "metadata": {},
   "source": [
    "#### Reescalamiento:\n",
    "La operación de **Reescalamiento** de una imagen se puede realizar por medio del uso de una **Función** de nombre `Reescalar(imagen, escala)`, cuyos argumentos son:\n",
    "* El argumento `imagen`: Indica el nombre de la variable que contiene a la imagen.\n",
    "* El argumento `escala`: Indica el valor del porcentaje de reescalamiento a apicar.\n",
    "\n",
    "Para ello, la función `Reescalar(imagen, escala)` realiza las siguientes operaciones:\n",
    "1. Modifica el ancho de la imagen multiplicándolo por la escala.\n",
    "2. Modifica el alto de la imagen multiplicándolo por la escala.\n",
    "3. Genera una **Tupla** con los dos valores previos.\n",
    "4. Aplica el método `.resize()` para reescalar la imagen usando el valor de la **Tupla**."
   ]
  },
  {
   "cell_type": "code",
   "execution_count": null,
   "metadata": {},
   "outputs": [],
   "source": [
    "#Función para Reescalamiento\n",
    "def Reescalar(imagen, escala):\n",
    "    ancho = int(imagen.shape[1] * escala / 100)\n",
    "    alto = int(imagen.shape[0] * escala / 100)\n",
    "    dim = (ancho, alto)\n",
    "    return cv2.resize(imagen, dim, interpolation = cv2.INTER_AREA)"
   ]
  },
  {
   "cell_type": "markdown",
   "metadata": {},
   "source": [
    "De esa manera se puede llamar a la función `Reescalar()` con distintos porcentajes de reescalamiento.\n",
    "\n",
    "**Nota:** Debido a las restricciones de **Jupyter Notebook**, no es posible visualizar la modificación de la escala de cada imagen en este **Notebook**. Sin embargo, las funciones para guardar cada imagen se pueden habilitar para poder realizar una comparativa visual. Adicionalmente, se muestran las dimensiones finales de cada modificación después de la operación de **Reescalamiento**."
   ]
  },
  {
   "cell_type": "code",
   "execution_count": null,
   "metadata": {},
   "outputs": [],
   "source": [
    "#Operacion de Reescalamiento\n",
    "Lily_R10p  = Reescalar(Lily,  10)\n",
    "Lily_R60p  = Reescalar(Lily,  60)\n",
    "Lily_R200p = Reescalar(Lily, 200)\n",
    "Lily_R400p = Reescalar(Lily, 400)\n",
    "\n",
    "#Impresión de las Imágenes \n",
    "plt.subplot(2,2,1), plt.imshow(Lily_R10p),  plt.axis('off'), plt.title(\"Reescalamiento 10%\")\n",
    "plt.subplot(2,2,2), plt.imshow(Lily_R60p),  plt.axis('off'), plt.title(\"Reescalamiento 60%\")\n",
    "plt.subplot(2,2,3), plt.imshow(Lily_R200p), plt.axis('off'), plt.title(\"Reescalamiento 200%\")\n",
    "plt.subplot(2,2,4), plt.imshow(Lily_R400p), plt.axis('off'), plt.title(\"Reescalamiento 400%\")\n",
    "#plt.imsave('./Guardados/Lily_R10p.jpg',  Lily_R10p)\n",
    "#plt.imsave('./Guardados/Lily_R60p.jpg', Lily_R60p)\n",
    "#plt.imsave('./Guardados/Lily_R200p.jpg', Lily_R200p)\n",
    "#plt.imsave('./Guardados/Lily_R400p.jpg', Lily_R400p)\n",
    "plt.show()\n",
    "\n",
    "#Impresión de los Valores\n",
    "print(\"El tamaño de la Imagen Original es:\", Lily.shape)\n",
    "print(\"El tamaño de la Imagen Reescalada al 10% es:\",  Lily_R10p.shape)\n",
    "print(\"El tamaño de la Imagen Reescalada al 60% es:\",  Lily_R60p.shape)\n",
    "print(\"El tamaño de la Imagen Reescalada al 200% es:\", Lily_R200p.shape)\n",
    "print(\"El tamaño de la Imagen Reescalada al 400% es:\", Lily_R400p.shape)"
   ]
  },
  {
   "cell_type": "markdown",
   "metadata": {},
   "source": [
    "### Modificaciones a las Imágenes\n",
    "Algunas de las modificaciones que se pueden realizar a las imágenes empleando **OpenCV** se describen a continuación.\n",
    "\n",
    "#### Operación de Umbralización (Threshold)\n",
    "La **Umbralización (Threshold)** es el método más simple para realizar una segmentación en una imagen. Se realiza por medio de la separación de regiones de una imagen correspondientes a los objetos que se quieren analizar. Esta separación se basa en la variación de la intensidad entre los pixeles de objetos y los pixeles del fondo.\n",
    "\n",
    "Para diferenciar los pixeles de interés del resto (que eventualmente serán rechazados), se realiza una comparación de cada valor de intensidad de los pixeles con respecto a un **umbral** que es determinado según el problema a resolver.\n",
    "\n",
    "Una vez separados correctamente los pixeles importantes, se pueden establecer con un valor determinado para identificarlos, por ejemplo, colores `negro` o `blanco` para diferenciarlos.\n",
    "\n",
    "En **OpenCV** esta operación se realiza por medio del método `.threshold(a,b,c,d)`, cuyos argumentos son:\n",
    "\n",
    "* El argumento `a`: Indica el nombre de la variable que contiene a la imagen.\n",
    "* El argumento `b`: Indica el valor de **umbral** que será la referencia.\n",
    "* El argumento `c`: Indica el valor máximo a analizar.\n",
    "* El argumento `d`: Indica el tipo de **umbral** a emplear.\n",
    "\n",
    "La documentación detallada del método `.threshold()` se puede consultar [en esta liga](https://docs.opencv.org/master/d7/d1b/group__imgproc__misc.html#gae8a4a146d1ca78c626a53577199e9c57).\n",
    "\n",
    "Para este ejemplo, emplearemos la imagen de `Lily` en escala de grises para que sea más correcta la determinación de la operación de **Umbralización**, esto es:"
   ]
  },
  {
   "cell_type": "code",
   "execution_count": null,
   "metadata": {},
   "outputs": [],
   "source": [
    "#Imagen en Escala de Grises\n",
    "Lily_GS = cv2.cvtColor(Lily, cv2.COLOR_RGB2GRAY)\n",
    "\n",
    "#Valor del Umbral\n",
    "umbral = 127\n",
    "\n",
    "#Operacion de Umbralización (Threshold)\n",
    "ret, Lily_TH = cv2.threshold(Lily_GS, umbral, 255, 0)\n",
    "\n",
    "#Impresión de las Imágenes \n",
    "plt.subplot(1,2,1), plt.imshow(Lily_GS, cmap='gray'), plt.axis('off'), plt.title(\"Escala de Grises\")\n",
    "plt.subplot(1,2,2), plt.imshow(Lily_TH, cmap='gray'), plt.axis('off'), plt.title(\"Umbral\")\n",
    "#plt.imsave('./Guardados/Lily_TH.jpg', Lily_TH, cmap='gray')\n",
    "plt.show()"
   ]
  },
  {
   "cell_type": "markdown",
   "metadata": {
    "colab_type": "text",
    "id": "ke-afLFp3fWd"
   },
   "source": [
    "#### Operación de Reducción de Ruido\n",
    "La operación de **Reducción de Ruido** generalmente emplea la operación de **Difuminado/Suavizado (Blurring/Smoothing)** en una imagen empleando un modelo ***Gaussiano***.\n",
    "\n",
    "El ancho del modelo ***Gaussiano*** determinará la cantidad de **Suavizado** a aplicar.\n",
    "\n",
    "En **OpenCV** esta operación se realiza por medio del método `.GaussianBlur(a,b,c)`, cuyos argumentos son:\n",
    "\n",
    "* El argumento `a`: Indica el nombre de la variable que contiene a la imagen.\n",
    "* El argumento `b`: Indica el ancho y el alto del modelo ***Gaussiano*** a aplicar.\n",
    "* El argumento `c`: Indica el valor de la desviación estándar a aplicar.\n",
    "\n",
    "La documentación detallada del método `.GaussianBlur()` se puede consultar [en esta liga](https://docs.opencv.org/2.4/modules/imgproc/doc/filtering.html#gaussianblur).\n",
    "\n",
    "Para este ejemplo, emplearemos la imagen de `Lily` aplicando un valor `d` que marca el ancho del modelo ***Gaussiano*** a aplicar."
   ]
  },
  {
   "cell_type": "code",
   "execution_count": null,
   "metadata": {
    "colab": {},
    "colab_type": "code",
    "id": "AaJ7zd1w3fWi"
   },
   "outputs": [],
   "source": [
    "#Valor del ancho del modelo Gaussiano\n",
    "d = 20\n",
    "\n",
    "#Operacion de Suavizado (Blur)\n",
    "Lily_BL = cv2.GaussianBlur(Lily, (2*d+1, 2*d+1), -1)[d:-d,d:-d]\n",
    "\n",
    "#Impresión de las Imágenes \n",
    "plt.subplot(1,2,1), plt.imshow(Lily), plt.axis('off'), plt.title(\"Original\")\n",
    "plt.subplot(1,2,2), plt.imshow(Lily_BL), plt.axis('off'), plt.title(\"Suavizado\")\n",
    "#plt.imsave('./Guardados/Lily_BL.jpg', Lily_BL)\n",
    "plt.show()"
   ]
  },
  {
   "cell_type": "markdown",
   "metadata": {},
   "source": [
    "#### Suavizado en Reescalamiento\n",
    "El método de **Detección de Bordes de Canny** emplea dos **umbrales** en su aplicación:\n",
    "\n",
    "* El primer **umbral** determina la posibilidad de que **Canny** encuentre un borde.\n",
    "* El segundo **umbral** determina la posibilidad de que **Canny** siga ese borde una vez encontrado.\n"
   ]
  },
  {
   "cell_type": "code",
   "execution_count": null,
   "metadata": {},
   "outputs": [],
   "source": [
    "#Operacion de Reescalamiento\n",
    "Lily_Big = Reescalar(Lily, 1000)\n",
    "\n",
    "#Impresión de los Valores\n",
    "print(\"El tamaño de la Imagen Original es:\", Lily.shape)\n",
    "print(\"El tamaño de la Imagen Reescalada al 1000% es:\",  Lily_Big.shape)\n",
    "\n",
    "#Valor del ancho del modelo Gaussiano\n",
    "d = 20\n",
    "\n",
    "#Operacion de Suavizado (Blur)\n",
    "Lily_Big_Suav = cv2.GaussianBlur(Lily_Big, (2*d+1, 2*d+1), -1)[d:-d,d:-d]\n",
    "\n",
    "#Impresión de las Imágenes \n",
    "plt.subplot(1,3,1), plt.imshow(Lily), plt.axis('off'), plt.title(\"Original\")\n",
    "plt.subplot(1,3,2), plt.imshow(Lily_Big), plt.axis('off'), plt.title(\"Reescalado al 1000%\")\n",
    "plt.subplot(1,3,3), plt.imshow(Lily_Big_Suav), plt.axis('off'), plt.title(\"Suavizado\")\n",
    "#plt.imsave('./Guardados/Lily_Big.jpg', Lily_Big)\n",
    "#plt.imsave('./Guardados/Lily_Big_Suav.jpg', Lily_Big_Suav)\n",
    "plt.show()"
   ]
  },
  {
   "cell_type": "markdown",
   "metadata": {},
   "source": [
    "Para visualizar de mejor manera el resultado del suavizado aplicado al reescalamiento, se puede mostrar solamente el ojo derecho de `Lily`, previamente se había indicado la zona de los pixeles donde se ubica, considerando el reescalamiento al 1000% los valores donde se ubica son:\n",
    "* Renglones: pixeles del 1300 al 1900.\n",
    "* Columnas: pixeles del 1500 al 2100."
   ]
  },
  {
   "cell_type": "code",
   "execution_count": null,
   "metadata": {},
   "outputs": [],
   "source": [
    "#Impresión de las Imágenes \n",
    "plt.subplot(1,2,1), plt.imshow(Lily_Big[1300:1900, 1500:2100, :]), plt.axis('off'), plt.title(\"Reescalado al 1000%\")\n",
    "plt.subplot(1,2,2), plt.imshow(Lily_Big_Suav[1300:1900, 1500:2100, :]), plt.axis('off'), plt.title(\"Suavizado\")\n",
    "plt.show()"
   ]
  },
  {
   "cell_type": "markdown",
   "metadata": {
    "colab_type": "text",
    "id": "Hp50ZT_A3fWk"
   },
   "source": [
    "### Detección de Bordes\n",
    "La **Detección de Bordes** se había revisado en sesiones anteriores por medio de la operación de **Convolución** con una matriz previamente definida. Adicionalmente, las **Redes Neuronales Convolucionales (Convolutional Neural Networks)** son una técnica que ofrece resultados a estos procesos, pero es un tópico que no se abordará en este curso. Se analizarán dos métodos que realizan la operación de **Detección de Bordes**.\n",
    "\n",
    "#### Detección de Bordes de Sobel\n",
    "El método de **Detección de Bordes de Sobel** fue uno de los primeros que pudieron realizar la operación de manera adecuada, invoucrando la operación de **Convolución** dentro de su proceso. \n",
    "\n",
    "En **OpenCV** esta operación se realiza por medio del método `.Sobel(a,b,c,d,e)`, cuyos argumentos son:\n",
    "\n",
    "* El argumento `a`: Indica el nombre de la variable que contiene a la imagen.\n",
    "* El argumento `b`: Indica la función Gradiente a emplear (se emplea `cv2.CV_64F` en este caso).\n",
    "* El argumento `c`: Indica la aplicación en el eje `X` (1 aplica, 0 no aplica).\n",
    "* El argumento `d`: Indica la aplicación en el eje `Y` (1 aplica, 0 no aplica).\n",
    "* El argumento `e`: Indica el tamaño del núcleo de Sobel.\n",
    "\n",
    "La documentación detallada del método `.Sobel()` se puede consultar [en esta liga](https://docs.opencv.org/3.4/d4/d86/group__imgproc__filter.html#gacea54f142e81b6758cb6f375ce782c8d).\n",
    "\n",
    "Para este ejemplo, emplearemos la imagen de `Lily` en escala de grises para que sea más correcta la determinación de la operación de **Detección de Bordes de Sobel**. Por otro lado, se puede aplicar al eje `X`, al eje `Y` o a ambos, esto es:"
   ]
  },
  {
   "cell_type": "code",
   "execution_count": null,
   "metadata": {
    "colab": {},
    "colab_type": "code",
    "id": "d7ceQSv13fWk"
   },
   "outputs": [],
   "source": [
    "#Imagen en Escala de Grises\n",
    "Lily_GS = cv2.cvtColor(Lily, cv2.COLOR_RGB2GRAY)\n",
    "\n",
    "#Operacion de Detección de Borde de Sobel\n",
    "Lily_Sx  = cv2.Sobel(Lily_GS,cv2.CV_64F,1,0,ksize=9)\n",
    "Lily_Sy  = cv2.Sobel(Lily_GS,cv2.CV_64F,0,1,ksize=9)\n",
    "Lily_Sxy = cv2.Sobel(Lily_GS,cv2.CV_64F,1,1,ksize=9)\n",
    "\n",
    "#Impresión de las Imágenes \n",
    "plt.subplot(2,2,1), plt.imshow(Lily), plt.axis('off'), plt.title(\"Original\")\n",
    "plt.subplot(2,2,2), plt.imshow(Lily_Sx, cmap = 'gray'), plt.axis('off'), plt.title(\"Sobel X\")\n",
    "plt.subplot(2,2,3), plt.imshow(Lily_Sy, cmap = 'gray'), plt.axis('off'), plt.title(\"Sobel Y\")\n",
    "plt.subplot(2,2,4), plt.imshow(Lily_Sxy,cmap = 'gray'), plt.axis('off'), plt.title(\"Sobel XY\")\n",
    "#plt.imsave('./Guardados/Lily_Sx.jpg', Lily_Sx, cmap = 'gray')\n",
    "#plt.imsave('./Guardados/Lily_Sy.jpg', Lily_Sy, cmap = 'gray')\n",
    "#plt.imsave('./Guardados/Lily_Sxy.jpg', Lily_Sxy, cmap = 'gray')\n",
    "plt.show()"
   ]
  },
  {
   "cell_type": "markdown",
   "metadata": {
    "colab_type": "text",
    "id": "RWxFMGQe3fWm"
   },
   "source": [
    "#### Detección de Bordes de Canny\n",
    "El método de **Detección de Bordes de Canny** emplea dos **umbrales** en su aplicación:\n",
    "\n",
    "* El primer **umbral** determina la posibilidad de que **Canny** encuentre un borde.\n",
    "* El segundo **umbral** determina la posibilidad de que **Canny** siga ese borde una vez encontrado.\n",
    "\n",
    "En **OpenCV** esta operación se realiza por medio del método `.Canny(a,b,c)`, cuyos argumentos son:\n",
    "\n",
    "* El argumento `a`: Indica el nombre de la variable que contiene a la imagen.\n",
    "* El argumento `b`: Indica el valor del primer **umbral**.\n",
    "* El argumento `c`: Indica el valor del segundo **umbral**. Se recomienda que el segundo **umbral** sea de 2 a 3 veces el valor del primer **umbral**.\n",
    "\n",
    "La documentación detallada del método `.cv2.Canny()` se puede consultar [en esta liga](https://docs.opencv.org/2.4/modules/imgproc/doc/feature_detection.html?highlight=canny).\n",
    "\n",
    "Para este ejemplo, emplearemos una versión **Suavizada** de la imagen de `Lily` y en escala de grises para que sea más correcta la determinación de la operación de **Detección de Bordes de Canny**. Por otro lado, se recomienda que el segundo **umbral** sea de 2 a 3 veces el valor del primer **umbral**, esto es:"
   ]
  },
  {
   "cell_type": "code",
   "execution_count": null,
   "metadata": {},
   "outputs": [],
   "source": [
    "#Valores de Umbrales y Suavizado\n",
    "umbral = 120\n",
    "\n",
    "#Copia de la Imagen Original\n",
    "Lily_Comb = Lily.copy()\n",
    "\n",
    "#Operacion de Detección de Borde de Canny\n",
    "Lily_Can = cv2.Canny(Lily, umbral, (2.5 * umbral))\n",
    "\n",
    "#Combinando los Bordes con la Copia de la Imagen Original\n",
    "Lily_Comb[Lily_Can != 0] = (0, 255, 0)\n",
    "\n",
    "#Impresión de las Imágenes \n",
    "plt.subplot(1,3,1), plt.imshow(Lily), plt.axis('off'), plt.title(\"Original\")\n",
    "plt.subplot(1,3,2), plt.imshow(Lily_Can), plt.axis('off'), plt.title(\"Canny\")\n",
    "plt.subplot(1,3,3), plt.imshow(Lily_Comb), plt.axis('off'), plt.title(\"Combinado\")\n",
    "#plt.imsave('./Guardados/Lily_Can.jpg', Lily_Can)\n",
    "#plt.imsave('./Guardados/Lily_Comb.jpg', Lily_Comb)\n",
    "plt.show()"
   ]
  },
  {
   "cell_type": "markdown",
   "metadata": {
    "colab_type": "text",
    "collapsed": true,
    "id": "AV4RbCru3fWs",
    "jupyter": {
     "outputs_hidden": true
    }
   },
   "source": [
    "<div class=\"alert alert-block alert-success\">\n",
    "<b>.: Fin del Subtema :.</b>\n",
    "</div>\n",
    "\n",
    "***Liga de aceso al siguiente Subtema:*** \n",
    "<br>[c. Imágenes Multiespectrales](c.%20Imagenes%20Multiespectrales.ipynb)"
   ]
  }
 ],
 "metadata": {
  "colab": {
   "collapsed_sections": [],
   "name": "2-Image-stats-and-image-processing.ipynb",
   "provenance": []
  },
  "kernelspec": {
   "display_name": "Python 3 (ipykernel)",
   "language": "python",
   "name": "python3"
  },
  "language_info": {
   "codemirror_mode": {
    "name": "ipython",
    "version": 3
   },
   "file_extension": ".py",
   "mimetype": "text/x-python",
   "name": "python",
   "nbconvert_exporter": "python",
   "pygments_lexer": "ipython3",
   "version": "3.8.18"
  }
 },
 "nbformat": 4,
 "nbformat_minor": 4
}
