{
 "cells": [
  {
   "cell_type": "markdown",
   "metadata": {},
   "source": [
    "<div class=\"alert alert-block alert-info\">\n",
    "<span style=\"color: rgb(0,53,91);\">\n",
    "<center><img src=\"./Imagenes/ITESO_Logo.png\" style=\"width:500px;height:142px;\" title=\"Logo ITESO\"></center>\n",
    "<font face = \"Times New Roman\" size = \"6\"><b><center>Maestría en Sistemas Computacionales</center></b></font>\n",
    "<font face = \"Times New Roman\" size = \"5\"><b><center>Programación para Análisis de Datos</center></b></font>\n",
    "\n",
    "<b><br><font face = \"Times New Roman\" size = \"4\"><center>Unidad 2: Conceptos Generales</center></font>\n",
    "<font face = \"Times New Roman\" size = \"4\"><center>Tema 2.6: Conceptos del Procesamiento de Imágenes</center></font>\n",
    "<font face = \"Times New Roman\" size = \"4\"><center>Subtema a: Fundamentos de OpenCV</center></font></b>\n",
    "<div align=\"right\"><font face = \"Times New Roman\" size = \"2\">Dr. Iván Esteban Villalón Turrubiates (villalon@iteso.mx)</font></div>\n",
    "</span></div>"
   ]
  },
  {
   "cell_type": "markdown",
   "metadata": {
    "colab_type": "text",
    "id": "eP9VcOVoebew"
   },
   "source": [
    "## FUNDAMENTOS DE OPENCV\n",
    "La visión artificial o por computadora se está utilizando cada vez más para el análisis y procesamiento de imágenes mediante algoritmos de inteligencia artificial.\n",
    "\n",
    "<center><img src=\"./Imagenes/opencv_logo.png\" style=\"width:424px;height:200px;\" class=\"center\"></center>\n",
    "\n",
    "Para el procesamiento de imágenes y video en **Python** se empleará la librería **OpenCV**.\n",
    "\n",
    "**OpenCV** es una librería para **Python** cuyo principal uso es en el campo de visión por computadora para la detección de rostros y objetos, especialmente en ámbitos como la fotografía, el análisis de imágenes, el desarrollo y mercadeo de productos, así como en aplicaciones de seguridad.\n",
    "\n",
    "**OpenCV** (***Open Source Computer Vision***) comenzó como un proyecto de investigación en ***Intel***. Actualmente es la biblioteca de visión por computadora más grande en términos de las funciones con las que cuenta. Contiene implementaciones de más de 2,500 algoritmos y está disponible de forma gratuita para fines comerciales y académicos.\n",
    "\n",
    "Esta gran biblioteca tiene interfaces para múltiples lenguajes, incluidos **Python**, **Java** y **C++**. Se vincula directamente con la librería **NumPy** así como con **Matplotlib**. \n",
    "\n",
    "La documentación de **OpenCV** se puede encontrar a través [de esta liga](https://opencv.org).\n",
    "\n",
    "#### Instalación de OpenCV\n",
    "El entorno de desarrollo **Jupiter Notebook** a través de **Anaconda Navigator** no contiene la librería **OpenCV** que se empleará en el **Procesamiento de Imágenes**. Es por ello que se debe realizar su instalación, para ello es necesario ejecutar el siguiente comando en una **Terminal**:\n",
    "> `pip3 install opencv-python`\n",
    "\n",
    "La **Terminal** se puede ejecutar de la siguiente manera:\n",
    "* En **Windows**: A través de la aplicación ***Powershell Prompt*** de **Anaconda Navigator**.\n",
    "* En **macOS**: A través de la app ***Terminal***.\n",
    "* Para ambos (incluyendo **Linux**): Por medio de una celda de **Jupiter Notebook** a través de **Anaconda Navigator**.\n",
    "\n",
    "Para importar la librería se empleará la función `import cv2`, a partir de ello se podrá hacer uso de los distintos métodos. \n",
    "\n",
    "#### Conceptos del Procesamiento de Imágenes\n",
    "Para comenzar con el procesamiento digital de imágenes a través de la librería **OpenCV**, es necesario revisar algunos conceptos introductorios que serán complemento de los revisados en el tema anterior. Para ello se revisará la siguiente presentación en formato **PDF**:"
   ]
  },
  {
   "cell_type": "code",
   "execution_count": null,
   "metadata": {},
   "outputs": [],
   "source": [
    "#Apertura de Archivo PDF en Jupyter Notebook\n",
    "from IPython.display import IFrame\n",
    "IFrame(\"./Presentacion/Conceptos_Imagenes.pdf\", width=800, height=600)"
   ]
  },
  {
   "cell_type": "markdown",
   "metadata": {},
   "source": [
    "#### Procesamiento Digial de Imágenes con OpenCV\n",
    "\n",
    "Para comenzar el **Procesamiento de Imágenes** empleando la librería **OpenCV**, se deben importar las librerías a ser empleadas. En este caso se emplearán las siguientes:\n",
    "\n",
    "* **OpenCV**: Por medio de `import cv2`. \n",
    "* **NumPy**: Por medio de `import numpy as np`.\n",
    "* **Matplotlib**: Por medio de `import matplotlib.pyplot as plt`.\n",
    "\n",
    "A continuación se lee el archivo `Lily.jpg` con la imágen de ***Lily***, el cual es un archivo en formato `JPG` con un mapeo de color del tipo `RGB`. Para ello se empleará el método `.imread()` donde el parámetro de entrada corresponde al nombre del archivo. \n",
    "\n",
    "***Nota:*** Cuando se utilizó la librería **SciKit-Image**, el método empleado tiene el mismo nombre (`.imread()`), sin embargo corresponde a una librería distinta ya que fue invocado por medio de `io.imread()`, y los parámetros que emplea son distintos al métido de **OpenCV**.\n",
    "\n",
    "Finalmente, se verificarán algunos detalles de la imagen:\n",
    "* La cantidad total de pixeles contenidos en la imagen por medio del método `.size`.\n",
    "* El tamaño de la matriz que contiene a la imagen por medio del método `.shape`.\n",
    "* EL tipo de datos contenidos en la imagen por medio del método `.dtype`.\n",
    "\n",
    "Hasta el momento, se sabe que la imagen en formato `JPG` contiene datos de 8 bits, esto es, en un rango de ***0*** a ***255*** con valores enteros solamente. "
   ]
  },
  {
   "cell_type": "code",
   "execution_count": null,
   "metadata": {
    "colab": {},
    "colab_type": "code",
    "id": "TXKxw8iJebez"
   },
   "outputs": [],
   "source": [
    "#Importación de Librerías\n",
    "import cv2 \n",
    "import numpy as np \n",
    "import matplotlib.pyplot as plt \n",
    "\n",
    "#Lectura de la Imagen desde un archivo JPG\n",
    "Lily = cv2.imread(\"./Imagenes/Lily.jpg\")           \n",
    "\n",
    "#Impresión de valores de la imagen\n",
    "print(\"La cantidad de pixeles en la imagen es:\", Lily.size)\n",
    "print(\"El tamaño de la imagen es:\", Lily.shape)\n",
    "print(\"El tipo de datos contenidos en la imagen es:\", Lily.dtype)"
   ]
  },
  {
   "cell_type": "markdown",
   "metadata": {},
   "source": [
    "A continuación se muestra la imagen haciendo uso del método `.imshow()` de la librería **Matplotlib** como ya se ha realizado en previas ocasiones.\n",
    "\n",
    "Podrá notarse que la imagen resultante no es similar a la imagen original. Se esperaba una imagen de colores brillantes, pero lo que se obtiene es una imagen con cierto matiz azulado.\n",
    "\n",
    "Esto es debido a que **OpenCV** y **Matplotlib** tienen diferentes órdenes de colores primarios:\n",
    "* **Matplotlib** lee las imágenes en formato `RGB`.\n",
    "* **OpenCV** lee las imágenes en formato `BGR`.\n",
    "\n",
    "Por lo tanto, cuando se lee un archivo a través de **OpenCV**, se está leyendo como si tuviera canales en el orden de `azul`, `verde` y `rojo`. Al mostrar la imagen usando **Matplotlib**, el orden de los canales `rojo` y `azul` están invertidos y por ello ese tinte azul en el resultado.\n",
    "\n",
    "***Nota:*** Las imágenes generadas pueden ser guardadas de manera individual empleando el método `.imsave(a,b,c)` de **Matplotlib**, donde sus argumentos son:\n",
    "* El argumento `a` indica el nombre de destino del archivo a ser guardado.\n",
    "* El argumento `b` indica la variable que contiene los valores a ser guardados."
   ]
  },
  {
   "cell_type": "code",
   "execution_count": null,
   "metadata": {
    "colab": {},
    "colab_type": "code",
    "id": "woP9RhyCebfB"
   },
   "outputs": [],
   "source": [
    "#Impresión de la Imagen\n",
    "plt.imshow(Lily)\n",
    "plt.axis('off')\n",
    "plt.title(\"Lily\")\n",
    "#plt.imsave('./Guardados/Lily_BGR.jpg', Lily)\n",
    "plt.show()"
   ]
  },
  {
   "cell_type": "markdown",
   "metadata": {
    "colab_type": "text",
    "collapsed": true,
    "id": "6VFxWhvUebfD",
    "jupyter": {
     "outputs_hidden": true
    }
   },
   "source": [
    "Para leer los canales (bandas) de manera individual, se emplea el método `.split()` donde el parámetro es simplemente la variable que contiene la matriz con la información de la imagen. Posteriormente se muestran los canales de manera individual y en orden `RGB`: "
   ]
  },
  {
   "cell_type": "code",
   "execution_count": null,
   "metadata": {
    "colab": {},
    "colab_type": "code",
    "id": "zgEQX0isebfD"
   },
   "outputs": [],
   "source": [
    "#Valores de los Canales contenidos en la imagen BGR\n",
    "Lily_b, Lily_g, Lily_r = cv2.split(Lily)\n",
    "\n",
    "#Impresión de la Banda R\n",
    "plt.imshow(Lily_r, cmap='gray')        \n",
    "plt.axis('off')\n",
    "plt.title(\"Canal Rojo (R)\")\n",
    "#plt.imsave('./Guardados/Lily_R.jpg', Lily_r, cmap='gray')\n",
    "plt.show()\n",
    "\n",
    "#Impresión de la Banda G\n",
    "plt.imshow(Lily_g, cmap='gray')        \n",
    "plt.axis('off')\n",
    "plt.title(\"Canal Verde (G)\")\n",
    "#plt.imsave('./Guardados/Lily_G.jpg', Lily_g, cmap='gray')\n",
    "plt.show()\n",
    "\n",
    "#Impresión de la Banda B\n",
    "plt.imshow(Lily_b, cmap='gray')        \n",
    "plt.axis('off')\n",
    "plt.title(\"Canal Azul (B)\")\n",
    "#plt.imsave('./Guardados/Lily_B.jpg', Lily_b, cmap='gray')\n",
    "plt.show()"
   ]
  },
  {
   "cell_type": "markdown",
   "metadata": {
    "colab_type": "text",
    "id": "XqE1jCKaebfG"
   },
   "source": [
    "### Operaciones en Espacios de Color\n",
    "En **OpenCV** es sencillo convertir imágenes entre varios ***Espacios de Color*** (***colorspaces***).\n",
    "\n",
    "Como primer paso, la imagen en formato `BGR` contenida en la matriz `Lily` puede ser convertida a su formato `RGB` empleando el método `.merge()` de la siguiente manera:"
   ]
  },
  {
   "cell_type": "code",
   "execution_count": null,
   "metadata": {
    "colab": {},
    "colab_type": "code",
    "id": "Ev_3hJKLebfH"
   },
   "outputs": [],
   "source": [
    "#Modificación del Espacio de Color\n",
    "Lily_RGB = cv2.merge([Lily_r, Lily_g, Lily_b])\n",
    "\n",
    "#Impresión de las Imágenes \n",
    "plt.subplot(1,2,1), plt.imshow(Lily), plt.axis('off'), plt.title(\"Lily en BGR\")\n",
    "plt.subplot(1,2,2), plt.imshow(Lily_RGB), plt.axis('off'), plt.title(\"Lily en RBG\")\n",
    "#plt.imsave('./Guardados/Lily_RGB.jpg', Lily_RGB)\n",
    "plt.show()"
   ]
  },
  {
   "cell_type": "markdown",
   "metadata": {
    "colab_type": "text",
    "id": "cJ-UCAynebfJ"
   },
   "source": [
    "**OpenCV** también cuenta con un método que proporciona los cambios entre distintos ***Espacios de Color*** sin necesidad de separar (***split***) y combinar (***merge***) las bandas de manera individual. Por lo mismo suele ser más rápido y con menor consumo de memoria. \n",
    "\n",
    "El método es `.cvtColor(a,b)`, el cual recibe dos argumentos:\n",
    "\n",
    "* El argumento `a`: Indica el nombre de la variable que contiene los datos de la imagen a ser convertidos.\n",
    "* El argumento `b`: Indica el tipo de conversión que se realizará entre ***Espacios de Color***.\n",
    "\n",
    "La descripción detallada del método `.cvtColor()` puede ser consultada [en esta liga](https://docs.opencv.org/3.4/db/d64/tutorial_js_colorspaces.html).\n",
    "\n",
    "**OpenCV** tiene alrededor de 300 (296 para ser exactos) tipos de conversiones entre ***Espacios de Color*** los cuales pueden ser consultados a detalle [en esta liga](https://docs.opencv.org/3.4/d8/d01/group__imgproc__color__conversions.html#ga4e0972be5de079fed4e3a10e24ef5ef0).\n",
    "\n",
    "Se ejemplificarán tres conversiones del ***Espacio de Color*** empleando el método `.cvtColor()` para este ejemplo:\n",
    "\n",
    "1. Conversión de BGR a RGB empleando el método `.COLOR_BGR2RGB`.\n",
    "2. Conversión de BGR a escala de grises empleando el método `.COLOR_BGR2GRAY`. La imagen resultante contiene solo 1 banda de información (pancromática).\n",
    "2. Conversión de BGR a HSV empleando el método `.COLOR_BGR2HSV`. Esta conversión se refiere a Tono (***Hue***), Saturación (***Saturation***) y Brillo (***Value***) que son muy utilizados en transmisiones de video en formatos **NTSC** y **PAL**. La imagen resultante contiene 3 bandas de información (una para cada nivel HSV).\n",
    "\n",
    "Esto es:"
   ]
  },
  {
   "cell_type": "code",
   "execution_count": null,
   "metadata": {
    "colab": {},
    "colab_type": "code",
    "id": "egPmVUvYebfK"
   },
   "outputs": [],
   "source": [
    "#Modificación del Espacio de Color\n",
    "Lily_RGB = cv2.cvtColor(Lily, cv2.COLOR_BGR2RGB)\n",
    "Lily_GS = cv2.cvtColor(Lily, cv2.COLOR_BGR2GRAY)\n",
    "Lily_HSV = cv2.cvtColor(Lily, cv2.COLOR_BGR2HSV)\n",
    "\n",
    "#Impresión de las Imágenes \n",
    "plt.subplot(2,2,1), plt.imshow(Lily), plt.axis('off'), plt.title(\"BGR\")\n",
    "plt.subplot(2,2,2), plt.imshow(Lily_RGB), plt.axis('off'), plt.title(\"RBG\")\n",
    "plt.subplot(2,2,3), plt.imshow(Lily_GS, cmap='gray'), plt.axis('off'), plt.title(\"Grises\")\n",
    "plt.subplot(2,2,4), plt.imshow(Lily_HSV), plt.axis('off'), plt.title(\"HSV\")\n",
    "#plt.imsave('./Guardados/Lily_GS.jpg', Lily_GS, cmap='gray')\n",
    "#plt.imsave('./Guardados/Lily_HSV.jpg', Lily_HSV)\n",
    "plt.show()\n",
    "\n",
    "#Impresión de valores de las Imágenes\n",
    "print(\"El tamaño de la imagen en Escala de Grises es:\", Lily_GS.shape)\n",
    "print(\"El tamaño de la imagen HSV es:\", Lily_HSV.shape)"
   ]
  },
  {
   "cell_type": "markdown",
   "metadata": {
    "colab_type": "text",
    "id": "lfo1Lue9ebfN"
   },
   "source": [
    "### Obtención y Modificación de Datos en la Imagen\n",
    "Las imágenes en **Python** y en específico cuando se manejan a través de **OpenCV**, son arreglos de **NumPy**, y debido a ello se pueden realizar operaciones a nivel de los pixeles de manera rápida y eficiente. \n",
    "\n",
    "El manejo de los valores de los pixeles también pueden emplearse para extraer zonas específicas dentro de la imagen. Por ejemplo, para mostrar el ojo derecho de `Lily` se puede indicar la ventana de pixeles que lo contienen:\n",
    "\n",
    "* Renglones: pixeles del 130 al 190.\n",
    "* Columnas: pixeles del 150 al 210.\n",
    "\n",
    "Utilizando la imagen de `Lily` en formato `RGB`, esto es:"
   ]
  },
  {
   "cell_type": "code",
   "execution_count": null,
   "metadata": {
    "colab": {},
    "colab_type": "code",
    "id": "32AQVQ0uebfO"
   },
   "outputs": [],
   "source": [
    "#Valores de los Canales contenidos en la imagen RGB\n",
    "Lily_ojo = Lily_RGB[130:191, 150:211, :]\n",
    "\n",
    "#Impresión de las Imágenes\n",
    "plt.imshow(Lily_ojo)        \n",
    "plt.axis('off')\n",
    "plt.title(\"Ojo Derecho de Lily\")\n",
    "plt.show()\n",
    "#plt.imsave('./Guardados/Lily_Ojo.jpg', Lily_ojo)\n",
    "print(\"El tamaño de la imagen del ojo derecho de Lily es:\", Lily_ojo.shape)"
   ]
  },
  {
   "cell_type": "markdown",
   "metadata": {
    "colab_type": "text",
    "id": "KsFd9SBzebfS"
   },
   "source": [
    "Debido a que las imágenes son arreglos matriciales de **NumPy**, para contar con una nueva variable con la información de la imagen se pueden realizar dos acciones:\n",
    "\n",
    "1. Se vuelve a cargar la imagen en la nueva variable con el método `.imread()` de **OpenCV**.\n",
    "2. Se hace una copia de una varible ya existente con el método `.copy()` de **NumPy**.\n",
    "\n",
    "En este caso se hará una copia para ejemplificar el uso del método `.copy()`. En esta nueva variable se insertará el ojo derecho de Lily para modificar los valores contenidos en su matriz. Para ello, la ventana que contiene el ojo se agregará en las coordenadas *(100,220)* que ya han sido identificadas previamente. Esto es:"
   ]
  },
  {
   "cell_type": "code",
   "execution_count": null,
   "metadata": {
    "colab": {},
    "colab_type": "code",
    "id": "i1xm1L5MebfU"
   },
   "outputs": [],
   "source": [
    "#Duplicado de una Imagen\n",
    "Lily_New = Lily_RGB.copy()\n",
    "\n",
    "#Modificación de Valores    \n",
    "Lily_New[100:100 + Lily_ojo.shape[0], 220:220 + Lily_ojo.shape[1]] = Lily_ojo\n",
    "\n",
    "#Impresión de las Imágenes\n",
    "plt.imshow(Lily_New)  \n",
    "plt.axis('off')\n",
    "plt.title(\"Lily de 3 Ojos\")\n",
    "plt.show()\n",
    "#plt.imsave('./Guardados/Lily_3ojos.jpg', Lily_New)"
   ]
  },
  {
   "cell_type": "markdown",
   "metadata": {
    "colab_type": "text",
    "id": "-jEyTpSTebff"
   },
   "source": [
    "<div class=\"alert alert-block alert-success\">\n",
    "<b>.: Fin del Subtema :.</b>\n",
    "</div>\n",
    "\n",
    "***Liga de aceso al siguiente Subtema:*** \n",
    "<br>[b. Procesamiento de Imágenes](b.%20Procesamiento%20de%20Imagenes.ipynb)"
   ]
  }
 ],
 "metadata": {
  "colab": {
   "collapsed_sections": [],
   "name": "1-Fundamentals.ipynb",
   "provenance": []
  },
  "kernelspec": {
   "display_name": "Python 3 (ipykernel)",
   "language": "python",
   "name": "python3"
  },
  "language_info": {
   "codemirror_mode": {
    "name": "ipython",
    "version": 3
   },
   "file_extension": ".py",
   "mimetype": "text/x-python",
   "name": "python",
   "nbconvert_exporter": "python",
   "pygments_lexer": "ipython3",
   "version": "3.8.18"
  }
 },
 "nbformat": 4,
 "nbformat_minor": 4
}
