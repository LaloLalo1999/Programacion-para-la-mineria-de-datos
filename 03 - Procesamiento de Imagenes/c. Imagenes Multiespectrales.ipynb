{
 "cells": [
  {
   "cell_type": "markdown",
   "metadata": {},
   "source": [
    "<div class=\"alert alert-block alert-info\">\n",
    "<span style=\"color: rgb(0,53,91);\">\n",
    "<center><img src=\"./Imagenes/ITESO_Logo.png\" style=\"width:500px;height:142px;\" title=\"Logo ITESO\"></center>\n",
    "<font face = \"Times New Roman\" size = \"6\"><b><center>Maestría en Sistemas Computacionales</center></b></font>\n",
    "<font face = \"Times New Roman\" size = \"5\"><b><center>Programación para Análisis de Datos</center></b></font>\n",
    "\n",
    "<b><br><font face = \"Times New Roman\" size = \"4\"><center>Unidad 2: Conceptos Generales</center></font>\n",
    "<font face = \"Times New Roman\" size = \"4\"><center>Tema 2.6: Conceptos del Procesamiento de Imágenes</center></font>\n",
    "<font face = \"Times New Roman\" size = \"4\"><center>Subtema c: Imágenes Multiespectrales</center></font></b>\n",
    "<div align=\"right\"><font face = \"Times New Roman\" size = \"2\">Dr. Iván Esteban Villalón Turrubiates (villalon@iteso.mx)</font></div>\n",
    "</span></div>"
   ]
  },
  {
   "cell_type": "markdown",
   "metadata": {
    "colab_type": "text",
    "id": "eP9VcOVoebew"
   },
   "source": [
    "## IMÁGENES MULTIESPECTRALES\n",
    "\n",
    "Las **Imágenes Multiespectrales** aportan información de los colores presentes en una escena dentro del *Espectro Visible (EV)*, y adicionalmente otras bandas cuyo número no pasa de 9, mayormente del infrarrojo. Algunos autores indican que una imagen debe considerarse como **Hiperespectral** cuando contiene más de 10 bandas de información, aunque otros aumentan dicho número a 20. \n",
    "\n",
    "Como ejemplo de aplicación, en la ***Agricultura de Precisión*** se utiliza la banda del infrarrojo cercano que abarca las longitudes de onda desde *0.79* a *0.89 $\\mu m$*, aprovechando que la vegetación presenta altos niveles de absorción de las luz visible y refleja la luz infrarroja en función del estado de salud y de vigorosidad de las plantas. Para el uso de **Imágenes Multiespectrales** en Agricultura, se requiere:\n",
    "\n",
    "1. Adquirir las *Firmas Espectrales (FE)* de los cultivos sanos de interés en condiciones controladas y crear una base de datos referencia, que servirá para comparar en el futuro. \n",
    "2. Agregar las *FE* de cultivos enfermos a la base de datos de referencia. \n",
    "3. Al tomar imágenes aéreas, se compara el análisis espectral con la base de datos de referencia por medio de computadoras que analizan y obtienen la *FE* de cada sección del terreno y proporciona un mapa con la distribución espacial de los cultivos en que se encuentran en las distintas secciones y del estado en que éste se encuentra.\n",
    "\n",
    "Para ejemplificar el manejo de **Imágenes Multiespectrales** empleando **OpenCV**, se empleará una imagen de ejemplo que fue obtenida por el Satélite ***SPOT-5*** (Satellite pour l’Observation de la Terre) que pertenece a la *Agencia Espacial Francesa (CNES)*.\n",
    "<center><img src=\"./Imagenes/Spot_logo.png\" style=\"width:199px;height:150px;\" class=\"center\"></center>\n",
    "\n",
    "El Satélite ***SPOT-5*** fue puesto en órbita en mayo de 2002 cerrando su ciclo de vida en 2014. Su órbita era:\n",
    "* Orbita circular sincrónica con la del Sol.\n",
    "* Altitud: 832 kilómetros.\n",
    "* Inclinación: 98.7 grados.\n",
    "* Periodo: 101.4 minutos.\n",
    "* Cruce en el Ecuador: 10:30am cada 26 días.\n",
    "* Revoluciones por día: Aproximadamente 14.\n",
    "\n",
    "Se puede consultar más información sobre la misión del Satélite ***SPOT-5*** [en esta liga](https://www.eoportal.org/satellite-missions/spot-5).\n",
    "\n",
    "La escena a analizar corresponde a una **Imagen Multiespectral** del *Área Metropolitana de Guadalajara*. Sus características son:\n",
    "\n",
    "* Resolución Espacial: 20 metros (modo espectral Hi).\n",
    "* Tamaño de la Imagen: (6000 x 6000 x 4) pixeles.\n",
    "* Resolución Espectral: 4 bandas.\n",
    "\n",
    "Las 4 bandas espectrales de la imagen son:\n",
    "\n",
    "1. Banda **XS3**: **Infrarrojo Cercano (Near Infrared)** en modo multiespectral, con longitud de onda de *0.79* a *0.89 $\\mu m$*.\n",
    "2. Banda **XS2**: **Rojo (Red)** en modo multiespectral, con longitud de onda de *0.61* a *0.68 $\\mu m$*.\n",
    "3. Banda **XS1**: **Verde (Green)** en modo multiespectral, con longitud de onda de *0.50* a *0.59 $\\mu m$*.\n",
    "4. Banda **SWIR**: **Infrarrojo de Onda Corta (Short-Wave Infrared)** en modo multiespectral, con longitud de onda de *1.58* a *1.75 $\\mu m$*.\n",
    "\n",
    "La escena es:\n",
    "<center><img src=\"./Imagenes/Spot5.jpg\" style=\"width:400px;height:400px;\" class=\"center\"></center>\n",
    "\n",
    "***Nota:*** Esta escena es mostrada en formato `JPG` con solo 3 bandas y para fines ilustrativos.\n",
    "\n",
    "Para el ejercicio, se extraerá una zona de (2000 x 2000 x 4) pixeles con el objetivo de simplificar el tiempo de procesamiento a ser empleado. La imagen está en formato `TIFF` con el nombre `SPOT5.tif`, la cual contiene datos de 8 bits (en un rango de ***0*** a ***255*** con valores enteros positivos).\n",
    "\n",
    "El proceso de lectura de la imagen empleando **OpenCV** es similar al que se usa para una imagen en formato `JPG`, sin embargo es necesario modificar los atributos en el método `.imread(a,b)` de la siguiente manera:\n",
    "\n",
    "* El atributo `a`: Es el nombre del archivo que contiene a la imagen en formato `TIFF`.\n",
    "* El atributo `b`: Se empleará `cv2.IMREAD_UNCHANGED` para que pueda hacer la lectura de más de 3 bandas.\n",
    "\n",
    "Esto es:"
   ]
  },
  {
   "cell_type": "code",
   "execution_count": null,
   "metadata": {
    "colab": {},
    "colab_type": "code",
    "id": "TXKxw8iJebez"
   },
   "outputs": [],
   "source": [
    "#Importación de Librerías\n",
    "import cv2 \n",
    "import numpy as np \n",
    "import matplotlib.pyplot as plt\n",
    "\n",
    "#Lectura de la Imagen desde un archivo TIFF\n",
    "SPOT = cv2.imread(\"./Imagenes/SPOT5.tif\", cv2.IMREAD_UNCHANGED)   \n",
    "\n",
    "#Impresión de valores de la imagen\n",
    "print(\"La cantidad de pixeles en la imagen es:\", SPOT.size)\n",
    "print(\"El tamaño de la imagen es:\", SPOT.shape)\n",
    "print(\"El tipo de datos contenidos en la imagen es:\", SPOT.dtype)"
   ]
  },
  {
   "cell_type": "markdown",
   "metadata": {},
   "source": [
    "A continuación se muestra la imagen haciendo uso del método `.imshow()` de la librería **Matplotlib** como ya se ha realizado en previas ocasiones.\n",
    "\n",
    "Nuevamente, podrá notarse que la imagen resultante no es similar a la imagen original ya que tiene un cierto matiz azulado. El motivo es el mismo, **OpenCV** lee las imágenes en formato `BGR` para las primeras 3 bandas contenidas en la misma.\n",
    "\n",
    "En la imagen es posible distinguir la *Laguna de Cajititlán* justo al sur del *Aeropuerto Internacional de Guadalajara* del cual se puede distinguir la pista de aterrizaje. Hacia el oeste se pueden ver el *Cerro de las Mitras* así como el *Cerro de la Cruz* que envuelven el municipio de *Tlajomulco de Zúñiga*."
   ]
  },
  {
   "cell_type": "code",
   "execution_count": null,
   "metadata": {
    "colab": {},
    "colab_type": "code",
    "id": "woP9RhyCebfB"
   },
   "outputs": [],
   "source": [
    "#Impresión de la Imagen SPOT\n",
    "plt.imshow(SPOT)\n",
    "plt.axis('off')\n",
    "plt.title(\"Imagen SPOT de 4 Bandas\")\n",
    "plt.show()"
   ]
  },
  {
   "cell_type": "markdown",
   "metadata": {
    "colab_type": "text",
    "collapsed": true,
    "id": "6VFxWhvUebfD",
    "jupyter": {
     "outputs_hidden": true
    }
   },
   "source": [
    "Para leer los canales (bandas) de manera individual, se emplea el método `.split()` donde el parámetro es simplemente la variable que contiene la matriz con la información de la imagen. Posteriormente se muestran los canales de manera individual.\n",
    "\n",
    "***Nota:*** El orden de los canales como los lee **OpenCV** es `XS1`, `XS2`, `XS3` y `SWIR`. Sin embargo, el orden con el que **SPOT-5** los captura es  `XS3`, `XS2`, `XS1` y `SWIR`."
   ]
  },
  {
   "cell_type": "code",
   "execution_count": null,
   "metadata": {
    "colab": {},
    "colab_type": "code",
    "id": "zgEQX0isebfD"
   },
   "outputs": [],
   "source": [
    "#Valores de los Canales contenidos en la imagen BGR\n",
    "XS1, XS2, XS3, SWIR = cv2.split(SPOT)\n",
    "\n",
    "#Impresión de la Banda XS1\n",
    "plt.imshow(XS1, cmap='gray')        \n",
    "plt.axis('off')\n",
    "plt.title(\"Banda Verde (XS1)\")\n",
    "plt.show()\n",
    "\n",
    "#Impresión de la Banda XS2\n",
    "plt.imshow(XS2, cmap='gray')        \n",
    "plt.axis('off')\n",
    "plt.title(\"Banda Roja (XS2)\")\n",
    "plt.show()\n",
    "\n",
    "#Impresión de la Banda XS3\n",
    "plt.imshow(XS3, cmap='gray')        \n",
    "plt.axis('off')\n",
    "plt.title(\"Banda Infrarrojo Cercano (XS3)\")\n",
    "plt.show()\n",
    "\n",
    "#Impresión de la Banda SWIR\n",
    "plt.imshow(SWIR, cmap='gray')        \n",
    "plt.axis('off')\n",
    "plt.title(\"Banda Infrarroja de Onda Corta (SWIR)\")\n",
    "plt.show()"
   ]
  },
  {
   "cell_type": "markdown",
   "metadata": {
    "colab_type": "text",
    "id": "XqE1jCKaebfG"
   },
   "source": [
    "Es posible realizar un ordenamiento de las bandas para que correspondan con su orden original empleando **OpenCV**. \n",
    "\n",
    "Para ello se emplea el método `.merge()` donde se indica en sus atributos el orden adecuado de las bandas:"
   ]
  },
  {
   "cell_type": "code",
   "execution_count": null,
   "metadata": {
    "colab": {},
    "colab_type": "code",
    "id": "Ev_3hJKLebfH"
   },
   "outputs": [],
   "source": [
    "#Modificación del orden de las bandas\n",
    "SPOT5 = cv2.merge([XS3,XS2,XS1,SWIR])\n",
    "\n",
    "#Impresión de la Imagen SPOT\n",
    "plt.imshow(SPOT5)\n",
    "plt.axis('off')\n",
    "plt.title(\"Imagen SPOT de 4 Bandas\")\n",
    "plt.show()"
   ]
  },
  {
   "cell_type": "markdown",
   "metadata": {},
   "source": [
    "Finalmente, es posible extraer alguna de las bandas para que resten solo 3 de ellas, ello puede generar archivos en fomato `JPG` para fines de visualización de resultados, además de que pueden ser guardados por medio del método `.imsave()` de **Matplotlib**."
   ]
  },
  {
   "cell_type": "code",
   "execution_count": null,
   "metadata": {},
   "outputs": [],
   "source": [
    "#Modificación del Espacio de Color\n",
    "Comb1 = cv2.merge([XS3,XS2,XS1])\n",
    "Comb2 = cv2.merge([XS3,XS2,SWIR])\n",
    "Comb3 = cv2.merge([XS2,XS1,SWIR])\n",
    "\n",
    "plt.subplot(1,3,1), plt.imshow(Comb1), plt.axis('off'), plt.title(\"XS3, XS2 y XS1\")\n",
    "plt.subplot(1,3,2), plt.imshow(Comb2), plt.axis('off'), plt.title(\"XS3, XS2 y SWIR\")\n",
    "plt.subplot(1,3,3), plt.imshow(Comb3), plt.axis('off'), plt.title(\"XS2, XS1 y SWIR\")\n",
    "#plt.imsave('./Guardados/SPOT5_Comb1.jpg', Comb1)\n",
    "#plt.imsave('./Guardados/SPOT5_Comb2.jpg', Comb2)\n",
    "#plt.imsave('./Guardados/SPOT5_Comb3.jpg', Comb3)\n",
    "plt.show()"
   ]
  },
  {
   "cell_type": "markdown",
   "metadata": {
    "colab_type": "text",
    "id": "-jEyTpSTebff"
   },
   "source": [
    "<div class=\"alert alert-block alert-success\">\n",
    "<b>.: Fin del Subtema :.</b>\n",
    "</div>\n",
    "\n",
    "***Liga de aceso al siguiente Subtema:*** \n",
    "<br>[d. Clasificación en Cascada](d.%20Clasificacion%20en%20Cascada.ipynb)"
   ]
  }
 ],
 "metadata": {
  "colab": {
   "collapsed_sections": [],
   "name": "1-Fundamentals.ipynb",
   "provenance": []
  },
  "kernelspec": {
   "display_name": "Python 3 (ipykernel)",
   "language": "python",
   "name": "python3"
  },
  "language_info": {
   "codemirror_mode": {
    "name": "ipython",
    "version": 3
   },
   "file_extension": ".py",
   "mimetype": "text/x-python",
   "name": "python",
   "nbconvert_exporter": "python",
   "pygments_lexer": "ipython3",
   "version": "3.8.18"
  }
 },
 "nbformat": 4,
 "nbformat_minor": 4
}
