{
 "cells": [
  {
   "cell_type": "markdown",
   "metadata": {},
   "source": [
    "<div class=\"alert alert-block alert-info\">\n",
    "<span style=\"color: rgb(0,53,91);\">\n",
    "<center><img src=\"./Imagenes/ITESO_Logo.png\" style=\"width:500px;height:142px;\" title=\"Logo ITESO\"></center>\n",
    "<font face = \"Times New Roman\" size = \"6\"><b><center>Maestría en Sistemas Computacionales</center></b></font>\n",
    "<font face = \"Times New Roman\" size = \"5\"><b><center>Programación para Análisis de Datos</center></b></font>\n",
    "\n",
    "<b><br><font face = \"Times New Roman\" size = \"4\"><center>Unidad 5: Proceso de Selección de Métodos</center></font>\n",
    "<font face = \"Times New Roman\" size = \"4\"><center>Tema 5.6: Árboles de Decisión (Decision Tree)</center></font>\n",
    "<div align=\"right\"><font face = \"Times New Roman\" size = \"2\">Dr. Iván Esteban Villalón Turrubiates (villalon@iteso.mx)</font></div>\n",
    "</span></div>"
   ]
  },
  {
   "cell_type": "markdown",
   "metadata": {},
   "source": [
    "## ÁRBOLES DE DECISIÓN (DECISION TREE, DT)\n",
    "\n",
    "### ¿Qué es un árbol de decisión?\n",
    "Los arboles de decisión son representaciones gráficas de posibles soluciones a una decisión basadas en ciertas condiciones, es uno de los algoritmos de aprendizaje supervisado más utilizados en **Aprendizaje Máquina (Machine Learning)** y pueden realizar tareas de clasificación o regresión (***Classification And Regression Tree, CART***). La comprensión de su funcionamiento suele ser simple y a la vez muy certera.\n",
    "\n",
    "Utilizamos mentalmente estructuras de árbol de decisión constantemente en nuestra vida diaria sin darnos cuenta por medio de decisiones del tipo *If This Then That*:\n",
    "\n",
    "* ¿Llueve? → Usar un paraguas. \n",
    "* ¿Soleado? → Usar gafas de sol. \n",
    "* ¿Cansado? → Tomar una siesta.\n",
    "\n",
    "Los árboles de decisión tienen un primer nodo llamado raíz (*root*) y luego se descomponen el resto de atributos de entrada en dos ramas (aunque pueden ser más) planteando una condición que puede ser cierta o falsa. Se bifurca cada nodo en 2 y vuelven a subdividirse hasta llegar a las hojas que son los nodos finales y que equivalen a respuestas a la solución: *Si/No*, *Comprar/Vender*, o dependiendo de lo que se esté clasificando.\n",
    "\n",
    "### ¿Qué necesidad hay de usar este modelo?\n",
    "Si suponemos que se cuenta con atributos como género con valores [*hombre, mujer*] y edad en rangos [*menor de 18, mayor de 18*] para tomar una decisión, se puede crear un árbol en el que se divide primero por género y luego se puede subdividir por edad, aunque es posible realizar al revés, primero por edad y luego por género. \n",
    "\n",
    "Analizando los datos y las salidas, el algoritmo decidirá la mejor forma de hacer las divisiones (*split*) entre los nodos, por ello es un ***modelo supervisado***. Tendrá en cuenta la manera de lograr una predicción (clasificación ó regresión) con mayor probabilidad de acierto. \n",
    "\n",
    "Si se tienen 10 atributos de entrada, cada uno con 2 o más valores posibles, las combinaciones para decidir el mejor árbol serían cientos ó miles. Debido a ello el algoritmo cobra importancia, pues devolverá el árbol óptimo para la toma de decisión más acertada desde un punto de vista probabilístico.\n",
    "\n",
    "### ¿Cómo funciona un árbol de decisión?\n",
    "Para obtener el árbol óptimo y valorar cada subdivisión entre todos los árboles posibles y conseguir el nodo raiz y los subsiguientes, el algoritmo deberá medir de alguna manera las predicciones logradas y valorarlas para comparar de entre todas y obtener la mejor. \n",
    "\n",
    "Para medir y valorar utiliza diversas funciones, siendo las más conocidas el ***Indice GINI*** y la ***Ganancia de Información***, la cual utiliza la denominada ***Entropía***. La división de nodos continuará hasta que se llegue a la profundidad máxima posible del árbol ó se limiten los nodos a una cantidad mínima de muestras en cada hoja. \n",
    "\n",
    "* **Indice GINI**: Se utiliza para atributos con valores continuos (por ejemplo, el costo de una casa). Esta función de costo mide el *grado de impureza* de los nodos, es decir, cuán desordenados o mezclados quedan los nodos una vez divididos. Es necesario minimizar el valor del **Indice GINI**.\n",
    "\n",
    "* **Ganancia de Información**: Se utiliza para atributos categóricos (por ejemplo, hombre o mujer). Este criterio intenta estimar la información que aporta cada atributo basado en la *teoría de la información*. Para medir la aleatoriedad de incertidumbre de un valor aleatorio de una variable *X* se define la **Entropía**. Al obtener la medida de **Entropía** de cada atributo, se puede calcular la ganancia de información del árbol. Es necesario maximizar el valor de la **Ganancia de Información**.\n",
    "\n",
    "***Nota:*** La **Entropía** es la magnitud física que mide la parte de la energía que no puede utilizarse para realizar trabajo, desde el punto de vista estadístico es la medida de la incertidumbre existente."
   ]
  },
  {
   "cell_type": "markdown",
   "metadata": {},
   "source": [
    "### Implementación de un ejemplo\n",
    "Para este ejemplo se tomarán 600 registros para realizar la determinación a través del modelo de **Árbol de Decisión** del artista del *Billboard 100* que llegará al número 1 en un ranking. Esto es, a partir de atributos de cantantes y de un histórico de canciones que alcanzaron entrar al *Billboard 100* de los Estados Unidos de América entre el 2004 y el 2015, se creará un árbol que permita intentar predecir si un nuevo cantante podrá llegar a número uno. Para ello se emplearán las librerías que ya son conocidas, como **Pandas**, **NumPy**, **Matplotlib**, **Seaborn** y **SciKit-Learn**.\n",
    "\n",
    "<center><img src=\"./Imagenes/Logos.png\" style=\"width:400px;height:145px;\" class=\"center\"></center>\n",
    "\n",
    "Los datos de entrada que se usarán están contenidos en el archivo `Billboard.csv`, el cual contiene los siguientes encabezados de las columnas de información:\n",
    "\n",
    "1. `ID`: Es el identificador de cada entrada.\n",
    "2. `Title`: Es el título de la canción.\n",
    "3. `Artist`: Es el nombre del artista.\n",
    "4. `Mood`: Es el estado de ánimo de la canción.\n",
    "5. `Tempo`: Es el tipo de tempo o velocidad a la que se reproduce la canción.\n",
    "6. `Genre`: Es el género de la canción.\n",
    "7. `Artist_Type`: Es el tipo de artista que consiste de los campos:\n",
    "    * `Male`: Hombre.\n",
    "    * `Female`: Mujer.\n",
    "    * `Mixed`: Combinado.\n",
    "8. `Chart_Date`: Es la fecha en la que apareció en el Billboard.\n",
    "9. `Duration`: Es la duración de la canción en segundos.\n",
    "10. `Top`: Es la columna que servirá como etiqueta. Consiste de los campos:\n",
    "    * `0`: No llegó a número 1 en el Billboard. \n",
    "    * `1`: Si llegó a número 1 en el Billboard\n",
    "11. `Birthyear`: Es el año de nacimiento del artista principal.\n",
    "   \n",
    "**El problema consiste en predecir si un nuevo cantante podrá llegar a número uno en el Billboard empleando esta información para entrenar el algoritmo.**\n",
    "\n",
    "Para ello, primeramente se importarán las librerías **Pandas**, **NumPy**, **Matplotlib**, **Seaborn** y **Scikit-Learn**:"
   ]
  },
  {
   "cell_type": "code",
   "execution_count": null,
   "metadata": {},
   "outputs": [],
   "source": [
    "#Importación de librerías\n",
    "import numpy as np\n",
    "import pandas as pd\n",
    "import seaborn as sns\n",
    "import matplotlib.pyplot as plt\n",
    "from sklearn import tree\n",
    "from sklearn.metrics import accuracy_score\n",
    "from sklearn.model_selection import KFold\n",
    "from sklearn.model_selection import cross_val_score\n",
    "\n",
    "#Definición de los parámetros de los gráficos\n",
    "plt.rcParams.update({'font.size': 11, 'figure.figsize': (10, 8)}) \n",
    "plt.style.use('ggplot')"
   ]
  },
  {
   "cell_type": "markdown",
   "metadata": {},
   "source": [
    "Ahora se realiza la lectura del DataSet desde un archivo `CSV` y se guarda en un **DataFrame** de **Pandas**:"
   ]
  },
  {
   "cell_type": "code",
   "execution_count": null,
   "metadata": {},
   "outputs": [],
   "source": [
    "#Lectura del DataSet\n",
    "datos_df = pd.read_csv(\"./Datos/Billboard.csv\")\n",
    "\n",
    "#Impresión de los Resultados\n",
    "print(\"La cantidad de registros en el DataFrame (renglones) es:\", datos_df.shape[0])\n",
    "print(\"El DataFrame es:\")\n",
    "display(datos_df)"
   ]
  },
  {
   "cell_type": "markdown",
   "metadata": {},
   "source": [
    "Se puede verificar la cantidad de registros que alcanzaron llegar al número 1 en el **DataFrame** y las que no, revisando la columna `top`: "
   ]
  },
  {
   "cell_type": "code",
   "execution_count": null,
   "metadata": {},
   "outputs": [],
   "source": [
    "#Mostrar las cantidades de canciones en el número 1 contenidas en la columna \"top\"\n",
    "print(\"La cantidad de canciones que NO llegaron a número 1 es:\", datos_df.groupby('Top').size()[0])\n",
    "print(\"La cantidad de canciones que SI llegaron a número 1 es:\", datos_df.groupby('Top').size()[1])"
   ]
  },
  {
   "cell_type": "markdown",
   "metadata": {},
   "source": [
    "Es decir, se tienen 470 canciones que no alcanzaron la cima, y a 130 que alcanzaron el número uno. \n",
    "\n",
    "En otras palabras, se tiene una cantidad ***desbalanceada*** de etiquetas con valores `0` y `1` en la columna `Top`. Se puede visualizar esta diferencia por medio del método `.catplot()` de la librería **Seaborn**. \n",
    "\n",
    "La descripción detallada del método `.catplot()` se puede consultar [en esta liga](https://seaborn.pydata.org/generated/seaborn.catplot.html).\n",
    "\n",
    "La paleta de colores empleada en el método `.catplot()` y definida por el parámetro `palette` puede ser consultada a través [de esta liga](https://seaborn.pydata.org/tutorial/color_palettes.html)."
   ]
  },
  {
   "cell_type": "code",
   "execution_count": null,
   "metadata": {},
   "outputs": [],
   "source": [
    "#Eliminación de las Advertencias (Warnings) de Matplotlib\n",
    "import warnings\n",
    "warnings.filterwarnings('ignore')\n",
    "\n",
    "#Mostrar los valores en la columna \"Top\"\n",
    "sns.catplot(data = datos_df, x = 'Top', kind = 'count', palette = 'husl')\n",
    "plt.xlabel(\"Canciones en el Billboard (0 es NO, 1 es SI)\")\n",
    "plt.ylabel(\"Cantidad de Canciones\")\n",
    "#plt.savefig('./Guardados/Catplot_01.png', dpi=300, transparent=False, bbox_inches='tight')\n",
    "plt.show();"
   ]
  },
  {
   "cell_type": "markdown",
   "metadata": {},
   "source": [
    "Continuando con la visualización de los datos empleando el método `.catplot()`, se muestran los valores contenidos en la columna `Artist_Type` la cual tiene tres valores posibles (`male`, `female` y `mixed`):"
   ]
  },
  {
   "cell_type": "code",
   "execution_count": null,
   "metadata": {},
   "outputs": [],
   "source": [
    "#Eliminación de las Advertencias (Warnings) de Matplotlib\n",
    "warnings.filterwarnings('ignore')\n",
    "\n",
    "#Mostrar los valores en la columna \"Artist_Type\"\n",
    "sns.catplot(data = datos_df, x = 'Artist_Type', kind = 'count', palette = 'husl')\n",
    "plt.xlabel(\"Tipo de Artista\")\n",
    "plt.ylabel(\"Cantidad\")\n",
    "#plt.savefig('./Guardados/Catplot_02.png', dpi=300, transparent=False, bbox_inches='tight')\n",
    "plt.show();"
   ]
  },
  {
   "cell_type": "markdown",
   "metadata": {},
   "source": [
    "Se puede hacer una combinación de los resultados, para mostrar la cantidad de canciones que llegaron o no al número 1 en el **Billboard** pero clasificadas por el tipo de artista, es decir, combinar las columnas `Top` y `Artist_Type`. Para ello se usa el parámetro `hue` en el método `.catplot()` de la siguiente manera:"
   ]
  },
  {
   "cell_type": "code",
   "execution_count": null,
   "metadata": {},
   "outputs": [],
   "source": [
    "#Eliminación de las Advertencias (Warnings) de Matplotlib\n",
    "warnings.filterwarnings('ignore')\n",
    "\n",
    "#Mostrar los valores combinados en las columnas \"top\" y \"artist_type\"\n",
    "sns.catplot(data = datos_df, x = 'Top', hue = 'Artist_Type', kind = 'count', palette = 'husl')\n",
    "plt.xlabel(\"Canciones en el Billboard\")\n",
    "plt.ylabel(\"Cantidad\")\n",
    "#plt.savefig('./Guardados/Catplot_03.png', dpi=300, transparent=False, bbox_inches='tight')\n",
    "plt.show();"
   ]
  },
  {
   "cell_type": "markdown",
   "metadata": {},
   "source": [
    "Ahora se revisará el contenido de la columna `Mood`, la cual muestra el estado de ánimo que produce cada canción, para con ello poder identificar los diversos tipos y cuáles de ellos son más sobresalientes:"
   ]
  },
  {
   "cell_type": "code",
   "execution_count": null,
   "metadata": {},
   "outputs": [],
   "source": [
    "#Eliminación de las Advertencias (Warnings) de Matplotlib\n",
    "warnings.filterwarnings('ignore')\n",
    "\n",
    "#Mostrar los valores de la columna \"Mood\" en el DataFrame\n",
    "sns.catplot(data = datos_df, x = 'Mood', kind = 'count', aspect = 3, palette = 'husl')\n",
    "plt.xlabel(\"Estado de Ánimo de las Canciones\")\n",
    "plt.ylabel(\"Cantidad\")\n",
    "plt.xticks(rotation=45)\n",
    "#plt.savefig('./Guardados/Catplot_04.png', dpi=300, transparent=False, bbox_inches='tight')\n",
    "plt.show();"
   ]
  },
  {
   "cell_type": "markdown",
   "metadata": {},
   "source": [
    "Ahora se combinarán los datos de las columnas `Tempo` y `Top` para identificar el *tempo* que tienen las canciones que alcanzaron o no a llegar al número 1 en el **Billboard**. La  columna `Tempo` contiene los valores `Medium Tempo`, `Slow Tempo` y `Fast Tempo` que hace referencia a su velocidad de reproducción:"
   ]
  },
  {
   "cell_type": "code",
   "execution_count": null,
   "metadata": {},
   "outputs": [],
   "source": [
    "#Eliminación de las Advertencias (Warnings) de Matplotlib\n",
    "warnings.filterwarnings('ignore')\n",
    "\n",
    "#Mostrar los valores combinados en las columnas \"Tempo\" y \"Top\"\n",
    "sns.catplot(data = datos_df, x = 'Tempo', hue = 'Top', kind = 'count', palette = 'husl')\n",
    "plt.xlabel(\"Tempo de las Canciones en el Billboard\")\n",
    "plt.ylabel(\"Cantidad\")\n",
    "#plt.savefig('./Guardados/Catplot_05.png', dpi=300, transparent=False, bbox_inches='tight')\n",
    "plt.show();"
   ]
  },
  {
   "cell_type": "markdown",
   "metadata": {},
   "source": [
    "Se revisará el contenido de la columna `Genre`, la cual muestra el género al que pertenece cada canción, para con ello poder identificar los diversos tipos y cuáles de ellos son más sobresalientes:"
   ]
  },
  {
   "cell_type": "code",
   "execution_count": null,
   "metadata": {},
   "outputs": [],
   "source": [
    "#Eliminación de las Advertencias (Warnings) de Matplotlib\n",
    "warnings.filterwarnings('ignore')\n",
    "\n",
    "#Mostrar los valores de la columna \"Genre\" en el DataFrame\n",
    "sns.catplot(data = datos_df, x = 'Genre', kind = 'count', aspect = 3, palette = 'husl')\n",
    "plt.xlabel(\"Género de las Canciones\")\n",
    "plt.ylabel(\"Cantidad\")\n",
    "plt.xticks(rotation=45)\n",
    "#plt.savefig('./Guardados/Catplot_06.png', dpi=300, transparent=False, bbox_inches='tight')\n",
    "plt.show();"
   ]
  },
  {
   "cell_type": "markdown",
   "metadata": {},
   "source": [
    "Se combinarán los datos de las columnas `Mood` y `Top` para identificar el estado de ánimo que producen las canciones que alcanzaron o no a llegar al número 1 en el **Billboard**:"
   ]
  },
  {
   "cell_type": "code",
   "execution_count": null,
   "metadata": {},
   "outputs": [],
   "source": [
    "#Eliminación de las Advertencias (Warnings) de Matplotlib\n",
    "warnings.filterwarnings('ignore')\n",
    "\n",
    "#Mostrar los valores combinados en las columnas \"mood\" y \"top\"\n",
    "sns.catplot(data = datos_df, x = 'Mood', hue = 'Top', kind = 'count', aspect = 3, palette = 'husl')\n",
    "plt.xlabel(\"Tempo de las Canciones en el Billboard\")\n",
    "plt.ylabel(\"Cantidad\")\n",
    "plt.xticks(rotation=45)\n",
    "#plt.savefig('./Guardados/Catplot_07.png', dpi=300, transparent=False, bbox_inches='tight')\n",
    "plt.show();"
   ]
  },
  {
   "cell_type": "markdown",
   "metadata": {},
   "source": [
    "Se revisará el contenido de la columna `Birthyear`, la cual muestra los años de nacimiento de los artistas principales de cada canción, para con ello poder identificar los rangos de tiempo y cuáles de ellos son más sobresalientes:"
   ]
  },
  {
   "cell_type": "code",
   "execution_count": null,
   "metadata": {},
   "outputs": [],
   "source": [
    "#Eliminación de las Advertencias (Warnings) de Matplotlib\n",
    "warnings.filterwarnings('ignore')\n",
    "\n",
    "#Mostrar los valores de la columna \"Birthyear\" en el DataFrame\n",
    "sns.catplot(data = datos_df, x = 'Birthyear', kind = 'count', aspect = 3, palette = 'husl')\n",
    "plt.xlabel(\"Año de Nacimiento de los Artistas\")\n",
    "plt.ylabel(\"Cantidad\")\n",
    "plt.xticks(rotation=45)\n",
    "#plt.savefig('./Guardados/Catplot_08.png', dpi=300, transparent=False, bbox_inches='tight')\n",
    "plt.show();"
   ]
  },
  {
   "cell_type": "markdown",
   "metadata": {},
   "source": [
    "Es poisible notar que se tienen más de 120 registros de canciones de las que se desconoce el año de nacimiento del artista. Esto se puede determinar de la siguente manera:"
   ]
  },
  {
   "cell_type": "code",
   "execution_count": null,
   "metadata": {},
   "outputs": [],
   "source": [
    "#Determinación de los registros sin año de nacimiento\n",
    "year_birth = datos_df['Birthyear']\n",
    "year_0 = len(year_birth[year_birth <= 0])\n",
    "print(\"La cantidad de registros que no tienen un año de nacimiento es:\", year_0)"
   ]
  },
  {
   "cell_type": "markdown",
   "metadata": {},
   "source": [
    "### Balanceo de Datos: Pocos artistas llegan al número uno\n",
    "Como se pudo ver con anterioridad, no existe un *equilibrio* en la cantidad de etiquetas top y no-top de las canciones. Esto se debe a que en el transcurso de un año, apenas unas 5 o 6 canciones logran el primer puesto y se mantienen durante varias semanas en ese puesto.\n",
    "\n",
    "Para equilibrar los casos positivos, el **DataFrame** contiene sólamente las canciones que llegaron al número 1 entre los años 2004 al 2013, y para los años 2014 y 2015 contiene la lista completa. A pesar de ello sigue desbalanceado, una alternativa sería continuar agregando canciones en el número 1 en años previos a 2004, la otra opción es emplear un parámetro del algoritmo de **Árbol de Decisión** (class_weight) para compensar esta diferencia.\n",
    "\n",
    "Primeramente, se visualizarán las canciones que llegaron o no al número 1 en el **Billboard** de acuerdo a sus fechas que tienen registradas en el **DataFrame**. Este gráfico que se realiza a través del método `.scatter()` de la librería **Matplotlib**.\n",
    "\n",
    "El color `azul` indica canciones que llegaron al número 1, y el color `naranja` indica canciones que no llegaron. Por lo mismo, será posible observar que en los años del 2004 al 2013 solo aparecen canciones en el número 1, a diferencia del 2014 y 2015:"
   ]
  },
  {
   "cell_type": "code",
   "execution_count": null,
   "metadata": {},
   "outputs": [],
   "source": [
    "#Mostrar la relación de los valores en las columnas \"Chart_Date\" y \"Duration\"\n",
    "f1 = datos_df['Chart_Date'].values\n",
    "f2 = datos_df['Duration'].values\n",
    "\n",
    "color = ['orange','blue'] \n",
    "\n",
    "asignar = []\n",
    "for index, row in datos_df.iterrows():    \n",
    "    asignar.append(color[row['Top']])\n",
    "\n",
    "plt.scatter(f1, f2, c = asignar)\n",
    "plt.xlabel(\"Año en el Billboard\")\n",
    "plt.ylabel(\"Duración de la Canción [s]\")\n",
    "plt.axis([20030101,20160101,0,600])\n",
    "#plt.savefig('./Guardados/Billboard.png', dpi=300, transparent=False, bbox_inches='tight')\n",
    "plt.show();"
   ]
  },
  {
   "cell_type": "markdown",
   "metadata": {},
   "source": [
    "### Preparación de los Datos\n",
    "Primeramente, se procederá a ajustar el problema de los años de nacimiento que están en cero. \n",
    "\n",
    "La característica (*feature*) que se pretende obtener es: ***conociendo el año de nacimiento del cantante, calcular la edad que tenía al momento de aparecer en el Billboard***. Por ejemplo un artista que nació en 1982 y apareció en los charts en 2012, tenía 30 años.\n",
    "\n",
    "Para ello, se van a sustituir los ceros de la columna `Birthyear` por el valor `None`, el cual representa nulidad en **Python** (es igual a `NaN`) de la siguiente manera:"
   ]
  },
  {
   "cell_type": "code",
   "execution_count": null,
   "metadata": {},
   "outputs": [],
   "source": [
    "#Definición de una Función para Asignar Valores \"None\" a la columna \"Birthyear\"\n",
    "def edad_fix(year):\n",
    "    if year == 0:\n",
    "        return None\n",
    "    return year\n",
    "\n",
    "#Llamado a la Función\n",
    "datos_df['Birthyear'] = datos_df.apply(lambda x: edad_fix(x['Birthyear']), axis=1)\n",
    "\n",
    "#Impresión de los Resultados\n",
    "print(\"El DataFrame es:\")\n",
    "display(datos_df)"
   ]
  },
  {
   "cell_type": "markdown",
   "metadata": {},
   "source": [
    "Ahora se calcularán las edades en una nueva columna llamada `Age`, restando el año de aparición al año de nacimiento. El año de aparición corresponde a los 4 primeros caracteres de la columna `Chart_Date`. En las filas donde el año de nacimiento tenga un valor `None`, se tendrá como resultado un `None` también:"
   ]
  },
  {
   "cell_type": "code",
   "execution_count": null,
   "metadata": {},
   "outputs": [],
   "source": [
    "#Definición de una Función para Agregar la columna \"Age\" al DataFrame\n",
    "def calcula_edad(anio, cuando):\n",
    "    cad = str(cuando)\n",
    "    momento = cad[:4]\n",
    "    if anio == 0.0:\n",
    "        return None\n",
    "    return int(momento) - anio\n",
    "\n",
    "#Llamado a la Función\n",
    "datos_df['Age'] = datos_df.apply(lambda x: calcula_edad(x['Birthyear'], x['Chart_Date']), axis=1);\n",
    "\n",
    "#Impresión de los Resultados\n",
    "print(\"El DataFrame es:\")\n",
    "display(datos_df)"
   ]
  },
  {
   "cell_type": "markdown",
   "metadata": {},
   "source": [
    "Ahora, se asignarán edades aleatorias a los registros faltantes. Para ello se realizarán las siguientes operaciones:\n",
    "\n",
    "1. Obtener el promedio de edad de la columna `Age` con el método `mean()`.\n",
    "2. Obtener la desviación estándar de la columna `Age` con el método `std()`.\n",
    "3. Se determina la cantidad de valores nulos en la columna `Age` con el método `.isnull().sum()`.\n",
    "4. Se calculan valores aleatorios que van desde (mean – std) hasta (mean + std) usando la función `np.random.randint()` de **NumPy**, en este caso serán edades en el rango de 21 a 37 años. \n",
    "\n",
    "Esto es:"
   ]
  },
  {
   "cell_type": "code",
   "execution_count": null,
   "metadata": {},
   "outputs": [],
   "source": [
    "#Determinación del Promedio de Edad\n",
    "age_avg = datos_df['Age'].mean()\n",
    "\n",
    "#Determinación de la Desviación Estándar de la Edad\n",
    "age_std = datos_df['Age'].std()\n",
    "\n",
    "#Determinación de la Cantidad de Valores Nulos\n",
    "age_null_count = datos_df['Age'].isnull().sum()\n",
    "\n",
    "#Determinación de Valores Aleatorios\n",
    "age_null_random_list = np.random.randint(age_avg - age_std, age_avg + age_std, size = age_null_count)\n",
    "\n",
    "#Asignación de los Valores Aleatorios en los Valores Nulos\n",
    "datos_df.loc[np.isnan(datos_df['Age']), 'Age'] = age_null_random_list\n",
    "\n",
    "#Asignación del Formato Entero a la Columna \"Age\"\n",
    "datos_df['Age'] = datos_df['Age'].astype(int)\n",
    "\n",
    "#Impresión de los Resultados\n",
    "print(\"Edad Promedio: %.2f\"% age_avg, \"años\")\n",
    "print(\"Desviación Estándar de la Edad: %.2f\"%age_std, \"años\")\n",
    "print(\"Intérvalo para asignar la edad aleatoria: %i\"% int(age_avg - age_std) + \" a %i\"% + int(age_avg + age_std), \"años\")\n",
    "print(\"El DataFrame es:\")\n",
    "display(datos_df)"
   ]
  },
  {
   "cell_type": "markdown",
   "metadata": {},
   "source": [
    "Lo más ideal es contar con la información real, la cual se podría obtener a través de una búsqueda en sitios especializados o en **Wikipedia**. Sin embargo, esta es una buena alternativa para llenar los campos guardando una correspondencia con los demás valores en el **DataFrame**.\n",
    "\n",
    "### Mapeo de Datos\n",
    "A continuación se van a transformar varios de los datos de entrada en valores categóricos:\n",
    "\n",
    "* Estados de ánimo: Se agruparán por estados similares en valores de 0 a 6.\n",
    "* Tempo: Se agruparán como: 0-Fast, 1-Slow, 2-Medium.\n",
    "* Género: Se agruparán por géneros similares en valores del 0 al 4.\n",
    "* Tipo de Artista: Se agruparán como: 1-Mixed, 2-Female, 3-Male.\n",
    "* Edades: Se agruparán por grupos de edades en valores de 0 a 4. \n",
    "* Duración de las canciones: Se agruparán por tiempos de duración en valores de 0 a 6.\n",
    "\n",
    "Esto se realiza de la siguiente manera:"
   ]
  },
  {
   "cell_type": "code",
   "execution_count": null,
   "metadata": {},
   "outputs": [],
   "source": [
    "#Mapeo del Estado de Ánimo (columna \"Mood\")\n",
    "datos_df['MoodEncoded'] = datos_df['Mood'].map( {\n",
    "                                        'Energizing': 6, \n",
    "                                        'Empowering': 6,\n",
    "                                        'Cool': 5, \n",
    "                                        'Yearning': 4, \n",
    "                                        'Excited': 5, \n",
    "                                        'Defiant': 3, \n",
    "                                        'Sensual': 2, \n",
    "                                        'Gritty': 3,\n",
    "                                        'Sophisticated': 4,\n",
    "                                        'Aggressive': 4, \n",
    "                                        'Fiery': 4, \n",
    "                                        'Urgent': 3, \n",
    "                                        'Rowdy': 4, \n",
    "                                        'Sentimental': 4,\n",
    "                                        'Easygoing': 1, \n",
    "                                        'Melancholy': 4, \n",
    "                                        'Romantic': 2, \n",
    "                                        'Peaceful': 1, \n",
    "                                        'Brooding': 4, \n",
    "                                        'Upbeat': 5, \n",
    "                                        'Stirring': 5, \n",
    "                                        'Lively': 5, \n",
    "                                        'Other': 0,\n",
    "                                        '':0} \n",
    "                                            ).astype(int)\n",
    "\n",
    "#Mapeo del Tempo (columna \"Tempo\")\n",
    "datos_df['TempoEncoded'] = datos_df['Tempo'].map( {\n",
    "                                        'Fast Tempo': 0, \n",
    "                                        'Medium Tempo': 2, \n",
    "                                        'Slow Tempo': 1, \n",
    "                                        '': 0} \n",
    "                                            ).astype(int)\n",
    "\n",
    "#Mapeo del Género (columna \"Genre\")\n",
    "datos_df['GenreEncoded'] = datos_df['Genre'].map( {\n",
    "                                        'Urban': 4, \n",
    "                                        'Pop': 3, \n",
    "                                        'Traditional': 2, \n",
    "                                        'Alternative & Punk': 1,\n",
    "                                        'Electronica': 1, \n",
    "                                        'Rock': 1, \n",
    "                                        'Soundtrack': 0, \n",
    "                                        'Jazz': 0,\n",
    "                                        'Other':0,\n",
    "                                        '':0} \n",
    "                                           ).astype(int)\n",
    "\n",
    "#Mapeo del tipo de artista (columna \"Artist_Type\")\n",
    "datos_df['Artist_TypeEncoded'] = datos_df['Artist_Type'].map( {\n",
    "                                        'Female': 2, \n",
    "                                        'Male': 3, \n",
    "                                        'Mixed': 1, \n",
    "                                        '': 0} \n",
    "                                            ).astype(int)\n",
    "\n",
    "#Mapeo de la edad en el Billboard (columna \"Age\")\n",
    "datos_df.loc[ datos_df['Age'] <= 21, 'AgeEncoded'] = 0\n",
    "datos_df.loc[(datos_df['Age'] >  21) & (datos_df['Age'] <= 26), 'AgeEncoded'] = 1\n",
    "datos_df.loc[(datos_df['Age'] >  26) & (datos_df['Age'] <= 30), 'AgeEncoded'] = 2\n",
    "datos_df.loc[(datos_df['Age'] >  30) & (datos_df['Age'] <= 40), 'AgeEncoded'] = 3\n",
    "datos_df.loc[ datos_df['Age'] >  40, 'AgeEncoded'] = 4\n",
    "\n",
    "#Mapeo de la duración de la canción (columna \"DurationSeg\") \n",
    "datos_df.loc[ datos_df['Duration'] <= 150, 'DurationEncoded'] = 0\n",
    "datos_df.loc[(datos_df['Duration'] >  150) & (datos_df['Duration'] <= 180), 'DurationEncoded'] = 1\n",
    "datos_df.loc[(datos_df['Duration'] >  180) & (datos_df['Duration'] <= 210), 'DurationEncoded'] = 2\n",
    "datos_df.loc[(datos_df['Duration'] >  210) & (datos_df['Duration'] <= 240), 'DurationEncoded'] = 3\n",
    "datos_df.loc[(datos_df['Duration'] >  240) & (datos_df['Duration'] <= 270), 'DurationEncoded'] = 4\n",
    "datos_df.loc[(datos_df['Duration'] >  270) & (datos_df['Duration'] <= 300), 'DurationEncoded'] = 5\n",
    "datos_df.loc[ datos_df['Duration'] >  300, 'DurationEncoded'] = 6\n",
    "\n",
    "#Impresión de los Resultados\n",
    "print(\"El DataFrame es:\")\n",
    "display(datos_df)"
   ]
  },
  {
   "cell_type": "markdown",
   "metadata": {},
   "source": [
    "Finalmente se obtiene un nuevo conjunto de datos llamado `datos_encoded` con el que se cuenta con los atributos definitivos para crear el árbol de decisión. \n",
    "\n",
    "Para ello, se eliminan las columnas que no se requieren (`Id`, `Title`, `Artist`, `Mood`, `Tempo`, `Genre`, `Artist_Type`, `Chart_Date`, `Birthyear`, `Duration` y `Age`) empleando el método `.drop()`:"
   ]
  },
  {
   "cell_type": "code",
   "execution_count": null,
   "metadata": {},
   "outputs": [],
   "source": [
    "#Eliminación de columnas no requeridas\n",
    "drop_elements = ['ID','Title','Artist','Mood','Tempo','Genre','Artist_Type','Chart_Date','Birthyear','Duration','Age']\n",
    "datos_encoded = datos_df.drop(drop_elements, axis = 1)\n",
    "\n",
    "#Impresión de los Resultados\n",
    "print(\"El DataFrame es:\")\n",
    "display(datos_encoded)"
   ]
  },
  {
   "cell_type": "markdown",
   "metadata": {},
   "source": [
    "Con este nuevo **DataFrame**, podemos realizar una matriz de correlación para visualizar las relaciones entre las variables empleando el método `heatmap()` de la librería **Seaborn**. \n",
    "\n",
    "La descripción detallada del método `heatmap()` se puede consultar [en esta liga](https://seaborn.pydata.org/generated/seaborn.heatmap.html). \n",
    "\n",
    "Debido a que los datos son categóricos, no hay una correlación marcada entre ellos, lo cual pudiera parecer que los datos no proporcionarán una adecuada predicción, pero el modelo del **Árbol de Decisión** será capaz de funcionar adecuadamente:"
   ]
  },
  {
   "cell_type": "code",
   "execution_count": null,
   "metadata": {},
   "outputs": [],
   "source": [
    "#Matriz de Correlación del DataFrame\n",
    "plt.title('Correlación de Características')\n",
    "sns.heatmap(datos_encoded.astype(float).corr(),\n",
    "           linewidths=0.1,\n",
    "           vmax=1.0, \n",
    "           square=True, \n",
    "           cmap='viridis', \n",
    "           linecolor='white', \n",
    "           annot=True)\n",
    "plt.xticks(rotation = 45)\n",
    "#plt.savefig('./Guardados/Heatmap.png', dpi=300, transparent=False, bbox_inches='tight')\n",
    "plt.show();"
   ]
  },
  {
   "cell_type": "markdown",
   "metadata": {},
   "source": [
    "### Determinación de la Profundidad del Árbol de Decisión\n",
    "Para poder crear el **Árbol de Decisión**, será necesario determinar la cantidad de niveles de profundidad que se le asignarán. \n",
    "\n",
    "Primeramente se empleará el método `.KFold()` de la librería **SciKit-Learn** el cual es de gran utilidad para crear varios subgrupos con los datos de entrada, y con ello validar y valorar los árboles con diversos niveles de profundidad. De entre ellos, se seleccionará el que proporcione un mejor resultado.\n",
    "\n",
    "Posteriormente, para crear el árbol se utilizará el método `.tree.DecisionTreeClasifier()` de la librería **SciKit-Learn** pues se requiere un árbol de clasificación (no de regresión). Se configura con los parámetros:\n",
    "\n",
    "* `criterion = entrop`: Es el criterio a emplear, en este caso se selecciona para la ganancia de información (entrophy) aunque pudiera ser **GINI**, pero se están usando entradas categóricas.\n",
    "* `min_samples_split = 2`: Es la cantidad mínima de muestras que debe tener un nodo para poder subdividir.\n",
    "* `min_samples_leaf = 5`: Es la cantidad mínima que puede tener una hoja final. Si tuviera menos, no se formaría adecuadamente esa hoja.\n",
    "* `class_weight = {1:3.6}`: Este valor es de gran importancia, ya que es el empleado para compensar los desbalances que haya en los datos. Para este ejemplo, se tienen menos etiquetas de tipo `top=1` (los artistas que llegaron al número 1 del ranking). Por lo tanto, se le asigna un valor 3.6 de peso a la etiqueta 1 para compensar. El valor sale de dividir la cantidad de `top=0` (son 470) con los `top=1` (son 130).\n",
    "\n",
    "**Nota**: Estos valores asignados a los parámetros se realizaron por prueba y error.\n",
    "\n",
    "Para saber más:\n",
    "* La descripción detallada del método `.KFold()` se puede consultar [en esta liga](https://scikit-learn.org/stable/modules/generated/sklearn.model_selection.KFold.html).\n",
    "\n",
    "* La descripción detallada del método `.tree.DecisionTreeClasifier()` se puede consultar [en esta liga](https://scikit-learn.org/stable/modules/generated/sklearn.tree.DecisionTreeClassifier.html)."
   ]
  },
  {
   "cell_type": "code",
   "execution_count": null,
   "metadata": {},
   "outputs": [],
   "source": [
    "#Creación de varios subgrupos (10) con los datos de entrada\n",
    "cv = KFold(n_splits = 10)\n",
    "accuracies = list()\n",
    "max_attributes = len(list(datos_encoded))\n",
    "depth_range = range(1, max_attributes + 1)\n",
    "\n",
    "#Prueba del Nivel de Profundidad\n",
    "for depth in depth_range:\n",
    "    fold_accuracy = []\n",
    "    tree_model = tree.DecisionTreeClassifier(criterion='entropy',\n",
    "                                             min_samples_split = 20,\n",
    "                                             min_samples_leaf = 5,\n",
    "                                             max_depth = depth,\n",
    "                                             class_weight = {1:3.6})\n",
    "    for train_fold, valid_fold in cv.split(datos_encoded):\n",
    "        f_train = datos_encoded.loc[train_fold] \n",
    "        f_valid = datos_encoded.loc[valid_fold] \n",
    "\n",
    "        model = tree_model.fit(X = f_train.drop(['Top'], axis=1), \n",
    "                               y = f_train[\"Top\"]) \n",
    "        valid_acc = model.score(X = f_valid.drop(['Top'], axis=1), \n",
    "                                y = f_valid[\"Top\"])\n",
    "        fold_accuracy.append(valid_acc)\n",
    "\n",
    "    avg = sum(fold_accuracy)/len(fold_accuracy)\n",
    "    accuracies.append(avg)\n",
    "    \n",
    "#Impresión de los Resultados\n",
    "df = pd.DataFrame({\"Max Depth\": depth_range, \"Average Accuracy\": accuracies})\n",
    "df = df[[\"Max Depth\", \"Average Accuracy\"]]\n",
    "print(df.to_string(index=False))"
   ]
  },
  {
   "cell_type": "markdown",
   "metadata": {},
   "source": [
    "De los resultados es posible ver que en 6 niveles de subgrupos (*splits*) se tiene el valor de precisión más alto, con casi el 62%. Con ello se creará y visualizará el árbol de 6 niveles de profundidad.\n",
    "\n",
    "### Creación y Visualización del Árbol de Decisión\n",
    "Se asignan los datos de entrada y los parámetros que se configuraron previamente con 4 niveles de profundidad. Para ello se empleará el método `.tree.export_graphviz()` de la librería **SciKit-Learn** para crear un archivo de extensión `.dot` que luego se convertirá en un gráfico en formato `.png` para visualizar el árbol.\n",
    "\n",
    "La descripción detallada del método `.tree.export_graphviz()` se puede consultar [en esta liga](https://scikit-learn.org/stable/modules/generated/sklearn.tree.export_graphviz.html).\n",
    "\n",
    "**Nota Importante:** En el caso de que la imagen `.png` no sea generada o aparezca algún error (por ejemplo: *[Errno 2] No such file or directory: 'dot'*), será necesario instalar la librería **Graphviz** la cual proporciona representaciones graficas de información estructurada. Su documentación puede ser consultada [en esta liga](https://graphviz.org).\n",
    "\n",
    "### La Librería Graphviz\n",
    "<center><img src=\"./Imagenes/Graphviz_logo.png\" style=\"width:200px;height:200px;\" class=\"center\"></center>\n",
    "\n",
    "* La instalación se lleva a cabo a través de la ejecución del siguiente código desde una ventana de **Terminal** para `Windows`, `macOS` y `Linux`: \n",
    "```python\n",
    "pip install graphviz\n",
    "```\n",
    "* Para el caso de `macOS`, es posible que esta instalación no funcione, en ese caso será necesario realizar la instalación por medio del comando:\n",
    "```python\n",
    "brew install graphviz\n",
    "```\n",
    "* En el caso de que no se cuente con **Homebrew** y el comando anterior no funcione, habrá que ejecutar primeramente el siguiente comando (descrito a detalle [en esta liga](https://brew.sh)):  \n",
    "```python\n",
    "/bin/bash -c \"$(curl -fsSL https://raw.githubusercontent.com/Homebrew/install/master/install.sh)\"\n",
    "```"
   ]
  },
  {
   "cell_type": "code",
   "execution_count": null,
   "metadata": {},
   "outputs": [],
   "source": [
    "#Importación de librerías\n",
    "from IPython.display import Image as PImage\n",
    "from subprocess import check_call\n",
    "from PIL import Image, ImageDraw, ImageFont\n",
    "\n",
    "#Creación de los arreglos de entrenamiento y las etiquetas que indican si llegó a top o no \n",
    "y_train = datos_encoded['Top']\n",
    "x_train = datos_encoded.drop(['Top'], axis = 1).values \n",
    "\n",
    "#Creación del Árbol de Decisión con profundidad igual a 5\n",
    "decision_tree = tree.DecisionTreeClassifier(criterion='entropy',\n",
    "                                            min_samples_split = 20,\n",
    "                                            min_samples_leaf = 5,\n",
    "                                            max_depth = 6,\n",
    "                                            class_weight = {1:3.6})\n",
    "decision_tree.fit(x_train, y_train)\n",
    "\n",
    "#Exportación del modelo a archivo \".dot\"\n",
    "with open(\"./Guardados/Arbol.dot\", 'w') as f:\n",
    "     f = tree.export_graphviz(decision_tree,\n",
    "                              out_file = f,\n",
    "                              max_depth = 6,\n",
    "                              impurity = True,\n",
    "                              feature_names = list(datos_encoded.drop(['Top'], axis = 1)),\n",
    "                              class_names = ['No', 'N1 Billboard'],\n",
    "                              rounded = True,\n",
    "                              filled = True )\n",
    "        \n",
    "#Exportación del modelo a archivo \".png\"\n",
    "check_call(['dot','-Tpng','./Guardados/Arbol.dot','-o','./Guardados/Arbol.png'])\n",
    "PImage(\"./Guardados/Arbol.png\")"
   ]
  },
  {
   "cell_type": "markdown",
   "metadata": {},
   "source": [
    "### Precisión del Árbol de Decisión\n",
    "En el gráfico se puede observar un nodo raíz que hace una primer subdivisión por género y las salidas van a izquierda por `True` que sea menor o igual a 2.5, es decir los géneros 0, 1 y 2 (eran los que menos `Top=1` tenían) y a derecha en `False` van los géneros 3 y 4 que eran *Pop* y *Urban* con gran cantidad de usuarios top en el Billboard.\n",
    "\n",
    "En el segundo nivel vemos que la cantidad de muestras (*samples*) queda repartida en 220 y 380, respectivamente.\n",
    "\n",
    "A medida que se baja de nivel se puede ver que los valores de entropía se aproximan más a 1 cuando el nodo tiene más muestras `Top=1` (en color azul) y se acercan a 0 cuando hay mayoría de muestras `Top=0` (en color naranja).\n",
    "\n",
    "En los diversos niveles se pueden ver divisiones por tipo de artista, edad, duración y mood. También se observan algunas hojas naranjas que finalizan antes de llegar al último nivel, esto es porque alcanzan un nivel de entropía cero.\n",
    "\n",
    "La precisión alcanzada por el **Árbol de Decisión** es:"
   ]
  },
  {
   "cell_type": "code",
   "execution_count": null,
   "metadata": {},
   "outputs": [],
   "source": [
    "#Precisión del Árbol de Decisión\n",
    "acc_decision_tree = round(decision_tree.score(x_train, y_train) * 100, 2)\n",
    "\n",
    "#Impresión de los Resultados\n",
    "print(\"La precisión obtenida por el Árbol de Decisión es: %.2f\"% acc_decision_tree +\"%\")"
   ]
  },
  {
   "cell_type": "markdown",
   "metadata": {},
   "source": [
    "#### Predicciones empleando el Árbol de Decisión\n",
    "Se probará el **Árbol de Decisión** recién creado con 2 artistas que entraron al **Billboard** en 2017: \n",
    "\n",
    "1. ***Camila Cabello*** llegó al numero 1 con la Canción \"*Havana*\". \n",
    "2. ***Imagine Dragons*** con la Canción \"*Believer*\" que alcanzó un puesto 42 pero no llegó al número 1.\n",
    "\n",
    "Para ello se empleará el método `.predict()` de la siguiente manera:\n",
    "\n",
    "Para el primer escenario (***Camila Cabello***, canción \"*Havana*\"), los datos son:\n",
    "* `Top`: 1 (en el Billboard).\n",
    "* `MoodEncoded`: 5 (Cool, Excited, Upbeat, Stirring, Lively).\n",
    "* `TempoEncoded`: 2 (Medium).\n",
    "* `GenreEncoded`: 4 (Urban).\n",
    "* `Artist_TypeEncoded`: 2 (Female).\n",
    "* `AgeEncoded`: 0 (menor a 21 años).\n",
    "* `DurationEncoded`: 3 (entre 210 y 240 segundos)."
   ]
  },
  {
   "cell_type": "code",
   "execution_count": null,
   "metadata": {},
   "outputs": [],
   "source": [
    "#Predicción para el primer escenario\n",
    "x_test = pd.DataFrame(columns=('Top','MoodEncoded', 'TempoEncoded', 'GenreEncoded','Artist_TypeEncoded','AgeEncoded','DurationEncoded'))\n",
    "x_test.loc[0] = (1,5,2,4,2,0,3)\n",
    "y_pred = decision_tree.predict(x_test.drop(['Top'], axis = 1))\n",
    "y_proba = decision_tree.predict_proba(x_test.drop(['Top'], axis = 1))\n",
    "\n",
    "#Impresión de los Resultados\n",
    "print(\"Camila Cabello, canción titulada \\\"Havana\\\"\")\n",
    "print(\"Prediccion: \" + str(y_pred))\n",
    "print(\"Probabilidad de Acierto: \" + str(round(y_proba[0][y_pred][0]* 100, 2))+\"%\")"
   ]
  },
  {
   "cell_type": "markdown",
   "metadata": {},
   "source": [
    "Esto implica que \"*Havana*\" llegará al top 1 [Predicción igual a 1] con una probabilidad especificada.\n",
    "\n",
    "Para el segundo escenario (***Imagine Dragons***, canción \"*Believer*\"), los datos son:\n",
    "* `Top`: 0 (fuera del Billboard).\n",
    "* `MoodEncoded`: 4 (Yearning, Sophisticated, Aggresive, Fiery, Sentimental, Melancholy, Brooding).\n",
    "* `TempoEncoded`: 2 (Medium).\n",
    "* `GenreEncoded`: 1 (Alternative & Punk, Electronica, Rock).\n",
    "* `Artist_TypeEncoded`: 3 (Male).\n",
    "* `AgeEncoded`: 2 (entre 26 y 30 años).\n",
    "* `DurationEncoded`: 3 (entre 210 y 240 segundos)."
   ]
  },
  {
   "cell_type": "code",
   "execution_count": null,
   "metadata": {},
   "outputs": [],
   "source": [
    "#Predicción para el segundo escenario\n",
    "x_test = pd.DataFrame(columns=('Top','MoodEncoded', 'TempoEncoded', 'GenreEncoded','Artist_TypeEncoded','AgeEncoded','DurationEncoded'))\n",
    "x_test.loc[0] = (0,4,2,1,3,2,3)\n",
    "y_pred = decision_tree.predict(x_test.drop(['Top'], axis = 1))\n",
    "y_proba = decision_tree.predict_proba(x_test.drop(['Top'], axis = 1))\n",
    "\n",
    "#Impresión de los Resultados\n",
    "print(\"Imagine Dragons, canción titulada \\\"Believer\\\"\")\n",
    "print(\"Prediccion: \" + str(y_pred))\n",
    "print(\"Probabilidad de Acierto: \" + str(round(y_proba[0][y_pred][0]* 100, 2))+\"%\")"
   ]
  },
  {
   "cell_type": "markdown",
   "metadata": {},
   "source": [
    "Esto implica que \"*Believer*\" no llegará al top 1 [Predicción igual a 0] con una probabilidad especificada.\n",
    "\n",
    "A continuación se muestran los caminos tomados:\n",
    "* \"*Havana*\" en color morado, que alcanzó el número 1.\n",
    "* \"*Believer*\" en color amarillo, que no alcanzó el número 1.\n",
    "\n",
    "<center><img src=\"./Imagenes/Arbol_Ruta.png\" style=\"width:1000px;height:285px;\" class=\"center\"></center>"
   ]
  },
  {
   "cell_type": "markdown",
   "metadata": {},
   "source": [
    "<div class=\"alert alert-block alert-danger\">\n",
    "<b>.: Fin del Tema :.</b>\n",
    "</div>"
   ]
  }
 ],
 "metadata": {
  "kernelspec": {
   "display_name": "Python 3 (ipykernel)",
   "language": "python",
   "name": "python3"
  },
  "language_info": {
   "codemirror_mode": {
    "name": "ipython",
    "version": 3
   },
   "file_extension": ".py",
   "mimetype": "text/x-python",
   "name": "python",
   "nbconvert_exporter": "python",
   "pygments_lexer": "ipython3",
   "version": "3.8.19"
  }
 },
 "nbformat": 4,
 "nbformat_minor": 4
}
