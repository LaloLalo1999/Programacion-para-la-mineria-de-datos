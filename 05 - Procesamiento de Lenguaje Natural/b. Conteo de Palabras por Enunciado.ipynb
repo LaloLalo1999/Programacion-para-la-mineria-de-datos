{
 "cells": [
  {
   "cell_type": "markdown",
   "metadata": {},
   "source": [
    "<div class=\"alert alert-block alert-info\">\n",
    "<span style=\"color: rgb(0,53,91);\">\n",
    "<center><img src=\"./Imagenes/ITESO_Logo.png\" style=\"width:500px;height:142px;\" title=\"Logo ITESO\"></center>\n",
    "<font face = \"Times New Roman\" size = \"6\"><b><center>Maestría en Sistemas Computacionales</center></b></font>\n",
    "<font face = \"Times New Roman\" size = \"5\"><b><center>Programación para Análisis de Datos</center></b></font>\n",
    "\n",
    "<b><br><font face = \"Times New Roman\" size = \"4\"><center>Unidad 5: Proceso de Selección de Métodos</center></font>\n",
    "<font face = \"Times New Roman\" size = \"4\"><center>Tema 5.1: Procesamiento de Lenguaje Natural</center></font>\n",
    "<font face = \"Times New Roman\" size = \"4\"><center>Subtema b: Conteo de Palabras por Enunciado</center></font></b>\n",
    "<div align=\"right\"><font face = \"Times New Roman\" size = \"2\">Dr. Iván Esteban Villalón Turrubiates (villalon@iteso.mx)</font></div>\n",
    "</span></div>"
   ]
  },
  {
   "cell_type": "markdown",
   "metadata": {},
   "source": [
    "## CONTEO DE PALABRAS POR ENUNCIADO\n",
    "\n",
    "Para este ejemplo, se empleará el **Corpus** llamado `Inaugural`, el cual contiene los discursos de toma de protesta de los Presidentes de los Estados Unidos de América del año 1789 al año 2017.\n",
    "\n",
    "Se descargará adicionalmente un recurso llamado `punkt`, el cual es un ***tokenizador*** que divide un texto en una lista de enunciados (sentencias) a través de un algoritmo no supervisado para construir un modelo para palabras abreviadas, colocaciones y palabras que comienzan enunciados. "
   ]
  },
  {
   "cell_type": "code",
   "execution_count": null,
   "metadata": {},
   "outputs": [],
   "source": [
    "#Importación de la librería NLTK\n",
    "import nltk\n",
    "\n",
    "#Descarga del corpus Inaugural\n",
    "nltk.download('inaugural')\n",
    "\n",
    "#Descarga del recurso 'punkt'\n",
    "nltk.download('punkt')\n",
    "\n",
    "#Revisar los identificadores del corpus por medio de método .fileids()\n",
    "nltk.corpus.inaugural.fileids()"
   ]
  },
  {
   "cell_type": "markdown",
   "metadata": {},
   "source": [
    "Se muestra a continuación una manera de calcular la cantidad de elementos en cada uno de dichos discursos empleando un ciclo `for` que contenga las siguientes acciones:\n",
    "\n",
    "1. Empleando el método `.corpus.inaugural.words()` para leer el archivo. \n",
    "2. Empleando el método `len()` para realizar el conteo de elementos en el documento.\n",
    "3. Imprimiendo los resultados.\n",
    "\n",
    "Esto es:"
   ]
  },
  {
   "cell_type": "code",
   "execution_count": null,
   "metadata": {},
   "outputs": [],
   "source": [
    "#Cantidad de palabras en cada documento\n",
    "for discurso in nltk.corpus.inaugural.fileids():\n",
    "    palabras_total = len(nltk.corpus.inaugural.words(discurso))\n",
    "    print(\"La cantidad de elementos en el discurso\", discurso, \"es de:\", palabras_total, \"elementos.\")"
   ]
  },
  {
   "cell_type": "markdown",
   "metadata": {},
   "source": [
    "Con esto, es posible crear una lista que contenga la cantidad de elementos junto con su respectivo documento. Para ello se empeará el método `.extend()` de **Python** de la siguiente manera:"
   ]
  },
  {
   "cell_type": "code",
   "execution_count": null,
   "metadata": {},
   "outputs": [],
   "source": [
    "#Creación de una lista con la cantidad de elementos y el documento asociado\n",
    "lista_lon = []   \n",
    "for discurso in nltk.corpus.inaugural.fileids():\n",
    "    lista_lon.extend([(len(nltk.corpus.inaugural.words(discurso)), discurso)])\n",
    "\n",
    "#Impresión de los Resultados\n",
    "print(\"La cantidad de documentos en la lista es:\", len(lista_lon))\n",
    "print(\"\\nLa lista es:\\n\", lista_lon)"
   ]
  },
  {
   "cell_type": "markdown",
   "metadata": {},
   "source": [
    "A partir de esta lista, se pueden emplear diversos métodos de utilidad. Por ejemplo, para determinar el discurso más extenso se usa el método `.max()`:"
   ]
  },
  {
   "cell_type": "code",
   "execution_count": null,
   "metadata": {},
   "outputs": [],
   "source": [
    "#Determinación del discurso más extenso\n",
    "print(\"El discurso más extenso es: \", max(lista_lon))"
   ]
  },
  {
   "cell_type": "markdown",
   "metadata": {},
   "source": [
    "De manera similar, para determinar el discurso más corto se usa el método `.min()`:"
   ]
  },
  {
   "cell_type": "code",
   "execution_count": null,
   "metadata": {},
   "outputs": [],
   "source": [
    "#Determinación del discurso más corto\n",
    "print(\"El discurso más corto es: \", min(lista_lon))"
   ]
  },
  {
   "cell_type": "markdown",
   "metadata": {},
   "source": [
    "Ahora se realizará un conteo de la cantidad total de palabras (método `.len()`) en cada discurso (de manera similar a lo realizado previamente) por medio del método `.words()` aplicado al **Corpus**.\n",
    "\n",
    "Adicionalmente, se contará la cantidad de enunciados (método `.len()`) contenidos en cada discurso empleando el recurso `punkt` y por medio del método `.sents()` aplicado al **Corpus**.\n",
    "\n",
    "Finalmente, se calcula la relación entre palabras totales por enunciados totales, esto para cada uno de los documentos empleando un ciclo `for`: "
   ]
  },
  {
   "cell_type": "code",
   "execution_count": null,
   "metadata": {},
   "outputs": [],
   "source": [
    "#Determinación de la relación de palabras por enunciado\n",
    "for discurso in nltk.corpus.inaugural.fileids():\n",
    "    pala_tot = len(nltk.corpus.inaugural.words(discurso))\n",
    "    enun_tot = len(nltk.corpus.inaugural.sents(discurso))\n",
    "    print(\"La relación de palabras por enunciado es de: %.2f\"% (pala_tot/enun_tot), \"para el discurso:\", discurso)"
   ]
  },
  {
   "cell_type": "markdown",
   "metadata": {},
   "source": [
    "Emplearemos la librería **Pandas** para crear un **DataFrame** que contenga la información mostrada previamente, así como un **Indice**.\n",
    "\n",
    "***Nota:*** El término *PPE* en el **DataFrame** se refiere a *Palabras Por Enunciado*."
   ]
  },
  {
   "cell_type": "code",
   "execution_count": null,
   "metadata": {},
   "outputs": [],
   "source": [
    "#Importación de la librería Pandas\n",
    "import pandas as pd\n",
    "\n",
    "#Creación del DataFrame\n",
    "datos_df = pd.DataFrame([int(discurso[:4]), len(nltk.corpus.inaugural.words(discurso))/len(nltk.corpus.inaugural.sents(discurso))] for discurso in nltk.corpus.inaugural.fileids())\n",
    "\n",
    "#Nombre a las Columnas del DataFrame\n",
    "datos_df.columns = ['Año', 'Promedio PPE']\n",
    "\n",
    "#Impresión de los Resultados\n",
    "print(\"La cantidad de entradas en el DataFrame son:\", datos_df.shape[0], \"renglones.\")\n",
    "\n",
    "#Mostrar el DataFrame\n",
    "display(datos_df)"
   ]
  },
  {
   "cell_type": "markdown",
   "metadata": {},
   "source": [
    "Finalmente, empleando la librería **Matplotlib** se realizará la gráfica de los valores del **DataFrame**:"
   ]
  },
  {
   "cell_type": "code",
   "execution_count": null,
   "metadata": {},
   "outputs": [],
   "source": [
    "#Importación de la librería matplotlib\n",
    "import matplotlib.pyplot as plt\n",
    "\n",
    "#Definición de los parámetros de los gráficos\n",
    "plt.rcParams.update({'font.size': 11, 'figure.figsize': (8, 6)}) \n",
    "\n",
    "#Gráfico del DataFrame\n",
    "datos_df.plot(\"Año\")\n",
    "plt.title(\"Relación de Palabras por Enunciado\")\n",
    "plt.xlabel(\"Año del Discurso\")\n",
    "plt.ylabel(\"Relación\")\n",
    "plt.plot();"
   ]
  },
  {
   "cell_type": "markdown",
   "metadata": {},
   "source": [
    "<div class=\"alert alert-block alert-success\">\n",
    "<b>.: Fin del Subtema :.</b>\n",
    "</div>\n",
    "\n",
    "***Liga de aceso al siguiente Subtema:*** \n",
    "<br>[c. Distribuciones de Frecuencia](c.%20Distribuciones%20de%20Frecuencia.ipynb)"
   ]
  }
 ],
 "metadata": {
  "kernelspec": {
   "display_name": "Python 3 (ipykernel)",
   "language": "python",
   "name": "python3"
  },
  "language_info": {
   "codemirror_mode": {
    "name": "ipython",
    "version": 3
   },
   "file_extension": ".py",
   "mimetype": "text/x-python",
   "name": "python",
   "nbconvert_exporter": "python",
   "pygments_lexer": "ipython3",
   "version": "3.8.19"
  }
 },
 "nbformat": 4,
 "nbformat_minor": 4
}
