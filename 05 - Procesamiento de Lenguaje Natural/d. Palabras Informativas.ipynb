{
 "cells": [
  {
   "cell_type": "markdown",
   "metadata": {},
   "source": [
    "<div class=\"alert alert-block alert-info\">\n",
    "<span style=\"color: rgb(0,53,91);\">\n",
    "<center><img src=\"./Imagenes/ITESO_Logo.png\" style=\"width:500px;height:142px;\" title=\"Logo ITESO\"></center>\n",
    "<font face = \"Times New Roman\" size = \"6\"><b><center>Maestría en Sistemas Computacionales</center></b></font>\n",
    "<font face = \"Times New Roman\" size = \"5\"><b><center>Programación para Análisis de Datos</center></b></font>\n",
    "\n",
    "<b><br><font face = \"Times New Roman\" size = \"4\"><center>Unidad 5: Proceso de Selección de Métodos</center></font>\n",
    "<font face = \"Times New Roman\" size = \"4\"><center>Tema 5.1: Procesamiento de Lenguaje Natural</center></font>\n",
    "<font face = \"Times New Roman\" size = \"4\"><center>Subtema d: Palabras Informativas</center></font></b>\n",
    "<div align=\"right\"><font face = \"Times New Roman\" size = \"2\">Dr. Iván Esteban Villalón Turrubiates (villalon@iteso.mx)</font></div>\n",
    "</span></div>"
   ]
  },
  {
   "cell_type": "markdown",
   "metadata": {
    "collapsed": true,
    "jupyter": {
     "outputs_hidden": true
    }
   },
   "source": [
    "## PALABRAS INFORMATIVAS\n",
    "\n",
    "Para este ejemplo se empleará nuevamente el **Corpus** `Gutenberg`, del cual se leerán los datos del libro **Alice's Adventures in Wonderland** de ***Lewis Carroll*** y se determinará su **Distribución de Frecuencia** en un **Diccionario** como se revisó previamente:"
   ]
  },
  {
   "cell_type": "code",
   "execution_count": null,
   "metadata": {},
   "outputs": [],
   "source": [
    "#Importación de la librería NLTK\n",
    "import nltk\n",
    "\n",
    "#Lectura de un texto\n",
    "alice = nltk.corpus.gutenberg.words(\"carroll-alice.txt\")\n",
    "\n",
    "#Creación del diccionario con la distribución de frecuencias\n",
    "alice_fd = nltk.FreqDist(alice)"
   ]
  },
  {
   "cell_type": "markdown",
   "metadata": {},
   "source": [
    "Se buscan las 100 palabras más empleadas, y se asignan a una lista empleando el método `.most_common()`:"
   ]
  },
  {
   "cell_type": "code",
   "execution_count": null,
   "metadata": {},
   "outputs": [],
   "source": [
    "#Búsqueda de las 100 palabras más empleadas en el diccionario\n",
    "alice_fd_100 = alice_fd.most_common(100)\n",
    "\n",
    "#Impresión de los Resultados\n",
    "print(\"La Distribución de Frecuencia es:\")\n",
    "display(alice_fd_100)"
   ]
  },
  {
   "cell_type": "markdown",
   "metadata": {},
   "source": [
    "Se realizan las mismas operaciones para el libro **Moby Dick** de ***Herman Melville*** del mismo **Corpus** `Gutenberg`:"
   ]
  },
  {
   "cell_type": "code",
   "execution_count": null,
   "metadata": {},
   "outputs": [],
   "source": [
    "#Lectura de un texto\n",
    "moby = nltk.corpus.gutenberg.words(\"melville-moby_dick.txt\")\n",
    "\n",
    "#Creación del diccionario con la distribución de frecuencias\n",
    "moby_fd = nltk.FreqDist(moby)\n",
    "\n",
    "#Búsqueda de las 100 palabras más empleadas en el diccionario\n",
    "moby_fd_100 = moby_fd.most_common(100)\n",
    "\n",
    "#Impresión de los Resultados\n",
    "print(\"La Distribución de Frecuencia es:\")\n",
    "display(moby_fd_100)"
   ]
  },
  {
   "cell_type": "markdown",
   "metadata": {},
   "source": [
    "Debido a que ya se cuenta con las 100 palabras más empleadas en cada uno de los dos libros, no será necesario tener la cantidad de veces que se repite cada una de ellas. Es por ello que se eliminará este dato, para que solamente reste la lista de los 100 elementos más empleados en cada libro:"
   ]
  },
  {
   "cell_type": "code",
   "execution_count": null,
   "metadata": {},
   "outputs": [],
   "source": [
    "#Eliminación de las repeticiones\n",
    "alice_100  = [elemento[0] for elemento in alice_fd_100]\n",
    "moby_100 = [elemento[0] for elemento in moby_fd_100]\n",
    "\n",
    "#Impresión de los Resultados\n",
    "print(\"Las palabras más utilizadas en \\\"Alice\\\" son:\\n\", alice_100)\n",
    "print(\"\\nLas palabras más utilizadas en \\\"Moby Dick\\\" son:\\n\", moby_100)"
   ]
  },
  {
   "cell_type": "markdown",
   "metadata": {},
   "source": [
    "Ambas listas de palabras pueden ser restadas una de la otra, lo cual dejará solamente la diferencia entre ellas. Esto es, las palabras que se usan en un libro y que no aparecen en el otro. Para ello se emplea el método `.set()` el cual genera una nueva lista.\n",
    "\n",
    "Al eliminar las palabras contenidas en la lista `moby_100` de la lista `alice_100`, como resultado se genera una lista que contiene las palabras únicas que están contenidas en **Alice's Adventures in Wonderland**:"
   ]
  },
  {
   "cell_type": "code",
   "execution_count": null,
   "metadata": {},
   "outputs": [],
   "source": [
    "#Determinación de Palabras Únicas\n",
    "alice_uni = list(set(alice_100) - set(moby_100))\n",
    "\n",
    "#Impresión de los Resultados\n",
    "print(\"Las palabras únicas en \\\"Alice\\\" son:\\n\", alice_uni)"
   ]
  },
  {
   "cell_type": "markdown",
   "metadata": {},
   "source": [
    "De manera similar, al eliminar las palabras contenidas en la lista `alice_100` de la lista `moby_100`, como resultado se genera una lista que contiene las palabras únicas que están contenidas en **Moby Dick**:"
   ]
  },
  {
   "cell_type": "code",
   "execution_count": null,
   "metadata": {},
   "outputs": [],
   "source": [
    "#Determinación de Palabras Únicas\n",
    "moby_uni = list(set(moby_100) - set(alice_100))\n",
    "\n",
    "#Impresión de los Resultados\n",
    "print(\"Las palabras únicas en \\\"Moby Dick\\\" son:\\n\", moby_uni)"
   ]
  },
  {
   "cell_type": "markdown",
   "metadata": {},
   "source": [
    "<div class=\"alert alert-block alert-success\">\n",
    "<b>.: Fin del Subtema :.</b>\n",
    "</div>\n",
    "\n",
    "***Liga de aceso al siguiente Subtema:*** \n",
    "<br>[e. Bigramas](e.%20Bigramas.ipynb)"
   ]
  }
 ],
 "metadata": {
  "kernelspec": {
   "display_name": "Python 3 (ipykernel)",
   "language": "python",
   "name": "python3"
  },
  "language_info": {
   "codemirror_mode": {
    "name": "ipython",
    "version": 3
   },
   "file_extension": ".py",
   "mimetype": "text/x-python",
   "name": "python",
   "nbconvert_exporter": "python",
   "pygments_lexer": "ipython3",
   "version": "3.8.19"
  }
 },
 "nbformat": 4,
 "nbformat_minor": 4
}
