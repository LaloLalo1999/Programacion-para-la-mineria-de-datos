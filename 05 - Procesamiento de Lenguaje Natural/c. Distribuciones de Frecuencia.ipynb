{
 "cells": [
  {
   "cell_type": "markdown",
   "metadata": {},
   "source": [
    "<div class=\"alert alert-block alert-info\">\n",
    "<span style=\"color: rgb(0,53,91);\">\n",
    "<center><img src=\"./Imagenes/ITESO_Logo.png\" style=\"width:500px;height:142px;\" title=\"Logo ITESO\"></center>\n",
    "<font face = \"Times New Roman\" size = \"6\"><b><center>Maestría en Sistemas Computacionales</center></b></font>\n",
    "<font face = \"Times New Roman\" size = \"5\"><b><center>Programación para Análisis de Datos</center></b></font>\n",
    "\n",
    "<b><br><font face = \"Times New Roman\" size = \"4\"><center>Unidad 5: Proceso de Selección de Métodos</center></font>\n",
    "<font face = \"Times New Roman\" size = \"4\"><center>Tema 5.1: Procesamiento de Lenguaje Natural</center></font>\n",
    "<font face = \"Times New Roman\" size = \"4\"><center>Subtema c: Distribuciones de Frecuencia</center></font></b>\n",
    "<div align=\"right\"><font face = \"Times New Roman\" size = \"2\">Dr. Iván Esteban Villalón Turrubiates (villalon@iteso.mx)</font></div>\n",
    "</span></div>"
   ]
  },
  {
   "cell_type": "markdown",
   "metadata": {
    "collapsed": true,
    "jupyter": {
     "outputs_hidden": true
    }
   },
   "source": [
    "## DISTRIBUCIONES DE FRECUENCIA\n",
    "\n",
    "Para este ejemplo se empleará nuevamente el **Corpus** `Gutenberg`, del cual se leerán los datos del libro **Alice's Adventures in Wonderland** de ***Lewis Carroll***."
   ]
  },
  {
   "cell_type": "code",
   "execution_count": null,
   "metadata": {},
   "outputs": [],
   "source": [
    "#Importación de la librería NLTK\n",
    "import nltk\n",
    "\n",
    "#Lectura de un texto\n",
    "alice = nltk.corpus.gutenberg.words(\"carroll-alice.txt\")"
   ]
  },
  {
   "cell_type": "markdown",
   "metadata": {},
   "source": [
    "La **Distribución de Frecuencia** genera un **Diccionario** que contiene la lista de palabras y la cantidad de ocasiones en que cada una de ellas se ha repetido.\n",
    "\n",
    "Para ello, se emplea el método `.FreqDist()` de la siguiente manera:"
   ]
  },
  {
   "cell_type": "code",
   "execution_count": null,
   "metadata": {},
   "outputs": [],
   "source": [
    "#Creación del Diccionario con la distribución de frecuencias\n",
    "alice_fd = nltk.FreqDist(alice)\n",
    "\n",
    "#Impresión de los Resultados\n",
    "print(\"La Distribución de Frecuencia es:\")\n",
    "display(alice_fd)"
   ]
  },
  {
   "cell_type": "markdown",
   "metadata": {},
   "source": [
    "En la primera parte del **Tema** se revisaron dos métodos:\n",
    "1. El método `.len()`: Para el conteo de los elementos totales contenidos en el documento.\n",
    "2. El método `.set()`: Para el conteo de los elementos únicos contenidos en el documento.\n",
    "\n",
    "El método `.FreqDist()` proporciona métodos adicionales que son totalmente equivalentes pero que lo hacen en base al **Diccionario** que se generó:\n",
    "1. El método `N()`: Para el conteo de los elementos totales contenidos en el documento. \n",
    "2. El método `B()`: Para el conteo de los elementos únicos contenidos en el documento."
   ]
  },
  {
   "cell_type": "code",
   "execution_count": null,
   "metadata": {},
   "outputs": [],
   "source": [
    "#Impresión de los Resultados\n",
    "print(\"Empleando Métodos de NLTK:\")\n",
    "print(\"La cantidad de elementos en el documento es:\", len(alice), \"elementos\")\n",
    "print(\"La cantidad de elementos únicos en el documento es:\", len(set(alice)), \"elementos\")\n",
    "\n",
    "#Impresión de los Resultados\n",
    "print(\"\\nEmpleando Métodos de FreqDist:\")\n",
    "print(\"La cantidad de elementos en el documento es:\", alice_fd.N(), \"elementos\")\n",
    "print(\"La cantidad de elementos únicos en el documento es:\", alice_fd.B(), \"elementos\")"
   ]
  },
  {
   "cell_type": "markdown",
   "metadata": {},
   "source": [
    "De manera similar, se empleó el método `.count()` para contar la cantidad de veces que una palabra aparece en el texto. \n",
    "\n",
    "Ahora es posible hacerlo desde el **Diccionario** que se creó con el método `.FreqDist()` de una manera más sencilla, la cual es extrayendo el valor de la clave del mismo:"
   ]
  },
  {
   "cell_type": "code",
   "execution_count": null,
   "metadata": {},
   "outputs": [],
   "source": [
    "#Búsqueda de la frecuencia de una palabra en el diccionario\n",
    "print(\"La cantidad de veces que aparece la palabra \\\"Rabbit\\\" es:\", alice_fd[\"Rabbit\"], \"veces\")\n",
    "print(\"La cantidad de veces que aparece la palabra \\\"Alice\\\" es:\", alice_fd[\"Alice\"], \"veces\")\n",
    "print(\"La cantidad de veces que aparece la palabra \\\"laptop\\\" es:\", alice_fd[\"laptop\"], \"veces\")"
   ]
  },
  {
   "cell_type": "markdown",
   "metadata": {},
   "source": [
    "Es posible buscar las palabras más comúnes empleando el método `.most_common(a)`, donde el parámetro *a* indica el número de palabras más comunes que interesa mostrar. \n",
    "\n",
    "***Nota:*** De manera predeterminada, se muestra la lista de todas las palabras de mayor a menor frecuencia. \n",
    "\n",
    "Por ejemplo, para las 10 palabras más comunes: "
   ]
  },
  {
   "cell_type": "code",
   "execution_count": null,
   "metadata": {},
   "outputs": [],
   "source": [
    "#Búsqueda de las palabras más comúnes en el diccionario\n",
    "alice_fd.most_common(10)"
   ]
  },
  {
   "cell_type": "markdown",
   "metadata": {},
   "source": [
    "Una palabra que se emplea sólamente una vez en el texto es conocida como [hápax legómenon](https://es.wikipedia.org/wiki/Hápax). Se pueden mostrar empleando el método `.hapaxes()`. \n",
    "\n",
    "Sin embargo, para poder simplificar la lista (la cual se realiza según como van apareciendo en el texto), se agrega el parámetro `.hapaxes()[a:b]`, donde los parámetros *a* y *b* son los valores que marcan la posición de la primera y la última palabra de la lista, recordando que la palabra en la posición *b* no se muestra. Por ejemplo: "
   ]
  },
  {
   "cell_type": "code",
   "execution_count": null,
   "metadata": {},
   "outputs": [],
   "source": [
    "#Lista de elementos empleados 1 vez\n",
    "alice_fd.hapaxes()[10:15]"
   ]
  },
  {
   "cell_type": "markdown",
   "metadata": {},
   "source": [
    "<div class=\"alert alert-block alert-success\">\n",
    "<b>.: Fin del Subtema :.</b>\n",
    "</div>\n",
    "\n",
    "***Liga de aceso al siguiente Subtema:*** \n",
    "<br>[d. Palabras Informativas](d.%20Palabras%20Informativas.ipynb)"
   ]
  }
 ],
 "metadata": {
  "kernelspec": {
   "display_name": "Python 3 (ipykernel)",
   "language": "python",
   "name": "python3"
  },
  "language_info": {
   "codemirror_mode": {
    "name": "ipython",
    "version": 3
   },
   "file_extension": ".py",
   "mimetype": "text/x-python",
   "name": "python",
   "nbconvert_exporter": "python",
   "pygments_lexer": "ipython3",
   "version": "3.8.19"
  }
 },
 "nbformat": 4,
 "nbformat_minor": 4
}
